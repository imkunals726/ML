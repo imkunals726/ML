{
  "nbformat": 4,
  "nbformat_minor": 0,
  "metadata": {
    "colab": {
      "name": "MNIST Using DNN",
      "provenance": [],
      "collapsed_sections": [],
      "authorship_tag": "ABX9TyOZN7l63hqdOS3wtuf8LwzY",
      "include_colab_link": true
    },
    "kernelspec": {
      "name": "python3",
      "display_name": "Python 3"
    }
  },
  "cells": [
    {
      "cell_type": "markdown",
      "metadata": {
        "id": "view-in-github",
        "colab_type": "text"
      },
      "source": [
        "<a href=\"https://colab.research.google.com/github/imkunals726/ML/blob/master/MNIST_Using_DNN.ipynb\" target=\"_parent\"><img src=\"https://colab.research.google.com/assets/colab-badge.svg\" alt=\"Open In Colab\"/></a>"
      ]
    },
    {
      "cell_type": "code",
      "metadata": {
        "id": "SUNcIyjZjmys",
        "colab_type": "code",
        "colab": {}
      },
      "source": [
        "import tensorflow as tf\n",
        "# tf.compat.v1.disable_eager_execution()"
      ],
      "execution_count": 0,
      "outputs": []
    },
    {
      "cell_type": "code",
      "metadata": {
        "id": "TdTmccUxjoJC",
        "colab_type": "code",
        "colab": {
          "base_uri": "https://localhost:8080/",
          "height": 34
        },
        "outputId": "0059e8b8-466f-4bba-9f42-cb61860eedfa"
      },
      "source": [
        "tf.__version__"
      ],
      "execution_count": 2,
      "outputs": [
        {
          "output_type": "execute_result",
          "data": {
            "text/plain": [
              "'2.2.0-rc3'"
            ]
          },
          "metadata": {
            "tags": []
          },
          "execution_count": 2
        }
      ]
    },
    {
      "cell_type": "code",
      "metadata": {
        "id": "LSfkJTUrjwcE",
        "colab_type": "code",
        "colab": {}
      },
      "source": [
        "from sklearn.datasets import fetch_openml\n",
        "mnist = fetch_openml('mnist_784')\n",
        "\n",
        "from sklearn.model_selection import train_test_split\n",
        "\n",
        "X_train, X_test, y_train, y_test = train_test_split(mnist['data'] , mnist['target'])"
      ],
      "execution_count": 0,
      "outputs": []
    },
    {
      "cell_type": "code",
      "metadata": {
        "id": "aMaoxJnDj1HM",
        "colab_type": "code",
        "colab": {}
      },
      "source": [
        "def input_train_fn(X,y, feature_cols, batch_size=250):\n",
        "    features ={}\n",
        "    for idx,col in enumerate(feature_cols):\n",
        "        features[col] = X[:,idx]\n",
        "        \n",
        "    labels =tf.convert_to_tensor(y, dtype=tf.int32)\n",
        "    \n",
        "    dataset = tf.data.Dataset.from_tensor_slices((dict(features), labels))\n",
        "    dataset = dataset.shuffle(1000).repeat().batch(batch_size)\n",
        "    return dataset"
      ],
      "execution_count": 0,
      "outputs": []
    },
    {
      "cell_type": "code",
      "metadata": {
        "id": "8wxHV-Zpj_Ag",
        "colab_type": "code",
        "colab": {}
      },
      "source": [
        "def train_input_fn():\n",
        "    return input_train_fn(X_train, y_train, mnist['feature_names'])"
      ],
      "execution_count": 0,
      "outputs": []
    },
    {
      "cell_type": "code",
      "metadata": {
        "id": "YSqTkxaUkBav",
        "colab_type": "code",
        "colab": {}
      },
      "source": [
        "feature_columns = [tf.feature_column.numeric_column(col) for col in mnist['feature_names']]"
      ],
      "execution_count": 0,
      "outputs": []
    },
    {
      "cell_type": "code",
      "metadata": {
        "id": "kVANCKotkEBW",
        "colab_type": "code",
        "colab": {
          "base_uri": "https://localhost:8080/",
          "height": 190
        },
        "outputId": "dbc0338f-f264-4bff-b079-f54e78162581"
      },
      "source": [
        "classifier = tf.estimator.DNNClassifier(hidden_units=[300, 100], n_classes=10,\n",
        "                                             feature_columns=feature_columns)"
      ],
      "execution_count": 12,
      "outputs": [
        {
          "output_type": "stream",
          "text": [
            "INFO:tensorflow:Using default config.\n",
            "WARNING:tensorflow:Using temporary folder as model directory: /tmp/tmpo9wsrsmh\n",
            "INFO:tensorflow:Using config: {'_model_dir': '/tmp/tmpo9wsrsmh', '_tf_random_seed': None, '_save_summary_steps': 100, '_save_checkpoints_steps': None, '_save_checkpoints_secs': 600, '_session_config': allow_soft_placement: true\n",
            "graph_options {\n",
            "  rewrite_options {\n",
            "    meta_optimizer_iterations: ONE\n",
            "  }\n",
            "}\n",
            ", '_keep_checkpoint_max': 5, '_keep_checkpoint_every_n_hours': 10000, '_log_step_count_steps': 100, '_train_distribute': None, '_device_fn': None, '_protocol': None, '_eval_distribute': None, '_experimental_distribute': None, '_experimental_max_worker_delay_secs': None, '_session_creation_timeout_secs': 7200, '_service': None, '_cluster_spec': ClusterSpec({}), '_task_type': 'worker', '_task_id': 0, '_global_id_in_cluster': 0, '_master': '', '_evaluation_master': '', '_is_chief': True, '_num_ps_replicas': 0, '_num_worker_replicas': 1}\n"
          ],
          "name": "stdout"
        }
      ]
    },
    {
      "cell_type": "code",
      "metadata": {
        "id": "Usae9uznkGeN",
        "colab_type": "code",
        "colab": {
          "base_uri": "https://localhost:8080/",
          "height": 1000
        },
        "outputId": "b4b52e77-1da5-4196-cf6c-f698d5538b38"
      },
      "source": [
        "\n",
        "classifier.train(input_fn=train_input_fn, steps=5000)"
      ],
      "execution_count": 13,
      "outputs": [
        {
          "output_type": "stream",
          "text": [
            "INFO:tensorflow:Calling model_fn.\n",
            "WARNING:tensorflow:Layer dnn is casting an input tensor from dtype float64 to the layer's dtype of float32, which is new behavior in TensorFlow 2.  The layer has dtype float32 because it's dtype defaults to floatx.\n",
            "\n",
            "If you intended to run this layer in float32, you can safely ignore this warning. If in doubt, this warning is likely only an issue if you are porting a TensorFlow 1.X model to TensorFlow 2.\n",
            "\n",
            "To change all layers to have dtype float64 by default, call `tf.keras.backend.set_floatx('float64')`. To change just this layer, pass dtype='float64' to the layer constructor. If you are the author of this layer, you can disable autocasting by passing autocast=False to the base Layer constructor.\n",
            "\n",
            "INFO:tensorflow:Done calling model_fn.\n",
            "INFO:tensorflow:Create CheckpointSaverHook.\n",
            "INFO:tensorflow:Graph was finalized.\n",
            "INFO:tensorflow:Running local_init_op.\n",
            "INFO:tensorflow:Done running local_init_op.\n",
            "INFO:tensorflow:Calling checkpoint listeners before saving checkpoint 0...\n",
            "INFO:tensorflow:Saving checkpoints for 0 into /tmp/tmpo9wsrsmh/model.ckpt.\n",
            "INFO:tensorflow:Calling checkpoint listeners after saving checkpoint 0...\n",
            "INFO:tensorflow:loss = 128.81905, step = 0\n",
            "INFO:tensorflow:global_step/sec: 6.5332\n",
            "INFO:tensorflow:loss = 4.7803073, step = 100 (15.308 sec)\n",
            "INFO:tensorflow:global_step/sec: 7.20838\n",
            "INFO:tensorflow:loss = 3.2881558, step = 200 (13.873 sec)\n",
            "INFO:tensorflow:global_step/sec: 7.17658\n",
            "INFO:tensorflow:loss = 2.8204703, step = 300 (13.934 sec)\n",
            "INFO:tensorflow:global_step/sec: 7.20264\n",
            "INFO:tensorflow:loss = 2.1055143, step = 400 (13.884 sec)\n",
            "INFO:tensorflow:global_step/sec: 7.3402\n",
            "INFO:tensorflow:loss = 1.687114, step = 500 (13.626 sec)\n",
            "INFO:tensorflow:global_step/sec: 7.34264\n",
            "INFO:tensorflow:loss = 1.6579206, step = 600 (13.617 sec)\n",
            "INFO:tensorflow:global_step/sec: 7.34995\n",
            "INFO:tensorflow:loss = 1.5611094, step = 700 (13.608 sec)\n",
            "INFO:tensorflow:global_step/sec: 7.29743\n",
            "INFO:tensorflow:loss = 1.3059596, step = 800 (13.701 sec)\n",
            "INFO:tensorflow:global_step/sec: 7.36347\n",
            "INFO:tensorflow:loss = 1.1541882, step = 900 (13.580 sec)\n",
            "INFO:tensorflow:global_step/sec: 7.29201\n",
            "INFO:tensorflow:loss = 1.177603, step = 1000 (13.714 sec)\n",
            "INFO:tensorflow:global_step/sec: 7.28849\n",
            "INFO:tensorflow:loss = 0.8720159, step = 1100 (13.727 sec)\n",
            "INFO:tensorflow:global_step/sec: 7.34103\n",
            "INFO:tensorflow:loss = 1.127515, step = 1200 (13.618 sec)\n",
            "INFO:tensorflow:global_step/sec: 7.36716\n",
            "INFO:tensorflow:loss = 1.5237715, step = 1300 (13.574 sec)\n",
            "INFO:tensorflow:global_step/sec: 7.33967\n",
            "INFO:tensorflow:loss = 1.6392092, step = 1400 (13.622 sec)\n",
            "INFO:tensorflow:global_step/sec: 7.34528\n",
            "INFO:tensorflow:loss = 1.4884143, step = 1500 (13.615 sec)\n",
            "INFO:tensorflow:global_step/sec: 7.15287\n",
            "INFO:tensorflow:loss = 1.5839958, step = 1600 (13.980 sec)\n",
            "INFO:tensorflow:global_step/sec: 7.28758\n",
            "INFO:tensorflow:loss = 0.7359861, step = 1700 (13.725 sec)\n",
            "INFO:tensorflow:global_step/sec: 7.31083\n",
            "INFO:tensorflow:loss = 0.9411718, step = 1800 (13.675 sec)\n",
            "INFO:tensorflow:global_step/sec: 7.20624\n",
            "INFO:tensorflow:loss = 0.46237987, step = 1900 (13.880 sec)\n",
            "INFO:tensorflow:global_step/sec: 7.25997\n",
            "INFO:tensorflow:loss = 0.65609485, step = 2000 (13.774 sec)\n",
            "INFO:tensorflow:global_step/sec: 7.21015\n",
            "INFO:tensorflow:loss = 0.66030014, step = 2100 (13.867 sec)\n",
            "INFO:tensorflow:global_step/sec: 7.2124\n",
            "INFO:tensorflow:loss = 0.3674872, step = 2200 (13.868 sec)\n",
            "INFO:tensorflow:global_step/sec: 7.29058\n",
            "INFO:tensorflow:loss = 0.5335925, step = 2300 (13.712 sec)\n",
            "INFO:tensorflow:global_step/sec: 7.3464\n",
            "INFO:tensorflow:loss = 0.74825203, step = 2400 (13.612 sec)\n",
            "INFO:tensorflow:global_step/sec: 7.31847\n",
            "INFO:tensorflow:loss = 0.32708827, step = 2500 (13.664 sec)\n",
            "INFO:tensorflow:global_step/sec: 7.28308\n",
            "INFO:tensorflow:loss = 0.27310535, step = 2600 (13.733 sec)\n",
            "INFO:tensorflow:global_step/sec: 7.29989\n",
            "INFO:tensorflow:loss = 0.5060752, step = 2700 (13.698 sec)\n",
            "INFO:tensorflow:global_step/sec: 7.32569\n",
            "INFO:tensorflow:loss = 0.8674989, step = 2800 (13.651 sec)\n",
            "INFO:tensorflow:global_step/sec: 7.22884\n",
            "INFO:tensorflow:loss = 0.62686336, step = 2900 (13.831 sec)\n",
            "INFO:tensorflow:global_step/sec: 7.29647\n",
            "INFO:tensorflow:loss = 0.6704476, step = 3000 (13.709 sec)\n",
            "INFO:tensorflow:global_step/sec: 7.26994\n",
            "INFO:tensorflow:loss = 0.40029117, step = 3100 (13.752 sec)\n",
            "INFO:tensorflow:global_step/sec: 7.30492\n",
            "INFO:tensorflow:loss = 0.51159126, step = 3200 (13.692 sec)\n",
            "INFO:tensorflow:global_step/sec: 7.3452\n",
            "INFO:tensorflow:loss = 0.28821766, step = 3300 (13.612 sec)\n",
            "INFO:tensorflow:global_step/sec: 7.32066\n",
            "INFO:tensorflow:loss = 0.4202264, step = 3400 (13.660 sec)\n",
            "INFO:tensorflow:global_step/sec: 7.26127\n",
            "INFO:tensorflow:loss = 0.36974207, step = 3500 (13.771 sec)\n",
            "INFO:tensorflow:global_step/sec: 7.23221\n",
            "INFO:tensorflow:loss = 0.40092877, step = 3600 (13.827 sec)\n",
            "INFO:tensorflow:global_step/sec: 7.2334\n",
            "INFO:tensorflow:loss = 0.26157025, step = 3700 (13.825 sec)\n",
            "INFO:tensorflow:global_step/sec: 7.23734\n",
            "INFO:tensorflow:loss = 0.52218944, step = 3800 (13.817 sec)\n",
            "INFO:tensorflow:global_step/sec: 7.28808\n",
            "INFO:tensorflow:loss = 0.67044777, step = 3900 (13.721 sec)\n",
            "INFO:tensorflow:global_step/sec: 7.29357\n",
            "INFO:tensorflow:loss = 0.2802727, step = 4000 (13.712 sec)\n",
            "INFO:tensorflow:global_step/sec: 7.30558\n",
            "INFO:tensorflow:loss = 0.6671913, step = 4100 (13.687 sec)\n",
            "INFO:tensorflow:global_step/sec: 7.33598\n",
            "INFO:tensorflow:loss = 0.18788187, step = 4200 (13.632 sec)\n",
            "INFO:tensorflow:global_step/sec: 7.15905\n",
            "INFO:tensorflow:loss = 0.3295584, step = 4300 (13.972 sec)\n",
            "INFO:tensorflow:Calling checkpoint listeners before saving checkpoint 4327...\n",
            "INFO:tensorflow:Saving checkpoints for 4327 into /tmp/tmpo9wsrsmh/model.ckpt.\n",
            "INFO:tensorflow:Calling checkpoint listeners after saving checkpoint 4327...\n",
            "INFO:tensorflow:global_step/sec: 6.08575\n",
            "INFO:tensorflow:loss = 0.12720984, step = 4400 (16.431 sec)\n",
            "INFO:tensorflow:global_step/sec: 5.99737\n",
            "INFO:tensorflow:loss = 0.22411087, step = 4500 (16.677 sec)\n",
            "INFO:tensorflow:global_step/sec: 7.16127\n",
            "INFO:tensorflow:loss = 0.5958152, step = 4600 (13.961 sec)\n",
            "INFO:tensorflow:global_step/sec: 7.34265\n",
            "INFO:tensorflow:loss = 0.20325005, step = 4700 (13.616 sec)\n",
            "INFO:tensorflow:global_step/sec: 7.34447\n",
            "INFO:tensorflow:loss = 0.2381068, step = 4800 (13.619 sec)\n",
            "INFO:tensorflow:global_step/sec: 7.34058\n",
            "INFO:tensorflow:loss = 0.22210208, step = 4900 (13.620 sec)\n",
            "INFO:tensorflow:Calling checkpoint listeners before saving checkpoint 5000...\n",
            "INFO:tensorflow:Saving checkpoints for 5000 into /tmp/tmpo9wsrsmh/model.ckpt.\n",
            "INFO:tensorflow:Calling checkpoint listeners after saving checkpoint 5000...\n",
            "INFO:tensorflow:Loss for final step: 0.24986392.\n"
          ],
          "name": "stdout"
        },
        {
          "output_type": "execute_result",
          "data": {
            "text/plain": [
              "<tensorflow_estimator.python.estimator.canned.dnn.DNNClassifierV2 at 0x7f6b336d8470>"
            ]
          },
          "metadata": {
            "tags": []
          },
          "execution_count": 13
        }
      ]
    },
    {
      "cell_type": "code",
      "metadata": {
        "id": "lnj9a364kJ6T",
        "colab_type": "code",
        "colab": {}
      },
      "source": [
        "def input_test_fn(X, feature_cols, batch_size=250):\n",
        "    features ={}\n",
        "    for idx,col in enumerate(feature_cols):\n",
        "        features[col] = X[:,idx]\n",
        "        \n",
        "    # labels =tf.convert_to_tensor(y, dtype=tf.int32)\n",
        "    \n",
        "    dataset = tf.data.Dataset.from_tensor_slices((dict(features)))\n",
        "    return dataset.batch(batch_size)"
      ],
      "execution_count": 0,
      "outputs": []
    },
    {
      "cell_type": "code",
      "metadata": {
        "id": "wNTSHvo0ye7n",
        "colab_type": "code",
        "colab": {}
      },
      "source": [
        "preds = classifier.predict(input_fn=lambda : input_test_fn(X_test,feature_columns))   "
      ],
      "execution_count": 0,
      "outputs": []
    },
    {
      "cell_type": "code",
      "metadata": {
        "id": "M_zaf-hdzYyQ",
        "colab_type": "code",
        "colab": {
          "base_uri": "https://localhost:8080/",
          "height": 241
        },
        "outputId": "96a9007f-4d1b-49b8-f671-32588f5d4c9e"
      },
      "source": [
        "dnn_preds = []\n",
        "for prediction in preds:\n",
        "  dnn_preds.append(prediction['class_ids'][0])"
      ],
      "execution_count": 30,
      "outputs": [
        {
          "output_type": "stream",
          "text": [
            "INFO:tensorflow:Calling model_fn.\n",
            "WARNING:tensorflow:Layer dnn is casting an input tensor from dtype float64 to the layer's dtype of float32, which is new behavior in TensorFlow 2.  The layer has dtype float32 because it's dtype defaults to floatx.\n",
            "\n",
            "If you intended to run this layer in float32, you can safely ignore this warning. If in doubt, this warning is likely only an issue if you are porting a TensorFlow 1.X model to TensorFlow 2.\n",
            "\n",
            "To change all layers to have dtype float64 by default, call `tf.keras.backend.set_floatx('float64')`. To change just this layer, pass dtype='float64' to the layer constructor. If you are the author of this layer, you can disable autocasting by passing autocast=False to the base Layer constructor.\n",
            "\n",
            "INFO:tensorflow:Done calling model_fn.\n",
            "INFO:tensorflow:Graph was finalized.\n",
            "INFO:tensorflow:Restoring parameters from /tmp/tmpo9wsrsmh/model.ckpt-5000\n",
            "INFO:tensorflow:Running local_init_op.\n",
            "INFO:tensorflow:Done running local_init_op.\n"
          ],
          "name": "stdout"
        }
      ]
    },
    {
      "cell_type": "code",
      "metadata": {
        "id": "fO0D_G9cztWF",
        "colab_type": "code",
        "colab": {}
      },
      "source": [
        "from sklearn.metrics import accuracy_score\n",
        "import numpy as np"
      ],
      "execution_count": 0,
      "outputs": []
    },
    {
      "cell_type": "code",
      "metadata": {
        "id": "TUiN6Fyvz3rY",
        "colab_type": "code",
        "colab": {
          "base_uri": "https://localhost:8080/",
          "height": 34
        },
        "outputId": "6a038eb7-0a09-48b0-8d5a-9e55c515ea8f"
      },
      "source": [
        "accuracy_score( y_test.astype(int),np.array(dnn_preds) )"
      ],
      "execution_count": 37,
      "outputs": [
        {
          "output_type": "execute_result",
          "data": {
            "text/plain": [
              "0.9236571428571428"
            ]
          },
          "metadata": {
            "tags": []
          },
          "execution_count": 37
        }
      ]
    },
    {
      "cell_type": "code",
      "metadata": {
        "id": "-BPh_qHm1zeG",
        "colab_type": "code",
        "colab": {}
      },
      "source": [
        "def evaluate_input_fn():\n",
        "    return input_train_fn(X_test, y_test, mnist['feature_names'])"
      ],
      "execution_count": 0,
      "outputs": []
    },
    {
      "cell_type": "code",
      "metadata": {
        "id": "kQiu2ikN2HcZ",
        "colab_type": "code",
        "colab": {
          "base_uri": "https://localhost:8080/",
          "height": 258
        },
        "outputId": "10133d42-7766-4564-b42f-8b651fb56ec2"
      },
      "source": [
        "classifier.evaluate(input_fn=evaluate_input_fn)"
      ],
      "execution_count": 0,
      "outputs": [
        {
          "output_type": "stream",
          "text": [
            "INFO:tensorflow:Calling model_fn.\n",
            "WARNING:tensorflow:Layer dnn is casting an input tensor from dtype float64 to the layer's dtype of float32, which is new behavior in TensorFlow 2.  The layer has dtype float32 because it's dtype defaults to floatx.\n",
            "\n",
            "If you intended to run this layer in float32, you can safely ignore this warning. If in doubt, this warning is likely only an issue if you are porting a TensorFlow 1.X model to TensorFlow 2.\n",
            "\n",
            "To change all layers to have dtype float64 by default, call `tf.keras.backend.set_floatx('float64')`. To change just this layer, pass dtype='float64' to the layer constructor. If you are the author of this layer, you can disable autocasting by passing autocast=False to the base Layer constructor.\n",
            "\n",
            "INFO:tensorflow:Done calling model_fn.\n",
            "INFO:tensorflow:Starting evaluation at 2020-04-26T09:37:12Z\n",
            "INFO:tensorflow:Graph was finalized.\n",
            "INFO:tensorflow:Restoring parameters from /tmp/tmpo9wsrsmh/model.ckpt-5000\n",
            "INFO:tensorflow:Running local_init_op.\n",
            "INFO:tensorflow:Done running local_init_op.\n"
          ],
          "name": "stdout"
        }
      ]
    },
    {
      "cell_type": "code",
      "metadata": {
        "id": "pTqzTp6L2Lfx",
        "colab_type": "code",
        "colab": {}
      },
      "source": [
        ""
      ],
      "execution_count": 0,
      "outputs": []
    }
  ]
}