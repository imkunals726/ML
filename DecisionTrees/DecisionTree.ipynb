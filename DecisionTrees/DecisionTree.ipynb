{
 "cells": [
  {
   "cell_type": "code",
   "execution_count": 77,
   "metadata": {},
   "outputs": [],
   "source": [
    "from sklearn.datasets import load_iris\n",
    "import os\n",
    "iris = load_iris()\n",
    "X=iris['data'][:,2:]\n",
    "y=iris['target']"
   ]
  },
  {
   "cell_type": "code",
   "execution_count": 78,
   "metadata": {},
   "outputs": [],
   "source": [
    "PROJECT_ROOT_DIR = \".\"\n",
    "CHAPTER_ID = \"decision_trees\"\n",
    "\n",
    "def image_path(fig_id):\n",
    "    return os.path.join(PROJECT_ROOT_DIR, \"images\", CHAPTER_ID, fig_id)"
   ]
  },
  {
   "cell_type": "code",
   "execution_count": 83,
   "metadata": {},
   "outputs": [
    {
     "data": {
      "text/plain": [
       "DecisionTreeClassifier(class_weight=None, criterion='gini', max_depth=2,\n",
       "            max_features=None, max_leaf_nodes=None,\n",
       "            min_impurity_decrease=0.0, min_impurity_split=None,\n",
       "            min_samples_leaf=1, min_samples_split=2,\n",
       "            min_weight_fraction_leaf=0.0, presort=False, random_state=None,\n",
       "            splitter='best')"
      ]
     },
     "execution_count": 83,
     "metadata": {},
     "output_type": "execute_result"
    }
   ],
   "source": [
    "from sklearn.tree import DecisionTreeClassifier\n",
    "tree_clf = DecisionTreeClassifier(max_depth=2)\n",
    "tree_clf.fit(X,y)"
   ]
  },
  {
   "cell_type": "code",
   "execution_count": 84,
   "metadata": {},
   "outputs": [],
   "source": [
    "from sklearn.tree import export_graphviz\n",
    "\n",
    "export_graphviz(tree_clf, out_file=image_path('iris_tree.dot'),\n",
    "               feature_names=iris.feature_names[2:],\n",
    "            class_names=iris.target_names,\n",
    "            rounded=True,\n",
    "            filled=True)"
   ]
  },
  {
   "cell_type": "code",
   "execution_count": 88,
   "metadata": {},
   "outputs": [
    {
     "data": {
      "text/plain": [
       "'./images/decision_trees/iris_tree.dot'"
      ]
     },
     "execution_count": 88,
     "metadata": {},
     "output_type": "execute_result"
    }
   ],
   "source": [
    "image_path('iris_tree.dot')"
   ]
  },
  {
   "cell_type": "code",
   "execution_count": 89,
   "metadata": {},
   "outputs": [],
   "source": [
    "!dot -T png ./images/decision_trees/iris_tree.dot -o ./images/decision_trees/iris_tree.png"
   ]
  },
  {
   "cell_type": "code",
   "execution_count": 90,
   "metadata": {},
   "outputs": [
    {
     "name": "stdout",
     "output_type": "stream",
     "text": [
      "DecisionTree.ipynb  \u001b[1m\u001b[36mimages\u001b[m\u001b[m/             iris_tree.dot       iris_tree.png\r\n"
     ]
    }
   ],
   "source": [
    "ls"
   ]
  },
  {
   "cell_type": "code",
   "execution_count": 91,
   "metadata": {},
   "outputs": [],
   "source": [
    "import matplotlib.pyplot as plt\n",
    "import numpy as np\n",
    "%matplotlib inline"
   ]
  },
  {
   "cell_type": "code",
   "execution_count": 96,
   "metadata": {},
   "outputs": [],
   "source": [
    "from matplotlib.colors import ListedColormap"
   ]
  },
  {
   "cell_type": "code",
   "execution_count": 101,
   "metadata": {},
   "outputs": [],
   "source": [
    "def plot_decision_tree_boundaries(model, X, y):\n",
    "    x0s = np.linspace(X[:,0].min(), X[:,0].max())\n",
    "    x1s = np.linspace(X[:,1].min(), X[:,1].max())\n",
    "    x0,x1 = np.meshgrid(x0s, x1s)\n",
    "    X_new = np.c_[x0.ravel(), x1.ravel()]\n",
    "    y_new = model.predict(X_new).reshape(x0.shape)\n",
    "    custom_cmap2 = ListedColormap(['#7d7d58','#4c4c7f','#507d50'])\n",
    "    plt.contourf(x0, x1, y_new, cmap= custom_cmap2)\n",
    "    setosa = X[y==0]\n",
    "    versicolor = X[y==1]\n",
    "    virginica = X[y==2]\n",
    "    plt.plot(setosa[:,0], setosa[:,1], 'y^')\n",
    "    plt.plot(versicolor[:,0], versicolor[:,1], 'gs')\n",
    "    plt.plot(virginica[:,0], virginica[:,1], 'bo')\n",
    "    "
   ]
  },
  {
   "cell_type": "code",
   "execution_count": 102,
   "metadata": {},
   "outputs": [
    {
     "data": {
      "image/png": "[encoded data removed]",
      "text/plain": [
       "<Figure size 432x288 with 1 Axes>"
      ]
     },
     "metadata": {},
     "output_type": "display_data"
    }
   ],
   "source": [
    "plot_decision_tree_boundaries(tree_clf, X, y)"
   ]
  },
  {
   "cell_type": "code",
   "execution_count": 103,
   "metadata": {},
   "outputs": [
    {
     "data": {
      "text/plain": [
       "array(['setosa', 'versicolor', 'virginica'], dtype='<U10')"
      ]
     },
     "execution_count": 103,
     "metadata": {},
     "output_type": "execute_result"
    }
   ],
   "source": [
    "iris['target_names']"
   ]
  },
  {
   "cell_type": "code",
   "execution_count": 95,
   "metadata": {},
   "outputs": [
    {
     "data": {
      "text/plain": [
       "array([1])"
      ]
     },
     "execution_count": 95,
     "metadata": {},
     "output_type": "execute_result"
    }
   ],
   "source": [
    "tree_clf.predict([[5,1.5]])"
   ]
  },
  {
   "cell_type": "code",
   "execution_count": 69,
   "metadata": {},
   "outputs": [
    {
     "data": {
      "text/plain": [
       "array([[0.        , 0.90740741, 0.09259259]])"
      ]
     },
     "execution_count": 69,
     "metadata": {},
     "output_type": "execute_result"
    }
   ],
   "source": [
    "tree_clf.predict_proba([[5,1.5]])"
   ]
  },
  {
   "cell_type": "code",
   "execution_count": 104,
   "metadata": {},
   "outputs": [],
   "source": [
    "from sklearn.datasets import make_regression, make_moons"
   ]
  },
  {
   "cell_type": "code",
   "execution_count": 105,
   "metadata": {},
   "outputs": [],
   "source": [
    "from pprint import pprint"
   ]
  },
  {
   "cell_type": "code",
   "execution_count": 107,
   "metadata": {},
   "outputs": [],
   "source": [
    "X,y=make_regression()"
   ]
  },
  {
   "cell_type": "code",
   "execution_count": 109,
   "metadata": {},
   "outputs": [
    {
     "name": "stdout",
     "output_type": "stream",
     "text": [
      "('Generate a random regression problem.\\n'\n",
      " '\\n'\n",
      " '    The input set can either be well conditioned (by default) or have a low\\n'\n",
      " '    rank-fat tail singular profile. See :func:`make_low_rank_matrix` for\\n'\n",
      " '    more details.\\n'\n",
      " '\\n'\n",
      " '    The output is generated by applying a (potentially biased) random '\n",
      " 'linear\\n'\n",
      " '    regression model with `n_informative` nonzero regressors to the '\n",
      " 'previously\\n'\n",
      " '    generated input and some gaussian centered noise with some adjustable\\n'\n",
      " '    scale.\\n'\n",
      " '\\n'\n",
      " '    Read more in the :ref:`User Guide <sample_generators>`.\\n'\n",
      " '\\n'\n",
      " '    Parameters\\n'\n",
      " '    ----------\\n'\n",
      " '    n_samples : int, optional (default=100)\\n'\n",
      " '        The number of samples.\\n'\n",
      " '\\n'\n",
      " '    n_features : int, optional (default=100)\\n'\n",
      " '        The number of features.\\n'\n",
      " '\\n'\n",
      " '    n_informative : int, optional (default=10)\\n'\n",
      " '        The number of informative features, i.e., the number of features '\n",
      " 'used\\n'\n",
      " '        to build the linear model used to generate the output.\\n'\n",
      " '\\n'\n",
      " '    n_targets : int, optional (default=1)\\n'\n",
      " '        The number of regression targets, i.e., the dimension of the y '\n",
      " 'output\\n'\n",
      " '        vector associated with a sample. By default, the output is a '\n",
      " 'scalar.\\n'\n",
      " '\\n'\n",
      " '    bias : float, optional (default=0.0)\\n'\n",
      " '        The bias term in the underlying linear model.\\n'\n",
      " '\\n'\n",
      " '    effective_rank : int or None, optional (default=None)\\n'\n",
      " '        if not None:\\n'\n",
      " '            The approximate number of singular vectors required to explain '\n",
      " 'most\\n'\n",
      " '            of the input data by linear combinations. Using this kind of\\n'\n",
      " '            singular spectrum in the input allows the generator to '\n",
      " 'reproduce\\n'\n",
      " '            the correlations often observed in practice.\\n'\n",
      " '        if None:\\n'\n",
      " '            The input set is well conditioned, centered and gaussian with\\n'\n",
      " '            unit variance.\\n'\n",
      " '\\n'\n",
      " '    tail_strength : float between 0.0 and 1.0, optional (default=0.5)\\n'\n",
      " '        The relative importance of the fat noisy tail of the singular '\n",
      " 'values\\n'\n",
      " '        profile if `effective_rank` is not None.\\n'\n",
      " '\\n'\n",
      " '    noise : float, optional (default=0.0)\\n'\n",
      " '        The standard deviation of the gaussian noise applied to the output.\\n'\n",
      " '\\n'\n",
      " '    shuffle : boolean, optional (default=True)\\n'\n",
      " '        Shuffle the samples and the features.\\n'\n",
      " '\\n'\n",
      " '    coef : boolean, optional (default=False)\\n'\n",
      " '        If True, the coefficients of the underlying linear model are '\n",
      " 'returned.\\n'\n",
      " '\\n'\n",
      " '    random_state : int, RandomState instance or None, optional '\n",
      " '(default=None)\\n'\n",
      " '        If int, random_state is the seed used by the random number '\n",
      " 'generator;\\n'\n",
      " '        If RandomState instance, random_state is the random number '\n",
      " 'generator;\\n'\n",
      " '        If None, the random number generator is the RandomState instance '\n",
      " 'used\\n'\n",
      " '        by `np.random`.\\n'\n",
      " '\\n'\n",
      " '    Returns\\n'\n",
      " '    -------\\n'\n",
      " '    X : array of shape [n_samples, n_features]\\n'\n",
      " '        The input samples.\\n'\n",
      " '\\n'\n",
      " '    y : array of shape [n_samples] or [n_samples, n_targets]\\n'\n",
      " '        The output values.\\n'\n",
      " '\\n'\n",
      " '    coef : array of shape [n_features] or [n_features, n_targets], optional\\n'\n",
      " '        The coefficient of the underlying linear model. It is returned only '\n",
      " 'if\\n'\n",
      " '        coef is True.\\n'\n",
      " '    ')\n"
     ]
    }
   ],
   "source": [
    "pprint(make_regression.__doc__)"
   ]
  },
  {
   "cell_type": "code",
   "execution_count": 119,
   "metadata": {},
   "outputs": [],
   "source": [
    "X,y=make_regression(n_features=3,n_samples=100)"
   ]
  },
  {
   "cell_type": "code",
   "execution_count": 122,
   "metadata": {},
   "outputs": [
    {
     "data": {
      "text/plain": [
       "[<matplotlib.lines.Line2D at 0x1054a8c88>]"
      ]
     },
     "execution_count": 122,
     "metadata": {},
     "output_type": "execute_result"
    },
    {
     "data": {
      "image/png": "[encoded data removed]",
      "text/plain": [
       "<Figure size 432x288 with 1 Axes>"
      ]
     },
     "metadata": {},
     "output_type": "display_data"
    }
   ],
   "source": [
    "plt.plot(X[:,2],y, 'b.')"
   ]
  },
  {
   "cell_type": "code",
   "execution_count": 123,
   "metadata": {},
   "outputs": [],
   "source": [
    "X,y=make_moons(noise=0.25)"
   ]
  },
  {
   "cell_type": "code",
   "execution_count": 125,
   "metadata": {},
   "outputs": [
    {
     "data": {
      "text/plain": [
       "[<matplotlib.lines.Line2D at 0x1a12e0efd0>]"
      ]
     },
     "execution_count": 125,
     "metadata": {},
     "output_type": "execute_result"
    },
    {
     "data": {
      "image/png": "[encoded data removed]",
      "text/plain": [
       "<Figure size 432x288 with 1 Axes>"
      ]
     },
     "metadata": {},
     "output_type": "display_data"
    }
   ],
   "source": [
    "plt.plot(X[:,0], X[:,1],'b.')"
   ]
  },
  {
   "cell_type": "code",
   "execution_count": 134,
   "metadata": {},
   "outputs": [],
   "source": [
    "def plot_decision_tree_boundaries(model, X, y):\n",
    "    x0s = np.linspace(X[:,0].min(), X[:,0].max())\n",
    "    x1s = np.linspace(X[:,1].min(), X[:,1].max())\n",
    "    x0,x1 = np.meshgrid(x0s, x1s)\n",
    "    X_new = np.c_[x0.ravel(), x1.ravel()]\n",
    "    y_new = model.predict(X_new).reshape(x0.shape)\n",
    "    custom_cmap2 = ListedColormap(['#7d7d58','#4c4c7f','#507d50'])\n",
    "    plt.contourf(x0, x1, y_new, cmap= custom_cmap2)\n",
    "    y0 = X[y==0]\n",
    "    y1 = X[y==1]\n",
    "\n",
    "    plt.plot(y0[:,0], y0[:,1], 'y^')\n",
    "    plt.plot(y1[:,0], y1[:,1], 'k.')\n",
    "\n",
    "    "
   ]
  },
  {
   "cell_type": "code",
   "execution_count": 141,
   "metadata": {},
   "outputs": [
    {
     "data": {
      "image/png": "[encoded data removed]",
      "text/plain": [
       "<Figure size 432x288 with 1 Axes>"
      ]
     },
     "metadata": {},
     "output_type": "display_data"
    }
   ],
   "source": [
    "tree_clf = DecisionTreeClassifier()\n",
    "\n",
    "tree_clf.fit(X,y)\n",
    "\n",
    "plot_decision_tree_boundaries(tree_clf, X, y)"
   ]
  },
  {
   "cell_type": "code",
   "execution_count": 142,
   "metadata": {},
   "outputs": [
    {
     "data": {
      "image/png": "[encoded data removed]",
      "text/plain": [
       "<Figure size 432x288 with 1 Axes>"
      ]
     },
     "metadata": {},
     "output_type": "display_data"
    }
   ],
   "source": [
    "tree_clf = DecisionTreeClassifier(min_samples_leaf=4)\n",
    "\n",
    "tree_clf.fit(X,y)\n",
    "\n",
    "plot_decision_tree_boundaries(tree_clf, X, y)"
   ]
  },
  {
   "cell_type": "code",
   "execution_count": 195,
   "metadata": {},
   "outputs": [],
   "source": [
    "np.random.seed(42)\n",
    "m = 200\n",
    "X = np.random.rand(m, 1)\n",
    "y = 4 * (X - 0.5) ** 2\n",
    "y = y + np.random.randn(m, 1) / 10"
   ]
  },
  {
   "cell_type": "code",
   "execution_count": 196,
   "metadata": {},
   "outputs": [],
   "source": [
    "from sklearn.tree import DecisionTreeRegressor"
   ]
  },
  {
   "cell_type": "code",
   "execution_count": 197,
   "metadata": {},
   "outputs": [
    {
     "data": {
      "text/plain": [
       "[<matplotlib.lines.Line2D at 0x1a12fe4d30>]"
      ]
     },
     "execution_count": 197,
     "metadata": {},
     "output_type": "execute_result"
    },
    {
     "data": {
      "image/png": "[encoded data removed]",
      "text/plain": [
       "<Figure size 432x288 with 1 Axes>"
      ]
     },
     "metadata": {},
     "output_type": "display_data"
    }
   ],
   "source": [
    "plt.plot(X,y,'b.')"
   ]
  },
  {
   "cell_type": "code",
   "execution_count": 198,
   "metadata": {},
   "outputs": [
    {
     "data": {
      "text/plain": [
       "DecisionTreeRegressor(criterion='mse', max_depth=2, max_features=None,\n",
       "           max_leaf_nodes=None, min_impurity_decrease=0.0,\n",
       "           min_impurity_split=None, min_samples_leaf=1,\n",
       "           min_samples_split=2, min_weight_fraction_leaf=0.0,\n",
       "           presort=False, random_state=None, splitter='best')"
      ]
     },
     "execution_count": 198,
     "metadata": {},
     "output_type": "execute_result"
    }
   ],
   "source": [
    "tree_reg = DecisionTreeRegressor(max_depth=2)\n",
    "tree_reg.fit(X,y)\n",
    "\n",
    "\n",
    "export_graphviz(tree_reg, out_file=image_path('iris_reg.dot'),\n",
    "               feature_names=[\"x1\"],\n",
    "            class_names=['y1'],\n",
    "            rounded=True,\n",
    "            filled=True)\n",
    "\n",
    "!dot -T png ./images/decision_trees/iris_reg.dot -o ./images/decision_trees/iris_reg.png\n",
    "\n",
    "def plot_decision_tree_regressor_preds(model, X, y):\n",
    "    X_new = np.linspace(X[:,0].min(), X[:,0].max(),1000).reshape((1000,1))\n",
    "    y_new = model.predict(X_new)\n",
    "    \n",
    "    plt.plot(X_new, y_new, 'r-')\n",
    "    plt.plot(X, y,'b.')\n",
    "\n",
    "    "
   ]
  },
  {
   "cell_type": "code",
   "execution_count": 203,
   "metadata": {},
   "outputs": [
    {
     "data": {
      "image/png": "[encoded data removed]",
      "text/plain": [
       "<Figure size 432x288 with 1 Axes>"
      ]
     },
     "metadata": {},
     "output_type": "display_data"
    }
   ],
   "source": [
    "tree_reg = DecisionTreeRegressor(max_depth=2)\n",
    "tree_reg.fit(X,y)\n",
    "\n",
    "\n",
    "export_graphviz(tree_reg, out_file=image_path('iris_reg.dot'),\n",
    "               feature_names=[\"x1\"],\n",
    "            class_names=['y1'],\n",
    "            rounded=True,\n",
    "            filled=True)\n",
    "\n",
    "!dot -T png ./images/decision_trees/iris_reg.dot -o ./images/decision_trees/iris_reg.png\n",
    "\n",
    "\n",
    "plot_decision_tree_regressor_preds(tree_reg, X,y)"
   ]
  },
  {
   "cell_type": "code",
   "execution_count": 204,
   "metadata": {},
   "outputs": [
    {
     "data": {
      "image/png": "[encoded data removed]",
      "text/plain": [
       "<Figure size 432x288 with 1 Axes>"
      ]
     },
     "metadata": {},
     "output_type": "display_data"
    }
   ],
   "source": [
    "tree_reg = DecisionTreeRegressor()\n",
    "tree_reg.fit(X,y)\n",
    "plot_decision_tree_regressor_preds(tree_reg, X,y)\n"
   ]
  },
  {
   "cell_type": "code",
   "execution_count": 215,
   "metadata": {},
   "outputs": [
    {
     "data": {
      "text/plain": [
       "Text(0.5,1,'min_samples_leaf=10')"
      ]
     },
     "execution_count": 215,
     "metadata": {},
     "output_type": "execute_result"
    },
    {
     "data": {
      "image/png": "[encoded data removed]",
      "text/plain": [
       "<Figure size 1008x648 with 2 Axes>"
      ]
     },
     "metadata": {},
     "output_type": "display_data"
    }
   ],
   "source": [
    "plt.figure(figsize=(14,9))\n",
    "plt.subplot(221)\n",
    "\n",
    "tree_reg = DecisionTreeRegressor()\n",
    "tree_reg.fit(X,y)\n",
    "\n",
    "plot_decision_tree_regressor_preds(tree_reg, X,y)\n",
    "plt.title('No restrictions')\n",
    "plt.ylabel('$y$')\n",
    "plt.xlabel('$X_1$')\n",
    "\n",
    "plt.subplot(222)\n",
    "\n",
    "\n",
    "tree_reg = DecisionTreeRegressor(min_samples_leaf=10)\n",
    "tree_reg.fit(X,y)\n",
    "\n",
    "plot_decision_tree_regressor_preds(tree_reg, X,y)\n",
    "plt.xlabel('$X_1$')\n",
    "plt.title('min_samples_leaf=10')\n",
    "\n"
   ]
  },
  {
   "cell_type": "markdown",
   "metadata": {},
   "source": [
    "# Exercise :-"
   ]
  },
  {
   "cell_type": "code",
   "execution_count": 220,
   "metadata": {},
   "outputs": [],
   "source": [
    "from sklearn.datasets import make_moons\n",
    "X, y = make_moons(n_samples=10000, noise=0.4, random_state=42)"
   ]
  },
  {
   "cell_type": "code",
   "execution_count": 222,
   "metadata": {},
   "outputs": [],
   "source": [
    "from sklearn.model_selection import train_test_split\n",
    "X_train, X_test, y_train, y_test = train_test_split(X,y)"
   ]
  },
  {
   "cell_type": "code",
   "execution_count": 223,
   "metadata": {},
   "outputs": [],
   "source": [
    "from sklearn.tree import DecisionTreeClassifier\n",
    "from sklearn.model_selection import GridSearchCV"
   ]
  },
  {
   "cell_type": "code",
   "execution_count": 224,
   "metadata": {},
   "outputs": [],
   "source": [
    "tree_clf = DecisionTreeClassifier()\n",
    "params_distribution = { 'max_leaf_nodes' : [i for i in range(2, 100)] }\n",
    "grid_search = GridSearchCV(tree_clf, params_distribution, n_jobs=-1, verbose=2, cv=3)"
   ]
  },
  {
   "cell_type": "code",
   "execution_count": 225,
   "metadata": {},
   "outputs": [
    {
     "name": "stdout",
     "output_type": "stream",
     "text": [
      "Fitting 3 folds for each of 98 candidates, totalling 294 fits\n",
      "[CV] max_leaf_nodes=2 ................................................\n",
      "[CV] max_leaf_nodes=2 ................................................\n",
      "[CV] max_leaf_nodes=2 ................................................\n",
      "[CV] max_leaf_nodes=3 ................................................\n",
      "[CV] ................................. max_leaf_nodes=2, total=   0.0s\n",
      "[CV] ................................. max_leaf_nodes=2, total=   0.0s\n",
      "[CV] ................................. max_leaf_nodes=2, total=   0.0s\n",
      "[CV] max_leaf_nodes=3 ................................................\n",
      "[CV] ................................. max_leaf_nodes=3, total=   0.0s\n",
      "[CV] ................................. max_leaf_nodes=3, total=   0.0s\n",
      "[CV] max_leaf_nodes=3 ................................................\n",
      "[CV] max_leaf_nodes=4 ................................................\n",
      "[CV] ................................. max_leaf_nodes=3, total=   0.0s\n",
      "[CV] max_leaf_nodes=4 ................................................\n",
      "[CV] max_leaf_nodes=4 ................................................\n",
      "[CV] ................................. max_leaf_nodes=4, total=   0.0s\n",
      "[CV] max_leaf_nodes=6 ................................................\n",
      "[CV] max_leaf_nodes=8 ................................................\n",
      "[CV] ................................. max_leaf_nodes=4, total=   0.1s\n",
      "[CV] ................................. max_leaf_nodes=6, total=   0.0s\n",
      "[CV] max_leaf_nodes=10 ...............................................\n",
      "[CV] max_leaf_nodes=7 ................................................\n",
      "[CV] ................................. max_leaf_nodes=4, total=   0.0s\n",
      "[CV] max_leaf_nodes=5 ................................................\n",
      "[CV] ................................ max_leaf_nodes=10, total=   0.0s\n",
      "[CV] ................................. max_leaf_nodes=8, total=   0.0s\n",
      "[CV] max_leaf_nodes=11 ...............................................\n",
      "[CV] max_leaf_nodes=9 ................................................\n",
      "[CV] ................................. max_leaf_nodes=5, total=   0.0s\n",
      "[CV] max_leaf_nodes=5 ................................................\n",
      "[CV] ................................. max_leaf_nodes=5, total=   0.0s\n",
      "[CV] ................................. max_leaf_nodes=7, total=   0.0s\n",
      "[CV] max_leaf_nodes=7 ................................................\n",
      "[CV] max_leaf_nodes=5 ................................................\n",
      "[CV] ................................. max_leaf_nodes=9, total=   0.0s\n",
      "[CV] max_leaf_nodes=9 ................................................\n",
      "[CV] ................................ max_leaf_nodes=11, total=   0.0s\n",
      "[CV] ................................. max_leaf_nodes=7, total=   0.0s\n",
      "[CV] max_leaf_nodes=7 ................................................\n",
      "[CV] max_leaf_nodes=11 ...............................................\n",
      "[CV] ................................. max_leaf_nodes=9, total=   0.0s\n",
      "[CV] max_leaf_nodes=9 ................................................\n",
      "[CV] ................................. max_leaf_nodes=5, total=   0.0s\n",
      "[CV] ................................. max_leaf_nodes=9, total=   0.0s\n",
      "[CV] max_leaf_nodes=10 ...............................................\n",
      "[CV] max_leaf_nodes=6 ................................................\n",
      "[CV] ................................. max_leaf_nodes=7, total=   0.0s\n",
      "[CV] ................................ max_leaf_nodes=11, total=   0.0s\n",
      "[CV] max_leaf_nodes=8 ................................................\n",
      "[CV] max_leaf_nodes=11 ...............................................\n",
      "[CV] ................................. max_leaf_nodes=6, total=   0.0s\n",
      "[CV] max_leaf_nodes=6 ................................................\n",
      "[CV] ................................. max_leaf_nodes=8, total=   0.0s\n",
      "[CV] max_leaf_nodes=8 ................................................\n",
      "[CV] ................................ max_leaf_nodes=11, total=   0.0s\n",
      "[CV] max_leaf_nodes=12 ...............................................\n",
      "[CV] ................................ max_leaf_nodes=10, total=   0.1s\n",
      "[CV] max_leaf_nodes=10 ...............................................\n",
      "[CV] ................................. max_leaf_nodes=8, total=   0.0s\n",
      "[CV] ................................. max_leaf_nodes=6, total=   0.0s\n",
      "[CV] max_leaf_nodes=12 ...............................................\n",
      "[CV] ................................ max_leaf_nodes=12, total=   0.0s\n",
      "[CV] ................................ max_leaf_nodes=10, total=   0.0s\n",
      "[CV] max_leaf_nodes=12 ...............................................\n",
      "[CV] ................................ max_leaf_nodes=12, total=   0.0s\n",
      "[CV] max_leaf_nodes=14 ...............................................\n",
      "[CV] max_leaf_nodes=13 ...............................................\n",
      "[CV] max_leaf_nodes=16 ...............................................\n",
      "[CV] ................................ max_leaf_nodes=14, total=   0.0s\n",
      "[CV] ................................ max_leaf_nodes=12, total=   0.0s\n",
      "[CV] max_leaf_nodes=15 ...............................................\n",
      "[CV] ................................ max_leaf_nodes=16, total=   0.0s\n",
      "[CV] max_leaf_nodes=18 ...............................................\n",
      "[CV] max_leaf_nodes=17 ...............................................\n",
      "[CV] ................................ max_leaf_nodes=18, total=   0.0s\n",
      "[CV] max_leaf_nodes=19 ...............................................\n",
      "[CV] ................................ max_leaf_nodes=13, total=   0.1s\n",
      "[CV] max_leaf_nodes=13 ...............................................\n",
      "[CV] ................................ max_leaf_nodes=15, total=   0.0s\n",
      "[CV] ................................ max_leaf_nodes=17, total=   0.0s\n",
      "[CV] max_leaf_nodes=15 ...............................................\n",
      "[CV] max_leaf_nodes=17 ...............................................\n",
      "[CV] ................................ max_leaf_nodes=13, total=   0.0s\n",
      "[CV] max_leaf_nodes=13 ...............................................\n",
      "[CV] ................................ max_leaf_nodes=19, total=   0.1s\n",
      "[CV] ................................ max_leaf_nodes=15, total=   0.0s\n",
      "[CV] max_leaf_nodes=19 ...............................................\n",
      "[CV] ................................ max_leaf_nodes=13, total=   0.0s\n",
      "[CV] max_leaf_nodes=15 ...............................................\n",
      "[CV] max_leaf_nodes=14 ...............................................\n",
      "[CV] ................................ max_leaf_nodes=17, total=   0.0s\n",
      "[CV] max_leaf_nodes=17 ...............................................\n",
      "[CV] ................................ max_leaf_nodes=19, total=   0.0s\n",
      "[CV] ................................ max_leaf_nodes=17, total=   0.0s\n",
      "[CV] ................................ max_leaf_nodes=15, total=   0.0s\n",
      "[CV] max_leaf_nodes=19 ...............................................\n",
      "[CV] max_leaf_nodes=18 ...............................................\n",
      "[CV] max_leaf_nodes=16 ...............................................\n",
      "[CV] ................................ max_leaf_nodes=14, total=   0.0s\n",
      "[CV] max_leaf_nodes=14 ...............................................\n",
      "[CV] ................................ max_leaf_nodes=19, total=   0.0s\n",
      "[CV] max_leaf_nodes=20 ...............................................\n",
      "[CV] ................................ max_leaf_nodes=16, total=   0.0s\n",
      "[CV] max_leaf_nodes=16 ...............................................\n",
      "[CV] ................................ max_leaf_nodes=18, total=   0.1s\n",
      "[CV] ................................ max_leaf_nodes=14, total=   0.0s\n",
      "[CV] max_leaf_nodes=18 ...............................................\n",
      "[CV] max_leaf_nodes=20 ...............................................\n",
      "[CV] ................................ max_leaf_nodes=20, total=   0.0s\n",
      "[CV] max_leaf_nodes=20 ...............................................\n",
      "[CV] ................................ max_leaf_nodes=16, total=   0.1s\n",
      "[CV] ................................ max_leaf_nodes=20, total=   0.0s\n",
      "[CV] max_leaf_nodes=22 ...............................................\n",
      "[CV] max_leaf_nodes=21 ...............................................\n",
      "[CV] ................................ max_leaf_nodes=18, total=   0.0s\n"
     ]
    },
    {
     "name": "stdout",
     "output_type": "stream",
     "text": [
      "[CV] max_leaf_nodes=24 ...............................................\n",
      "[CV] ................................ max_leaf_nodes=20, total=   0.0s\n",
      "[CV] max_leaf_nodes=26 ...............................................\n",
      "[CV] ................................ max_leaf_nodes=22, total=   0.0s\n",
      "[CV] ................................ max_leaf_nodes=21, total=   0.0s\n",
      "[CV] max_leaf_nodes=23 ...............................................\n",
      "[CV] max_leaf_nodes=21 ...............................................\n",
      "[CV] ................................ max_leaf_nodes=24, total=   0.0s\n",
      "[CV] max_leaf_nodes=25 ...............................................\n",
      "[CV] ................................ max_leaf_nodes=26, total=   0.0s\n",
      "[CV] max_leaf_nodes=27 ...............................................\n",
      "[CV] ................................ max_leaf_nodes=23, total=   0.0s\n",
      "[CV] ................................ max_leaf_nodes=25, total=   0.0s\n",
      "[CV] max_leaf_nodes=23 ...............................................\n",
      "[CV] max_leaf_nodes=25 ...............................................\n",
      "[CV] ................................ max_leaf_nodes=21, total=   0.0s\n",
      "[CV] max_leaf_nodes=21 ...............................................\n",
      "[CV] ................................ max_leaf_nodes=25, total=   0.0s\n",
      "[CV] max_leaf_nodes=25 ...............................................\n",
      "[CV] ................................ max_leaf_nodes=27, total=   0.0s\n",
      "[CV] max_leaf_nodes=27 ...............................................\n",
      "[CV] ................................ max_leaf_nodes=23, total=   0.0s\n",
      "[CV] max_leaf_nodes=23 ...............................................\n",
      "[CV] ................................ max_leaf_nodes=21, total=   0.0s\n",
      "[CV] ................................ max_leaf_nodes=27, total=   0.0s\n",
      "[CV] max_leaf_nodes=22 ...............................................\n",
      "[CV] max_leaf_nodes=27 ...............................................\n",
      "[CV] ................................ max_leaf_nodes=23, total=   0.0s\n",
      "[CV] max_leaf_nodes=24 ...............................................\n",
      "[CV] ................................ max_leaf_nodes=25, total=   0.1s\n",
      "[CV] max_leaf_nodes=26 ...............................................\n",
      "[CV] ................................ max_leaf_nodes=22, total=   0.0s\n",
      "[CV] max_leaf_nodes=22 ...............................................\n",
      "[CV] ................................ max_leaf_nodes=27, total=   0.0s\n",
      "[CV] max_leaf_nodes=28 ...............................................\n",
      "[CV] ................................ max_leaf_nodes=24, total=   0.0s\n",
      "[CV] ................................ max_leaf_nodes=26, total=   0.0s\n",
      "[CV] max_leaf_nodes=24 ...............................................\n",
      "[CV] max_leaf_nodes=26 ...............................................\n",
      "[CV] ................................ max_leaf_nodes=22, total=   0.0s\n",
      "[CV] max_leaf_nodes=28 ...............................................\n",
      "[CV] ................................ max_leaf_nodes=28, total=   0.0s\n",
      "[CV] ................................ max_leaf_nodes=24, total=   0.0s\n",
      "[CV] max_leaf_nodes=28 ...............................................\n",
      "[CV] max_leaf_nodes=30 ...............................................\n",
      "[CV] ................................ max_leaf_nodes=26, total=   0.0s\n",
      "[CV] ................................ max_leaf_nodes=28, total=   0.0s\n",
      "[CV] max_leaf_nodes=32 ...............................................\n",
      "[CV] max_leaf_nodes=29 ...............................................\n",
      "[CV] ................................ max_leaf_nodes=30, total=   0.0s\n",
      "[CV] ................................ max_leaf_nodes=28, total=   0.0s\n",
      "[CV] max_leaf_nodes=31 ...............................................\n",
      "[CV] ................................ max_leaf_nodes=31, total=   0.0s\n",
      "[CV] max_leaf_nodes=34 ...............................................\n",
      "[CV] max_leaf_nodes=31 ...............................................\n",
      "[CV] ................................ max_leaf_nodes=32, total=   0.1s\n",
      "[CV] max_leaf_nodes=33 ...............................................\n",
      "[CV] ................................ max_leaf_nodes=29, total=   0.1s\n",
      "[CV] max_leaf_nodes=29 ...............................................\n",
      "[CV] ................................ max_leaf_nodes=34, total=   0.1s\n",
      "[CV] max_leaf_nodes=35 ...............................................\n",
      "[CV] ................................ max_leaf_nodes=33, total=   0.0s\n",
      "[CV] max_leaf_nodes=33 ...............................................\n",
      "[CV] ................................ max_leaf_nodes=29, total=   0.0s\n",
      "[CV] max_leaf_nodes=29 ...............................................\n",
      "[CV] ................................ max_leaf_nodes=31, total=   0.1s\n",
      "[CV] max_leaf_nodes=31 ...............................................\n",
      "[CV] ................................ max_leaf_nodes=35, total=   0.0s\n",
      "[CV] max_leaf_nodes=35 ...............................................\n",
      "[CV] ................................ max_leaf_nodes=33, total=   0.0s\n",
      "[CV] max_leaf_nodes=33 ...............................................\n",
      "[CV] ................................ max_leaf_nodes=29, total=   0.0s\n",
      "[CV] max_leaf_nodes=30 ...............................................\n",
      "[CV] ................................ max_leaf_nodes=31, total=   0.0s\n",
      "[CV] max_leaf_nodes=32 ...............................................\n",
      "[CV] ................................ max_leaf_nodes=32, total=   0.0s\n",
      "[CV] max_leaf_nodes=32 ...............................................\n",
      "[CV] ................................ max_leaf_nodes=35, total=   0.1s\n",
      "[CV] max_leaf_nodes=35 ...............................................\n",
      "[CV] ................................ max_leaf_nodes=33, total=   0.1s\n",
      "[CV] max_leaf_nodes=34 ...............................................\n",
      "[CV] ................................ max_leaf_nodes=30, total=   0.1s\n",
      "[CV] max_leaf_nodes=30 ...............................................\n",
      "[CV] ................................ max_leaf_nodes=34, total=   0.0s\n",
      "[CV] ................................ max_leaf_nodes=35, total=   0.0s\n",
      "[CV] max_leaf_nodes=34 ...............................................\n",
      "[CV] max_leaf_nodes=36 ...............................................\n",
      "[CV] ................................ max_leaf_nodes=32, total=   0.1s\n",
      "[CV] max_leaf_nodes=36 ...............................................\n",
      "[CV] ................................ max_leaf_nodes=30, total=   0.0s\n",
      "[CV] max_leaf_nodes=38 ...............................................\n",
      "[CV] ................................ max_leaf_nodes=36, total=   0.0s\n",
      "[CV] max_leaf_nodes=36 ...............................................\n",
      "[CV] ................................ max_leaf_nodes=36, total=   0.1s\n",
      "[CV] ................................ max_leaf_nodes=34, total=   0.1s\n",
      "[CV] max_leaf_nodes=37 ...............................................\n",
      "[CV] max_leaf_nodes=40 ...............................................\n",
      "[CV] ................................ max_leaf_nodes=38, total=   0.1s\n",
      "[CV] ................................ max_leaf_nodes=36, total=   0.1s\n",
      "[CV] max_leaf_nodes=39 ...............................................\n",
      "[CV] max_leaf_nodes=42 ...............................................\n",
      "[CV] ................................ max_leaf_nodes=40, total=   0.0s\n",
      "[CV] max_leaf_nodes=41 ...............................................\n",
      "[CV] ................................ max_leaf_nodes=39, total=   0.0s\n",
      "[CV] max_leaf_nodes=39 ...............................................\n",
      "[CV] ................................ max_leaf_nodes=42, total=   0.0s\n",
      "[CV] max_leaf_nodes=43 ...............................................\n",
      "[CV] ................................ max_leaf_nodes=37, total=   0.0s\n",
      "[CV] max_leaf_nodes=37 ...............................................\n",
      "[CV] ................................ max_leaf_nodes=41, total=   0.0s\n",
      "[CV] max_leaf_nodes=41 ...............................................\n",
      "[CV] ................................ max_leaf_nodes=37, total=   0.0s\n",
      "[CV] max_leaf_nodes=37 ...............................................\n",
      "[CV] ................................ max_leaf_nodes=39, total=   0.1s\n",
      "[CV] max_leaf_nodes=39 ...............................................\n",
      "[CV] ................................ max_leaf_nodes=43, total=   0.1s\n"
     ]
    },
    {
     "name": "stdout",
     "output_type": "stream",
     "text": [
      "[CV] max_leaf_nodes=43 ...............................................\n",
      "[CV] ................................ max_leaf_nodes=41, total=   0.0s\n",
      "[CV] max_leaf_nodes=41 ...............................................\n",
      "[CV] ................................ max_leaf_nodes=37, total=   0.0s\n",
      "[CV] max_leaf_nodes=38 ...............................................\n",
      "[CV] ................................ max_leaf_nodes=39, total=   0.0s\n",
      "[CV] max_leaf_nodes=40 ...............................................\n",
      "[CV] ................................ max_leaf_nodes=41, total=   0.0s\n",
      "[CV] ................................ max_leaf_nodes=43, total=   0.0s\n",
      "[CV] ................................ max_leaf_nodes=40, total=   0.0s\n",
      "[CV] max_leaf_nodes=43 ...............................................\n",
      "[CV] max_leaf_nodes=40 ...............................................\n",
      "[CV] ................................ max_leaf_nodes=38, total=   0.0s\n",
      "[CV] max_leaf_nodes=42 ...............................................\n",
      "[CV] max_leaf_nodes=38 ...............................................\n",
      "[CV] ................................ max_leaf_nodes=43, total=   0.0s\n",
      "[CV] ................................ max_leaf_nodes=42, total=   0.0s\n",
      "[CV] max_leaf_nodes=44 ...............................................\n",
      "[CV] max_leaf_nodes=42 ...............................................\n",
      "[CV] ................................ max_leaf_nodes=38, total=   0.0s\n",
      "[CV] max_leaf_nodes=44 ...............................................\n",
      "[CV] ................................ max_leaf_nodes=40, total=   0.1s\n",
      "[CV] ................................ max_leaf_nodes=44, total=   0.0s\n",
      "[CV] max_leaf_nodes=46 ...............................................\n",
      "[CV] ................................ max_leaf_nodes=44, total=   0.0s\n",
      "[CV] max_leaf_nodes=45 ...............................................\n",
      "[CV] max_leaf_nodes=44 ...............................................\n",
      "[CV] ................................ max_leaf_nodes=42, total=   0.0s\n",
      "[CV] max_leaf_nodes=48 ...............................................\n",
      "[CV] ................................ max_leaf_nodes=46, total=   0.0s\n",
      "[CV] max_leaf_nodes=47 ...............................................\n",
      "[CV] ................................ max_leaf_nodes=44, total=   0.0s\n",
      "[CV] ................................ max_leaf_nodes=48, total=   0.0s\n",
      "[CV] max_leaf_nodes=50 ...............................................\n",
      "[CV] max_leaf_nodes=49 ...............................................\n",
      "[CV] ................................ max_leaf_nodes=45, total=   0.1s\n",
      "[CV] max_leaf_nodes=45 ...............................................\n",
      "[CV] ................................ max_leaf_nodes=47, total=   0.0s\n",
      "[CV] max_leaf_nodes=47 ...............................................\n",
      "[CV] ................................ max_leaf_nodes=45, total=   0.0s\n",
      "[CV] max_leaf_nodes=45 ...............................................\n",
      "[CV] ................................ max_leaf_nodes=50, total=   0.1s\n",
      "[CV] max_leaf_nodes=51 ...............................................\n",
      "[CV] ................................ max_leaf_nodes=49, total=   0.1s\n",
      "[CV] max_leaf_nodes=49 ...............................................\n",
      "[CV] ................................ max_leaf_nodes=47, total=   0.0s\n",
      "[CV] max_leaf_nodes=47 ...............................................\n",
      "[CV] ................................ max_leaf_nodes=51, total=   0.0s\n",
      "[CV] ................................ max_leaf_nodes=45, total=   0.0s\n",
      "[CV] max_leaf_nodes=51 ...............................................\n",
      "[CV] max_leaf_nodes=46 ...............................................\n",
      "[CV] ................................ max_leaf_nodes=49, total=   0.0s\n",
      "[CV] max_leaf_nodes=49 ...............................................\n",
      "[CV] ................................ max_leaf_nodes=47, total=   0.0s\n",
      "[CV] max_leaf_nodes=48 ...............................................\n",
      "[CV] ................................ max_leaf_nodes=46, total=   0.0s\n",
      "[CV] max_leaf_nodes=46 ...............................................\n",
      "[CV] ................................ max_leaf_nodes=51, total=   0.0s\n",
      "[CV] ................................ max_leaf_nodes=49, total=   0.0s\n",
      "[CV] max_leaf_nodes=51 ...............................................\n",
      "[CV] max_leaf_nodes=50 ...............................................\n",
      "[CV] ................................ max_leaf_nodes=51, total=   0.0s\n",
      "[CV] ................................ max_leaf_nodes=48, total=   0.0s\n",
      "[CV] max_leaf_nodes=48 ...............................................\n",
      "[CV] ................................ max_leaf_nodes=50, total=   0.0s\n",
      "[CV] ................................ max_leaf_nodes=46, total=   0.0s\n",
      "[CV] max_leaf_nodes=52 ...............................................\n",
      "[CV] max_leaf_nodes=50 ...............................................\n",
      "[CV] max_leaf_nodes=52 ...............................................\n",
      "[CV] ................................ max_leaf_nodes=52, total=   0.0s\n",
      "[CV] max_leaf_nodes=53 ...............................................\n",
      "[CV] ................................ max_leaf_nodes=48, total=   0.1s\n",
      "[CV] max_leaf_nodes=54 ...............................................\n",
      "[CV] ................................ max_leaf_nodes=52, total=   0.1s\n",
      "[CV] max_leaf_nodes=52 ...............................................\n",
      "[CV] ................................ max_leaf_nodes=50, total=   0.1s\n",
      "[CV] ................................ max_leaf_nodes=54, total=   0.0s\n",
      "[CV] max_leaf_nodes=55 ...............................................\n",
      "[CV] max_leaf_nodes=56 ...............................................\n",
      "[CV] ................................ max_leaf_nodes=53, total=   0.1s\n",
      "[CV] ................................ max_leaf_nodes=52, total=   0.0s\n",
      "[CV] max_leaf_nodes=53 ...............................................\n",
      "[CV] max_leaf_nodes=58 ...............................................\n",
      "[CV] ................................ max_leaf_nodes=56, total=   0.0s\n",
      "[CV] max_leaf_nodes=57 ...............................................\n",
      "[CV] ................................ max_leaf_nodes=55, total=   0.1s\n",
      "[CV] max_leaf_nodes=55 ...............................................\n",
      "[CV] ................................ max_leaf_nodes=58, total=   0.1s\n",
      "[CV] ................................ max_leaf_nodes=53, total=   0.1s\n",
      "[CV] max_leaf_nodes=53 ...............................................\n",
      "[CV] max_leaf_nodes=59 ...............................................\n",
      "[CV] ................................ max_leaf_nodes=57, total=   0.1s\n",
      "[CV] ................................ max_leaf_nodes=55, total=   0.0s\n",
      "[CV] max_leaf_nodes=57 ...............................................\n",
      "[CV] max_leaf_nodes=55 ...............................................\n",
      "[CV] ................................ max_leaf_nodes=53, total=   0.0s\n",
      "[CV] max_leaf_nodes=54 ...............................................\n",
      "[CV] ................................ max_leaf_nodes=55, total=   0.0s\n",
      "[CV] max_leaf_nodes=56 ...............................................\n",
      "[CV] ................................ max_leaf_nodes=59, total=   0.1s\n",
      "[CV] max_leaf_nodes=59 ...............................................\n",
      "[CV] ................................ max_leaf_nodes=57, total=   0.0s\n",
      "[CV] max_leaf_nodes=57 ...............................................\n",
      "[CV] ................................ max_leaf_nodes=57, total=   0.0s\n",
      "[CV] max_leaf_nodes=58 ...............................................\n",
      "[CV] ................................ max_leaf_nodes=54, total=   0.1s\n",
      "[CV] max_leaf_nodes=54 ...............................................\n",
      "[CV] ................................ max_leaf_nodes=59, total=   0.1s\n",
      "[CV] max_leaf_nodes=59 ...............................................\n",
      "[CV] ................................ max_leaf_nodes=56, total=   0.1s\n",
      "[CV] max_leaf_nodes=56 ...............................................\n",
      "[CV] ................................ max_leaf_nodes=54, total=   0.0s\n",
      "[CV] max_leaf_nodes=60 ...............................................\n",
      "[CV] ................................ max_leaf_nodes=59, total=   0.0s\n",
      "[CV] max_leaf_nodes=60 ...............................................\n",
      "[CV] ................................ max_leaf_nodes=58, total=   0.1s\n"
     ]
    },
    {
     "name": "stdout",
     "output_type": "stream",
     "text": [
      "[CV] max_leaf_nodes=58 ...............................................\n",
      "[CV] ................................ max_leaf_nodes=56, total=   0.0s\n",
      "[CV] ................................ max_leaf_nodes=58, total=   0.0s\n",
      "[CV] max_leaf_nodes=62 ...............................................\n",
      "[CV] max_leaf_nodes=64 ...............................................\n",
      "[CV] ................................ max_leaf_nodes=60, total=   0.1s\n",
      "[CV] ................................ max_leaf_nodes=60, total=   0.1s\n",
      "[CV] max_leaf_nodes=61 ...............................................\n",
      "[CV] ................................ max_leaf_nodes=64, total=   0.0s\n",
      "[CV] max_leaf_nodes=60 ...............................................\n",
      "[CV] max_leaf_nodes=65 ...............................................\n",
      "[CV] ................................ max_leaf_nodes=62, total=   0.1s\n",
      "[CV] max_leaf_nodes=63 ...............................................\n",
      "[CV] ................................ max_leaf_nodes=61, total=   0.0s\n",
      "[CV] ................................ max_leaf_nodes=65, total=   0.0s\n",
      "[CV] max_leaf_nodes=65 ...............................................\n",
      "[CV] max_leaf_nodes=61 ...............................................\n",
      "[CV] ................................ max_leaf_nodes=60, total=   0.0s\n",
      "[CV] max_leaf_nodes=66 ...............................................\n",
      "[CV] ................................ max_leaf_nodes=61, total=   0.0s\n",
      "[CV] max_leaf_nodes=61 ...............................................\n",
      "[CV] ................................ max_leaf_nodes=63, total=   0.1s\n",
      "[CV] max_leaf_nodes=63 ...............................................\n"
     ]
    },
    {
     "name": "stderr",
     "output_type": "stream",
     "text": [
      "[Parallel(n_jobs=-1)]: Done 158 tasks      | elapsed:    2.1s\n"
     ]
    },
    {
     "name": "stdout",
     "output_type": "stream",
     "text": [
      "[CV] ................................ max_leaf_nodes=66, total=   0.1s\n",
      "[CV] ................................ max_leaf_nodes=65, total=   0.1s\n",
      "[CV] max_leaf_nodes=67 ...............................................\n",
      "[CV] max_leaf_nodes=65 ...............................................\n",
      "[CV] ................................ max_leaf_nodes=63, total=   0.0s\n",
      "[CV] ................................ max_leaf_nodes=61, total=   0.1s\n",
      "[CV] max_leaf_nodes=63 ...............................................\n",
      "[CV] max_leaf_nodes=62 ...............................................\n",
      "[CV] ................................ max_leaf_nodes=65, total=   0.0s\n",
      "[CV] max_leaf_nodes=66 ...............................................\n",
      "[CV] ................................ max_leaf_nodes=63, total=   0.0s\n",
      "[CV] ................................ max_leaf_nodes=67, total=   0.0s\n",
      "[CV] max_leaf_nodes=64 ...............................................\n",
      "[CV] max_leaf_nodes=67 ...............................................\n",
      "[CV] ................................ max_leaf_nodes=66, total=   0.0s\n",
      "[CV] max_leaf_nodes=66 ...............................................\n",
      "[CV] ................................ max_leaf_nodes=62, total=   0.0s\n",
      "[CV] max_leaf_nodes=62 ...............................................\n",
      "[CV] ................................ max_leaf_nodes=67, total=   0.0s\n",
      "[CV] max_leaf_nodes=67 ...............................................\n",
      "[CV] ................................ max_leaf_nodes=64, total=   0.0s\n",
      "[CV] max_leaf_nodes=64 ...............................................\n",
      "[CV] ................................ max_leaf_nodes=62, total=   0.0s\n",
      "[CV] max_leaf_nodes=68 ...............................................\n",
      "[CV] ................................ max_leaf_nodes=66, total=   0.1s\n",
      "[CV] ................................ max_leaf_nodes=67, total=   0.0s\n",
      "[CV] max_leaf_nodes=68 ...............................................\n",
      "[CV] max_leaf_nodes=70 ...............................................\n",
      "[CV] ................................ max_leaf_nodes=68, total=   0.0s\n",
      "[CV] max_leaf_nodes=69 ...............................................\n",
      "[CV] ................................ max_leaf_nodes=64, total=   0.1s\n",
      "[CV] max_leaf_nodes=72 ...............................................\n",
      "[CV] ................................ max_leaf_nodes=70, total=   0.0s\n",
      "[CV] max_leaf_nodes=71 ...............................................\n",
      "[CV] ................................ max_leaf_nodes=68, total=   0.0s\n",
      "[CV] max_leaf_nodes=68 ...............................................\n",
      "[CV] ................................ max_leaf_nodes=69, total=   0.0s\n",
      "[CV] max_leaf_nodes=69 ...............................................\n",
      "[CV] ................................ max_leaf_nodes=69, total=   0.0s\n",
      "[CV] ................................ max_leaf_nodes=72, total=   0.0s\n",
      "[CV] max_leaf_nodes=69 ...............................................\n",
      "[CV] max_leaf_nodes=73 ...............................................\n",
      "[CV] ................................ max_leaf_nodes=68, total=   0.0s\n",
      "[CV] max_leaf_nodes=74 ...............................................\n",
      "[CV] ................................ max_leaf_nodes=73, total=   0.0s\n",
      "[CV] ................................ max_leaf_nodes=71, total=   0.1s\n",
      "[CV] max_leaf_nodes=71 ...............................................\n",
      "[CV] max_leaf_nodes=73 ...............................................\n",
      "[CV] ................................ max_leaf_nodes=74, total=   0.0s\n",
      "[CV] max_leaf_nodes=75 ...............................................\n",
      "[CV] ................................ max_leaf_nodes=69, total=   0.1s\n",
      "[CV] max_leaf_nodes=70 ...............................................\n",
      "[CV] ................................ max_leaf_nodes=71, total=   0.0s\n",
      "[CV] max_leaf_nodes=71 ...............................................\n",
      "[CV] ................................ max_leaf_nodes=70, total=   0.0s\n",
      "[CV] max_leaf_nodes=70 ...............................................\n",
      "[CV] ................................ max_leaf_nodes=73, total=   0.1s\n",
      "[CV] max_leaf_nodes=73 ...............................................\n",
      "[CV] ................................ max_leaf_nodes=70, total=   0.0s\n",
      "[CV] ................................ max_leaf_nodes=75, total=   0.1s\n",
      "[CV] max_leaf_nodes=76 ...............................................\n",
      "[CV] max_leaf_nodes=75 ...............................................\n",
      "[CV] ................................ max_leaf_nodes=71, total=   0.0s\n",
      "[CV] max_leaf_nodes=72 ...............................................\n",
      "[CV] ................................ max_leaf_nodes=75, total=   0.0s\n",
      "[CV] max_leaf_nodes=75 ...............................................\n",
      "[CV] ................................ max_leaf_nodes=73, total=   0.0s\n",
      "[CV] max_leaf_nodes=74 ...............................................\n",
      "[CV] ................................ max_leaf_nodes=72, total=   0.0s\n",
      "[CV] max_leaf_nodes=72 ...............................................\n",
      "[CV] ................................ max_leaf_nodes=76, total=   0.1s\n",
      "[CV] ................................ max_leaf_nodes=74, total=   0.0s\n",
      "[CV] ................................ max_leaf_nodes=75, total=   0.1s\n",
      "[CV] max_leaf_nodes=74 ...............................................\n",
      "[CV] max_leaf_nodes=77 ...............................................\n",
      "[CV] max_leaf_nodes=76 ...............................................\n",
      "[CV] ................................ max_leaf_nodes=76, total=   0.0s\n",
      "[CV] ................................ max_leaf_nodes=72, total=   0.1s\n",
      "[CV] max_leaf_nodes=76 ...............................................\n",
      "[CV] max_leaf_nodes=78 ...............................................\n",
      "[CV] ................................ max_leaf_nodes=74, total=   0.0s\n",
      "[CV] ................................ max_leaf_nodes=77, total=   0.0s\n",
      "[CV] max_leaf_nodes=80 ...............................................\n",
      "[CV] max_leaf_nodes=77 ...............................................\n",
      "[CV] ................................ max_leaf_nodes=78, total=   0.0s\n",
      "[CV] ................................ max_leaf_nodes=80, total=   0.0s\n",
      "[CV] max_leaf_nodes=81 ...............................................\n",
      "[CV] ................................ max_leaf_nodes=76, total=   0.0s\n",
      "[CV] max_leaf_nodes=79 ...............................................\n",
      "[CV] ................................ max_leaf_nodes=77, total=   0.0s\n",
      "[CV] max_leaf_nodes=82 ...............................................\n",
      "[CV] max_leaf_nodes=77 ...............................................\n",
      "[CV] ................................ max_leaf_nodes=79, total=   0.0s\n",
      "[CV] max_leaf_nodes=79 ...............................................\n",
      "[CV] ................................ max_leaf_nodes=81, total=   0.1s\n",
      "[CV] ................................ max_leaf_nodes=77, total=   0.0s\n",
      "[CV] max_leaf_nodes=78 ...............................................\n",
      "[CV] ................................ max_leaf_nodes=82, total=   0.0s\n",
      "[CV] max_leaf_nodes=81 ...............................................\n",
      "[CV] max_leaf_nodes=83 ...............................................\n",
      "[CV] ................................ max_leaf_nodes=79, total=   0.0s\n",
      "[CV] max_leaf_nodes=79 ...............................................\n",
      "[CV] ................................ max_leaf_nodes=78, total=   0.0s\n",
      "[CV] ................................ max_leaf_nodes=81, total=   0.0s\n",
      "[CV] max_leaf_nodes=81 ...............................................\n",
      "[CV] max_leaf_nodes=78 ...............................................\n",
      "[CV] ................................ max_leaf_nodes=83, total=   0.0s\n",
      "[CV] max_leaf_nodes=83 ...............................................\n",
      "[CV] ................................ max_leaf_nodes=79, total=   0.0s\n",
      "[CV] max_leaf_nodes=80 ...............................................\n",
      "[CV] ................................ max_leaf_nodes=78, total=   0.0s\n",
      "[CV] ................................ max_leaf_nodes=81, total=   0.1s\n",
      "[CV] max_leaf_nodes=84 ...............................................\n",
      "[CV] max_leaf_nodes=82 ...............................................\n",
      "[CV] ................................ max_leaf_nodes=83, total=   0.1s\n",
      "[CV] max_leaf_nodes=83 ...............................................\n"
     ]
    },
    {
     "name": "stdout",
     "output_type": "stream",
     "text": [
      "[CV] ................................ max_leaf_nodes=80, total=   0.0s\n",
      "[CV] ................................ max_leaf_nodes=82, total=   0.0s\n",
      "[CV] max_leaf_nodes=80 ...............................................\n",
      "[CV] max_leaf_nodes=82 ...............................................\n",
      "[CV] ................................ max_leaf_nodes=84, total=   0.0s\n",
      "[CV] max_leaf_nodes=85 ...............................................\n",
      "[CV] ................................ max_leaf_nodes=83, total=   0.0s\n",
      "[CV] max_leaf_nodes=84 ...............................................\n",
      "[CV] ................................ max_leaf_nodes=80, total=   0.0s\n",
      "[CV] ................................ max_leaf_nodes=82, total=   0.0s\n",
      "[CV] max_leaf_nodes=86 ...............................................\n",
      "[CV] ................................ max_leaf_nodes=85, total=   0.0s\n",
      "[CV] max_leaf_nodes=88 ...............................................\n",
      "[CV] ................................ max_leaf_nodes=84, total=   0.0s\n",
      "[CV] max_leaf_nodes=85 ...............................................\n",
      "[CV] max_leaf_nodes=84 ...............................................\n",
      "[CV] ................................ max_leaf_nodes=86, total=   0.0s\n",
      "[CV] max_leaf_nodes=87 ...............................................\n",
      "[CV] ................................ max_leaf_nodes=84, total=   0.0s\n",
      "[CV] ................................ max_leaf_nodes=88, total=   0.0s\n",
      "[CV] max_leaf_nodes=90 ...............................................\n",
      "[CV] max_leaf_nodes=89 ...............................................\n",
      "[CV] ................................ max_leaf_nodes=85, total=   0.1s\n",
      "[CV] max_leaf_nodes=85 ...............................................\n",
      "[CV] ................................ max_leaf_nodes=87, total=   0.0s\n",
      "[CV] max_leaf_nodes=87 ...............................................\n",
      "[CV] ................................ max_leaf_nodes=89, total=   0.0s\n",
      "[CV] ................................ max_leaf_nodes=85, total=   0.0s\n",
      "[CV] max_leaf_nodes=86 ...............................................\n",
      "[CV] ................................ max_leaf_nodes=90, total=   0.1s\n",
      "[CV] max_leaf_nodes=91 ...............................................\n",
      "[CV] ................................ max_leaf_nodes=86, total=   0.0s\n",
      "[CV] max_leaf_nodes=89 ...............................................\n",
      "[CV] max_leaf_nodes=86 ...............................................\n",
      "[CV] ................................ max_leaf_nodes=87, total=   0.1s\n",
      "[CV] max_leaf_nodes=87 ...............................................\n",
      "[CV] ................................ max_leaf_nodes=91, total=   0.0s\n",
      "[CV] ................................ max_leaf_nodes=89, total=   0.0s\n",
      "[CV] max_leaf_nodes=91 ...............................................\n",
      "[CV] max_leaf_nodes=89 ...............................................\n",
      "[CV] ................................ max_leaf_nodes=87, total=   0.0s\n",
      "[CV] max_leaf_nodes=88 ...............................................\n",
      "[CV] ................................ max_leaf_nodes=89, total=   0.0s\n",
      "[CV] max_leaf_nodes=90 ...............................................\n",
      "[CV] ................................ max_leaf_nodes=86, total=   0.1s\n",
      "[CV] ................................ max_leaf_nodes=91, total=   0.1s\n",
      "[CV] max_leaf_nodes=91 ...............................................\n",
      "[CV] ................................ max_leaf_nodes=88, total=   0.0s\n",
      "[CV] max_leaf_nodes=92 ...............................................\n",
      "[CV] max_leaf_nodes=88 ...............................................\n",
      "[CV] ................................ max_leaf_nodes=91, total=   0.0s\n",
      "[CV] max_leaf_nodes=92 ...............................................\n",
      "[CV] ................................ max_leaf_nodes=92, total=   0.0s\n",
      "[CV] max_leaf_nodes=93 ...............................................\n",
      "[CV] ................................ max_leaf_nodes=90, total=   0.0s\n",
      "[CV] max_leaf_nodes=90 ...............................................\n",
      "[CV] ................................ max_leaf_nodes=90, total=   0.0s\n",
      "[CV] ................................ max_leaf_nodes=88, total=   0.0s\n",
      "[CV] max_leaf_nodes=94 ...............................................\n",
      "[CV] max_leaf_nodes=96 ...............................................\n",
      "[CV] ................................ max_leaf_nodes=92, total=   0.1s\n",
      "[CV] max_leaf_nodes=92 ...............................................\n",
      "[CV] ................................ max_leaf_nodes=96, total=   0.0s\n",
      "[CV] max_leaf_nodes=97 ...............................................\n",
      "[CV] ................................ max_leaf_nodes=93, total=   0.0s\n",
      "[CV] max_leaf_nodes=93 ...............................................\n",
      "[CV] ................................ max_leaf_nodes=94, total=   0.0s\n",
      "[CV] max_leaf_nodes=95 ...............................................\n",
      "[CV] ................................ max_leaf_nodes=93, total=   0.0s\n",
      "[CV] max_leaf_nodes=93 ...............................................\n",
      "[CV] ................................ max_leaf_nodes=92, total=   0.1s\n",
      "[CV] max_leaf_nodes=98 ...............................................\n",
      "[CV] ................................ max_leaf_nodes=97, total=   0.1s\n",
      "[CV] max_leaf_nodes=97 ...............................................\n",
      "[CV] ................................ max_leaf_nodes=93, total=   0.1s\n",
      "[CV] ................................ max_leaf_nodes=95, total=   0.1s\n",
      "[CV] max_leaf_nodes=95 ...............................................\n",
      "[CV] ................................ max_leaf_nodes=98, total=   0.0s\n",
      "[CV] max_leaf_nodes=99 ...............................................\n",
      "[CV] max_leaf_nodes=94 ...............................................\n",
      "[CV] ................................ max_leaf_nodes=97, total=   0.0s\n",
      "[CV] max_leaf_nodes=97 ...............................................\n",
      "[CV] ................................ max_leaf_nodes=94, total=   0.0s\n",
      "[CV] ................................ max_leaf_nodes=95, total=   0.0s\n",
      "[CV] max_leaf_nodes=95 ...............................................\n",
      "[CV] ................................ max_leaf_nodes=99, total=   0.0s\n",
      "[CV] max_leaf_nodes=94 ...............................................\n",
      "[CV] max_leaf_nodes=99 ...............................................\n",
      "[CV] ................................ max_leaf_nodes=97, total=   0.0s\n",
      "[CV] max_leaf_nodes=98 ...............................................\n",
      "[CV] ................................ max_leaf_nodes=98, total=   0.0s\n",
      "[CV] max_leaf_nodes=98 ...............................................\n",
      "[CV] ................................ max_leaf_nodes=95, total=   0.0s\n",
      "[CV] max_leaf_nodes=96 ...............................................\n",
      "[CV] ................................ max_leaf_nodes=94, total=   0.0s\n",
      "[CV] ................................ max_leaf_nodes=99, total=   0.1s\n",
      "[CV] max_leaf_nodes=99 ...............................................\n",
      "[CV] ................................ max_leaf_nodes=96, total=   0.0s\n",
      "[CV] max_leaf_nodes=96 ...............................................\n",
      "[CV] ................................ max_leaf_nodes=98, total=   0.1s\n",
      "[CV] ................................ max_leaf_nodes=99, total=   0.0s\n",
      "[CV] ................................ max_leaf_nodes=96, total=   0.0s\n"
     ]
    },
    {
     "name": "stderr",
     "output_type": "stream",
     "text": [
      "[Parallel(n_jobs=-1)]: Done 294 out of 294 | elapsed:    3.8s finished\n"
     ]
    },
    {
     "data": {
      "text/plain": [
       "GridSearchCV(cv=3, error_score='raise',\n",
       "       estimator=DecisionTreeClassifier(class_weight=None, criterion='gini', max_depth=None,\n",
       "            max_features=None, max_leaf_nodes=None,\n",
       "            min_impurity_decrease=0.0, min_impurity_split=None,\n",
       "            min_samples_leaf=1, min_samples_split=2,\n",
       "            min_weight_fraction_leaf=0.0, presort=False, random_state=None,\n",
       "            splitter='best'),\n",
       "       fit_params=None, iid=True, n_jobs=-1,\n",
       "       param_grid={'max_leaf_nodes': [2, 3, 4, 5, 6, 7, 8, 9, 10, 11, 12, 13, 14, 15, 16, 17, 18, 19, 20, 21, 22, 23, 24, 25, 26, 27, 28, 29, 30, 31, 32, 33, 34, 35, 36, 37, 38, 39, 40, 41, 42, 43, 44, 45, 46, 47, 48, 49, 50, 51, 52, 53, 54, 55, 56, 57, 58, 59, 60, 61, 62, 63, 64, 65, 66, 67, 68, 69, 70, 71, 72, 73, 74, 75, 76, 77, 78, 79, 80, 81, 82, 83, 84, 85, 86, 87, 88, 89, 90, 91, 92, 93, 94, 95, 96, 97, 98, 99]},\n",
       "       pre_dispatch='2*n_jobs', refit=True, return_train_score='warn',\n",
       "       scoring=None, verbose=2)"
      ]
     },
     "execution_count": 225,
     "metadata": {},
     "output_type": "execute_result"
    }
   ],
   "source": [
    "grid_search.fit(X_train, y_train)"
   ]
  },
  {
   "cell_type": "code",
   "execution_count": 226,
   "metadata": {},
   "outputs": [
    {
     "data": {
      "text/plain": [
       "{'max_leaf_nodes': 16}"
      ]
     },
     "execution_count": 226,
     "metadata": {},
     "output_type": "execute_result"
    }
   ],
   "source": [
    "grid_search.best_params_"
   ]
  },
  {
   "cell_type": "code",
   "execution_count": 227,
   "metadata": {},
   "outputs": [
    {
     "data": {
      "text/plain": [
       "0.8628"
      ]
     },
     "execution_count": 227,
     "metadata": {},
     "output_type": "execute_result"
    }
   ],
   "source": [
    "y_preds = grid_search.best_estimator_.predict(X_test)\n",
    "from sklearn.metrics import accuracy_score\n",
    "accuracy_score(y_test, y_preds)"
   ]
  },
  {
   "cell_type": "code",
   "execution_count": 228,
   "metadata": {},
   "outputs": [],
   "source": [
    "from sklearn.model_selection import ShuffleSplit"
   ]
  },
  {
   "cell_type": "code",
   "execution_count": 229,
   "metadata": {},
   "outputs": [
    {
     "name": "stderr",
     "output_type": "stream",
     "text": [
      "/Users/Kunal/anaconda3/lib/python3.6/site-packages/sklearn/model_selection/_split.py:1639: FutureWarning: From version 0.21, test_size will always complement train_size unless both are specified.\n",
      "  FutureWarning)\n"
     ]
    }
   ],
   "source": [
    "splitter = ShuffleSplit(n_splits=1000, train_size = 100)"
   ]
  },
  {
   "cell_type": "code",
   "execution_count": 232,
   "metadata": {},
   "outputs": [],
   "source": [
    "import copy\n"
   ]
  },
  {
   "cell_type": "code",
   "execution_count": 234,
   "metadata": {},
   "outputs": [
    {
     "data": {
      "text/plain": [
       "0.8013644"
      ]
     },
     "execution_count": 234,
     "metadata": {},
     "output_type": "execute_result"
    }
   ],
   "source": [
    "best_model = grid_search.best_estimator_\n",
    "scores_list = []\n",
    "\n",
    "for train_index, test_index in splitter.split(X_train):\n",
    "        \n",
    "        new_X_train=X_train[train_index]\n",
    "        new_y_train=y_train[train_index]\n",
    "        worker=copy.deepcopy(best_model) \n",
    "        tree_model=worker.fit(new_X_train, new_y_train)\n",
    "        \n",
    "        y_preds=worker.predict(X_test)\n",
    "        scores_list.append(accuracy_score(y_test,y_preds))\n",
    "        \n",
    "np.mean(np.array(scores_list))"
   ]
  },
  {
   "cell_type": "code",
   "execution_count": 236,
   "metadata": {},
   "outputs": [],
   "source": [
    "from scipy.stats import mode"
   ]
  },
  {
   "cell_type": "code",
   "execution_count": 237,
   "metadata": {},
   "outputs": [],
   "source": [
    "a , b = [[1,2], [3,4]]"
   ]
  },
  {
   "cell_type": "code",
   "execution_count": 249,
   "metadata": {},
   "outputs": [
    {
     "data": {
      "text/plain": [
       "array([1, 3])"
      ]
     },
     "execution_count": 249,
     "metadata": {},
     "output_type": "execute_result"
    }
   ],
   "source": [
    "np.array(mode(np.c_[a,b]))[0].ravel()"
   ]
  },
  {
   "cell_type": "code",
   "execution_count": 263,
   "metadata": {},
   "outputs": [],
   "source": [
    "from sklearn.base import BaseEstimator , TransformerMixin\n",
    "import copy\n",
    "\n",
    "class MyRandomForestClassifier(BaseEstimator, TransformerMixin):\n",
    "    \n",
    "    def __init__(self, model, n_splits=1000, train_size=100):\n",
    "        self.model=model\n",
    "        self.best_model=model\n",
    "        self.n_splits=n_splits\n",
    "        self.train_size=train_size\n",
    "        self.trained_workers = []\n",
    "        \n",
    "    def fit(self, X, y=None):\n",
    "        \n",
    "        splitter = ShuffleSplit(n_splits=1000, train_size=100)\n",
    "        \n",
    "        for train_index, _ in splitter.split(X):\n",
    "            \n",
    "            new_X_train=X[train_index]\n",
    "            new_y_train=y[train_index]\n",
    "            \n",
    "            worker=copy.deepcopy(self.best_model) \n",
    "            tree_model=worker.fit(new_X_train, new_y_train)\n",
    "            \n",
    "            self.trained_workers.append(tree_model)\n",
    "            \n",
    "        return self\n",
    "    \n",
    "    def predict(self, X, y=None):\n",
    "        self.scores_list = []\n",
    "        \n",
    "        for worker in self.trained_workers:\n",
    "            preds = worker.predict(X)\n",
    "            self.scores_list.append(preds)\n",
    "            \n",
    "        self.final_preds = mode(np.array(self.scores_list))[0].ravel()\n",
    "    \n",
    "        return self.final_preds\n",
    "        \n",
    "        "
   ]
  },
  {
   "cell_type": "code",
   "execution_count": 264,
   "metadata": {},
   "outputs": [],
   "source": [
    "rnd_clf = MyRandomForestClassifier(grid_search.best_estimator_)"
   ]
  },
  {
   "cell_type": "code",
   "execution_count": 271,
   "metadata": {},
   "outputs": [
    {
     "name": "stderr",
     "output_type": "stream",
     "text": [
      "/Users/Kunal/anaconda3/lib/python3.6/site-packages/sklearn/model_selection/_split.py:1639: FutureWarning: From version 0.21, test_size will always complement train_size unless both are specified.\n",
      "  FutureWarning)\n"
     ]
    },
    {
     "data": {
      "text/plain": [
       "MyRandomForestClassifier(model=DecisionTreeClassifier(class_weight=None, criterion='gini', max_depth=None,\n",
       "            max_features=None, max_leaf_nodes=16,\n",
       "            min_impurity_decrease=0.0, min_impurity_split=None,\n",
       "            min_samples_leaf=1, min_samples_split=2,\n",
       "            min_weight_fraction_leaf=0.0, presort=False, random_state=None,\n",
       "            splitter='best'),\n",
       "             n_splits=1000, train_size=100)"
      ]
     },
     "execution_count": 271,
     "metadata": {},
     "output_type": "execute_result"
    }
   ],
   "source": [
    "rnd_clf.fit(X_train, y_train)"
   ]
  },
  {
   "cell_type": "code",
   "execution_count": 272,
   "metadata": {},
   "outputs": [],
   "source": [
    "final_preds = rnd_clf.predict(X_test)"
   ]
  },
  {
   "cell_type": "code",
   "execution_count": 273,
   "metadata": {},
   "outputs": [
    {
     "data": {
      "text/plain": [
       "0.8684"
      ]
     },
     "execution_count": 273,
     "metadata": {},
     "output_type": "execute_result"
    }
   ],
   "source": [
    "accuracy_score(y_test, final_preds)"
   ]
  },
  {
   "cell_type": "markdown",
   "metadata": {},
   "source": [
    "##### Let's see how much better is it from normal Decision Tree Classifier"
   ]
  },
  {
   "cell_type": "code",
   "execution_count": 274,
   "metadata": {},
   "outputs": [
    {
     "data": {
      "text/plain": [
       "0.8036"
      ]
     },
     "execution_count": 274,
     "metadata": {},
     "output_type": "execute_result"
    }
   ],
   "source": [
    "tree_clf = DecisionTreeClassifier()\n",
    "tree_clf.fit(X_train, y_train)\n",
    "y_preds = tree_clf.predict(X_test)\n",
    "accuracy_score(y_test, y_preds)"
   ]
  },
  {
   "cell_type": "code",
   "execution_count": null,
   "metadata": {},
   "outputs": [],
   "source": []
  }
 ],
 "metadata": {
  "kernelspec": {
   "display_name": "Python 3",
   "language": "python",
   "name": "python3"
  },
  "language_info": {
   "codemirror_mode": {
    "name": "ipython",
    "version": 3
   },
   "file_extension": ".py",
   "mimetype": "text/x-python",
   "name": "python",
   "nbconvert_exporter": "python",
   "pygments_lexer": "ipython3",
   "version": "3.6.5"
  }
 },
 "nbformat": 4,
 "nbformat_minor": 2
}
