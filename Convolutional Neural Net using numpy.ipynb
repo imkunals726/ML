{
 "cells": [
  {
   "cell_type": "code",
   "execution_count": 1,
   "metadata": {},
   "outputs": [],
   "source": [
    "import numpy as np"
   ]
  },
  {
   "cell_type": "code",
   "execution_count": 2,
   "metadata": {},
   "outputs": [],
   "source": [
    "import numpy as np\n",
    "import pandas as pd\n",
    "import torch\n",
    "from sklearn.model_selection import train_test_split\n",
    "# from cleaner_utilities import MyDataTransformer\n",
    "import warnings\n",
    "warnings.filterwarnings('ignore')\n",
    "\n",
    "\n",
    "def relu_backward(z):\n",
    "    return (z > 0).astype(int)\n",
    "\n",
    "def tanh_backward(z):\n",
    "    return 1 - z**2\n",
    "\n",
    "def initialize_deep_layers(layers_dims):\n",
    "    \n",
    "    #with he -initilization but have to find out why it works better than random initialization\n",
    "    \n",
    "    L = len(layers_dims)\n",
    "    parameters = {}\n",
    "    \n",
    "    for i in range(1,L):\n",
    "        \n",
    "        parameters[f'W{i}'] = np.random.randn(layers_dims[i], layers_dims[i-1]) * np.sqrt(1/layers_dims[i-1])\n",
    "        parameters[f'b{i}'] = np.zeros((layers_dims[i],1))\n",
    "        \n",
    "    return parameters\n",
    "\n",
    "def L_backward_propopgation(parameters, cache, X, Y, activation='tanh', lambd=0.0, keep_prob=1.0):\n",
    "    \n",
    "    #currently keeping all hidden layer prob to keep_prob\n",
    "    m = X.shape[1]\n",
    "    L = len(parameters) // 2\n",
    "    grads = {}\n",
    "    \n",
    "    for i in range(L,0,-1):\n",
    "        if i == L:\n",
    "            #assummption last layers activation func is sigmoid\n",
    "            #otherwise remove this block make changes in grad func in next block according to your choice\n",
    "            grads[f'dZ{i}'] = cache[f'A{i}'] - Y\n",
    "            \n",
    "        else:\n",
    "            grads[f'dA{i}'] = np.dot(parameters[f'W{i+1}'].T, grads[f'dZ{i+1}'] )\n",
    "            \n",
    "            grad_func = relu_backward if activation == 'relu' else tanh_backward\n",
    "            \n",
    "            grads[f'dZ{i}'] = grads[f'dA{i}'] * grad_func( cache[f'A{i}'] )\n",
    "            \n",
    "            #dropout implementation next two lines\n",
    "            \n",
    "            grads[f'dZ{i}'] = grads[f'dZ{i}'] * cache[f'dp{i}']\n",
    "            \n",
    "            grads[f'dZ{i}'] = grads[f'dZ{i}'] / keep_prob\n",
    "            \n",
    "        if i != 1 :\n",
    "            grads[f'dW{i}'] = 1./m * np.dot(grads[f'dZ{i}'] ,cache[f'A{i-1}'].T) \n",
    "        else:\n",
    "            grads[f'dW{i}'] = 1./m * np.dot(grads[f'dZ{i}'] ,X.T)\n",
    "            \n",
    "        grads[f'dW{i}'] = grads[f'dW{i}'] + (lambd/m) *(parameters[f'W{i}'])\n",
    "        \n",
    "        grads[f'db{i}'] = 1./m * np.sum(grads[f'dZ{i}'] ,axis=1, keepdims=True)\n",
    "        \n",
    "    return grads\n",
    "    \n",
    "    \n",
    "\n",
    "params = initialize_deep_layers([3,4,2,1])\n",
    "\n",
    "def sigmoid( z ) :\n",
    "    return 1 / ( 1 + np.exp( -z ) )\n",
    "\n",
    "def L_feed_forward(paramters, X, keep_prob=1.0):\n",
    "    \n",
    "    L = len(paramters) //2\n",
    "    \n",
    "    cache = {}\n",
    "    \n",
    "    for l in range(1,L+1):\n",
    "        \n",
    "        if l==1:\n",
    "            cache[f'Z{l}'] = np.dot(paramters[f'W{l}'],X) + paramters[f'b{l}']\n",
    "        else:\n",
    "            cache[f'Z{l}'] = np.dot(paramters[f'W{l}'],cache[f'A{l-1}']) + paramters[f'b{l}']\n",
    "            \n",
    "        #dropout implementation dp\n",
    "        if l!=L:\n",
    "            cache[f'dp{l}'] = (np.random.rand(*(cache[f'Z{l}'].shape)) <= keep_prob).astype(int)\n",
    "            cache[f'Z{l}'] = cache[f'Z{l}'] * cache[f'dp{l}']\n",
    "            cache[f'Z{l}'] = cache[f'Z{l}'] / keep_prob\n",
    "        \n",
    "        \n",
    "            \n",
    "        if l!=L:\n",
    "            cache[f'A{l}'] = np.tanh(cache[f'Z{l}'])\n",
    "        else:\n",
    "            cache[f'A{L}'] = sigmoid(cache[f'Z{l}'])\n",
    "\n",
    "    return cache[f'A{L}'] , cache\n",
    "\n",
    "\n",
    "\n",
    "def compute_cost(AL , Y ,parameters, lambd =0.0):\n",
    "    \n",
    "    #if lambd == 0 then it should mean that you dont want to use regularization\n",
    "    \n",
    "    m= Y.shape[1]\n",
    "    \n",
    "    eps = 1e-8\n",
    "    \n",
    "#     print(AL, 'cost' , Y)\n",
    "    \n",
    "    \n",
    "    logprobs = ( Y * np.log( AL+ eps ) ) + ( ( 1 - Y ) * np.log( (1 - AL) + (eps) ) )\n",
    "    cost = -1./m * np.sum(logprobs)\n",
    "    cost = float(np.squeeze(cost))\n",
    "    \n",
    "    regularized_cost = 0\n",
    "    \n",
    "    L = len(parameters) // 2\n",
    "    \n",
    "    for i in range(1,L+1):\n",
    "        \n",
    "        regularized_cost += np.sum(np.square(parameters[f'W{i}']))\n",
    "        \n",
    "    regularized_cost = (lambd / (2*m) ) * regularized_cost\n",
    "    \n",
    "    return cost + regularized_cost\n",
    "\n",
    "def update_parameters(parameters, grads, learning_rate = 0.01):\n",
    "    \n",
    "    L = len(parameters) // 2\n",
    "    for i in range(1,L+1):\n",
    "        parameters[f'W{i}'] = parameters[f'W{i}'] - learning_rate* (grads[f'dW{i}'])\n",
    "        parameters[f'b{i}'] = parameters[f'b{i}'] - learning_rate* (grads[f'db{i}'])\n",
    "        \n",
    "    return parameters\n",
    "\n",
    "\n",
    "#we are not going to use this model as this is only deep neural network ignore this\n",
    "\n",
    "def model(X,Y,layers_dims,learning_rate=0.01, lambd=0.0, num_iterations = 200, keep_prob = 1.0, pretrained_params = None, print_cost_every_n_steps=1):\n",
    "\n",
    "    parameters = initialize_deep_layers(layers_dims) if not pretrained_params else pretrained_params\n",
    "    \n",
    "    for i in range(num_iterations):\n",
    "        \n",
    "        AL,cache = L_feed_forward(parameters,X,keep_prob=keep_prob)\n",
    "\n",
    "        cost = compute_cost(AL, Y, parameters,lambd=lambd)\n",
    "        \n",
    "        if i % print_cost_every_n_steps == 0:\n",
    "            print(f'cost at iteration {i} = {cost}' )\n",
    "\n",
    "        grads = L_backward_propopgation(parameters, cache, X, Y,lambd=lambd,keep_prob=keep_prob)\n",
    "\n",
    "        parameters = update_parameters(parameters, grads, learning_rate)\n",
    "        \n",
    "    return parameters\n",
    "\n",
    "\n",
    "\n"
   ]
  },
  {
   "cell_type": "code",
   "execution_count": 3,
   "metadata": {},
   "outputs": [],
   "source": [
    "def flatten(X):\n",
    "    \n",
    "    flattend_array = X.reshape(X.shape[0], -1)\n",
    "        \n",
    "    return flattend_array"
   ]
  },
  {
   "cell_type": "code",
   "execution_count": 4,
   "metadata": {},
   "outputs": [],
   "source": [
    "def pad_zeros(X, pad):\n",
    "    '''assuming X is of dimension (m,n_H,n_W,n_C)'''\n",
    "    return np.pad(X, ((0,0),(pad,pad),(pad,pad),(0,0)), mode='constant')"
   ]
  },
  {
   "cell_type": "code",
   "execution_count": null,
   "metadata": {},
   "outputs": [],
   "source": []
  },
  {
   "cell_type": "code",
   "execution_count": null,
   "metadata": {},
   "outputs": [],
   "source": []
  },
  {
   "cell_type": "code",
   "execution_count": 5,
   "metadata": {},
   "outputs": [],
   "source": [
    "a = np.random.rand(28,28,3)"
   ]
  },
  {
   "cell_type": "code",
   "execution_count": 6,
   "metadata": {},
   "outputs": [
    {
     "data": {
      "text/plain": [
       "<matplotlib.image.AxesImage at 0x1a2cad6e80>"
      ]
     },
     "execution_count": 6,
     "metadata": {},
     "output_type": "execute_result"
    },
    {
     "data": {
      "image/png": "[encoded data removed]",
      "text/plain": [
       "<Figure size 432x288 with 1 Axes>"
      ]
     },
     "metadata": {
      "needs_background": "light"
     },
     "output_type": "display_data"
    }
   ],
   "source": [
    "import matplotlib.pyplot as plt\n",
    "%matplotlib inline\n",
    "img = np.where(a > 0.5, 255, 0)\n",
    "plt.imshow(img)"
   ]
  },
  {
   "cell_type": "code",
   "execution_count": 7,
   "metadata": {},
   "outputs": [],
   "source": [
    "train = np.array([img])"
   ]
  },
  {
   "cell_type": "code",
   "execution_count": 8,
   "metadata": {},
   "outputs": [],
   "source": [
    "padded_train = pad_zeros(train,2)"
   ]
  },
  {
   "cell_type": "code",
   "execution_count": 9,
   "metadata": {},
   "outputs": [
    {
     "data": {
      "text/plain": [
       "<matplotlib.image.AxesImage at 0x1a2cbae160>"
      ]
     },
     "execution_count": 9,
     "metadata": {},
     "output_type": "execute_result"
    },
    {
     "data": {
      "image/png": "[encoded data removed]",
      "text/plain": [
       "<Figure size 432x288 with 1 Axes>"
      ]
     },
     "metadata": {
      "needs_background": "light"
     },
     "output_type": "display_data"
    }
   ],
   "source": [
    "plt.imshow(padded_train[0])"
   ]
  },
  {
   "cell_type": "code",
   "execution_count": 10,
   "metadata": {},
   "outputs": [],
   "source": [
    "def conv_single_step(a_slice_prev,kernel,b):\n",
    "    \n",
    "    s = a_slice_prev * kernel\n",
    "    \n",
    "    Z = np.sum(s)\n",
    "    \n",
    "    Z += float(b)\n",
    "    \n",
    "    return Z"
   ]
  },
  {
   "cell_type": "code",
   "execution_count": 11,
   "metadata": {},
   "outputs": [],
   "source": [
    "def convolution_forward(A_prev,W,b,hparameters):\n",
    "    \n",
    "    m,n_H_prev,n_W_prev,n_C_prev = A_prev.shape\n",
    "    \n",
    "    f,f,n_C_prev,n_C = W.shape\n",
    "    \n",
    "    pad = hparameters['pad']\n",
    "    stride = hparameters['stride']\n",
    "    \n",
    "    n_H = int((n_H_prev + 2*pad - f) / stride) + 1\n",
    "    n_W = int((n_W_prev + 2*pad - f) / stride) + 1\n",
    "    \n",
    "    Z = np.zeros((m,n_H,n_W,n_C))\n",
    "    \n",
    "    A_prev_pad = pad_zeros(A_prev,pad)\n",
    "    \n",
    "    for i in range(m):\n",
    "        \n",
    "        a_prev = A_prev_pad[i]\n",
    "        \n",
    "        for h in range(n_H):\n",
    "            for w in range(n_W):\n",
    "                for c in range(n_C):\n",
    "                    \n",
    "                    vert_start = h*stride\n",
    "                    vert_end = vert_start + f\n",
    "\n",
    "                    horiz_start = w*stride\n",
    "                    horiz_end = horiz_start + f\n",
    "                    \n",
    "                    a_slice_prev = a_prev[vert_start:vert_end, horiz_start:horiz_end, :]\n",
    "                    \n",
    "                    kernel = W[:,:,:,c]\n",
    "                    bias = b[:,:,:,c]\n",
    "                    \n",
    "                    Z[i,h,w,c] = conv_single_step(a_slice_prev,kernel,bias)\n",
    "                    \n",
    "    cache = (A_prev, W, b , hparameters)          \n",
    "    \n",
    "    return Z, cache\n",
    "                    \n",
    "\n",
    "    \n",
    "    "
   ]
  },
  {
   "cell_type": "code",
   "execution_count": 12,
   "metadata": {},
   "outputs": [],
   "source": [
    "def pool_forward(A_prev,hparameters,mode='max'):\n",
    "    \n",
    "    m,n_H_prev,n_W_prev,n_C = A_prev.shape\n",
    "    \n",
    "    pad = hparameters.get('pad',0)\n",
    "    f = hparameters['f']\n",
    "    stride = hparameters.get('stride',1)\n",
    "\n",
    "    n_H = int((n_H_prev + 2*pad - f) / stride) + 1\n",
    "    n_W = int((n_W_prev + 2*pad - f) / stride) + 1\n",
    "    \n",
    "    A = np.zeros((m,n_H,n_W,n_C))\n",
    "    \n",
    "    A_prev_pad = pad_zeros(A_prev,pad)\n",
    "        \n",
    "    for i in range(m):\n",
    "        \n",
    "        a_prev_pad = A_prev_pad[i]\n",
    "        \n",
    "        for h in range(n_H):\n",
    "            for w in range(n_W):\n",
    "                for c in range(n_C):\n",
    "                    \n",
    "                    vert_start = h*stride\n",
    "                    vert_end = vert_start + f\n",
    "\n",
    "                    horiz_start = w*stride\n",
    "                    horiz_end = horiz_start + f\n",
    "                    \n",
    "                    a_prev_slice = a_prev_pad[vert_start:vert_end, horiz_start:horiz_end,c]\n",
    "                    \n",
    "                    if mode == 'max':\n",
    "                        A[i,h,w,c] = np.max(a_prev_slice)\n",
    "                    else:\n",
    "                        A[i,h,w,c] = np.mean(a_prev_slice)\n",
    "                        \n",
    "    cache = (A_prev, hparameters)\n",
    "    \n",
    "    return A, cache\n",
    "                    "
   ]
  },
  {
   "cell_type": "code",
   "execution_count": 13,
   "metadata": {},
   "outputs": [
    {
     "data": {
      "text/plain": [
       "<matplotlib.image.AxesImage at 0x1a2cc6f9b0>"
      ]
     },
     "execution_count": 13,
     "metadata": {},
     "output_type": "execute_result"
    },
    {
     "data": {
      "image/png": "[encoded data removed]",
      "text/plain": [
       "<Figure size 432x288 with 1 Axes>"
      ]
     },
     "metadata": {
      "needs_background": "light"
     },
     "output_type": "display_data"
    }
   ],
   "source": [
    "max_pooled, _ = pool_forward(np.array([a]),{'f': 2, 'stride' : 7, 'pad' : 5},mode='max')\n",
    "\n",
    "plt.imshow(max_pooled[0])"
   ]
  },
  {
   "cell_type": "code",
   "execution_count": 14,
   "metadata": {},
   "outputs": [
    {
     "data": {
      "text/plain": [
       "<matplotlib.image.AxesImage at 0x1a2ce39b00>"
      ]
     },
     "execution_count": 14,
     "metadata": {},
     "output_type": "execute_result"
    },
    {
     "data": {
      "image/png": "[encoded data removed]",
      "text/plain": [
       "<Figure size 432x288 with 1 Axes>"
      ]
     },
     "metadata": {
      "needs_background": "light"
     },
     "output_type": "display_data"
    }
   ],
   "source": [
    "avg_pooled, _ = pool_forward(np.array([a]),{'f': 2, 'stride' : 7, 'pad' : 5},mode='avg')\n",
    "\n",
    "plt.imshow(avg_pooled[0])"
   ]
  },
  {
   "cell_type": "code",
   "execution_count": 15,
   "metadata": {},
   "outputs": [],
   "source": [
    "def convolution_backward(dZ,cache):\n",
    "    \n",
    "    A_prev, W, b, hparameters = cache\n",
    "    \n",
    "    m,n_H_prev, n_W_prev, n_C_prev = A_prev.shape\n",
    "    \n",
    "    pad = hparameters['pad']\n",
    "    stride = hparameters['stride']\n",
    "    \n",
    "    f,f,n_C_prev,n_C=W.shape\n",
    "    \n",
    "    m, n_H, n_W, n_C= dZ.shape\n",
    "    \n",
    "    \n",
    "    dA_prev = np.zeros(A_prev.shape)\n",
    "    \n",
    "    A_prev_pad = pad_zeros(A_prev, pad)\n",
    "    dA_prev_pad = pad_zeros(dA_prev, pad)\n",
    "    \n",
    "    dW = np.zeros(W.shape)\n",
    "    db = np.zeros(b.shape)\n",
    "    \n",
    "    \n",
    "    \n",
    "    for i in range(m):\n",
    "        \n",
    "        a_prev_pad = A_prev_pad[i]\n",
    "        \n",
    "        for h in range(n_H):\n",
    "            \n",
    "            for w in range(n_W):\n",
    "                \n",
    "                vert_start = h * stride\n",
    "                vert_end = vert_start + f\n",
    "                \n",
    "                horiz_start = w * stride\n",
    "                horiz_end = horiz_start + f\n",
    "                \n",
    "                a_prev_slice = a_prev_pad[vert_start:vert_end, horiz_start:horiz_end, :]\n",
    "                \n",
    "                for c in range(n_C):\n",
    "                    \n",
    "                    dA_prev_pad[i,vert_start:vert_end,horiz_start:horiz_end,:] +=  W[:,:,:,c] * dZ[i,h,w,c]\n",
    "                    \n",
    "                    dW[:,:,:,c] += a_prev_slice * dZ[i,h,w,c]\n",
    "                    \n",
    "                    db[:,:,:,c] += dZ[i,h,w,c]\n",
    "                    \n",
    "                \n",
    "                \n",
    "    dA_prev = dA_prev_pad[:,pad:-pad,pad:-pad,:]\n",
    "    \n",
    "    return dA_prev, dW, db\n",
    "        \n",
    "        "
   ]
  },
  {
   "cell_type": "code",
   "execution_count": 16,
   "metadata": {},
   "outputs": [],
   "source": [
    "def create_max_mask_for_slice(a_slice):\n",
    "    \n",
    "    maximum = np.max(a_slice)\n",
    "    op = np.where(a_slice==maximum , 1, 0)\n",
    "    \n",
    "    return op"
   ]
  },
  {
   "cell_type": "code",
   "execution_count": null,
   "metadata": {},
   "outputs": [],
   "source": []
  },
  {
   "cell_type": "code",
   "execution_count": 17,
   "metadata": {},
   "outputs": [],
   "source": [
    "def distributive_value(dZ,shape):\n",
    "    n_H,n_W = shape\n",
    "    avg = dZ / (n_H * n_W)\n",
    "    return np.ones(shape) * avg"
   ]
  },
  {
   "cell_type": "code",
   "execution_count": 18,
   "metadata": {},
   "outputs": [],
   "source": [
    "\n",
    "def pool_backward(dA,cache,mode='max'):\n",
    "    \n",
    "    \n",
    "    m,n_H,n_W,n_C = dA.shape\n",
    "    \n",
    "    \n",
    "    A_prev, hparameters = cache\n",
    "    \n",
    "    pad = hparameters.get('pad',0)\n",
    "    stride = hparameters['stride']\n",
    "    f = hparameters['f']\n",
    "    \n",
    "    m, n_H_prev, n_W_prev, n_C_prev = A_prev.shape\n",
    "    \n",
    "    A_prev_pad = pad_zeros(A_prev, pad)\n",
    "    \n",
    "    dA_prev = np.zeros(A_prev.shape)\n",
    "    \n",
    "\n",
    "    \n",
    "    for i in range(m):\n",
    "        \n",
    "        for h in range(n_H):\n",
    "            \n",
    "            for w in range(n_W):\n",
    "                \n",
    "                vert_start = h*stride\n",
    "                vert_end = vert_start + f\n",
    "                \n",
    "                horiz_start = w*stride\n",
    "                horiz_end = horiz_start + f\n",
    "                \n",
    "                for c in range(n_C):\n",
    "\n",
    "                    a_prev_slice = A_prev_pad[i,vert_start:vert_end, horiz_start:horiz_end,c]\n",
    "                    \n",
    "                    if mode == 'max':\n",
    "#                         if i == 0 and c == 0 and h == 0 and w == 0 : print(a_prev_slice.shape,'check1')\n",
    "                        mask = create_max_mask_for_slice(a_prev_slice)\n",
    "                        dA_prev[i,vert_start:vert_end, horiz_start:horiz_end,c] += mask * dA[i,h,w,c]\n",
    "                    else:\n",
    "                        da = dA[i,h,w,c]\n",
    "                        \n",
    "                        shape = (f, f)\n",
    "                        \n",
    "                        dist_matrx = distributive_value(da,shape)\n",
    "                    \n",
    "                        dA_prev[i,vert_start:vert_end, horiz_start:horiz_end, c] += dist_matrx\n",
    "                        \n",
    "                        \n",
    "    return dA_prev\n",
    "    "
   ]
  },
  {
   "cell_type": "code",
   "execution_count": null,
   "metadata": {},
   "outputs": [],
   "source": []
  },
  {
   "cell_type": "code",
   "execution_count": null,
   "metadata": {},
   "outputs": [],
   "source": []
  },
  {
   "cell_type": "code",
   "execution_count": null,
   "metadata": {},
   "outputs": [],
   "source": []
  },
  {
   "cell_type": "code",
   "execution_count": null,
   "metadata": {},
   "outputs": [],
   "source": []
  },
  {
   "cell_type": "code",
   "execution_count": null,
   "metadata": {},
   "outputs": [],
   "source": []
  },
  {
   "cell_type": "code",
   "execution_count": 19,
   "metadata": {},
   "outputs": [],
   "source": [
    "def cnn_model(X,Y,nn_layers_dims,learning_rate=0.01, lambd=0.0, num_iterations = 200, keep_prob = 1.0, \n",
    "              pretrained_params = None, print_cost_every_n_steps=1):\n",
    "    \n",
    "    '''X : shape(m,n_H,n_W,n_C)'''\n",
    "    hparameter = {}\n",
    "    \n",
    "    print('Initializing CNNs kernel and biases')\n",
    "    \n",
    "    kernel1 = np.random.rand(3,3,1,8) \n",
    "    kernel2 = np.random.rand(3,3,8,8) \n",
    "    \n",
    "    \n",
    "    bias1 = np.zeros((1,1,1,8))\n",
    "    bias2 = np.zeros((1,1,1,8))\n",
    "    \n",
    "#     parameters = initialize_deep_layers(layers_dims)\n",
    "    \n",
    "    for i in range(num_iterations):\n",
    "        \n",
    "        hparameter['pad'] = 1\n",
    "        hparameter['stride'] = 1\n",
    "\n",
    "        caches = {}\n",
    "\n",
    "        #convolve\n",
    "        conv1, cache = convolution_forward(X,kernel1,bias1,hparameter)\n",
    "\n",
    "        caches['kernel1'] = cache\n",
    "\n",
    "        #activation\n",
    "        A1 = np.where(conv1>0,conv1,0)\n",
    "\n",
    "        #pool\n",
    "        hparameter = {'f' : 2, 'stride' : 1}\n",
    "        P1,cache = pool_forward(A1,hparameter)\n",
    "        \n",
    "        caches['pool1'] = cache\n",
    "\n",
    "        hparameter['pad'] = 1\n",
    "        hparameter['stride']= 1\n",
    "\n",
    "        conv2,cache = convolution_forward(P1,kernel2,bias2,hparameter)\n",
    "        caches['kernel2'] = cache\n",
    "\n",
    "        A2 = np.where(conv2 > 0 , conv2 , 0) #relu\n",
    "\n",
    "        hparameter = {'f' : 2, 'stride' : 1}\n",
    "        P2,cache = pool_forward(A2,hparameter,mode='avg')\n",
    "\n",
    "        p2_shape = P2.shape\n",
    "\n",
    "        caches['pool2'] = cache\n",
    "        \n",
    "\n",
    "        P2 = flatten(P2)\n",
    "\n",
    "        flattend_X = P2.T\n",
    "\n",
    "        if i == 0:\n",
    "            \n",
    "            print('Initializing neural network deep layers')\n",
    "            print('\\n')\n",
    "            print('-' * 20 , '-' , '-' *20) \n",
    "            print('Cost Decription' , ' '*4 , '|' , 'Cost')\n",
    "            print('-' * 20 , '|' , '-' *20) \n",
    "            \n",
    "            parameters = initialize_deep_layers( [flattend_X.shape[0]] + nn_layers_dims)\n",
    "\n",
    "\n",
    "        AL,cache = L_feed_forward(parameters,flattend_X,keep_prob=keep_prob)\n",
    "\n",
    "        cost = compute_cost(AL,Y,parameters,lambd=0)\n",
    "        \n",
    "        print(f'cost for iteration {i} | {cost}')\n",
    "\n",
    "        grads = L_backward_propopgation(parameters, cache, flattend_X, Y,lambd=lambd,keep_prob=keep_prob)\n",
    "\n",
    "        dZ1 = grads['dZ1'] \n",
    "\n",
    "        dflattend_X = np.dot(parameters['W1'].T , dZ1)\n",
    "\n",
    "        dflattend_X = dflattend_X.T \n",
    "\n",
    "        dP2 = dflattend_X.reshape(p2_shape) #dA for conv2\n",
    "\n",
    "        dP2_prev = pool_backward(dP2,caches['pool2'],mode='avg')\n",
    "        \n",
    "        dZconv2 = dP2_prev * relu_backward(conv2) # f'(z) for relu\n",
    "        \n",
    "        dP1,dkernel2,db2 = convolution_backward(dZconv2, caches['kernel2'])\n",
    "\n",
    "        dP1_prev = pool_backward(dP2,caches['pool1'])\n",
    "\n",
    "        dZconv1 = dP1_prev * relu_backward(conv1) # f'(z) for relu\n",
    "        \n",
    "        \n",
    "        print('-' * 20, '|' , '-'*20)        \n",
    "\n",
    "        dP0,dkernel1,db1 = convolution_backward(dZconv1, caches['kernel1'])\n",
    "\n",
    "\n",
    "        parameters = update_parameters(parameters, grads, learning_rate)\n",
    "        \n",
    "        kernel1 = kernel1 - learning_rate * dkernel1\n",
    "        kernel2 = kernel2 - learning_rate * dkernel2\n",
    "        \n",
    "        bias1 = bias1 - learning_rate * db1\n",
    "        bias2 = bias2 - learning_rate * db2\n",
    "        \n",
    "    cnn_parameters = {'kernel1' :kernel1 , 'kernel2' : kernel2 , 'bias1' : bias1 , 'bias2' : bias2}\n",
    "    \n",
    "    return parameters,cnn_parameters\n",
    "    "
   ]
  },
  {
   "cell_type": "code",
   "execution_count": null,
   "metadata": {},
   "outputs": [],
   "source": []
  },
  {
   "cell_type": "code",
   "execution_count": 20,
   "metadata": {},
   "outputs": [
    {
     "data": {
      "text/plain": [
       "(50, 28, 28, 1)"
      ]
     },
     "execution_count": 20,
     "metadata": {},
     "output_type": "execute_result"
    }
   ],
   "source": [
    "from sklearn.datasets import fetch_openml\n",
    "\n",
    "mnist = fetch_openml('mnist_784')\n",
    "\n",
    "train_data = mnist['data']\n",
    "\n",
    "train_data = train_data.reshape(70000,28,28,1)\n",
    "\n",
    "\n",
    "sample_train = train_data[:50]\n",
    "\n",
    "y = mnist['target']\n",
    "\n",
    "y = (y.astype(int) > 5).astype(int)\n",
    "\n",
    "y = y.reshape(1,-1)\n",
    "\n",
    "y = y[:,:50]\n",
    "\n",
    "sample_train.shape"
   ]
  },
  {
   "cell_type": "code",
   "execution_count": 21,
   "metadata": {},
   "outputs": [
    {
     "data": {
      "text/plain": [
       "array([[0, 0, 0, 0, 1, 0, 0, 0, 0, 0, 0, 0, 0, 1, 0, 1, 0, 1, 1, 1, 0, 0,\n",
       "        1, 0, 0, 0, 0, 0, 0, 1, 0, 1, 1, 1, 0, 0, 1, 0, 1, 1, 0, 1, 1, 1,\n",
       "        0, 1, 1, 0, 1, 0]])"
      ]
     },
     "execution_count": 21,
     "metadata": {},
     "output_type": "execute_result"
    }
   ],
   "source": [
    "y"
   ]
  },
  {
   "cell_type": "code",
   "execution_count": null,
   "metadata": {},
   "outputs": [],
   "source": []
  },
  {
   "cell_type": "code",
   "execution_count": 22,
   "metadata": {},
   "outputs": [
    {
     "name": "stdout",
     "output_type": "stream",
     "text": [
      "Initializing CNNs kernel and biases\n",
      "Initializing neural network deep layers\n",
      "\n",
      "\n",
      "-------------------- - --------------------\n",
      "Cost Decription      | Cost\n",
      "-------------------- | --------------------\n",
      "cost for iteration 0 | 0.8666711101879426\n",
      "-------------------- | --------------------\n",
      "cost for iteration 1 | 0.7584191996056615\n",
      "-------------------- | --------------------\n",
      "cost for iteration 2 | 0.7011629345744997\n",
      "-------------------- | --------------------\n",
      "cost for iteration 3 | 0.6707877094268825\n",
      "-------------------- | --------------------\n",
      "cost for iteration 4 | 0.6529025786651619\n",
      "-------------------- | --------------------\n",
      "cost for iteration 5 | 0.6406840716561668\n",
      "-------------------- | --------------------\n",
      "cost for iteration 6 | 0.6310790380641679\n",
      "-------------------- | --------------------\n",
      "cost for iteration 7 | 0.6227380438834661\n",
      "-------------------- | --------------------\n",
      "cost for iteration 8 | 0.6150614611629899\n",
      "-------------------- | --------------------\n",
      "cost for iteration 9 | 0.6077793396605152\n",
      "-------------------- | --------------------\n",
      "cost for iteration 10 | 0.6007676703375285\n",
      "-------------------- | --------------------\n",
      "cost for iteration 11 | 0.5939675865812183\n",
      "-------------------- | --------------------\n",
      "cost for iteration 12 | 0.5873495407517425\n",
      "-------------------- | --------------------\n",
      "cost for iteration 13 | 0.5808973011931792\n",
      "-------------------- | --------------------\n",
      "cost for iteration 14 | 0.5746007597848306\n",
      "-------------------- | --------------------\n",
      "cost for iteration 15 | 0.5684526838017532\n",
      "-------------------- | --------------------\n",
      "cost for iteration 16 | 0.5624472430148498\n",
      "-------------------- | --------------------\n",
      "cost for iteration 17 | 0.5565793388141387\n",
      "-------------------- | --------------------\n",
      "cost for iteration 18 | 0.55084429449703\n",
      "-------------------- | --------------------\n",
      "cost for iteration 19 | 0.543670952338028\n",
      "-------------------- | --------------------\n",
      "cost for iteration 20 | 0.5382559313956525\n",
      "-------------------- | --------------------\n",
      "cost for iteration 21 | 0.5329602086951128\n",
      "-------------------- | --------------------\n",
      "cost for iteration 22 | 0.5277797783874849\n",
      "-------------------- | --------------------\n",
      "cost for iteration 23 | 0.5227108917548305\n",
      "-------------------- | --------------------\n",
      "cost for iteration 24 | 0.5177499902519019\n",
      "-------------------- | --------------------\n",
      "cost for iteration 25 | 0.5128936720997397\n",
      "-------------------- | --------------------\n",
      "cost for iteration 26 | 0.5081386742832786\n",
      "-------------------- | --------------------\n",
      "cost for iteration 27 | 0.5034818616611099\n",
      "-------------------- | --------------------\n",
      "cost for iteration 28 | 0.4989202194006714\n",
      "-------------------- | --------------------\n",
      "cost for iteration 29 | 0.49445084701202824\n",
      "-------------------- | --------------------\n",
      "cost for iteration 30 | 0.4900709531946473\n",
      "-------------------- | --------------------\n",
      "cost for iteration 31 | 0.4857778511408086\n",
      "-------------------- | --------------------\n",
      "cost for iteration 32 | 0.48156895413430606\n",
      "-------------------- | --------------------\n",
      "cost for iteration 33 | 0.477441771371085\n",
      "-------------------- | --------------------\n",
      "cost for iteration 34 | 0.47339390396774117\n",
      "-------------------- | --------------------\n",
      "cost for iteration 35 | 0.4694230411410137\n",
      "-------------------- | --------------------\n",
      "cost for iteration 36 | 0.4655269565487255\n",
      "-------------------- | --------------------\n",
      "cost for iteration 37 | 0.4617035047855831\n",
      "-------------------- | --------------------\n",
      "cost for iteration 38 | 0.4579506180283345\n",
      "-------------------- | --------------------\n",
      "cost for iteration 39 | 0.45426630282511843\n",
      "-------------------- | --------------------\n"
     ]
    }
   ],
   "source": [
    "\n",
    "conv_op = cnn_model(sample_train,y,nn_layers_dims = [256,1],num_iterations=40)\n"
   ]
  },
  {
   "cell_type": "code",
   "execution_count": 24,
   "metadata": {},
   "outputs": [],
   "source": [
    "kernel1 = np.ones((3,3,1,2))\n",
    "\n",
    "vert_filter = kernel1[:,:,0,0]* np.array([[ -1 , 0 ,1, ] ] * 3)\n",
    "\n",
    "kernel1[:,:,0,0] *= vert_filter\n",
    "\n",
    "kernel1[:,:,0,1] *= vert_filter.T # effectively a horizontal edge filter\n",
    "\n"
   ]
  },
  {
   "cell_type": "code",
   "execution_count": 51,
   "metadata": {},
   "outputs": [
    {
     "data": {
      "text/plain": [
       "<matplotlib.image.AxesImage at 0x1a2f039a90>"
      ]
     },
     "execution_count": 51,
     "metadata": {},
     "output_type": "execute_result"
    },
    {
     "data": {
      "image/png": "[encoded data removed]",
      "text/plain": [
       "<Figure size 432x288 with 1 Axes>"
      ]
     },
     "metadata": {
      "needs_background": "light"
     },
     "output_type": "display_data"
    }
   ],
   "source": [
    "plt.imshow(sample_train[1].reshape(28,28))"
   ]
  },
  {
   "cell_type": "code",
   "execution_count": 40,
   "metadata": {},
   "outputs": [
    {
     "data": {
      "text/plain": [
       "<matplotlib.image.AxesImage at 0x1a2cefcb00>"
      ]
     },
     "execution_count": 40,
     "metadata": {},
     "output_type": "execute_result"
    },
    {
     "data": {
      "image/png": "[encoded data removed]",
      "text/plain": [
       "<Figure size 432x288 with 1 Axes>"
      ]
     },
     "metadata": {
      "needs_background": "light"
     },
     "output_type": "display_data"
    }
   ],
   "source": [
    "convd = convolution_forward(sample_train,kernel1, np.zeros((1,1,1,2)) , {'stride' : 1 , 'pad' : 0})\n",
    "\n",
    "convd[0].shape\n",
    "\n",
    "convd1 = convd[0][1][:,:,1]\n",
    "convd2 = convd[0][1][:,:,0]\n",
    "\n",
    "plt.imshow(convd2)"
   ]
  },
  {
   "cell_type": "code",
   "execution_count": 41,
   "metadata": {},
   "outputs": [
    {
     "data": {
      "text/plain": [
       "<matplotlib.image.AxesImage at 0x1a2cf8a278>"
      ]
     },
     "execution_count": 41,
     "metadata": {},
     "output_type": "execute_result"
    },
    {
     "data": {
      "image/png": "[encoded data removed]",
      "text/plain": [
       "<Figure size 432x288 with 1 Axes>"
      ]
     },
     "metadata": {
      "needs_background": "light"
     },
     "output_type": "display_data"
    }
   ],
   "source": [
    "plt.imshow(convd1)"
   ]
  },
  {
   "cell_type": "code",
   "execution_count": null,
   "metadata": {},
   "outputs": [],
   "source": []
  },
  {
   "cell_type": "code",
   "execution_count": 36,
   "metadata": {},
   "outputs": [],
   "source": [
    "nn_params , cnn_params = conv_op"
   ]
  },
  {
   "cell_type": "code",
   "execution_count": 38,
   "metadata": {},
   "outputs": [
    {
     "data": {
      "text/plain": [
       "{'kernel1': array([[[[0.99792679, 0.04777589, 0.27061178, 0.9238762 , 0.17923507,\n",
       "           0.62584118, 0.42747638, 0.82210957]],\n",
       " \n",
       "         [[0.63135111, 0.76836416, 0.76229989, 0.22676766, 0.19414043,\n",
       "           0.58534674, 0.68877259, 0.75614895]],\n",
       " \n",
       "         [[0.36566172, 0.82440536, 0.53547204, 0.60593527, 0.41206315,\n",
       "           0.98778796, 0.2187841 , 0.22594565]]],\n",
       " \n",
       " \n",
       "        [[[0.96516548, 0.19171193, 0.10727372, 0.64336345, 0.51996433,\n",
       "           0.75608701, 0.91177286, 0.67631139]],\n",
       " \n",
       "         [[0.72587609, 0.46240582, 0.84949149, 0.69899621, 0.96487068,\n",
       "           0.88402835, 0.50916711, 0.90246562]],\n",
       " \n",
       "         [[0.92067378, 0.62185961, 0.4495927 , 0.22534536, 0.71719878,\n",
       "           0.77051306, 0.61457074, 0.45278759]]],\n",
       " \n",
       " \n",
       "        [[[0.72519819, 0.23812972, 0.96340736, 0.9277503 , 0.16052246,\n",
       "           0.12296714, 0.89698391, 0.50325695]],\n",
       " \n",
       "         [[0.92519646, 0.08599527, 0.31589057, 0.07058611, 0.70933915,\n",
       "           0.48408849, 0.68636785, 0.45982381]],\n",
       " \n",
       "         [[0.25123803, 0.61431525, 0.40130185, 0.55481883, 0.2212415 ,\n",
       "           0.41934163, 0.95054538, 0.71899543]]]]),\n",
       " 'kernel2': array([[[[0.67398413, 0.4967201 , 0.74827697, 0.87561034, 0.44349283,\n",
       "           0.02558766, 0.76203158, 0.21810691],\n",
       "          [0.99105626, 0.05092179, 0.07481801, 0.95629594, 0.96325315,\n",
       "           0.86741035, 0.36938005, 0.4536576 ],\n",
       "          [0.83665519, 0.20555594, 0.87790658, 0.92043146, 0.12229033,\n",
       "           0.96239548, 0.27066217, 0.23982405],\n",
       "          [0.83208609, 0.70635354, 0.11335335, 0.25782278, 0.07278042,\n",
       "           0.06218219, 0.95753302, 0.96935501],\n",
       "          [0.77019974, 0.63687704, 0.57171494, 0.29140165, 0.66083441,\n",
       "           0.87186233, 0.03244018, 0.18891473],\n",
       "          [0.49795283, 0.62559943, 0.78825344, 0.26810057, 0.44715392,\n",
       "           0.68068456, 0.18781947, 0.28660233],\n",
       "          [0.47249768, 0.24866878, 0.18046405, 0.93925937, 0.90857065,\n",
       "           0.02194057, 0.718031  , 0.35220807],\n",
       "          [0.53950218, 0.30125635, 0.57849969, 0.21614028, 0.0928287 ,\n",
       "           0.56023899, 0.17417143, 0.01739634]],\n",
       " \n",
       "         [[0.77317287, 0.75922184, 0.62674281, 0.83266481, 0.85645791,\n",
       "           0.13595235, 0.06721597, 0.14790085],\n",
       "          [0.69479197, 0.24787224, 0.3240852 , 0.72919045, 0.18280396,\n",
       "           0.01688643, 0.94534093, 0.19935677],\n",
       "          [0.07881807, 0.9290868 , 0.64593991, 0.57572867, 0.1882212 ,\n",
       "           0.12131574, 0.90472317, 0.59984646],\n",
       "          [0.66492845, 0.52927928, 0.14269282, 0.19242736, 0.44670751,\n",
       "           0.64243682, 0.13922711, 0.83799244],\n",
       "          [0.84748303, 0.38246906, 0.18159517, 0.86400536, 0.68127957,\n",
       "           0.05376531, 0.65487859, 0.54341075],\n",
       "          [0.32858682, 0.83210197, 0.76638262, 0.42252129, 0.52789309,\n",
       "           0.81854283, 0.77356811, 0.26620112],\n",
       "          [0.28747677, 0.16178487, 0.63526259, 0.56171853, 0.22878287,\n",
       "           0.17628481, 0.93176201, 0.73654212],\n",
       "          [0.52838504, 0.88991739, 0.08912135, 0.06008776, 0.80905537,\n",
       "           0.31060949, 0.56611676, 0.80912029]],\n",
       " \n",
       "         [[0.24413917, 0.11723966, 0.77264536, 0.30276865, 0.00412279,\n",
       "           0.13837042, 0.88502092, 0.26209168],\n",
       "          [0.163109  , 0.79452489, 0.01869863, 0.86795691, 0.65961987,\n",
       "           0.04739948, 0.8558574 , 0.35735655],\n",
       "          [0.88049729, 0.60941665, 0.99742309, 0.62445706, 0.90043933,\n",
       "           0.92784207, 0.46801564, 0.64778715],\n",
       "          [0.25771568, 0.39335712, 0.47322889, 0.65827545, 0.71448142,\n",
       "           0.95687908, 0.40564792, 0.25918499],\n",
       "          [0.66090613, 0.17481896, 0.1951175 , 0.57271704, 0.5086618 ,\n",
       "           0.38158154, 0.26916134, 0.03858451],\n",
       "          [0.20329225, 0.19408772, 0.32048216, 0.68861468, 0.29279344,\n",
       "           0.1449521 , 0.31456207, 0.92483315],\n",
       "          [0.827566  , 0.33396358, 0.22853026, 0.74138498, 0.47264102,\n",
       "           0.20693857, 0.14452882, 0.19597997],\n",
       "          [0.35207605, 0.02223474, 0.87913549, 0.41520122, 0.72137187,\n",
       "           0.88257103, 0.81685541, 0.31522617]]],\n",
       " \n",
       " \n",
       "        [[[0.98746721, 0.20411165, 0.02399329, 0.31763502, 0.88795832,\n",
       "           0.63060485, 0.54606068, 0.70908352],\n",
       "          [0.03302712, 0.2632871 , 0.87542901, 0.57298639, 0.32292512,\n",
       "           0.47097535, 0.04743007, 0.98467138],\n",
       "          [0.55708896, 0.56643751, 0.84470413, 0.53513279, 0.9943735 ,\n",
       "           0.05868935, 0.88398992, 0.92780711],\n",
       "          [0.97968671, 0.04274485, 0.10243796, 0.0066579 , 0.44613723,\n",
       "           0.0920063 , 0.68382942, 0.95810758],\n",
       "          [0.48949856, 0.51008293, 0.10890312, 0.81443327, 0.61661779,\n",
       "           0.57046782, 0.21108143, 0.95218683],\n",
       "          [0.82580342, 0.75385231, 0.60374218, 0.42344014, 0.67185494,\n",
       "           0.13478198, 0.45391853, 0.78473674],\n",
       "          [0.78845631, 0.24655907, 0.70870464, 0.43728013, 0.91126634,\n",
       "           0.72095886, 0.72813497, 0.46470739],\n",
       "          [0.11604227, 0.53789886, 0.06415981, 0.77008154, 0.9595182 ,\n",
       "           0.12427699, 0.50729896, 0.07334246]],\n",
       " \n",
       "         [[0.75767035, 0.30481881, 0.64303587, 0.60199007, 0.46605515,\n",
       "           0.81599051, 0.15171797, 0.93363164],\n",
       "          [0.86549225, 0.31168639, 0.75651477, 0.8215501 , 0.33462658,\n",
       "           0.16407305, 0.22019876, 0.53433596],\n",
       "          [0.87052774, 0.35759764, 0.75021392, 0.46136643, 0.49224576,\n",
       "           0.77540794, 0.88609215, 0.95170983],\n",
       "          [0.67277252, 0.83494726, 0.20181912, 0.53596585, 0.62548621,\n",
       "           0.56317405, 0.12278273, 0.49356522],\n",
       "          [0.38589195, 0.26119918, 0.17537468, 0.47551876, 0.86024554,\n",
       "           0.54951854, 0.1158496 , 0.01625251],\n",
       "          [0.70614515, 0.54821704, 0.14733844, 0.13114699, 0.35300969,\n",
       "           0.10008965, 0.58558121, 0.79462783],\n",
       "          [0.94790625, 0.1757428 , 0.608408  , 0.84895959, 0.16949206,\n",
       "           0.37978735, 0.1207385 , 0.44150603],\n",
       "          [0.08037838, 0.57863432, 0.81136576, 0.21486851, 0.42156735,\n",
       "           0.98278931, 0.03439568, 0.37606618]],\n",
       " \n",
       "         [[0.88588197, 0.57148839, 0.76827333, 0.97487681, 0.400397  ,\n",
       "           0.0731746 , 0.2790536 , 0.21395827],\n",
       "          [0.0178458 , 0.23765269, 0.44714826, 0.27865506, 0.47211512,\n",
       "           0.19863799, 0.31431144, 0.72279201],\n",
       "          [0.37223295, 0.4893935 , 0.58038532, 0.12971829, 0.10905283,\n",
       "           0.27692707, 0.49586818, 0.58726126],\n",
       "          [0.7157705 , 0.13415054, 0.48828921, 0.7011197 , 0.28813185,\n",
       "           0.10354983, 0.16937632, 0.37480517],\n",
       "          [0.85005781, 0.26959854, 0.9742053 , 0.18540003, 0.09232631,\n",
       "           0.29084355, 0.10708697, 0.72197217],\n",
       "          [0.31037985, 0.87312282, 0.89729801, 0.294704  , 0.30288923,\n",
       "           0.8882292 , 0.61319319, 0.90048214],\n",
       "          [0.47350392, 0.58415223, 0.58668195, 0.91954631, 0.10382991,\n",
       "           0.22022711, 0.78509548, 0.11013452],\n",
       "          [0.36223401, 0.22836229, 0.50182725, 0.73217524, 0.27186297,\n",
       "           0.72952087, 0.47276821, 0.58668236]]],\n",
       " \n",
       " \n",
       "        [[[0.06170103, 0.52991652, 0.65816134, 0.10119253, 0.49169717,\n",
       "           0.76718753, 0.48258173, 0.56383684],\n",
       "          [0.7892108 , 0.63811039, 0.28270711, 0.25733918, 0.23567213,\n",
       "           0.16701985, 0.10308084, 0.25063022],\n",
       "          [0.16051937, 0.57513921, 0.07127399, 0.50144654, 0.88980554,\n",
       "           0.37258969, 0.27262356, 0.02436519],\n",
       "          [0.34971158, 0.2655597 , 0.78297161, 0.5987328 , 0.82967283,\n",
       "           0.68076028, 0.23355894, 0.67878681],\n",
       "          [0.79121578, 0.64528132, 0.20044188, 0.68274879, 0.79457086,\n",
       "           0.76131164, 0.42330676, 0.0295763 ],\n",
       "          [0.08277897, 0.19638595, 0.60653275, 0.80392663, 0.00717165,\n",
       "           0.22526727, 0.88319708, 0.32108429],\n",
       "          [0.34562905, 0.77766629, 0.91755903, 0.08436254, 0.32160604,\n",
       "           0.07354275, 0.57809929, 0.73853078],\n",
       "          [0.82645254, 0.09400666, 0.21819586, 0.50636892, 0.82830424,\n",
       "           0.08000775, 0.52122209, 0.88202725]],\n",
       " \n",
       "         [[0.51209972, 0.97307883, 0.76486838, 0.09761657, 0.96742479,\n",
       "           0.71884923, 0.95135642, 0.94048184],\n",
       "          [0.54472122, 0.50676535, 0.51093916, 0.41827007, 0.72512641,\n",
       "           0.68415015, 0.31745772, 0.04120378],\n",
       "          [0.73559785, 0.9849594 , 0.86646805, 0.35099846, 0.61942002,\n",
       "           0.59519304, 0.06599556, 0.80011548],\n",
       "          [0.34863246, 0.7385436 , 0.65206683, 0.05856224, 0.21710192,\n",
       "           0.00444412, 0.60663431, 0.92218321],\n",
       "          [0.37461377, 0.4967734 , 0.5195706 , 0.20365186, 0.53167104,\n",
       "           0.60475901, 0.33146793, 0.90514195],\n",
       "          [0.71417234, 0.36668442, 0.25013521, 0.8520477 , 0.84479409,\n",
       "           0.16096966, 0.83021744, 0.04297462],\n",
       "          [0.94258544, 0.07116043, 0.72432901, 0.28182976, 0.14818308,\n",
       "           0.77077877, 0.04559117, 0.26241837],\n",
       "          [0.65516943, 0.39168245, 0.41399023, 0.04592722, 0.62632458,\n",
       "           0.74400651, 0.3348399 , 0.8040154 ]],\n",
       " \n",
       "         [[0.25220117, 0.36072894, 0.34768296, 0.31569941, 0.60929278,\n",
       "           0.4916738 , 0.51965138, 0.52592591],\n",
       "          [0.18932119, 0.24237697, 0.73602874, 0.02503487, 0.19593121,\n",
       "           0.05879603, 0.18301869, 0.22746167],\n",
       "          [0.97927888, 0.69976292, 0.76988078, 0.73985922, 0.88363183,\n",
       "           0.64354475, 0.17597764, 0.42819288],\n",
       "          [0.06066876, 0.63729596, 0.88929937, 0.2223932 , 0.12004032,\n",
       "           0.69735199, 0.52713053, 0.49065109],\n",
       "          [0.17846018, 0.6758268 , 0.65725433, 0.03911233, 0.2839748 ,\n",
       "           0.08908216, 0.29546601, 0.36415707],\n",
       "          [0.6139867 , 0.69219999, 0.16415027, 0.84847816, 0.20686867,\n",
       "           0.67654062, 0.25339361, 0.35263697],\n",
       "          [0.46273417, 0.8128922 , 0.70182908, 0.64954634, 0.20834379,\n",
       "           0.20333098, 0.54693284, 0.6352395 ],\n",
       "          [0.90540533, 0.47115459, 0.30483085, 0.96489545, 0.99249882,\n",
       "           0.47878558, 0.46485162, 0.88593826]]]]),\n",
       " 'bias1': array([[[[-2.19420699e-08,  4.73175308e-09, -9.10381627e-10,\n",
       "           -2.98322557e-08,  4.44084431e-08,  1.99757221e-10,\n",
       "           -3.42198100e-08,  1.77761653e-08]]]]),\n",
       " 'bias2': array([[[[ 5.80131648e-09,  5.54890873e-09,  7.93297075e-09,\n",
       "           -3.52195790e-08,  3.85613844e-09,  1.26896645e-09,\n",
       "           -2.03225558e-08,  1.16928639e-08]]]])}"
      ]
     },
     "execution_count": 38,
     "metadata": {},
     "output_type": "execute_result"
    }
   ],
   "source": [
    "cnn_params"
   ]
  },
  {
   "cell_type": "code",
   "execution_count": 45,
   "metadata": {},
   "outputs": [
    {
     "data": {
      "text/plain": [
       "<matplotlib.image.AxesImage at 0x1a2ea164e0>"
      ]
     },
     "execution_count": 45,
     "metadata": {},
     "output_type": "execute_result"
    },
    {
     "data": {
      "image/png": "[encoded data removed]",
      "text/plain": [
       "<Figure size 432x288 with 1 Axes>"
      ]
     },
     "metadata": {
      "needs_background": "light"
     },
     "output_type": "display_data"
    }
   ],
   "source": [
    "convd = convolution_forward(sample_train,cnn_params['kernel1'], cnn_params['bias1'] , {'stride' : 1 , 'pad' : 1})\n",
    "\n",
    "convd[0].shape\n",
    "\n",
    "convd1 = convd[0][1][:,:,1]\n",
    "convd2 = convd[0][1][:,:,0]\n",
    "convd3 = convd[0][1][:,:,2]\n",
    "convd4 = convd[0][1][:,:,3]\n",
    "\n",
    "plt.imshow(convd2)"
   ]
  },
  {
   "cell_type": "code",
   "execution_count": 46,
   "metadata": {},
   "outputs": [
    {
     "data": {
      "text/plain": [
       "<matplotlib.image.AxesImage at 0x1a2eab3668>"
      ]
     },
     "execution_count": 46,
     "metadata": {},
     "output_type": "execute_result"
    },
    {
     "data": {
      "image/png": "[encoded data removed]",
      "text/plain": [
       "<Figure size 432x288 with 1 Axes>"
      ]
     },
     "metadata": {
      "needs_background": "light"
     },
     "output_type": "display_data"
    }
   ],
   "source": [
    "plt.imshow(convd1)"
   ]
  },
  {
   "cell_type": "code",
   "execution_count": 47,
   "metadata": {},
   "outputs": [
    {
     "data": {
      "text/plain": [
       "<matplotlib.image.AxesImage at 0x1a2ece66d8>"
      ]
     },
     "execution_count": 47,
     "metadata": {},
     "output_type": "execute_result"
    },
    {
     "data": {
      "image/png": "[encoded data removed]",
      "text/plain": [
       "<Figure size 432x288 with 1 Axes>"
      ]
     },
     "metadata": {
      "needs_background": "light"
     },
     "output_type": "display_data"
    }
   ],
   "source": [
    "plt.imshow(convd3)"
   ]
  },
  {
   "cell_type": "code",
   "execution_count": 48,
   "metadata": {},
   "outputs": [
    {
     "data": {
      "text/plain": [
       "<matplotlib.image.AxesImage at 0x1a2ee94780>"
      ]
     },
     "execution_count": 48,
     "metadata": {},
     "output_type": "execute_result"
    },
    {
     "data": {
      "image/png": "[encoded data removed]",
      "text/plain": [
       "<Figure size 432x288 with 1 Axes>"
      ]
     },
     "metadata": {
      "needs_background": "light"
     },
     "output_type": "display_data"
    }
   ],
   "source": [
    "plt.imshow(convd4)"
   ]
  },
  {
   "cell_type": "code",
   "execution_count": null,
   "metadata": {},
   "outputs": [],
   "source": []
  }
 ],
 "metadata": {
  "kernelspec": {
   "display_name": "Python 3",
   "language": "python",
   "name": "python3"
  },
  "language_info": {
   "codemirror_mode": {
    "name": "ipython",
    "version": 3
   },
   "file_extension": ".py",
   "mimetype": "text/x-python",
   "name": "python",
   "nbconvert_exporter": "python",
   "pygments_lexer": "ipython3",
   "version": "3.6.10"
  }
 },
 "nbformat": 4,
 "nbformat_minor": 4
}
