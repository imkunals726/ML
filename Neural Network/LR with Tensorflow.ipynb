{
 "cells": [
  {
   "cell_type": "code",
   "execution_count": 1,
   "metadata": {},
   "outputs": [],
   "source": [
    "from sklearn.datasets import make_moons"
   ]
  },
  {
   "cell_type": "code",
   "execution_count": 2,
   "metadata": {},
   "outputs": [],
   "source": [
    "import tensorflow.compat.v1 as old_tf"
   ]
  },
  {
   "cell_type": "code",
   "execution_count": 3,
   "metadata": {},
   "outputs": [],
   "source": [
    "import numpy as np"
   ]
  },
  {
   "cell_type": "code",
   "execution_count": 4,
   "metadata": {},
   "outputs": [],
   "source": [
    "X, y = make_moons( n_samples= 10000, noise = 0.1)"
   ]
  },
  {
   "cell_type": "code",
   "execution_count": 5,
   "metadata": {},
   "outputs": [
    {
     "data": {
      "text/plain": [
       "[<matplotlib.lines.Line2D at 0x1a37225b38>]"
      ]
     },
     "execution_count": 5,
     "metadata": {},
     "output_type": "execute_result"
    },
    {
     "data": {
      "image/png": "[encoded data removed]",
      "text/plain": [
       "<Figure size 432x288 with 1 Axes>"
      ]
     },
     "metadata": {
      "needs_background": "light"
     },
     "output_type": "display_data"
    }
   ],
   "source": [
    "import matplotlib.pyplot as plt\n",
    "%matplotlib inline\n",
    "plt.plot( X[y== 0][:,0] ,X[y==0][:,1] , 'r.' )\n",
    "plt.plot( X[y== 1][:,0] ,X[y==1][:,1] , 'b.' )"
   ]
  },
  {
   "cell_type": "code",
   "execution_count": 6,
   "metadata": {},
   "outputs": [],
   "source": [
    "m, n = X.shape"
   ]
  },
  {
   "cell_type": "code",
   "execution_count": 7,
   "metadata": {},
   "outputs": [
    {
     "data": {
      "text/plain": [
       "(10000, 2)"
      ]
     },
     "execution_count": 7,
     "metadata": {},
     "output_type": "execute_result"
    }
   ],
   "source": [
    "m,n"
   ]
  },
  {
   "cell_type": "code",
   "execution_count": 8,
   "metadata": {},
   "outputs": [],
   "source": [
    "bias = np.ones((m,1))\n",
    "X_with_bias = np.c_[ bias , X]"
   ]
  },
  {
   "cell_type": "code",
   "execution_count": 9,
   "metadata": {},
   "outputs": [
    {
     "data": {
      "text/plain": [
       "array([[ 1.        ,  0.87476142,  0.34860661],\n",
       "       [ 1.        , -0.83886502,  0.58242965],\n",
       "       [ 1.        ,  0.93285719,  0.05898765],\n",
       "       ...,\n",
       "       [ 1.        ,  0.04788421,  0.24469143],\n",
       "       [ 1.        ,  1.07634492,  0.29622807],\n",
       "       [ 1.        ,  1.8326429 , -0.12175827]])"
      ]
     },
     "execution_count": 9,
     "metadata": {},
     "output_type": "execute_result"
    }
   ],
   "source": [
    "X_with_bias"
   ]
  },
  {
   "cell_type": "code",
   "execution_count": 10,
   "metadata": {},
   "outputs": [
    {
     "data": {
      "text/plain": [
       "(10000, 3)"
      ]
     },
     "execution_count": 10,
     "metadata": {},
     "output_type": "execute_result"
    }
   ],
   "source": [
    "X_with_bias.shape"
   ]
  },
  {
   "cell_type": "code",
   "execution_count": 11,
   "metadata": {},
   "outputs": [],
   "source": [
    "old_tf.disable_eager_execution()"
   ]
  },
  {
   "cell_type": "code",
   "execution_count": 68,
   "metadata": {},
   "outputs": [
    {
     "data": {
      "text/plain": [
       "array([[0],\n",
       "       [0],\n",
       "       [0],\n",
       "       ...,\n",
       "       [1],\n",
       "       [0],\n",
       "       [1]])"
      ]
     },
     "execution_count": 68,
     "metadata": {},
     "output_type": "execute_result"
    }
   ],
   "source": [
    "y"
   ]
  },
  {
   "cell_type": "code",
   "execution_count": 65,
   "metadata": {},
   "outputs": [],
   "source": [
    "X_new = old_tf.constant(X_with_bias, dtype=old_tf.float32, name = 'X')\n",
    "y_new = old_tf.constant(y, dtype=old_tf.float32, name = 'y')\n",
    "\n",
    "theta = old_tf.Variable(old_tf.random_uniform([n+1, 1], -1.0, 1.0) , name = 'theta')\n",
    "\n",
    "logits = old_tf.matmul(X_new, theta)\n",
    "\n",
    "y_proba = old_tf.sigmoid(-logits)\n",
    "\n",
    "small_value = 1e-7\n",
    "\n",
    "loss = -old_tf.reduce_mean((y_new * old_tf.log(y_proba + small_value) ) + ( 1 - y_new ) * old_tf.log(1 -y_proba + small_value))\n",
    "\n",
    "optimizer = old_tf.train.GradientDescentOptimizer(learning_rate=0.01)\n",
    "\n",
    "training_op = optimizer.minimize(loss)"
   ]
  },
  {
   "cell_type": "code",
   "execution_count": 66,
   "metadata": {},
   "outputs": [],
   "source": [
    "init = old_tf.global_variables_initializer()"
   ]
  },
  {
   "cell_type": "code",
   "execution_count": 67,
   "metadata": {},
   "outputs": [
    {
     "name": "stdout",
     "output_type": "stream",
     "text": [
      "0 = 1.174110770225525\n",
      "100 = 0.8884494304656982\n",
      "200 = 0.7017386555671692\n",
      "300 = 0.59151291847229\n",
      "400 = 0.525905966758728\n",
      "500 = 0.4838734269142151\n",
      "600 = 0.4546622037887573\n",
      "700 = 0.4329756796360016\n",
      "800 = 0.41606956720352173\n",
      "900 = 0.40241172909736633\n"
     ]
    }
   ],
   "source": [
    "n_epochs = 1000\n",
    "\n",
    "with old_tf.Session() as sess:\n",
    "    sess.run(init)\n",
    "    for epoch in range(n_epochs):\n",
    "        \n",
    "        if epoch %100 == 0:\n",
    "            print(f'{epoch} = {loss.eval()}')\n",
    "            \n",
    "        sess.run(training_op)\n",
    "        \n",
    "    best_theta = theta.eval()\n",
    "    \n",
    "    "
   ]
  },
  {
   "cell_type": "code",
   "execution_count": 15,
   "metadata": {},
   "outputs": [],
   "source": [
    "def random_batch(X_train, y_train, batch_size):\n",
    "    rnd_indices = np.random.randint(0, len(X_train), batch_size)\n",
    "    X_batch = X_train[rnd_indices]\n",
    "    y_batch = y_train[rnd_indices]\n",
    "    return X_batch, y_batch"
   ]
  },
  {
   "cell_type": "code",
   "execution_count": 18,
   "metadata": {},
   "outputs": [
    {
     "data": {
      "text/plain": [
       "array([[ 1.        ,  0.87476142,  0.34860661],\n",
       "       [ 1.        , -0.83886502,  0.58242965],\n",
       "       [ 1.        ,  0.93285719,  0.05898765],\n",
       "       ...,\n",
       "       [ 1.        ,  0.04788421,  0.24469143],\n",
       "       [ 1.        ,  1.07634492,  0.29622807],\n",
       "       [ 1.        ,  1.8326429 , -0.12175827]])"
      ]
     },
     "execution_count": 18,
     "metadata": {},
     "output_type": "execute_result"
    }
   ],
   "source": [
    "X_with_bias"
   ]
  },
  {
   "cell_type": "code",
   "execution_count": 23,
   "metadata": {},
   "outputs": [
    {
     "data": {
      "text/plain": [
       "(10000,)"
      ]
     },
     "execution_count": 23,
     "metadata": {},
     "output_type": "execute_result"
    }
   ],
   "source": [
    "y.shape"
   ]
  },
  {
   "cell_type": "code",
   "execution_count": 24,
   "metadata": {},
   "outputs": [],
   "source": [
    "y = y.reshape(-1, 1)"
   ]
  },
  {
   "cell_type": "code",
   "execution_count": 25,
   "metadata": {},
   "outputs": [
    {
     "data": {
      "text/plain": [
       "array([[0],\n",
       "       [0],\n",
       "       [0],\n",
       "       ...,\n",
       "       [1],\n",
       "       [0],\n",
       "       [1]])"
      ]
     },
     "execution_count": 25,
     "metadata": {},
     "output_type": "execute_result"
    }
   ],
   "source": [
    "y"
   ]
  },
  {
   "cell_type": "code",
   "execution_count": 116,
   "metadata": {},
   "outputs": [
    {
     "ename": "FailedPreconditionError",
     "evalue": "Error while reading resource variable logistic_regression_1/model/old_theta from Container: localhost. This could mean that the variable was uninitialized. Not found: Container localhost does not exist. (Could not find resource: localhost/logistic_regression_1/model/old_theta)\n\t [[node logistic_regression_1/model/theta/Initializer/ReadVariableOp (defined at <ipython-input-95-4ff3db78254a>:9) ]]\n\nErrors may have originated from an input operation.\nInput Source operations connected to node logistic_regression_1/model/theta/Initializer/ReadVariableOp:\n logistic_regression_1/model/old_theta (defined at <ipython-input-95-4ff3db78254a>:7)\n\nOriginal stack trace for 'logistic_regression_1/model/theta/Initializer/ReadVariableOp':\n  File \"/Users/Kunal/anaconda3/lib/python3.6/runpy.py\", line 193, in _run_module_as_main\n    \"__main__\", mod_spec)\n  File \"/Users/Kunal/anaconda3/lib/python3.6/runpy.py\", line 85, in _run_code\n    exec(code, run_globals)\n  File \"/Users/Kunal/anaconda3/lib/python3.6/site-packages/ipykernel_launcher.py\", line 16, in <module>\n    app.launch_new_instance()\n  File \"/Users/Kunal/anaconda3/lib/python3.6/site-packages/traitlets/config/application.py\", line 664, in launch_instance\n    app.start()\n  File \"/Users/Kunal/anaconda3/lib/python3.6/site-packages/ipykernel/kernelapp.py\", line 583, in start\n    self.io_loop.start()\n  File \"/Users/Kunal/anaconda3/lib/python3.6/site-packages/tornado/platform/asyncio.py\", line 153, in start\n    self.asyncio_loop.run_forever()\n  File \"/Users/Kunal/anaconda3/lib/python3.6/asyncio/base_events.py\", line 442, in run_forever\n    self._run_once()\n  File \"/Users/Kunal/anaconda3/lib/python3.6/asyncio/base_events.py\", line 1462, in _run_once\n    handle._run()\n  File \"/Users/Kunal/anaconda3/lib/python3.6/asyncio/events.py\", line 145, in _run\n    self._callback(*self._args)\n  File \"/Users/Kunal/anaconda3/lib/python3.6/site-packages/tornado/ioloop.py\", line 690, in <lambda>\n    lambda f: self._run_callback(functools.partial(callback, future))\n  File \"/Users/Kunal/anaconda3/lib/python3.6/site-packages/tornado/ioloop.py\", line 743, in _run_callback\n    ret = callback()\n  File \"/Users/Kunal/anaconda3/lib/python3.6/site-packages/tornado/gen.py\", line 787, in inner\n    self.run()\n  File \"/Users/Kunal/anaconda3/lib/python3.6/site-packages/tornado/gen.py\", line 748, in run\n    yielded = self.gen.send(value)\n  File \"/Users/Kunal/anaconda3/lib/python3.6/site-packages/ipykernel/kernelbase.py\", line 361, in process_one\n    yield gen.maybe_future(dispatch(*args))\n  File \"/Users/Kunal/anaconda3/lib/python3.6/site-packages/tornado/gen.py\", line 209, in wrapper\n    yielded = next(result)\n  File \"/Users/Kunal/anaconda3/lib/python3.6/site-packages/ipykernel/kernelbase.py\", line 268, in dispatch_shell\n    yield gen.maybe_future(handler(stream, idents, msg))\n  File \"/Users/Kunal/anaconda3/lib/python3.6/site-packages/tornado/gen.py\", line 209, in wrapper\n    yielded = next(result)\n  File \"/Users/Kunal/anaconda3/lib/python3.6/site-packages/ipykernel/kernelbase.py\", line 541, in execute_request\n    user_expressions, allow_stdin,\n  File \"/Users/Kunal/anaconda3/lib/python3.6/site-packages/tornado/gen.py\", line 209, in wrapper\n    yielded = next(result)\n  File \"/Users/Kunal/anaconda3/lib/python3.6/site-packages/ipykernel/ipkernel.py\", line 300, in do_execute\n    res = shell.run_cell(code, store_history=store_history, silent=silent)\n  File \"/Users/Kunal/anaconda3/lib/python3.6/site-packages/ipykernel/zmqshell.py\", line 536, in run_cell\n    return super(ZMQInteractiveShell, self).run_cell(*args, **kwargs)\n  File \"/Users/Kunal/anaconda3/lib/python3.6/site-packages/IPython/core/interactiveshell.py\", line 2858, in run_cell\n    raw_cell, store_history, silent, shell_futures)\n  File \"/Users/Kunal/anaconda3/lib/python3.6/site-packages/IPython/core/interactiveshell.py\", line 2886, in _run_cell\n    return runner(coro)\n  File \"/Users/Kunal/anaconda3/lib/python3.6/site-packages/IPython/core/async_helpers.py\", line 68, in _pseudo_sync_runner\n    coro.send(None)\n  File \"/Users/Kunal/anaconda3/lib/python3.6/site-packages/IPython/core/interactiveshell.py\", line 3063, in run_cell_async\n    interactivity=interactivity, compiler=compiler, result=result)\n  File \"/Users/Kunal/anaconda3/lib/python3.6/site-packages/IPython/core/interactiveshell.py\", line 3254, in run_ast_nodes\n    if (await self.run_code(code, result,  async_=asy)):\n  File \"/Users/Kunal/anaconda3/lib/python3.6/site-packages/IPython/core/interactiveshell.py\", line 3331, in run_code\n    exec(code_obj, self.user_global_ns, self.user_ns)\n  File \"<ipython-input-97-df9e9787a89a>\", line 3, in <module>\n    training_op, loss, init, saver, loss_summary, y_proba = logistic_regression(X_mb,y_mb)\n  File \"<ipython-input-95-4ff3db78254a>\", line 9, in logistic_regression\n    theta = old_tf.Variable(old_theta, name='theta')\n  File \"/Users/Kunal/anaconda3/lib/python3.6/site-packages/tensorflow_core/python/ops/variables.py\", line 258, in __call__\n    return cls._variable_v1_call(*args, **kwargs)\n  File \"/Users/Kunal/anaconda3/lib/python3.6/site-packages/tensorflow_core/python/ops/variables.py\", line 219, in _variable_v1_call\n    shape=shape)\n  File \"/Users/Kunal/anaconda3/lib/python3.6/site-packages/tensorflow_core/python/ops/variables.py\", line 197, in <lambda>\n    previous_getter = lambda **kwargs: default_variable_creator(None, **kwargs)\n  File \"/Users/Kunal/anaconda3/lib/python3.6/site-packages/tensorflow_core/python/ops/variable_scope.py\", line 2596, in default_variable_creator\n    shape=shape)\n  File \"/Users/Kunal/anaconda3/lib/python3.6/site-packages/tensorflow_core/python/ops/variables.py\", line 262, in __call__\n    return super(VariableMetaclass, cls).__call__(*args, **kwargs)\n  File \"/Users/Kunal/anaconda3/lib/python3.6/site-packages/tensorflow_core/python/ops/resource_variable_ops.py\", line 1411, in __init__\n    distribute_strategy=distribute_strategy)\n  File \"/Users/Kunal/anaconda3/lib/python3.6/site-packages/tensorflow_core/python/ops/resource_variable_ops.py\", line 1543, in _init_from_args\n    name=\"initial_value\", dtype=dtype)\n  File \"/Users/Kunal/anaconda3/lib/python3.6/site-packages/tensorflow_core/python/framework/ops.py\", line 1314, in convert_to_tensor\n    ret = conversion_func(value, dtype=dtype, name=name, as_ref=as_ref)\n  File \"/Users/Kunal/anaconda3/lib/python3.6/site-packages/tensorflow_core/python/ops/resource_variable_ops.py\", line 1794, in _dense_var_to_tensor\n    return var._dense_var_to_tensor(dtype=dtype, name=name, as_ref=as_ref)  # pylint: disable=protected-access\n  File \"/Users/Kunal/anaconda3/lib/python3.6/site-packages/tensorflow_core/python/ops/resource_variable_ops.py\", line 1219, in _dense_var_to_tensor\n    return self.value()\n  File \"/Users/Kunal/anaconda3/lib/python3.6/site-packages/tensorflow_core/python/ops/resource_variable_ops.py\", line 529, in value\n    return self._read_variable_op()\n  File \"/Users/Kunal/anaconda3/lib/python3.6/site-packages/tensorflow_core/python/ops/resource_variable_ops.py\", line 613, in _read_variable_op\n    self._dtype)\n  File \"/Users/Kunal/anaconda3/lib/python3.6/site-packages/tensorflow_core/python/ops/gen_resource_variable_ops.py\", line 483, in read_variable_op\n    \"ReadVariableOp\", resource=resource, dtype=dtype, name=name)\n  File \"/Users/Kunal/anaconda3/lib/python3.6/site-packages/tensorflow_core/python/framework/op_def_library.py\", line 742, in _apply_op_helper\n    attrs=attr_protos, op_def=op_def)\n  File \"/Users/Kunal/anaconda3/lib/python3.6/site-packages/tensorflow_core/python/framework/ops.py\", line 3322, in _create_op_internal\n    op_def=op_def)\n  File \"/Users/Kunal/anaconda3/lib/python3.6/site-packages/tensorflow_core/python/framework/ops.py\", line 1756, in __init__\n    self._traceback = tf_stack.extract_stack()\n",
     "output_type": "error",
     "traceback": [
      "\u001b[0;31m------------\u001b[0m",
      "\u001b[0;31mFailedPreconditionError\u001b[0mTraceback (most recent call last)",
      "\u001b[0;32m~/anaconda3/lib/python3.6/site-packages/tensorflow_core/python/client/session.py\u001b[0m in \u001b[0;36m_do_call\u001b[0;34m(self, fn, *args)\u001b[0m\n\u001b[1;32m   1366\u001b[0m     \u001b[0;32mtry\u001b[0m\u001b[0;34m:\u001b[0m\u001b[0;34m\u001b[0m\u001b[0;34m\u001b[0m\u001b[0m\n\u001b[0;32m-> 1367\u001b[0;31m       \u001b[0;32mreturn\u001b[0m \u001b[0mfn\u001b[0m\u001b[0;34m(\u001b[0m\u001b[0;34m*\u001b[0m\u001b[0margs\u001b[0m\u001b[0;34m)\u001b[0m\u001b[0;34m\u001b[0m\u001b[0;34m\u001b[0m\u001b[0m\n\u001b[0m\u001b[1;32m   1368\u001b[0m     \u001b[0;32mexcept\u001b[0m \u001b[0merrors\u001b[0m\u001b[0;34m.\u001b[0m\u001b[0mOpError\u001b[0m \u001b[0;32mas\u001b[0m \u001b[0me\u001b[0m\u001b[0;34m:\u001b[0m\u001b[0;34m\u001b[0m\u001b[0;34m\u001b[0m\u001b[0m\n",
      "\u001b[0;32m~/anaconda3/lib/python3.6/site-packages/tensorflow_core/python/client/session.py\u001b[0m in \u001b[0;36m_run_fn\u001b[0;34m(feed_dict, fetch_list, target_list, options, run_metadata)\u001b[0m\n\u001b[1;32m   1351\u001b[0m       return self._call_tf_sessionrun(options, feed_dict, fetch_list,\n\u001b[0;32m-> 1352\u001b[0;31m                                       target_list, run_metadata)\n\u001b[0m\u001b[1;32m   1353\u001b[0m \u001b[0;34m\u001b[0m\u001b[0m\n",
      "\u001b[0;32m~/anaconda3/lib/python3.6/site-packages/tensorflow_core/python/client/session.py\u001b[0m in \u001b[0;36m_call_tf_sessionrun\u001b[0;34m(self, options, feed_dict, fetch_list, target_list, run_metadata)\u001b[0m\n\u001b[1;32m   1444\u001b[0m                                             \u001b[0mfetch_list\u001b[0m\u001b[0;34m,\u001b[0m \u001b[0mtarget_list\u001b[0m\u001b[0;34m,\u001b[0m\u001b[0;34m\u001b[0m\u001b[0;34m\u001b[0m\u001b[0m\n\u001b[0;32m-> 1445\u001b[0;31m                                             run_metadata)\n\u001b[0m\u001b[1;32m   1446\u001b[0m \u001b[0;34m\u001b[0m\u001b[0m\n",
      "\u001b[0;31mFailedPreconditionError\u001b[0m: Error while reading resource variable logistic_regression_1/model/old_theta from Container: localhost. This could mean that the variable was uninitialized. Not found: Container localhost does not exist. (Could not find resource: localhost/logistic_regression_1/model/old_theta)\n\t [[{{node logistic_regression_1/model/theta/Initializer/ReadVariableOp}}]]",
      "\nDuring handling of the above exception, another exception occurred:\n",
      "\u001b[0;31mFailedPreconditionError\u001b[0mTraceback (most recent call last)",
      "\u001b[0;32m<ipython-input-116-c775b94daac8>\u001b[0m in \u001b[0;36m<module>\u001b[0;34m\u001b[0m\n\u001b[1;32m     19\u001b[0m \u001b[0;34m\u001b[0m\u001b[0m\n\u001b[1;32m     20\u001b[0m \u001b[0;32mwith\u001b[0m \u001b[0mold_tf\u001b[0m\u001b[0;34m.\u001b[0m\u001b[0mSession\u001b[0m\u001b[0;34m(\u001b[0m\u001b[0;34m)\u001b[0m \u001b[0;32mas\u001b[0m \u001b[0msess\u001b[0m\u001b[0;34m:\u001b[0m\u001b[0;34m\u001b[0m\u001b[0;34m\u001b[0m\u001b[0m\n\u001b[0;32m---> 21\u001b[0;31m     \u001b[0msess\u001b[0m\u001b[0;34m.\u001b[0m\u001b[0mrun\u001b[0m\u001b[0;34m(\u001b[0m\u001b[0minit\u001b[0m\u001b[0;34m)\u001b[0m\u001b[0;34m\u001b[0m\u001b[0;34m\u001b[0m\u001b[0m\n\u001b[0m\u001b[1;32m     22\u001b[0m     \u001b[0;32mfor\u001b[0m \u001b[0mepoch\u001b[0m \u001b[0;32min\u001b[0m \u001b[0mrange\u001b[0m\u001b[0;34m(\u001b[0m\u001b[0mn_epochs\u001b[0m\u001b[0;34m)\u001b[0m\u001b[0;34m:\u001b[0m\u001b[0;34m\u001b[0m\u001b[0;34m\u001b[0m\u001b[0m\n\u001b[1;32m     23\u001b[0m \u001b[0;34m\u001b[0m\u001b[0m\n",
      "\u001b[0;32m~/anaconda3/lib/python3.6/site-packages/tensorflow_core/python/client/session.py\u001b[0m in \u001b[0;36mrun\u001b[0;34m(self, fetches, feed_dict, options, run_metadata)\u001b[0m\n\u001b[1;32m    958\u001b[0m     \u001b[0;32mtry\u001b[0m\u001b[0;34m:\u001b[0m\u001b[0;34m\u001b[0m\u001b[0;34m\u001b[0m\u001b[0m\n\u001b[1;32m    959\u001b[0m       result = self._run(None, fetches, feed_dict, options_ptr,\n\u001b[0;32m--> 960\u001b[0;31m                          run_metadata_ptr)\n\u001b[0m\u001b[1;32m    961\u001b[0m       \u001b[0;32mif\u001b[0m \u001b[0mrun_metadata\u001b[0m\u001b[0;34m:\u001b[0m\u001b[0;34m\u001b[0m\u001b[0;34m\u001b[0m\u001b[0m\n\u001b[1;32m    962\u001b[0m         \u001b[0mproto_data\u001b[0m \u001b[0;34m=\u001b[0m \u001b[0mtf_session\u001b[0m\u001b[0;34m.\u001b[0m\u001b[0mTF_GetBuffer\u001b[0m\u001b[0;34m(\u001b[0m\u001b[0mrun_metadata_ptr\u001b[0m\u001b[0;34m)\u001b[0m\u001b[0;34m\u001b[0m\u001b[0;34m\u001b[0m\u001b[0m\n",
      "\u001b[0;32m~/anaconda3/lib/python3.6/site-packages/tensorflow_core/python/client/session.py\u001b[0m in \u001b[0;36m_run\u001b[0;34m(self, handle, fetches, feed_dict, options, run_metadata)\u001b[0m\n\u001b[1;32m   1181\u001b[0m     \u001b[0;32mif\u001b[0m \u001b[0mfinal_fetches\u001b[0m \u001b[0;32mor\u001b[0m \u001b[0mfinal_targets\u001b[0m \u001b[0;32mor\u001b[0m \u001b[0;34m(\u001b[0m\u001b[0mhandle\u001b[0m \u001b[0;32mand\u001b[0m \u001b[0mfeed_dict_tensor\u001b[0m\u001b[0;34m)\u001b[0m\u001b[0;34m:\u001b[0m\u001b[0;34m\u001b[0m\u001b[0;34m\u001b[0m\u001b[0m\n\u001b[1;32m   1182\u001b[0m       results = self._do_run(handle, final_targets, final_fetches,\n\u001b[0;32m-> 1183\u001b[0;31m                              feed_dict_tensor, options, run_metadata)\n\u001b[0m\u001b[1;32m   1184\u001b[0m     \u001b[0;32melse\u001b[0m\u001b[0;34m:\u001b[0m\u001b[0;34m\u001b[0m\u001b[0;34m\u001b[0m\u001b[0m\n\u001b[1;32m   1185\u001b[0m       \u001b[0mresults\u001b[0m \u001b[0;34m=\u001b[0m \u001b[0;34m[\u001b[0m\u001b[0;34m]\u001b[0m\u001b[0;34m\u001b[0m\u001b[0;34m\u001b[0m\u001b[0m\n",
      "\u001b[0;32m~/anaconda3/lib/python3.6/site-packages/tensorflow_core/python/client/session.py\u001b[0m in \u001b[0;36m_do_run\u001b[0;34m(self, handle, target_list, fetch_list, feed_dict, options, run_metadata)\u001b[0m\n\u001b[1;32m   1359\u001b[0m     \u001b[0;32mif\u001b[0m \u001b[0mhandle\u001b[0m \u001b[0;32mis\u001b[0m \u001b[0;32mNone\u001b[0m\u001b[0;34m:\u001b[0m\u001b[0;34m\u001b[0m\u001b[0;34m\u001b[0m\u001b[0m\n\u001b[1;32m   1360\u001b[0m       return self._do_call(_run_fn, feeds, fetches, targets, options,\n\u001b[0;32m-> 1361\u001b[0;31m                            run_metadata)\n\u001b[0m\u001b[1;32m   1362\u001b[0m     \u001b[0;32melse\u001b[0m\u001b[0;34m:\u001b[0m\u001b[0;34m\u001b[0m\u001b[0;34m\u001b[0m\u001b[0m\n\u001b[1;32m   1363\u001b[0m       \u001b[0;32mreturn\u001b[0m \u001b[0mself\u001b[0m\u001b[0;34m.\u001b[0m\u001b[0m_do_call\u001b[0m\u001b[0;34m(\u001b[0m\u001b[0m_prun_fn\u001b[0m\u001b[0;34m,\u001b[0m \u001b[0mhandle\u001b[0m\u001b[0;34m,\u001b[0m \u001b[0mfeeds\u001b[0m\u001b[0;34m,\u001b[0m \u001b[0mfetches\u001b[0m\u001b[0;34m)\u001b[0m\u001b[0;34m\u001b[0m\u001b[0;34m\u001b[0m\u001b[0m\n",
      "\u001b[0;32m~/anaconda3/lib/python3.6/site-packages/tensorflow_core/python/client/session.py\u001b[0m in \u001b[0;36m_do_call\u001b[0;34m(self, fn, *args)\u001b[0m\n\u001b[1;32m   1384\u001b[0m                     \u001b[0;34m'\\nsession_config.graph_options.rewrite_options.'\u001b[0m\u001b[0;34m\u001b[0m\u001b[0;34m\u001b[0m\u001b[0m\n\u001b[1;32m   1385\u001b[0m                     'disable_meta_optimizer = True')\n\u001b[0;32m-> 1386\u001b[0;31m       \u001b[0;32mraise\u001b[0m \u001b[0mtype\u001b[0m\u001b[0;34m(\u001b[0m\u001b[0me\u001b[0m\u001b[0;34m)\u001b[0m\u001b[0;34m(\u001b[0m\u001b[0mnode_def\u001b[0m\u001b[0;34m,\u001b[0m \u001b[0mop\u001b[0m\u001b[0;34m,\u001b[0m \u001b[0mmessage\u001b[0m\u001b[0;34m)\u001b[0m\u001b[0;34m\u001b[0m\u001b[0;34m\u001b[0m\u001b[0m\n\u001b[0m\u001b[1;32m   1387\u001b[0m \u001b[0;34m\u001b[0m\u001b[0m\n\u001b[1;32m   1388\u001b[0m   \u001b[0;32mdef\u001b[0m \u001b[0m_extend_graph\u001b[0m\u001b[0;34m(\u001b[0m\u001b[0mself\u001b[0m\u001b[0;34m)\u001b[0m\u001b[0;34m:\u001b[0m\u001b[0;34m\u001b[0m\u001b[0;34m\u001b[0m\u001b[0m\n",
      "\u001b[0;31mFailedPreconditionError\u001b[0m: Error while reading resource variable logistic_regression_1/model/old_theta from Container: localhost. This could mean that the variable was uninitialized. Not found: Container localhost does not exist. (Could not find resource: localhost/logistic_regression_1/model/old_theta)\n\t [[node logistic_regression_1/model/theta/Initializer/ReadVariableOp (defined at <ipython-input-95-4ff3db78254a>:9) ]]\n\nErrors may have originated from an input operation.\nInput Source operations connected to node logistic_regression_1/model/theta/Initializer/ReadVariableOp:\n logistic_regression_1/model/old_theta (defined at <ipython-input-95-4ff3db78254a>:7)\n\nOriginal stack trace for 'logistic_regression_1/model/theta/Initializer/ReadVariableOp':\n  File \"/Users/Kunal/anaconda3/lib/python3.6/runpy.py\", line 193, in _run_module_as_main\n    \"__main__\", mod_spec)\n  File \"/Users/Kunal/anaconda3/lib/python3.6/runpy.py\", line 85, in _run_code\n    exec(code, run_globals)\n  File \"/Users/Kunal/anaconda3/lib/python3.6/site-packages/ipykernel_launcher.py\", line 16, in <module>\n    app.launch_new_instance()\n  File \"/Users/Kunal/anaconda3/lib/python3.6/site-packages/traitlets/config/application.py\", line 664, in launch_instance\n    app.start()\n  File \"/Users/Kunal/anaconda3/lib/python3.6/site-packages/ipykernel/kernelapp.py\", line 583, in start\n    self.io_loop.start()\n  File \"/Users/Kunal/anaconda3/lib/python3.6/site-packages/tornado/platform/asyncio.py\", line 153, in start\n    self.asyncio_loop.run_forever()\n  File \"/Users/Kunal/anaconda3/lib/python3.6/asyncio/base_events.py\", line 442, in run_forever\n    self._run_once()\n  File \"/Users/Kunal/anaconda3/lib/python3.6/asyncio/base_events.py\", line 1462, in _run_once\n    handle._run()\n  File \"/Users/Kunal/anaconda3/lib/python3.6/asyncio/events.py\", line 145, in _run\n    self._callback(*self._args)\n  File \"/Users/Kunal/anaconda3/lib/python3.6/site-packages/tornado/ioloop.py\", line 690, in <lambda>\n    lambda f: self._run_callback(functools.partial(callback, future))\n  File \"/Users/Kunal/anaconda3/lib/python3.6/site-packages/tornado/ioloop.py\", line 743, in _run_callback\n    ret = callback()\n  File \"/Users/Kunal/anaconda3/lib/python3.6/site-packages/tornado/gen.py\", line 787, in inner\n    self.run()\n  File \"/Users/Kunal/anaconda3/lib/python3.6/site-packages/tornado/gen.py\", line 748, in run\n    yielded = self.gen.send(value)\n  File \"/Users/Kunal/anaconda3/lib/python3.6/site-packages/ipykernel/kernelbase.py\", line 361, in process_one\n    yield gen.maybe_future(dispatch(*args))\n  File \"/Users/Kunal/anaconda3/lib/python3.6/site-packages/tornado/gen.py\", line 209, in wrapper\n    yielded = next(result)\n  File \"/Users/Kunal/anaconda3/lib/python3.6/site-packages/ipykernel/kernelbase.py\", line 268, in dispatch_shell\n    yield gen.maybe_future(handler(stream, idents, msg))\n  File \"/Users/Kunal/anaconda3/lib/python3.6/site-packages/tornado/gen.py\", line 209, in wrapper\n    yielded = next(result)\n  File \"/Users/Kunal/anaconda3/lib/python3.6/site-packages/ipykernel/kernelbase.py\", line 541, in execute_request\n    user_expressions, allow_stdin,\n  File \"/Users/Kunal/anaconda3/lib/python3.6/site-packages/tornado/gen.py\", line 209, in wrapper\n    yielded = next(result)\n  File \"/Users/Kunal/anaconda3/lib/python3.6/site-packages/ipykernel/ipkernel.py\", line 300, in do_execute\n    res = shell.run_cell(code, store_history=store_history, silent=silent)\n  File \"/Users/Kunal/anaconda3/lib/python3.6/site-packages/ipykernel/zmqshell.py\", line 536, in run_cell\n    return super(ZMQInteractiveShell, self).run_cell(*args, **kwargs)\n  File \"/Users/Kunal/anaconda3/lib/python3.6/site-packages/IPython/core/interactiveshell.py\", line 2858, in run_cell\n    raw_cell, store_history, silent, shell_futures)\n  File \"/Users/Kunal/anaconda3/lib/python3.6/site-packages/IPython/core/interactiveshell.py\", line 2886, in _run_cell\n    return runner(coro)\n  File \"/Users/Kunal/anaconda3/lib/python3.6/site-packages/IPython/core/async_helpers.py\", line 68, in _pseudo_sync_runner\n    coro.send(None)\n  File \"/Users/Kunal/anaconda3/lib/python3.6/site-packages/IPython/core/interactiveshell.py\", line 3063, in run_cell_async\n    interactivity=interactivity, compiler=compiler, result=result)\n  File \"/Users/Kunal/anaconda3/lib/python3.6/site-packages/IPython/core/interactiveshell.py\", line 3254, in run_ast_nodes\n    if (await self.run_code(code, result,  async_=asy)):\n  File \"/Users/Kunal/anaconda3/lib/python3.6/site-packages/IPython/core/interactiveshell.py\", line 3331, in run_code\n    exec(code_obj, self.user_global_ns, self.user_ns)\n  File \"<ipython-input-97-df9e9787a89a>\", line 3, in <module>\n    training_op, loss, init, saver, loss_summary, y_proba = logistic_regression(X_mb,y_mb)\n  File \"<ipython-input-95-4ff3db78254a>\", line 9, in logistic_regression\n    theta = old_tf.Variable(old_theta, name='theta')\n  File \"/Users/Kunal/anaconda3/lib/python3.6/site-packages/tensorflow_core/python/ops/variables.py\", line 258, in __call__\n    return cls._variable_v1_call(*args, **kwargs)\n  File \"/Users/Kunal/anaconda3/lib/python3.6/site-packages/tensorflow_core/python/ops/variables.py\", line 219, in _variable_v1_call\n    shape=shape)\n  File \"/Users/Kunal/anaconda3/lib/python3.6/site-packages/tensorflow_core/python/ops/variables.py\", line 197, in <lambda>\n    previous_getter = lambda **kwargs: default_variable_creator(None, **kwargs)\n  File \"/Users/Kunal/anaconda3/lib/python3.6/site-packages/tensorflow_core/python/ops/variable_scope.py\", line 2596, in default_variable_creator\n    shape=shape)\n  File \"/Users/Kunal/anaconda3/lib/python3.6/site-packages/tensorflow_core/python/ops/variables.py\", line 262, in __call__\n    return super(VariableMetaclass, cls).__call__(*args, **kwargs)\n  File \"/Users/Kunal/anaconda3/lib/python3.6/site-packages/tensorflow_core/python/ops/resource_variable_ops.py\", line 1411, in __init__\n    distribute_strategy=distribute_strategy)\n  File \"/Users/Kunal/anaconda3/lib/python3.6/site-packages/tensorflow_core/python/ops/resource_variable_ops.py\", line 1543, in _init_from_args\n    name=\"initial_value\", dtype=dtype)\n  File \"/Users/Kunal/anaconda3/lib/python3.6/site-packages/tensorflow_core/python/framework/ops.py\", line 1314, in convert_to_tensor\n    ret = conversion_func(value, dtype=dtype, name=name, as_ref=as_ref)\n  File \"/Users/Kunal/anaconda3/lib/python3.6/site-packages/tensorflow_core/python/ops/resource_variable_ops.py\", line 1794, in _dense_var_to_tensor\n    return var._dense_var_to_tensor(dtype=dtype, name=name, as_ref=as_ref)  # pylint: disable=protected-access\n  File \"/Users/Kunal/anaconda3/lib/python3.6/site-packages/tensorflow_core/python/ops/resource_variable_ops.py\", line 1219, in _dense_var_to_tensor\n    return self.value()\n  File \"/Users/Kunal/anaconda3/lib/python3.6/site-packages/tensorflow_core/python/ops/resource_variable_ops.py\", line 529, in value\n    return self._read_variable_op()\n  File \"/Users/Kunal/anaconda3/lib/python3.6/site-packages/tensorflow_core/python/ops/resource_variable_ops.py\", line 613, in _read_variable_op\n    self._dtype)\n  File \"/Users/Kunal/anaconda3/lib/python3.6/site-packages/tensorflow_core/python/ops/gen_resource_variable_ops.py\", line 483, in read_variable_op\n    \"ReadVariableOp\", resource=resource, dtype=dtype, name=name)\n  File \"/Users/Kunal/anaconda3/lib/python3.6/site-packages/tensorflow_core/python/framework/op_def_library.py\", line 742, in _apply_op_helper\n    attrs=attr_protos, op_def=op_def)\n  File \"/Users/Kunal/anaconda3/lib/python3.6/site-packages/tensorflow_core/python/framework/ops.py\", line 3322, in _create_op_internal\n    op_def=op_def)\n  File \"/Users/Kunal/anaconda3/lib/python3.6/site-packages/tensorflow_core/python/framework/ops.py\", line 1756, in __init__\n    self._traceback = tf_stack.extract_stack()\n"
     ]
    }
   ],
   "source": [
    "X_mb = old_tf.placeholder(shape = [None, n+1] , dtype =old_tf.float32, name= 'X')\n",
    "y_mb = old_tf.placeholder(shape = [None , 1] , dtype=old_tf.float32, name = 'y')\n",
    "theta_mb = old_tf.Variable( old_tf.random_uniform( [n+1 , 1 ], -1.0 , 1.0 ) ,name = 'theta')\n",
    "                           \n",
    "logits = old_tf.matmul(X_mb, theta_mb)\n",
    "\n",
    "y_proba = old_tf.sigmoid(-logits)\n",
    "\n",
    "loss = -old_tf.reduce_mean((y_mb) * old_tf.log(y_proba + small_value) + (1-y_mb) * ( old_tf.log(1 - y_proba + small_value)))\n",
    "\n",
    "optimizer = old_tf.train.GradientDescentOptimizer(learning_rate=0.01)\n",
    "\n",
    "training_op = optimizer.minimize(loss)\n",
    "                        \n",
    "n_epochs = 1000\n",
    "batches = 50\n",
    "init = old_tf.global_variables_initializer()\n",
    "saver = old_tf.train.Saver()\n",
    "\n",
    "with old_tf.Session() as sess:\n",
    "    sess.run(init)\n",
    "    for epoch in range(n_epochs):\n",
    "        \n",
    "        for batch in range(batches):\n",
    "            X_batch, y_batch = random_batch(X_with_bias, y, batch)\n",
    "            sess.run(training_op, feed_dict = {X_mb : X_batch , y_mb :y_batch})\n",
    "        loss_val = loss.eval(feed_dict={X_mb:X_with_bias, y_mb:y})\n",
    "        if epoch %100 == 0:\n",
    "            print(f'{epoch} = {loss_val}')\n",
    "        \n",
    "    best_theta = theta.eval()\n",
    "    y_proba_val = y_proba.eval(feed_dict={X_mb: X_with_bias, y_mb: y})\n",
    "    \n",
    "    save_path = saver.save(sess, '/Users/Kunal/ML/Neural Network/LrModel.cpkt')"
   ]
  },
  {
   "cell_type": "code",
   "execution_count": 49,
   "metadata": {},
   "outputs": [
    {
     "data": {
      "text/plain": [
       "array([[-0.8610127 ],\n",
       "       [-0.76948786],\n",
       "       [-0.15632892]], dtype=float32)"
      ]
     },
     "execution_count": 49,
     "metadata": {},
     "output_type": "execute_result"
    }
   ],
   "source": [
    "best_theta"
   ]
  },
  {
   "cell_type": "code",
   "execution_count": 59,
   "metadata": {},
   "outputs": [
    {
     "data": {
      "text/plain": [
       "array([[0.4680889 ],\n",
       "       [0.02875952],\n",
       "       [0.8357515 ],\n",
       "       ...,\n",
       "       [0.37689108],\n",
       "       [0.60251725],\n",
       "       [0.9769182 ]], dtype=float32)"
      ]
     },
     "execution_count": 59,
     "metadata": {},
     "output_type": "execute_result"
    }
   ],
   "source": [
    "y_proba_val"
   ]
  },
  {
   "cell_type": "code",
   "execution_count": 62,
   "metadata": {},
   "outputs": [],
   "source": [
    "y_preds = np.where(y_proba_val <=0.5 , 0, 1)"
   ]
  },
  {
   "cell_type": "code",
   "execution_count": 64,
   "metadata": {},
   "outputs": [
    {
     "data": {
      "text/plain": [
       "0.8873"
      ]
     },
     "execution_count": 64,
     "metadata": {},
     "output_type": "execute_result"
    }
   ],
   "source": [
    "accuracy_score(y, y_preds)"
   ]
  },
  {
   "cell_type": "code",
   "execution_count": 74,
   "metadata": {},
   "outputs": [],
   "source": [
    "from sklearn.metrics import precision_score, recall_score, f1_score"
   ]
  },
  {
   "cell_type": "code",
   "execution_count": 75,
   "metadata": {},
   "outputs": [
    {
     "data": {
      "text/plain": [
       "(0.8856801433977295, 0.8894, 0.8875361740345276)"
      ]
     },
     "execution_count": 75,
     "metadata": {},
     "output_type": "execute_result"
    }
   ],
   "source": [
    "precision_score(y, y_preds), recall_score(y, y_preds), f1_score(y, y_preds)"
   ]
  },
  {
   "cell_type": "code",
   "execution_count": 345,
   "metadata": {},
   "outputs": [],
   "source": [
    "old_tf.reset_default_graph()"
   ]
  },
  {
   "cell_type": "code",
   "execution_count": 346,
   "metadata": {},
   "outputs": [],
   "source": [
    "def logistic_regression(X,y, old_theta = None, learning_rate=0.01):\n",
    "    instances = X.get_shape()[1]\n",
    "    with old_tf.name_scope('logistic_regression'):\n",
    "        \n",
    "        with old_tf.name_scope('model'):\n",
    "#             if old_theta is None:\n",
    "#                 old_theta = old_tf.Variable(old_tf.random_uniform([instances,1], -1.0, 1.0))\n",
    "#                 print('in')\n",
    "            theta = old_tf.Variable(old_tf.random_uniform([instances,1], -1.0, 1.0))\n",
    "            \n",
    "            logit = old_tf.matmul(X, theta)\n",
    "            \n",
    "            y_proba = old_tf.sigmoid(-logit)\n",
    "            \n",
    "        with old_tf.name_scope('train'):\n",
    "            \n",
    "            loss = old_tf.losses.log_loss(y, y_proba, scope=\"loss\")\n",
    "            optimizer = old_tf.train.GradientDescentOptimizer(learning_rate=learning_rate)\n",
    "            training_op = optimizer.minimize(loss)\n",
    "            loss_summary = old_tf.summary.scalar('log_loss', loss)\n",
    "            \n",
    "        with old_tf.name_scope('init'):\n",
    "            init = old_tf.global_variables_initializer()\n",
    "            \n",
    "        with old_tf.name_scope('saver'):\n",
    "            saver = old_tf.train.Saver()\n",
    "            \n",
    "    return training_op, loss, init, saver, loss_summary, y_proba\n",
    "\n",
    "def get_log_dir():\n",
    "    import datetime\n",
    "    now = datetime.datetime.utcnow().strftime('%Y-%m-%d:%H:%M:%S')\n",
    "    return '/Users/Kunal/ML/Neural Network/lr-logs/{}'.format(now)\n",
    "                "
   ]
  },
  {
   "cell_type": "code",
   "execution_count": 347,
   "metadata": {},
   "outputs": [
    {
     "data": {
      "text/plain": [
       "<tf.Tensor 'X:0' shape=(None, 3) dtype=float32>"
      ]
     },
     "execution_count": 347,
     "metadata": {},
     "output_type": "execute_result"
    }
   ],
   "source": [
    "X_mb"
   ]
  },
  {
   "cell_type": "code",
   "execution_count": 348,
   "metadata": {},
   "outputs": [],
   "source": [
    "n_epochs=10001\n",
    "batches = 100\n",
    "learning_rate=0.03"
   ]
  },
  {
   "cell_type": "code",
   "execution_count": 349,
   "metadata": {},
   "outputs": [],
   "source": [
    "X_mb = old_tf.placeholder(shape = [None, n+1] , dtype =old_tf.float32, name= 'X')\n",
    "y_mb = old_tf.placeholder(shape = [None , 1] , dtype=old_tf.float32, name = 'y')\n",
    "\n",
    "training_op, loss, init, saver, loss_summary, y_proba = logistic_regression(X_mb,y_mb,learning_rate=learning_rate)"
   ]
  },
  {
   "cell_type": "code",
   "execution_count": 350,
   "metadata": {},
   "outputs": [],
   "source": [
    "logdir = get_log_dir()\n",
    "file_writer = old_tf.summary.FileWriter( logdir, old_tf.get_default_graph())\n",
    "n_epochs=1001\n",
    "logdir = get_log_dir()\n",
    "checkpoint_path = f\"{logdir}/my_logreg_model.ckpt\"\n",
    "checkpoint_epoch_path = f\"{checkpoint_path}.epoch\"\n",
    "final_model_path = f\"{logdir}/my_logreg_model\""
   ]
  },
  {
   "cell_type": "code",
   "execution_count": 351,
   "metadata": {},
   "outputs": [
    {
     "data": {
      "text/plain": [
       "'/Users/Kunal/ML/Neural Network/lr-logs/2020-04-24:08:04:39/my_logreg_model'"
      ]
     },
     "execution_count": 351,
     "metadata": {},
     "output_type": "execute_result"
    }
   ],
   "source": [
    "final_model_path"
   ]
  },
  {
   "cell_type": "code",
   "execution_count": null,
   "metadata": {},
   "outputs": [],
   "source": [
    "\n"
   ]
  },
  {
   "cell_type": "code",
   "execution_count": null,
   "metadata": {},
   "outputs": [],
   "source": []
  },
  {
   "cell_type": "code",
   "execution_count": 352,
   "metadata": {},
   "outputs": [],
   "source": [
    "init = old_tf.global_variables_initializer()"
   ]
  },
  {
   "cell_type": "code",
   "execution_count": null,
   "metadata": {},
   "outputs": [],
   "source": []
  },
  {
   "cell_type": "code",
   "execution_count": 353,
   "metadata": {},
   "outputs": [
    {
     "name": "stdout",
     "output_type": "stream",
     "text": [
      "loss at epoch : 0 = 0.4381128251552582\n",
      "saved checkpoint at epoch :0\n",
      "loss at epoch : 500 = 0.18802914023399353\n",
      "saved checkpoint at epoch :500\n",
      "loss at epoch : 1000 = 0.28479185700416565\n",
      "saved checkpoint at epoch :1000\n"
     ]
    }
   ],
   "source": [
    "# init = old_tf.global_variables_initializer()\n",
    "with old_tf.Session() as sess:\n",
    "    \n",
    "    if os.path.isfile(checkpoint_epoch_path):\n",
    "        \n",
    "        with open(checkpoint_epoch_path,'rb') as f:\n",
    "            start_epoch = int(f.read())\n",
    "            \n",
    "        print(f'continuing from {start_epoch}')\n",
    "        \n",
    "        saver.restore(sess, checkpoint_path)\n",
    "    else:\n",
    "        start_epoch = 0\n",
    "        \n",
    "        sess.run(init)\n",
    "        \n",
    "    \n",
    "    \n",
    "    for epoch in range(start_epoch,n_epochs):\n",
    "        for batch in range(batches):\n",
    "            \n",
    "            X_batch, y_batch = random_batch(X_with_bias, y, batches)\n",
    "            sess.run(training_op, feed_dict={X_mb:X_batch, y_mb:y_batch})\n",
    "            \n",
    "        \n",
    "        \n",
    "        loss_val, loss_summary_str = sess.run([loss, loss_summary], feed_dict={X_mb:X_batch, y_mb:y_batch})\n",
    "        \n",
    "        file_writer.add_summary(loss_summary_str, epoch)\n",
    "        \n",
    "        if epoch % 500 == 0:\n",
    "            \n",
    "            print( f'loss at epoch : {epoch} = {loss_val}' )\n",
    "            \n",
    "            with open(checkpoint_epoch_path ,'wb') as f:\n",
    "                f.write(b\"%d\"%epoch)\n",
    "                \n",
    "            saver.save(sess, checkpoint_path)\n",
    "            print(f'saved checkpoint at epoch :{epoch}')\n",
    "                \n",
    "    saver.save(sess,final_model_path)\n",
    "    y_proba_val = y_proba.eval(feed_dict = {X_mb : X_with_bias, y_mb : y})\n",
    "    os.remove(checkpoint_epoch_path)\n",
    "        "
   ]
  },
  {
   "cell_type": "code",
   "execution_count": 339,
   "metadata": {},
   "outputs": [],
   "source": [
    "y_original = y.reshape(y.shape[0])"
   ]
  },
  {
   "cell_type": "code",
   "execution_count": 340,
   "metadata": {},
   "outputs": [],
   "source": [
    "y_pred = y_proba_val.reshape(y.shape[0])"
   ]
  },
  {
   "cell_type": "code",
   "execution_count": 341,
   "metadata": {},
   "outputs": [],
   "source": [
    "y_pred = np.where(y_pred < 0.5, 0, 1)"
   ]
  },
  {
   "cell_type": "code",
   "execution_count": 342,
   "metadata": {},
   "outputs": [
    {
     "data": {
      "text/plain": [
       "0.8875"
      ]
     },
     "execution_count": 342,
     "metadata": {},
     "output_type": "execute_result"
    }
   ],
   "source": [
    "accuracy_score(y_original, y_pred)"
   ]
  },
  {
   "cell_type": "code",
   "execution_count": 343,
   "metadata": {},
   "outputs": [
    {
     "data": {
      "text/plain": [
       "0.8860330743175932"
      ]
     },
     "execution_count": 343,
     "metadata": {},
     "output_type": "execute_result"
    }
   ],
   "source": [
    "precision_score(y_original, y_pred)"
   ]
  },
  {
   "cell_type": "code",
   "execution_count": 344,
   "metadata": {},
   "outputs": [
    {
     "data": {
      "text/plain": [
       "0.8894"
      ]
     },
     "execution_count": 344,
     "metadata": {},
     "output_type": "execute_result"
    }
   ],
   "source": [
    "recall_score(y_original, y_pred)"
   ]
  },
  {
   "cell_type": "code",
   "execution_count": 317,
   "metadata": {},
   "outputs": [
    {
     "name": "stdout",
     "output_type": "stream",
     "text": [
      "INFO:tensorflow:Restoring parameters from /Users/Kunal/ML/Neural Network/lr-logs/2020-04-24:07:28:42/my_logreg_model\n"
     ]
    }
   ],
   "source": [
    "with old_tf.Session() as sess:\n",
    "    saver.restore(sess,final_model_path)\n",
    "    y_proba_val=y_proba.eval(feed_dict={X_mb:X_with_bias, y_mb : y})"
   ]
  },
  {
   "cell_type": "code",
   "execution_count": 315,
   "metadata": {},
   "outputs": [
    {
     "data": {
      "text/plain": [
       "array([[0.46686968],\n",
       "       [0.02820977],\n",
       "       [0.83534133],\n",
       "       ...,\n",
       "       [0.37430218],\n",
       "       [0.6017957 ],\n",
       "       [0.9770344 ]], dtype=float32)"
      ]
     },
     "execution_count": 315,
     "metadata": {},
     "output_type": "execute_result"
    }
   ],
   "source": []
  },
  {
   "cell_type": "code",
   "execution_count": 319,
   "metadata": {},
   "outputs": [
    {
     "data": {
      "text/plain": [
       "10000"
      ]
     },
     "execution_count": 319,
     "metadata": {},
     "output_type": "execute_result"
    }
   ],
   "source": [
    "len(y)"
   ]
  },
  {
   "cell_type": "code",
   "execution_count": null,
   "metadata": {},
   "outputs": [],
   "source": []
  }
 ],
 "metadata": {
  "kernelspec": {
   "display_name": "Python 3",
   "language": "python",
   "name": "python3"
  },
  "language_info": {
   "codemirror_mode": {
    "name": "ipython",
    "version": 3
   },
   "file_extension": ".py",
   "mimetype": "text/x-python",
   "name": "python",
   "nbconvert_exporter": "python",
   "pygments_lexer": "ipython3",
   "version": "3.6.10"
  }
 },
 "nbformat": 4,
 "nbformat_minor": 4
}
