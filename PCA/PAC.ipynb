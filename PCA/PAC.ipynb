{
 "cells": [
  {
   "cell_type": "code",
   "execution_count": 1,
   "metadata": {},
   "outputs": [],
   "source": [
    "from sklearn.datasets import fetch_mldata\n",
    "mnist = fetch_mldata('MNIST Original')"
   ]
  },
  {
   "cell_type": "code",
   "execution_count": 2,
   "metadata": {},
   "outputs": [],
   "source": [
    "X,y = mnist['data'], mnist['target']"
   ]
  },
  {
   "cell_type": "code",
   "execution_count": 42,
   "metadata": {},
   "outputs": [],
   "source": [
    "from sklearn.decomposition import PCA"
   ]
  },
  {
   "cell_type": "code",
   "execution_count": 43,
   "metadata": {},
   "outputs": [],
   "source": [
    "pca = PCA(n_components=0.95)"
   ]
  },
  {
   "cell_type": "code",
   "execution_count": 44,
   "metadata": {},
   "outputs": [],
   "source": [
    "X_transformed=pca.fit_transform(X)"
   ]
  },
  {
   "cell_type": "code",
   "execution_count": 45,
   "metadata": {},
   "outputs": [
    {
     "data": {
      "text/plain": [
       "(70000, 154)"
      ]
     },
     "execution_count": 45,
     "metadata": {},
     "output_type": "execute_result"
    }
   ],
   "source": [
    "X_transformed.shape"
   ]
  },
  {
   "cell_type": "code",
   "execution_count": 46,
   "metadata": {},
   "outputs": [],
   "source": [
    "X_recovered = pca.inverse_transform(X_transformed)"
   ]
  },
  {
   "cell_type": "code",
   "execution_count": 47,
   "metadata": {},
   "outputs": [
    {
     "data": {
      "text/plain": [
       "(70000, 784)"
      ]
     },
     "execution_count": 47,
     "metadata": {},
     "output_type": "execute_result"
    }
   ],
   "source": [
    "X_recovered.shape"
   ]
  },
  {
   "cell_type": "code",
   "execution_count": 48,
   "metadata": {},
   "outputs": [],
   "source": [
    "import matplotlib.pyplot as plt\n",
    "from matplotlib.pyplot import imshow\n",
    "%matplotlib inline"
   ]
  },
  {
   "cell_type": "code",
   "execution_count": 49,
   "metadata": {},
   "outputs": [
    {
     "data": {
      "text/plain": [
       "<matplotlib.image.AxesImage at 0x1a1bd1be10>"
      ]
     },
     "execution_count": 49,
     "metadata": {},
     "output_type": "execute_result"
    },
    {
     "data": {
      "image/png": "[encoded data removed]",
      "text/plain": [
       "<Figure size 432x288 with 2 Axes>"
      ]
     },
     "metadata": {},
     "output_type": "display_data"
    }
   ],
   "source": [
    "plt.subplot(121)\n",
    "imshow(X[50000].reshape(28,28), cmap = plt.cm.binary )\n",
    "plt.subplot(122)\n",
    "imshow(X_recovered[50000].reshape(28,28), cmap = plt.cm.binary )"
   ]
  },
  {
   "cell_type": "code",
   "execution_count": null,
   "metadata": {},
   "outputs": [],
   "source": []
  },
  {
   "cell_type": "code",
   "execution_count": 51,
   "metadata": {},
   "outputs": [],
   "source": [
    "from sklearn.decomposition import IncrementalPCA\n",
    "n_batches =100\n",
    "inc_pca=IncrementalPCA(n_components=154)\n",
    "\n",
    "for batch in np.array_split(X,n_batches):\n",
    "    inc_pca.fit(X)\n",
    "    \n",
    "X_reduced = inc_pca.transform(X)"
   ]
  },
  {
   "cell_type": "code",
   "execution_count": 52,
   "metadata": {},
   "outputs": [],
   "source": [
    "from sklearn.ensemble import RandomForestClassifier\n",
    "from sklearn.model_selection import train_test_split\n",
    "forest_clf = RandomForestClassifier()\n",
    "\n"
   ]
  },
  {
   "cell_type": "code",
   "execution_count": 54,
   "metadata": {},
   "outputs": [],
   "source": [
    "X_train , X_test, y_train, y_test = train_test_split(X,y)"
   ]
  },
  {
   "cell_type": "code",
   "execution_count": 62,
   "metadata": {},
   "outputs": [
    {
     "name": "stdout",
     "output_type": "stream",
     "text": [
      "4.013290882110596\n"
     ]
    }
   ],
   "source": [
    "import time\n",
    "start = time.time()\n",
    "forest_clf.fit(X_train,y_train)\n",
    "end = time.time()\n",
    "print(end-start)"
   ]
  },
  {
   "cell_type": "code",
   "execution_count": 63,
   "metadata": {},
   "outputs": [],
   "source": [
    "X_train_reduced = pca.fit_transform(X_train)"
   ]
  },
  {
   "cell_type": "code",
   "execution_count": 64,
   "metadata": {},
   "outputs": [
    {
     "name": "stdout",
     "output_type": "stream",
     "text": [
      "8.55036211013794\n"
     ]
    }
   ],
   "source": [
    "start = time.time()\n",
    "forest_clf.fit(X_train_reduced, y_train)\n",
    "end = time.time()\n",
    "print(end-start)"
   ]
  },
  {
   "cell_type": "code",
   "execution_count": 67,
   "metadata": {},
   "outputs": [
    {
     "data": {
      "text/plain": [
       "0.9449142857142857"
      ]
     },
     "execution_count": 67,
     "metadata": {},
     "output_type": "execute_result"
    }
   ],
   "source": [
    "forest_clf.fit(X_train,y_train)\n",
    "forest_clf.score(X_test,y_test)"
   ]
  },
  {
   "cell_type": "code",
   "execution_count": 70,
   "metadata": {},
   "outputs": [
    {
     "data": {
      "text/plain": [
       "0.8898857142857143"
      ]
     },
     "execution_count": 70,
     "metadata": {},
     "output_type": "execute_result"
    }
   ],
   "source": [
    "pca.fit(X)\n",
    "X_train_reduced = pca.fit_transform(X_train)\n",
    "X_test_reduced = pca.transform(X_test)\n",
    "forest_clf.fit(X_train_reduced,y_train)\n",
    "forest_clf.score(X_test_reduced, y_test)"
   ]
  },
  {
   "cell_type": "code",
   "execution_count": 3,
   "metadata": {},
   "outputs": [],
   "source": [
    "from sklearn.manifold import TSNE"
   ]
  },
  {
   "cell_type": "code",
   "execution_count": 73,
   "metadata": {},
   "outputs": [
    {
     "name": "stdout",
     "output_type": "stream",
     "text": [
      "('t-distributed Stochastic Neighbor Embedding.\\n'\n",
      " '\\n'\n",
      " '    t-SNE [1] is a tool to visualize high-dimensional data. It converts\\n'\n",
      " '    similarities between data points to joint probabilities and tries\\n'\n",
      " '    to minimize the Kullback-Leibler divergence between the joint\\n'\n",
      " '    probabilities of the low-dimensional embedding and the\\n'\n",
      " '    high-dimensional data. t-SNE has a cost function that is not convex,\\n'\n",
      " '    i.e. with different initializations we can get different results.\\n'\n",
      " '\\n'\n",
      " '    It is highly recommended to use another dimensionality reduction\\n'\n",
      " '    method (e.g. PCA for dense data or TruncatedSVD for sparse data)\\n'\n",
      " '    to reduce the number of dimensions to a reasonable amount (e.g. 50)\\n'\n",
      " '    if the number of features is very high. This will suppress some\\n'\n",
      " '    noise and speed up the computation of pairwise distances between\\n'\n",
      " \"    samples. For more tips see Laurens van der Maaten's FAQ [2].\\n\"\n",
      " '\\n'\n",
      " '    Read more in the :ref:`User Guide <t_sne>`.\\n'\n",
      " '\\n'\n",
      " '    Parameters\\n'\n",
      " '    ----------\\n'\n",
      " '    n_components : int, optional (default: 2)\\n'\n",
      " '        Dimension of the embedded space.\\n'\n",
      " '\\n'\n",
      " '    perplexity : float, optional (default: 30)\\n'\n",
      " '        The perplexity is related to the number of nearest neighbors that\\n'\n",
      " '        is used in other manifold learning algorithms. Larger datasets\\n'\n",
      " '        usually require a larger perplexity. Consider selecting a value\\n'\n",
      " '        between 5 and 50. The choice is not extremely critical since t-SNE\\n'\n",
      " '        is quite insensitive to this parameter.\\n'\n",
      " '\\n'\n",
      " '    early_exaggeration : float, optional (default: 12.0)\\n'\n",
      " '        Controls how tight natural clusters in the original space are in\\n'\n",
      " '        the embedded space and how much space will be between them. For\\n'\n",
      " '        larger values, the space between natural clusters will be larger\\n'\n",
      " '        in the embedded space. Again, the choice of this parameter is not\\n'\n",
      " '        very critical. If the cost function increases during initial\\n'\n",
      " '        optimization, the early exaggeration factor or the learning rate\\n'\n",
      " '        might be too high.\\n'\n",
      " '\\n'\n",
      " '    learning_rate : float, optional (default: 200.0)\\n'\n",
      " '        The learning rate for t-SNE is usually in the range [10.0, 1000.0]. '\n",
      " 'If\\n'\n",
      " \"        the learning rate is too high, the data may look like a 'ball' with \"\n",
      " 'any\\n'\n",
      " '        point approximately equidistant from its nearest neighbours. If the\\n'\n",
      " '        learning rate is too low, most points may look compressed in a '\n",
      " 'dense\\n'\n",
      " '        cloud with few outliers. If the cost function gets stuck in a bad '\n",
      " 'local\\n'\n",
      " '        minimum increasing the learning rate may help.\\n'\n",
      " '\\n'\n",
      " '    n_iter : int, optional (default: 1000)\\n'\n",
      " '        Maximum number of iterations for the optimization. Should be at\\n'\n",
      " '        least 250.\\n'\n",
      " '\\n'\n",
      " '    n_iter_without_progress : int, optional (default: 300)\\n'\n",
      " '        Maximum number of iterations without progress before we abort the\\n'\n",
      " '        optimization, used after 250 initial iterations with early\\n'\n",
      " '        exaggeration. Note that progress is only checked every 50 iterations '\n",
      " 'so\\n'\n",
      " '        this value is rounded to the next multiple of 50.\\n'\n",
      " '\\n'\n",
      " '        .. versionadded:: 0.17\\n'\n",
      " '           parameter *n_iter_without_progress* to control stopping '\n",
      " 'criteria.\\n'\n",
      " '\\n'\n",
      " '    min_grad_norm : float, optional (default: 1e-7)\\n'\n",
      " '        If the gradient norm is below this threshold, the optimization will\\n'\n",
      " '        be stopped.\\n'\n",
      " '\\n'\n",
      " '    metric : string or callable, optional\\n'\n",
      " '        The metric to use when calculating distance between instances in a\\n'\n",
      " '        feature array. If metric is a string, it must be one of the options\\n'\n",
      " '        allowed by scipy.spatial.distance.pdist for its metric parameter, '\n",
      " 'or\\n'\n",
      " '        a metric listed in pairwise.PAIRWISE_DISTANCE_FUNCTIONS.\\n'\n",
      " '        If metric is \"precomputed\", X is assumed to be a distance matrix.\\n'\n",
      " '        Alternatively, if metric is a callable function, it is called on '\n",
      " 'each\\n'\n",
      " '        pair of instances (rows) and the resulting value recorded. The '\n",
      " 'callable\\n'\n",
      " '        should take two arrays from X as input and return a value '\n",
      " 'indicating\\n'\n",
      " '        the distance between them. The default is \"euclidean\" which is\\n'\n",
      " '        interpreted as squared euclidean distance.\\n'\n",
      " '\\n'\n",
      " '    init : string or numpy array, optional (default: \"random\")\\n'\n",
      " \"        Initialization of embedding. Possible options are 'random', 'pca',\\n\"\n",
      " '        and a numpy array of shape (n_samples, n_components).\\n'\n",
      " '        PCA initialization cannot be used with precomputed distances and is\\n'\n",
      " '        usually more globally stable than random initialization.\\n'\n",
      " '\\n'\n",
      " '    verbose : int, optional (default: 0)\\n'\n",
      " '        Verbosity level.\\n'\n",
      " '\\n'\n",
      " '    random_state : int, RandomState instance or None, optional (default: '\n",
      " 'None)\\n'\n",
      " '        If int, random_state is the seed used by the random number '\n",
      " 'generator;\\n'\n",
      " '        If RandomState instance, random_state is the random number '\n",
      " 'generator;\\n'\n",
      " '        If None, the random number generator is the RandomState instance '\n",
      " 'used\\n'\n",
      " '        by `np.random`.  Note that different initializations might result '\n",
      " 'in\\n'\n",
      " '        different local minima of the cost function.\\n'\n",
      " '\\n'\n",
      " \"    method : string (default: 'barnes_hut')\\n\"\n",
      " '        By default the gradient calculation algorithm uses Barnes-Hut\\n'\n",
      " \"        approximation running in O(NlogN) time. method='exact'\\n\"\n",
      " '        will run on the slower, but exact, algorithm in O(N^2) time. The\\n'\n",
      " '        exact algorithm should be used when nearest-neighbor errors need\\n'\n",
      " '        to be better than 3%. However, the exact method cannot scale to\\n'\n",
      " '        millions of examples.\\n'\n",
      " '\\n'\n",
      " '        .. versionadded:: 0.17\\n'\n",
      " '           Approximate optimization *method* via the Barnes-Hut.\\n'\n",
      " '\\n'\n",
      " '    angle : float (default: 0.5)\\n'\n",
      " \"        Only used if method='barnes_hut'\\n\"\n",
      " '        This is the trade-off between speed and accuracy for Barnes-Hut '\n",
      " 'T-SNE.\\n'\n",
      " \"        'angle' is the angular size (referred to as theta in [3]) of a \"\n",
      " 'distant\\n'\n",
      " \"        node as measured from a point. If this size is below 'angle' then it \"\n",
      " 'is\\n'\n",
      " '        used as a summary node of all points contained within it.\\n'\n",
      " '        This method is not very sensitive to changes in this parameter\\n'\n",
      " '        in the range of 0.2 - 0.8. Angle less than 0.2 has quickly '\n",
      " 'increasing\\n'\n",
      " '        computation time and angle greater 0.8 has quickly increasing '\n",
      " 'error.\\n'\n",
      " '\\n'\n",
      " '    Attributes\\n'\n",
      " '    ----------\\n'\n",
      " '    embedding_ : array-like, shape (n_samples, n_components)\\n'\n",
      " '        Stores the embedding vectors.\\n'\n",
      " '\\n'\n",
      " '    kl_divergence_ : float\\n'\n",
      " '        Kullback-Leibler divergence after optimization.\\n'\n",
      " '\\n'\n",
      " '    n_iter_ : int\\n'\n",
      " '        Number of iterations run.\\n'\n",
      " '\\n'\n",
      " '    Examples\\n'\n",
      " '    --------\\n'\n",
      " '\\n'\n",
      " '    >>> import numpy as np\\n'\n",
      " '    >>> from sklearn.manifold import TSNE\\n'\n",
      " '    >>> X = np.array([[0, 0, 0], [0, 1, 1], [1, 0, 1], [1, 1, 1]])\\n'\n",
      " '    >>> X_embedded = TSNE(n_components=2).fit_transform(X)\\n'\n",
      " '    >>> X_embedded.shape\\n'\n",
      " '    (4, 2)\\n'\n",
      " '\\n'\n",
      " '    References\\n'\n",
      " '    ----------\\n'\n",
      " '\\n'\n",
      " '    [1] van der Maaten, L.J.P.; Hinton, G.E. Visualizing High-Dimensional '\n",
      " 'Data\\n'\n",
      " '        Using t-SNE. Journal of Machine Learning Research 9:2579-2605, '\n",
      " '2008.\\n'\n",
      " '\\n'\n",
      " '    [2] van der Maaten, L.J.P. t-Distributed Stochastic Neighbor Embedding\\n'\n",
      " '        http://homepage.tudelft.nl/19j49/t-SNE.html\\n'\n",
      " '\\n'\n",
      " '    [3] L.J.P. van der Maaten. Accelerating t-SNE using Tree-Based '\n",
      " 'Algorithms.\\n'\n",
      " '        Journal of Machine Learning Research 15(Oct):3221-3245, 2014.\\n'\n",
      " '        http://lvdmaaten.github.io/publications/papers/JMLR_2014.pdf\\n'\n",
      " '    ')\n"
     ]
    }
   ],
   "source": [
    "from pprint import pprint\n",
    "pprint(TSNE.__doc__)"
   ]
  },
  {
   "cell_type": "code",
   "execution_count": 76,
   "metadata": {},
   "outputs": [
    {
     "data": {
      "text/plain": [
       "(70000, 784)"
      ]
     },
     "execution_count": 76,
     "metadata": {},
     "output_type": "execute_result"
    }
   ],
   "source": [
    "X.shape"
   ]
  },
  {
   "cell_type": "code",
   "execution_count": 4,
   "metadata": {},
   "outputs": [],
   "source": [
    "tsne = TSNE()"
   ]
  },
  {
   "cell_type": "code",
   "execution_count": null,
   "metadata": {},
   "outputs": [],
   "source": []
  },
  {
   "cell_type": "code",
   "execution_count": 17,
   "metadata": {},
   "outputs": [
    {
     "name": "stdout",
     "output_type": "stream",
     "text": [
      "23.180887937545776\n"
     ]
    }
   ],
   "source": [
    "import time\n",
    "start = time.time() \n",
    "X_tsne_reduced = tsne.fit_transform(X[:1000])\n",
    "end = time.time()\n",
    "print(end-start)"
   ]
  },
  {
   "cell_type": "code",
   "execution_count": 24,
   "metadata": {},
   "outputs": [],
   "source": [
    "import numpy as np\n",
    "data = np.array([[10 , 0.22499513626098633],\n",
    "[33 , 0.42253732681274414],\n",
    "[100, 1.6129119396209717],\n",
    "[300, 5.6064369678497314],\n",
    "[500, 10.480701208114624],\n",
    "[1000, 23.180887937545776]])"
   ]
  },
  {
   "cell_type": "code",
   "execution_count": 25,
   "metadata": {},
   "outputs": [],
   "source": [
    "from sklearn.preprocessing import PolynomialFeatures"
   ]
  },
  {
   "cell_type": "code",
   "execution_count": 27,
   "metadata": {},
   "outputs": [],
   "source": [
    "X , y = data[:,0], data[:,1]"
   ]
  },
  {
   "cell_type": "code",
   "execution_count": 28,
   "metadata": {},
   "outputs": [
    {
     "data": {
      "text/plain": [
       "(array([  10.,   33.,  100.,  300.,  500., 1000.]),\n",
       " array([ 0.22499514,  0.42253733,  1.61291194,  5.60643697, 10.48070121,\n",
       "        23.18088794]))"
      ]
     },
     "execution_count": 28,
     "metadata": {},
     "output_type": "execute_result"
    }
   ],
   "source": [
    "X,y"
   ]
  },
  {
   "cell_type": "code",
   "execution_count": 46,
   "metadata": {},
   "outputs": [],
   "source": [
    "from sklearn.linear_model import LinearRegression"
   ]
  },
  {
   "cell_type": "code",
   "execution_count": 47,
   "metadata": {},
   "outputs": [],
   "source": [
    "sgd_reg = LinearRegression()"
   ]
  },
  {
   "cell_type": "code",
   "execution_count": 48,
   "metadata": {},
   "outputs": [
    {
     "data": {
      "text/plain": [
       "LinearRegression(copy_X=True, fit_intercept=True, n_jobs=1, normalize=False)"
      ]
     },
     "execution_count": 48,
     "metadata": {},
     "output_type": "execute_result"
    }
   ],
   "source": [
    "sgd_reg.fit(X.reshape(-1,1),y)"
   ]
  },
  {
   "cell_type": "code",
   "execution_count": 54,
   "metadata": {},
   "outputs": [
    {
     "data": {
      "text/plain": [
       "array([-0.39533784,  0.14088703,  1.70293342,  6.36575844, 11.02858346,\n",
       "       22.68564601])"
      ]
     },
     "execution_count": 54,
     "metadata": {},
     "output_type": "execute_result"
    }
   ],
   "source": [
    "sgd_reg.predict(X)"
   ]
  },
  {
   "cell_type": "code",
   "execution_count": 3,
   "metadata": {},
   "outputs": [],
   "source": [
    "from sklearn.model_selection import train_test_split\n",
    "X_train, X_val , y_train, y_val = train_test_split(X,y,test_size=10000)"
   ]
  },
  {
   "cell_type": "code",
   "execution_count": 5,
   "metadata": {},
   "outputs": [],
   "source": [
    "from sklearn.manifold import TSNE\n",
    "tsne=TSNE()"
   ]
  },
  {
   "cell_type": "code",
   "execution_count": 6,
   "metadata": {},
   "outputs": [],
   "source": [
    "X_val_reduced = tsne.fit_transform(X_val)"
   ]
  },
  {
   "cell_type": "code",
   "execution_count": 9,
   "metadata": {},
   "outputs": [],
   "source": [
    "import matplotlib.pyplot as plt\n",
    "%matplotlib inline"
   ]
  },
  {
   "cell_type": "code",
   "execution_count": 23,
   "metadata": {},
   "outputs": [],
   "source": [
    "def plotmnist(X,y):\n",
    "    for i in range(10):\n",
    "        y_new = (y==i)\n",
    "        mx = X[y_new,0]\n",
    "        nx = X[y_new,1]\n",
    "        plt.scatter(mx, nx)\n",
    "        \n",
    "    plt.legend()\n"
   ]
  },
  {
   "cell_type": "code",
   "execution_count": 24,
   "metadata": {},
   "outputs": [
    {
     "name": "stderr",
     "output_type": "stream",
     "text": [
      "No handles with labels found to put in legend.\n"
     ]
    },
    {
     "data": {
      "image/png": "[encoded data removed]",
      "text/plain": [
       "<Figure size 432x288 with 1 Axes>"
      ]
     },
     "metadata": {},
     "output_type": "display_data"
    }
   ],
   "source": [
    "plotmnist(X_val_reduced,y_val)"
   ]
  },
  {
   "cell_type": "code",
   "execution_count": 15,
   "metadata": {},
   "outputs": [
    {
     "data": {
      "text/plain": [
       "array([-78.55001 , -70.993   , -80.412926, ..., -59.169773, -81.03369 ,\n",
       "       -70.02517 ], dtype=float32)"
      ]
     },
     "execution_count": 15,
     "metadata": {},
     "output_type": "execute_result"
    }
   ],
   "source": [
    "y_new = (y_val==0)\n",
    "X_val_reduced[y_new,0]"
   ]
  },
  {
   "cell_type": "code",
   "execution_count": 26,
   "metadata": {},
   "outputs": [],
   "source": [
    "from sklearn.decomposition import PCA\n",
    "pca = PCA(n_components=2)\n",
    "X_pca_reduced = pca.fit_transform(X_val)"
   ]
  },
  {
   "cell_type": "code",
   "execution_count": 28,
   "metadata": {},
   "outputs": [
    {
     "name": "stderr",
     "output_type": "stream",
     "text": [
      "No handles with labels found to put in legend.\n"
     ]
    },
    {
     "data": {
      "image/png": "[encoded data removed]",
      "text/plain": [
       "<Figure size 432x288 with 1 Axes>"
      ]
     },
     "metadata": {},
     "output_type": "display_data"
    }
   ],
   "source": [
    "plotmnist(X_pca_reduced, y_val)"
   ]
  },
  {
   "cell_type": "code",
   "execution_count": 34,
   "metadata": {},
   "outputs": [
    {
     "name": "stdout",
     "output_type": "stream",
     "text": [
      "Collecting package metadata (repodata.json): done\n",
      "Solving environment: done\n",
      "\n",
      "## Package Plan ##\n",
      "\n",
      "  environment location: /Users/Kunal/anaconda3\n",
      "\n",
      "\n",
      "The following packages will be downloaded:\n",
      "\n",
      "    package                    |            build\n",
      "    ---------------------------|-----------------\n",
      "    _ipyw_jlab_nb_ext_conf-0.1.0|           py36_0           4 KB\n",
      "    alabaster-0.7.12           |           py36_0          17 KB\n",
      "    anaconda-2020.02           |           py36_0          13 KB\n",
      "    anaconda-client-1.7.2      |           py36_0         141 KB\n",
      "    anaconda-navigator-1.9.12  |           py36_0         6.3 MB\n",
      "    anaconda-project-0.8.4     |             py_0         215 KB\n",
      "    applaunchservices-0.2.1    |             py_0           9 KB\n",
      "    appscript-1.1.0            |   py36h1de35cc_0         271 KB\n",
      "    argh-0.26.2                |           py36_0          36 KB\n",
      "    asn1crypto-1.3.0           |           py36_0         162 KB\n",
      "    astroid-2.3.3              |           py36_0         289 KB\n",
      "    astropy-4.0                |   py36h1de35cc_0         7.3 MB\n",
      "    atomicwrites-1.3.0         |           py36_1          13 KB\n",
      "    attrs-19.3.0               |             py_0          39 KB\n",
      "    autopep8-1.4.4             |             py_0          41 KB\n",
      "    babel-2.8.0                |             py_0         6.0 MB\n",
      "    backports-1.0              |             py_2         139 KB\n",
      "    backports.shutil_get_terminal_size-1.0.0|           py36_2           8 KB\n",
      "    beautifulsoup4-4.8.2       |           py36_0         161 KB\n",
      "    bitarray-1.2.1             |   py36h1de35cc_0          80 KB\n",
      "    bkcharts-0.2               |           py36_0         128 KB\n",
      "    bleach-3.1.0               |           py36_0         224 KB\n",
      "    blosc-1.16.3               |       hd9629dc_0          64 KB\n",
      "    bokeh-1.4.0                |           py36_0        13.5 MB\n",
      "    boto-2.49.0                |           py36_0         1.5 MB\n",
      "    bottleneck-1.3.2           |   py36h776bbcc_0         120 KB\n",
      "    bzip2-1.0.8                |       h1de35cc_0         104 KB\n",
      "    ca-certificates-2020.1.1   |                0         132 KB\n",
      "    certifi-2019.11.28         |           py36_0         156 KB\n",
      "    cffi-1.14.0                |   py36hb5b8e2f_0         218 KB\n",
      "    chardet-3.0.4              |        py36_1003         201 KB\n",
      "    click-7.0                  |           py36_0         118 KB\n",
      "    cloudpickle-1.3.0          |             py_0          29 KB\n",
      "    clyent-1.2.2               |           py36_1          19 KB\n",
      "    colorama-0.4.3             |             py_0          20 KB\n",
      "    conda-4.8.3                |           py36_0         3.0 MB\n",
      "    conda-build-3.18.11        |           py36_0         533 KB\n",
      "    conda-package-handling-1.6.0|   py36h1de35cc_0         1.4 MB\n",
      "    contextlib2-0.6.0.post1    |             py_0          16 KB\n",
      "    cryptography-2.8           |   py36ha12b0ac_0         590 KB\n",
      "    curl-7.68.0                |       ha441bb4_0         140 KB\n",
      "    cython-0.29.15             |   py36h0a44026_0         2.1 MB\n",
      "    cytoolz-0.10.1             |   py36h1de35cc_0         371 KB\n",
      "    dask-2.11.0                |             py_0          13 KB\n",
      "    dask-core-2.11.0           |             py_0         597 KB\n",
      "    dbus-1.13.12               |       h90a0687_0         516 KB\n",
      "    decorator-4.4.1            |             py_0          13 KB\n",
      "    defusedxml-0.6.0           |             py_0          23 KB\n",
      "    diff-match-patch-20181111  |             py_0          39 KB\n",
      "    distributed-2.11.0         |           py36_0         997 KB\n",
      "    docutils-0.16              |           py36_0         742 KB\n",
      "    entrypoints-0.3            |           py36_0          12 KB\n",
      "    expat-2.2.6                |       h0a44026_0         129 KB\n",
      "    fastcache-1.1.0            |   py36h1de35cc_0          29 KB\n",
      "    filelock-3.0.12            |             py_0          12 KB\n",
      "    flake8-3.7.9               |           py36_0         134 KB\n",
      "    flask-1.1.1                |             py_0          73 KB\n",
      "    freetype-2.9.1             |       hb4e5f40_0         864 KB\n",
      "    fsspec-0.6.2               |             py_0          50 KB\n",
      "    future-0.18.2              |           py36_0         714 KB\n",
      "    gevent-1.4.0               |   py36h1de35cc_0         2.4 MB\n",
      "    glib-2.63.1                |       hd977a24_0         3.2 MB\n",
      "    glob2-0.7                  |             py_0          14 KB\n",
      "    gmpy2-2.0.8                |   py36h6ef4df4_2         162 KB\n",
      "    greenlet-0.4.15            |   py36h1de35cc_0          18 KB\n",
      "    h5py-2.10.0                |   py36h3134771_0        1003 KB\n",
      "    hdf5-1.10.4                |       hfa1e0ec_0         4.5 MB\n",
      "    heapdict-1.0.1             |             py_0           9 KB\n",
      "    html5lib-1.0.1             |           py36_0         184 KB\n",
      "    hypothesis-5.5.4           |             py_0         218 KB\n",
      "    idna-2.8                   |           py36_0         133 KB\n",
      "    imageio-2.6.1              |           py36_0         3.3 MB\n",
      "    imagesize-1.2.0            |             py_0          10 KB\n",
      "    importlib_metadata-1.5.0   |           py36_0          47 KB\n",
      "    intel-openmp-2019.4        |              233         1.1 MB\n",
      "    intervaltree-3.0.2         |             py_0          25 KB\n",
      "    ipykernel-5.1.4            |   py36h39e3cac_0         168 KB\n",
      "    ipython-7.12.0             |   py36h5ca1d4c_0         1.1 MB\n",
      "    ipython_genutils-0.2.0     |           py36_0          40 KB\n",
      "    ipywidgets-7.5.1           |             py_0         107 KB\n",
      "    isort-4.3.21               |           py36_0          68 KB\n",
      "    itsdangerous-1.1.0         |           py36_0          26 KB\n",
      "    jdcal-1.4.1                |             py_0          11 KB\n",
      "    jedi-0.14.1                |           py36_0         698 KB\n",
      "    jinja2-2.11.1              |             py_0          97 KB\n",
      "    joblib-0.14.1              |             py_0         202 KB\n",
      "    json5-0.9.1                |             py_0          26 KB\n",
      "    jsonschema-3.2.0           |           py36_0          93 KB\n",
      "    jupyter-1.0.0              |           py36_7           6 KB\n",
      "    jupyter_client-5.3.4       |           py36_0         135 KB\n",
      "    jupyter_console-6.1.0      |             py_0          24 KB\n",
      "    jupyter_core-4.6.1         |           py36_0          74 KB\n",
      "    jupyterlab-1.0.2           |   py36hf63ae98_0        13.7 MB\n",
      "    jupyterlab_server-1.0.6    |             py_0          26 KB\n",
      "    keyring-21.1.0             |           py36_0          53 KB\n",
      "    kiwisolver-1.1.0           |   py36h0a44026_0          60 KB\n",
      "    krb5-1.17.1                |       hddcf347_0         1.2 MB\n",
      "    lazy-object-proxy-1.4.3    |   py36h1de35cc_0          29 KB\n",
      "    libcurl-7.68.0             |       h051b688_0         554 KB\n",
      "    libcxx-4.0.1               |       hcfea43d_1         1.2 MB\n",
      "    libcxxabi-4.0.1            |       hcfea43d_1         458 KB\n",
      "    libedit-3.1.20181209       |       hb402a30_0         159 KB\n",
      "    liblief-0.9.0              |       h2a1bed3_2         4.0 MB\n",
      "    libpng-1.6.37              |       ha441bb4_0         325 KB\n",
      "    libspatialindex-1.9.3      |       h0a44026_0         421 KB\n",
      "    libssh2-1.9.0              |       ha12b0ac_1         277 KB\n",
      "    libtiff-4.1.0              |       hcb84e12_0         535 KB\n",
      "    libxml2-2.9.9              |       hf6e021a_1         1.9 MB\n",
      "    libxslt-1.1.33             |       h33a18ac_0         500 KB\n",
      "    llvm-openmp-4.0.1          |       hcfea43d_1         454 KB\n",
      "    llvmlite-0.31.0            |   py36h1341992_0        13.7 MB\n",
      "    lxml-4.5.0                 |   py36hef8c89e_0         1.4 MB\n",
      "    markupsafe-1.1.1           |   py36h1de35cc_0          28 KB\n",
      "    matplotlib-3.1.3           |           py36_0          20 KB\n",
      "    matplotlib-base-3.1.3      |   py36h9aa3819_0         6.6 MB\n",
      "    mccabe-0.6.1               |           py36_1          14 KB\n",
      "    mistune-0.8.4              |   py36h1de35cc_0          54 KB\n",
      "    mkl-2019.4                 |              233       155.2 MB\n",
      "    mkl-service-2.3.0          |   py36hfbe908c_0         188 KB\n",
      "    mkl_fft-1.0.15             |   py36h5e564d8_0         160 KB\n",
      "    mkl_random-1.1.0           |   py36ha771720_0         340 KB\n",
      "    mock-4.0.1                 |             py_0          30 KB\n",
      "    more-itertools-8.2.0       |             py_0          39 KB\n",
      "    mpc-1.1.0                  |       h6ef4df4_1          90 KB\n",
      "    mpfr-4.0.1                 |       h3018a27_3         526 KB\n",
      "    mpmath-1.1.0               |           py36_0         968 KB\n",
      "    msgpack-python-0.6.1       |   py36h04f5b5a_1          86 KB\n",
      "    multipledispatch-0.6.0     |           py36_0          21 KB\n",
      "    nbconvert-5.6.1            |           py36_0         496 KB\n",
      "    nbformat-5.0.4             |             py_0         102 KB\n",
      "    ncurses-6.2                |       h0a44026_0        1024 KB\n",
      "    networkx-2.4               |             py_0         1.2 MB\n",
      "    nltk-3.4.5                 |           py36_0         2.1 MB\n",
      "    nose-1.3.7                 |           py36_2         214 KB\n",
      "    notebook-6.0.3             |           py36_0         6.3 MB\n",
      "    numba-0.48.0               |   py36h6c726b0_0         3.2 MB\n",
      "    numexpr-2.7.1              |   py36hce01a72_0         131 KB\n",
      "    numpy-1.18.1               |   py36h7241aed_0           5 KB\n",
      "    numpy-base-1.18.1          |   py36h6575580_1         5.0 MB\n",
      "    numpydoc-0.9.2             |             py_0          31 KB\n",
      "    olefile-0.46               |           py36_0          48 KB\n",
      "    openpyxl-3.0.3             |             py_0         158 KB\n",
      "    openssl-1.1.1d             |       h1de35cc_4         3.4 MB\n",
      "    packaging-20.1             |             py_0          34 KB\n",
      "    pandas-1.0.1               |   py36h6c726b0_0        10.1 MB\n",
      "    pandoc-2.2.3.2             |                0        13.8 MB\n",
      "    pandocfilters-1.4.2        |           py36_1          13 KB\n",
      "    parso-0.5.2                |             py_0          69 KB\n",
      "    partd-1.1.0                |             py_0          20 KB\n",
      "    path-13.1.0                |           py36_0          35 KB\n",
      "    path.py-12.4.0             |                0           7 KB\n",
      "    pathlib2-2.3.5             |           py36_0          37 KB\n",
      "    pathtools-0.1.2            |             py_1          10 KB\n",
      "    patsy-0.5.1                |           py36_0         376 KB\n",
      "    pcre-8.43                  |       h0a44026_0         227 KB\n",
      "    pexpect-4.8.0              |           py36_0          84 KB\n",
      "    pickleshare-0.7.5          |           py36_0          12 KB\n",
      "    pillow-7.0.0               |   py36h4655f20_0         612 KB\n",
      "    pip-20.0.2                 |           py36_1         1.9 MB\n",
      "    pkginfo-1.5.0.1            |           py36_0          43 KB\n",
      "    pluggy-0.13.1              |           py36_0          32 KB\n",
      "    prometheus_client-0.7.1    |             py_0          42 KB\n",
      "    prompt_toolkit-3.0.3       |             py_0         236 KB\n",
      "    psutil-5.6.7               |   py36h1de35cc_0         339 KB\n",
      "    ptyprocess-0.6.0           |           py36_0          23 KB\n",
      "    py-1.8.1                   |             py_0          69 KB\n",
      "    py-lief-0.9.0              |   py36h1413db1_2         1.5 MB\n",
      "    pycodestyle-2.5.0          |           py36_0          60 KB\n",
      "    pycosat-0.6.3              |   py36h1de35cc_0         107 KB\n",
      "    pycparser-2.19             |           py36_0         173 KB\n",
      "    pycrypto-2.6.1             |   py36h1de35cc_9         452 KB\n",
      "    pycurl-7.43.0.5            |   py36ha12b0ac_0          74 KB\n",
      "    pydocstyle-4.0.1           |             py_0          34 KB\n",
      "    pyflakes-2.1.1             |           py36_0         105 KB\n",
      "    pygments-2.5.2             |             py_0         672 KB\n",
      "    pylint-2.4.4               |           py36_0         434 KB\n",
      "    pyodbc-4.0.30              |   py36h0a44026_0          66 KB\n",
      "    pyopenssl-19.1.0           |           py36_0          87 KB\n",
      "    pyparsing-2.4.6            |             py_0          64 KB\n",
      "    pyqt-5.9.2                 |   py36h655552a_2         4.4 MB\n",
      "    pyrsistent-0.15.7          |   py36h1de35cc_0          91 KB\n",
      "    pysocks-1.7.1              |           py36_0          30 KB\n",
      "    pytables-3.6.1             |   py36h5bccee9_0         1.4 MB\n",
      "    pytest-5.3.5               |           py36_0         378 KB\n",
      "    pytest-arraydiff-0.3       |   py36h39e3cac_0          15 KB\n",
      "    pytest-astropy-0.8.0       |             py_0           9 KB\n",
      "    pytest-astropy-header-0.1.2|             py_0          11 KB\n",
      "    pytest-doctestplus-0.5.0   |             py_0          21 KB\n",
      "    pytest-openfiles-0.4.0     |             py_0          10 KB\n",
      "    pytest-remotedata-0.3.2    |           py36_0          14 KB\n",
      "    python-3.6.10              |       h359304d_0        20.6 MB\n",
      "    python-dateutil-2.8.1      |             py_0         224 KB\n",
      "    python-jsonrpc-server-0.3.4|             py_0          13 KB\n",
      "    python-language-server-0.31.7|           py36_0          72 KB\n",
      "    python-libarchive-c-2.8    |          py36_13          23 KB\n",
      "    python.app-2               |          py36_10         1.5 MB\n",
      "    pytz-2019.3                |             py_0         231 KB\n",
      "    pywavelets-1.1.1           |   py36h1de35cc_0         4.3 MB\n",
      "    pyyaml-5.3                 |   py36h1de35cc_0         172 KB\n",
      "    pyzmq-18.1.1               |   py36h0a44026_0         441 KB\n",
      "    qdarkstyle-2.8             |             py_0         156 KB\n",
      "    qt-5.9.7                   |       h468cd18_1        76.8 MB\n",
      "    qtawesome-0.6.1            |             py_0         770 KB\n",
      "    qtconsole-4.6.0            |             py_1          95 KB\n",
      "    qtpy-1.9.0                 |             py_0          39 KB\n",
      "    readline-7.0               |       h1de35cc_5         393 KB\n",
      "    requests-2.22.0            |           py36_1          90 KB\n",
      "    ripgrep-11.0.2             |       he32d670_0         1.2 MB\n",
      "    rope-0.16.0                |             py_0         120 KB\n",
      "    rtree-0.9.3                |           py36_0          46 KB\n",
      "    ruamel_yaml-0.15.87        |   py36h1de35cc_0         247 KB\n",
      "    scikit-image-0.16.2        |   py36h6c726b0_0        24.2 MB\n",
      "    scikit-learn-0.22.1        |   py36h27c97d8_0         6.3 MB\n",
      "    scipy-1.4.1                |   py36h9fa6033_0        16.8 MB\n",
      "    seaborn-0.10.0             |             py_0         161 KB\n",
      "    setuptools-46.0.0          |           py36_0         645 KB\n",
      "    six-1.14.0                 |           py36_0          27 KB\n",
      "    snowballstemmer-2.0.0      |             py_0          58 KB\n",
      "    sortedcollections-1.1.2    |           py36_0          18 KB\n",
      "    sortedcontainers-2.1.0     |           py36_0          45 KB\n",
      "    soupsieve-1.9.5            |           py36_0          61 KB\n",
      "    sphinx-2.4.0               |             py_0         1.4 MB\n",
      "    sphinxcontrib-1.0          |           py36_1           3 KB\n",
      "    sphinxcontrib-applehelp-1.0.1|             py_0          29 KB\n",
      "    sphinxcontrib-devhelp-1.0.1|             py_0          23 KB\n",
      "    sphinxcontrib-htmlhelp-1.0.2|             py_0          28 KB\n",
      "    sphinxcontrib-jsmath-1.0.1 |             py_0           8 KB\n",
      "    sphinxcontrib-qthelp-1.0.2 |             py_0          26 KB\n",
      "    sphinxcontrib-serializinghtml-1.1.3|             py_0          24 KB\n",
      "    sphinxcontrib-websupport-1.2.0|             py_0          35 KB\n",
      "    spyder-4.0.1               |           py36_0         7.7 MB\n",
      "    spyder-kernels-1.8.1       |           py36_0          90 KB\n",
      "    sqlalchemy-1.3.13          |   py36h1de35cc_0         1.8 MB\n",
      "    sqlite-3.31.1              |       ha441bb4_0         2.4 MB\n",
      "    statsmodels-0.11.0         |   py36h1de35cc_0         9.5 MB\n",
      "    sympy-1.5.1                |           py36_0        10.3 MB\n",
      "    tbb-2020.0                 |       h04f5b5a_0         167 KB\n",
      "    tblib-1.6.0                |             py_0          16 KB\n",
      "    terminado-0.8.3            |           py36_0          25 KB\n",
      "    testpath-0.4.4             |             py_0          88 KB\n",
      "    tk-8.6.8                   |       ha441bb4_0         3.2 MB\n",
      "    toolz-0.10.0               |             py_0          50 KB\n",
      "    tornado-6.0.3              |   py36h1de35cc_3         643 KB\n",
      "    tqdm-4.42.1                |             py_0          56 KB\n",
      "    traitlets-4.3.3            |           py36_0         137 KB\n",
      "    typed-ast-1.4.1            |   py36h1de35cc_0         198 KB\n",
      "    ujson-1.35                 |   py36h1de35cc_0          25 KB\n",
      "    unixodbc-2.3.7             |       h1de35cc_0         271 KB\n",
      "    urllib3-1.25.8             |           py36_0         165 KB\n",
      "    virtualenv-16.7.5          |             py_0         3.2 MB\n",
      "    watchdog-0.10.2            |   py36h1de35cc_0          98 KB\n",
      "    wcwidth-0.1.8              |             py_0          22 KB\n",
      "    webencodings-0.5.1         |           py36_1          19 KB\n",
      "    werkzeug-1.0.0             |             py_0         243 KB\n",
      "    wheel-0.34.2               |           py36_0          49 KB\n",
      "    widgetsnbextension-3.5.1   |           py36_0         1.8 MB\n",
      "    wrapt-1.11.2               |   py36h1de35cc_0          44 KB\n",
      "    wurlitzer-2.0.0            |           py36_0          14 KB\n",
      "    xlrd-1.2.0                 |           py36_0         188 KB\n",
      "    xlsxwriter-1.2.7           |             py_0         108 KB\n",
      "    xlwings-0.17.1             |           py36_0         490 KB\n",
      "    xmltodict-0.12.0           |             py_0          14 KB\n",
      "    yapf-0.28.0                |             py_0         120 KB\n",
      "    zeromq-4.3.1               |       h0a44026_3         565 KB\n",
      "    zict-1.0.0                 |             py_0          12 KB\n",
      "    zipp-2.2.0                 |             py_0          12 KB\n",
      "    zlib-1.2.11                |       h1de35cc_3         105 KB\n",
      "    ------------------------------------------------------------\n",
      "                                           Total:       537.7 MB\n",
      "\n",
      "The following NEW packages will be INSTALLED:\n",
      "\n",
      "  applaunchservices  pkgs/main/noarch::applaunchservices-0.2.1-py_0\n",
      "  argh               pkgs/main/osx-64::argh-0.26.2-py36_0\n",
      "  atomicwrites       pkgs/main/osx-64::atomicwrites-1.3.0-py36_1\n",
      "  autopep8           pkgs/main/noarch::autopep8-1.4.4-py_0\n",
      "  defusedxml         pkgs/main/noarch::defusedxml-0.6.0-py_0\n"
     ]
    },
    {
     "name": "stdout",
     "output_type": "stream",
     "text": [
      "  diff-match-patch   pkgs/main/noarch::diff-match-patch-20181111-py_0\r\n",
      "  flake8             pkgs/main/osx-64::flake8-3.7.9-py36_0\r\n",
      "  fsspec             pkgs/main/noarch::fsspec-0.6.2-py_0\r\n",
      "  future             pkgs/main/osx-64::future-0.18.2-py36_0\r\n",
      "  hypothesis         pkgs/main/noarch::hypothesis-5.5.4-py_0\r\n",
      "  importlib_metadata pkgs/main/osx-64::importlib_metadata-1.5.0-py36_0\r\n",
      "  intervaltree       pkgs/main/noarch::intervaltree-3.0.2-py_0\r\n",
      "  joblib             pkgs/main/noarch::joblib-0.14.1-py_0\r\n",
      "  json5              pkgs/main/noarch::json5-0.9.1-py_0\r\n",
      "  jupyterlab_server  pkgs/main/noarch::jupyterlab_server-1.0.6-py_0\r\n",
      "  keyring            pkgs/main/osx-64::keyring-21.1.0-py36_0\r\n",
      "  krb5               pkgs/main/osx-64::krb5-1.17.1-hddcf347_0\r\n",
      "  liblief            pkgs/main/osx-64::liblief-0.9.0-h2a1bed3_2\r\n",
      "  libspatialindex    pkgs/main/osx-64::libspatialindex-1.9.3-h0a44026_0\r\n",
      "  llvm-openmp        pkgs/main/osx-64::llvm-openmp-4.0.1-hcfea43d_1\r\n",
      "  matplotlib-base    pkgs/main/osx-64::matplotlib-base-3.1.3-py36h9aa3819_0\r\n",
      "  mock               pkgs/main/noarch::mock-4.0.1-py_0\r\n",
      "  path               pkgs/main/osx-64::path-13.1.0-py36_0\r\n",
      "  pathtools          pkgs/main/noarch::pathtools-0.1.2-py_1\r\n",
      "  prometheus_client  pkgs/main/noarch::prometheus_client-0.7.1-py_0\r\n",
      "  py-lief            pkgs/main/osx-64::py-lief-0.9.0-py36h1413db1_2\r\n",
      "  pydocstyle         pkgs/main/noarch::pydocstyle-4.0.1-py_0\r\n",
      "  pyrsistent         pkgs/main/osx-64::pyrsistent-0.15.7-py36h1de35cc_0\r\n",
      "  pytest-astropy-he~ pkgs/main/noarch::pytest-astropy-header-0.1.2-py_0\r\n",
      "  python-jsonrpc-se~ pkgs/main/noarch::python-jsonrpc-server-0.3.4-py_0\r\n",
      "  python-language-s~ pkgs/main/osx-64::python-language-server-0.31.7-py36_0\r\n",
      "  qdarkstyle         pkgs/main/noarch::qdarkstyle-2.8-py_0\r\n",
      "  ripgrep            pkgs/main/osx-64::ripgrep-11.0.2-he32d670_0\r\n",
      "  rtree              pkgs/main/osx-64::rtree-0.9.3-py36_0\r\n",
      "  soupsieve          pkgs/main/osx-64::soupsieve-1.9.5-py36_0\r\n",
      "  sphinxcontrib-app~ pkgs/main/noarch::sphinxcontrib-applehelp-1.0.1-py_0\r\n",
      "  sphinxcontrib-dev~ pkgs/main/noarch::sphinxcontrib-devhelp-1.0.1-py_0\r\n",
      "  sphinxcontrib-htm~ pkgs/main/noarch::sphinxcontrib-htmlhelp-1.0.2-py_0\r\n",
      "  sphinxcontrib-jsm~ pkgs/main/noarch::sphinxcontrib-jsmath-1.0.1-py_0\r\n",
      "  sphinxcontrib-qth~ pkgs/main/noarch::sphinxcontrib-qthelp-1.0.2-py_0\r\n",
      "  sphinxcontrib-ser~ pkgs/main/noarch::sphinxcontrib-serializinghtml-1.1.3-py_0\r\n",
      "  spyder-kernels     pkgs/main/osx-64::spyder-kernels-1.8.1-py36_0\r\n",
      "  tbb                pkgs/main/osx-64::tbb-2020.0-h04f5b5a_0\r\n",
      "  typed-ast          pkgs/main/osx-64::typed-ast-1.4.1-py36h1de35cc_0\r\n",
      "  ujson              pkgs/main/osx-64::ujson-1.35-py36h1de35cc_0\r\n",
      "  watchdog           pkgs/main/osx-64::watchdog-0.10.2-py36h1de35cc_0\r\n",
      "  wurlitzer          pkgs/main/osx-64::wurlitzer-2.0.0-py36_0\r\n",
      "  xmltodict          pkgs/main/noarch::xmltodict-0.12.0-py_0\r\n",
      "  yapf               pkgs/main/noarch::yapf-0.28.0-py_0\r\n",
      "  zipp               pkgs/main/noarch::zipp-2.2.0-py_0\r\n",
      "\r\n",
      "The following packages will be REMOVED:\r\n",
      "\r\n",
      "  blaze-0.11.3-py36h02e7a37_0\r\n",
      "  conda-env-2.6.0-h36134e3_0\r\n",
      "  conda-verify-2.0.0-py36he837df3_0\r",
      "\r\n",
      "  datashape-0.5.4-py36hfb22df8_0\r\n",
      "  flask-cors-3.0.4-py36_0\r\n",
      "  jupyterlab_launcher-0.10.5-py36_0\r\n",
      "  odo-0.5.1-py36hc1af34a_0\r\n",
      "  typing-3.6.4-py36_0\r\n",
      "\r\n",
      "The following packages will be UPDATED:\r\n",
      "\r\n",
      "  alabaster                           0.7.10-py36h174008c_0 --> 0.7.12-py36_0\r\n",
      "  anaconda                                     5.2.0-py36_3 --> 2020.02-py36_0\r\n",
      "  anaconda-client                             1.6.14-py36_0 --> 1.7.2-py36_0\r\n",
      "  anaconda-navigator                           1.8.7-py36_0 --> 1.9.12-py36_0\r\n",
      "  anaconda-project   pkgs/main/osx-64::anaconda-project-0.~ --> pkgs/main/noarch::anaconda-project-0.8.4-py_0\r\n",
      "  appscript                            1.0.1-py36h9e71e49_1 --> 1.1.0-py36h1de35cc_0\r\n",
      "  asn1crypto                                  0.24.0-py36_0 --> 1.3.0-py36_0\r\n",
      "  astroid                                      1.6.3-py36_0 --> 2.3.3-py36_0\r\n",
      "  astropy                              3.0.2-py36h917ab60_1 --> 4.0-py36h1de35cc_0\r\n",
      "  attrs               pkgs/main/osx-64::attrs-18.1.0-py36_0 --> pkgs/main/noarch::attrs-19.3.0-py_0\r\n",
      "  babel                pkgs/main/osx-64::babel-2.5.3-py36_0 --> pkgs/main/noarch::babel-2.8.0-py_0\r\n",
      "  backports          pkgs/main/osx-64::backports-1.0-py36h~ --> pkgs/main/noarch::backports-1.0-py_2\r\n",
      "  beautifulsoup4                       4.6.0-py36h72d3c9f_1 --> 4.8.2-py36_0\r\n",
      "  bitarray                             0.8.1-py36h1de35cc_1 --> 1.2.1-py36h1de35cc_0\r\n",
      "  bleach                                       2.1.3-py36_0 --> 3.1.0-py36_0\r\n",
      "  blosc                                   1.14.3-hd9629dc_0 --> 1.16.3-hd9629dc_0\r\n",
      "  bokeh                                      0.12.16-py36_0 --> 1.4.0-py36_0\r\n",
      "  boto                                2.48.0-py36hdbc59ac_1 --> 2.49.0-py36_0\r\n",
      "  bottleneck                           1.2.1-py36hbd380ad_0 --> 1.3.2-py36h776bbcc_0\r\n",
      "  bzip2                                    1.0.6-h1de35cc_5 --> 1.0.8-h1de35cc_0\r\n",
      "  ca-certificates                              2018.03.07-0 --> 2020.1.1-0\r\n",
      "  certifi                                  2018.4.16-py36_0 --> 2019.11.28-py36_0\r\n",
      "  cffi                                1.11.5-py36h342bebf_0 --> 1.14.0-py36hb5b8e2f_0\r\n",
      "  chardet                              3.0.4-py36h96c241c_1 --> 3.0.4-py36_1003\r\n",
      "  click                                  6.7-py36hec950be_0 --> 7.0-py36_0\r\n",
      "  cloudpickle        pkgs/main/osx-64::cloudpickle-0.5.3-p~ --> pkgs/main/noarch::cloudpickle-1.3.0-py_0\r\n",
      "  clyent                               1.2.2-py36hae3ad88_0 --> 1.2.2-py36_1\r\n",
      "  colorama           pkgs/main/osx-64::colorama-0.3.9-py36~ --> pkgs/main/noarch::colorama-0.4.3-py_0\r\n",
      "  conda                                       4.7.10-py36_0 --> 4.8.3-py36_0\r\n",
      "  conda-build                                 3.10.5-py36_0 --> 3.18.11-py36_0\r\n",
      "  conda-package-han~                          1.3.11-py36_0 --> 1.6.0-py36h1de35cc_0\r\n",
      "  contextlib2        pkgs/main/osx-64::contextlib2-0.5.5-p~ --> pkgs/main/noarch::contextlib2-0.6.0.post1-py_0\r\n",
      "  cryptography                         2.2.2-py36h1de35cc_0 --> 2.8-py36ha12b0ac_0\r\n",
      "  curl                                    7.60.0-ha441bb4_0 --> 7.68.0-ha441bb4_0\r\n",
      "  cython                              0.28.2-py36h1de35cc_0 --> 0.29.15-py36h0a44026_0\r\n",
      "  cytoolz                            0.9.0.1-py36h1de35cc_0 --> 0.10.1-py36h1de35cc_0\r\n",
      "  dask                 pkgs/main/osx-64::dask-0.17.5-py36_0 --> pkgs/main/noarch::dask-2.11.0-py_0\r\n",
      "  dask-core          pkgs/main/osx-64::dask-core-0.17.5-py~ --> pkgs/main/noarch::dask-core-2.11.0-py_0\r\n",
      "  dbus                                    1.13.2-h760590f_1 --> 1.13.12-h90a0687_0\r\n",
      "  decorator          pkgs/main/osx-64::decorator-4.3.0-py3~ --> pkgs/main/noarch::decorator-4.4.1-py_0\r\n",
      "  distributed                                 1.21.8-py36_0 --> 2.11.0-py36_0\r\n",
      "  docutils                              0.14-py36hbfde631_0 --> 0.16-py36_0\r\n",
      "  entrypoints                          0.2.3-py36hd81d71f_2 --> 0.3-py36_0\r\n",
      "  expat                                    2.2.5-hb8e80ba_0 --> 2.2.6-h0a44026_0\r\n",
      "  fastcache                            1.0.2-py36h1de35cc_2 --> 1.1.0-py36h1de35cc_0\r\n",
      "  filelock           pkgs/main/osx-64::filelock-3.0.4-py36~ --> pkgs/main/noarch::filelock-3.0.12-py_0\r\n",
      "  flask                pkgs/main/osx-64::flask-1.0.2-py36_1 --> pkgs/main/noarch::flask-1.1.1-py_0\r\n",
      "  freetype                                   2.8-h12048fb_1 --> 2.9.1-hb4e5f40_0\r\n",
      "  gevent                               1.3.0-py36h1de35cc_0 --> 1.4.0-py36h1de35cc_0\r\n",
      "  glib                                    2.56.1-h35bc53a_0 --> 2.63.1-hd977a24_0\r\n",
      "  glob2              pkgs/main/osx-64::glob2-0.6-py36h94c9~ --> pkgs/main/noarch::glob2-0.7-py_0\r\n",
      "  greenlet                            0.4.13-py36h1de35cc_0 --> 0.4.15-py36h1de35cc_0\r\n",
      "  h5py                                 2.7.1-py36ha8ecd60_2 --> 2.10.0-py36h3134771_0\r\n",
      "  hdf5                                    1.10.2-hfa1e0ec_1 --> 1.10.4-hfa1e0ec_0\r\n",
      "  heapdict           pkgs/main/osx-64::heapdict-1.0.0-py36~ --> pkgs/main/noarch::heapdict-1.0.1-py_0\r\n",
      "  idna                                   2.6-py36h8628d0a_1 --> 2.8-py36_0\r\n",
      "  imageio                                      2.3.0-py36_0 --> 2.6.1-py36_0\r\n",
      "  imagesize          pkgs/main/osx-64::imagesize-1.0.0-py3~ --> pkgs/main/noarch::imagesize-1.2.0-py_0\r\n",
      "  intel-openmp                                   2018.0.0-8 --> 2019.4-233\r\n",
      "  ipykernel                                    4.8.2-py36_0 --> 5.1.4-py36h39e3cac_0\r\n",
      "  ipython                                      6.4.0-py36_0 --> 7.12.0-py36h5ca1d4c_0\r\n",
      "  ipywidgets         pkgs/main/osx-64::ipywidgets-7.2.1-py~ --> pkgs/main/noarch::ipywidgets-7.5.1-py_0\r\n",
      "  isort                                        4.3.4-py36_0 --> 4.3.21-py36_0\r\n",
      "  itsdangerous                          0.24-py36h49fbb8d_1 --> 1.1.0-py36_0\r\n",
      "  jdcal                  pkgs/main/osx-64::jdcal-1.4-py36_0 --> pkgs/main/noarch::jdcal-1.4.1-py_0\r\n",
      "  jedi                                        0.12.0-py36_1 --> 0.14.1-py36_0\r\n",
      "  jinja2             pkgs/main/osx-64::jinja2-2.10-py36hd3~ --> pkgs/main/noarch::jinja2-2.11.1-py_0\r\n",
      "  jsonschema                           2.6.0-py36hb385e00_0 --> 3.2.0-py36_0\r\n",
      "  jupyter                                      1.0.0-py36_4 --> 1.0.0-py36_7\r\n",
      "  jupyter_client                               5.2.3-py36_0 --> 5.3.4-py36_0\r\n",
      "  jupyter_console    pkgs/main/osx-64::jupyter_console-5.2~ --> pkgs/main/noarch::jupyter_console-6.1.0-py_0\r\n",
      "  jupyter_core                         4.4.0-py36h79cf704_0 --> 4.6.1-py36_0\r\n",
      "  jupyterlab                                  0.32.1-py36_0 --> 1.0.2-py36hf63ae98_0\r\n",
      "  kiwisolver                           1.0.1-py36h792292d_0 --> 1.1.0-py36h0a44026_0\r\n",
      "  lazy-object-proxy                    1.3.1-py36h2fbbe47_0 --> 1.4.3-py36h1de35cc_0\r\n",
      "  libcurl                                 7.60.0-hf30b1f0_0 --> 7.68.0-h051b688_0\r\n",
      "  libcxx                                   4.0.1-h579ed51_0 --> 4.0.1-hcfea43d_1\r\n",
      "  libcxxabi                                4.0.1-hebd6815_0 --> 4.0.1-hcfea43d_1\r\n",
      "  libedit                           3.1.20170329-hb402a30_2 --> 3.1.20181209-hb402a30_0\r\n",
      "  libpng                                  1.6.34-he12f830_0 --> 1.6.37-ha441bb4_0\r\n",
      "  libssh2                                  1.8.0-h322a93b_4 --> 1.9.0-ha12b0ac_1\r\n",
      "  libtiff                                  4.0.9-hcb84e12_1 --> 4.1.0-hcb84e12_0\r\n",
      "  libxml2                                  2.9.8-hab757c2_1 --> 2.9.9-hf6e021a_1\r\n",
      "  libxslt                                 1.1.32-hb819dd2_0 --> 1.1.33-h33a18ac_0\r\n",
      "  llvmlite                            0.23.1-py36hc454e04_0 --> 0.31.0-py36h1341992_0\r\n",
      "  lxml                                 4.2.1-py36h7166777_0 --> 4.5.0-py36hef8c89e_0\r\n",
      "  markupsafe                             1.0-py36h3a1e703_1 --> 1.1.1-py36h1de35cc_0\r\n",
      "  matplotlib                           2.2.2-py36ha7267d0_0 --> 3.1.3-py36_0\r\n",
      "  mccabe                               0.6.1-py36hdaeb55d_0 --> 0.6.1-py36_1\r\n",
      "  mistune                              0.8.3-py36h1de35cc_1 --> 0.8.4-py36h1de35cc_0\r\n",
      "  mkl                                            2018.0.2-1 --> 2019.4-233\r\n",
      "  mkl-service                          1.1.2-py36h7ea6df4_4 --> 2.3.0-py36hfbe908c_0\r\n",
      "  mkl_fft                              1.0.1-py36h917ab60_0 --> 1.0.15-py36h5e564d8_0\r\n",
      "  mkl_random                           1.0.1-py36h78cc56f_0 --> 1.1.0-py36ha771720_0\r\n",
      "  more-itertools     pkgs/main/osx-64::more-itertools-4.1.~ --> pkgs/main/noarch::more-itertools-8.2.0-py_0\r\n",
      "  mpc                                      1.0.3-h7a72875_5 --> 1.1.0-h6ef4df4_1\r\n",
      "  mpfr                                     3.1.5-h711e7fd_2 --> 4.0.1-h3018a27_3\r\n",
      "  mpmath                               1.0.0-py36hf1b8295_2 --> 1.1.0-py36_0\r\n",
      "  msgpack-python                       0.5.6-py36h04f5b5a_0 --> 0.6.1-py36h04f5b5a_1\r\n",
      "  multipledispatch                             0.5.0-py36_0 --> 0.6.0-py36_0\r\n",
      "  nbconvert                            5.3.1-py36h810822e_0 --> 5.6.1-py36_0\r\n",
      "  nbformat           pkgs/main/osx-64::nbformat-4.4.0-py36~ --> pkgs/main/noarch::nbformat-5.0.4-py_0\r\n",
      "  ncurses                                    6.1-h0a44026_0 --> 6.2-h0a44026_0\r\n",
      "  networkx            pkgs/main/osx-64::networkx-2.1-py36_0 --> pkgs/main/noarch::networkx-2.4-py_0\r\n",
      "  nltk                                         3.3.0-py36_0 --> 3.4.5-py36_0\r\n",
      "  notebook                                     5.5.0-py36_0 --> 6.0.3-py36_0\r\n",
      "  numba                               0.38.0-py36h1702cab_0 --> 0.48.0-py36h6c726b0_0\r\n",
      "  numexpr                              2.6.5-py36h057f876_0 --> 2.7.1-py36hce01a72_0\r\n",
      "  numpy                               1.14.3-py36h9bb19eb_1 --> 1.18.1-py36h7241aed_0\r\n",
      "  numpy-base                          1.14.3-py36h479e554_1 --> 1.18.1-py36h6575580_1\r\n",
      "  numpydoc           pkgs/main/osx-64::numpydoc-0.8.0-py36~ --> pkgs/main/noarch::numpydoc-0.9.2-py_0\r\n",
      "  olefile                                     0.45.1-py36_0 --> 0.46-py36_0\r\n",
      "  openpyxl           pkgs/main/osx-64::openpyxl-2.5.3-py36~ --> pkgs/main/noarch::openpyxl-3.0.3-py_0\r\n",
      "  openssl                                 1.0.2o-h26aff7b_0 --> 1.1.1d-h1de35cc_4\r\n",
      "  packaging          pkgs/main/osx-64::packaging-17.1-py36~ --> pkgs/main/noarch::packaging-20.1-py_0\r\n",
      "  pandas                              0.23.0-py36h1702cab_0 --> 1.0.1-py36h6c726b0_0\r\n",
      "  pandoc                                1.19.2.1-ha5e8f32_1 --> 2.2.3.2-0\r\n",
      "  parso                pkgs/main/osx-64::parso-0.2.0-py36_0 --> pkgs/main/noarch::parso-0.5.2-py_0\r\n",
      "  partd              pkgs/main/osx-64::partd-0.3.8-py36hf5~ --> pkgs/main/noarch::partd-1.1.0-py_0\r\n",
      "  path.py            pkgs/main/osx-64::path.py-11.0.1-py36~ --> pkgs/main/noarch::path.py-12.4.0-0\r\n",
      "  pathlib2                                     2.3.2-py36_0 --> 2.3.5-py36_0\r\n",
      "  patsy                                        0.5.0-py36_0 --> 0.5.1-py36_0\r\n",
      "  pcre                                      8.42-h378b8a2_0 --> 8.43-h0a44026_0\r\n",
      "  pexpect                                      4.5.0-py36_0 --> 4.8.0-py36_0\r\n",
      "  pickleshare                          0.7.4-py36hf512f8e_0 --> 0.7.5-py36_0\r\n",
      "  pillow                               5.1.0-py36hfcce615_0 --> 7.0.0-py36h4655f20_0\r\n",
      "  pip                                         10.0.1-py36_0 --> 20.0.2-py36_1\r\n",
      "  pkginfo                                      1.4.2-py36_1 --> 1.5.0.1-py36_0\r\n",
      "  pluggy                               0.6.0-py36hb1d0581_0 --> 0.13.1-py36_0\r\n",
      "  prompt_toolkit     pkgs/main/osx-64::prompt_toolkit-1.0.~ --> pkgs/main/noarch::prompt_toolkit-3.0.3-py_0\r\n",
      "  psutil                               5.4.5-py36h1de35cc_0 --> 5.6.7-py36h1de35cc_0\r\n",
      "  ptyprocess                           0.5.2-py36he6521c3_0 --> 0.6.0-py36_0\r\n",
      "  py                      pkgs/main/osx-64::py-1.5.3-py36_0 --> pkgs/main/noarch::py-1.8.1-py_0\r\n",
      "  pycodestyle                                  2.4.0-py36_0 --> 2.5.0-py36_0\r\n",
      "  pycparser                             2.18-py36h724b2fc_1 --> 2.19-py36_0\r\n",
      "  pycrypto                             2.6.1-py36h1de35cc_8 --> 2.6.1-py36h1de35cc_9\r\n",
      "  pycurl                            7.43.0.1-py36hdbc3d79_0 --> 7.43.0.5-py36ha12b0ac_0\r\n",
      "  pyflakes                             1.6.0-py36hea45e83_0 --> 2.1.1-py36_0\r\n",
      "  pygments           pkgs/main/osx-64::pygments-2.2.0-py36~ --> pkgs/main/noarch::pygments-2.5.2-py_0\r\n",
      "  pylint                                       1.8.4-py36_0 --> 2.4.4-py36_0\r\n",
      "  pyodbc                              4.0.23-py36h0a44026_0 --> 4.0.30-py36h0a44026_0\r\n",
      "  pyopenssl                                   18.0.0-py36_0 --> 19.1.0-py36_0\r\n",
      "  pyparsing          pkgs/main/osx-64::pyparsing-2.2.0-py3~ --> pkgs/main/noarch::pyparsing-2.4.6-py_0\r\n",
      "  pyqt                                 5.9.2-py36h11d3b92_0 --> 5.9.2-py36h655552a_2\r\n",
      "  pysocks                                      1.6.8-py36_0 --> 1.7.1-py36_0\r\n",
      "  pytables                             3.4.3-py36h5ca999c_2 --> 3.6.1-py36h5bccee9_0\r\n",
      "  pytest                                       3.5.1-py36_0 --> 5.3.5-py36_0\r\n",
      "  pytest-arraydiff                               0.2-py36_0 --> 0.3-py36h39e3cac_0\r\n",
      "  pytest-astropy     pkgs/main/osx-64::pytest-astropy-0.3.~ --> pkgs/main/noarch::pytest-astropy-0.8.0-py_0\r\n",
      "  pytest-doctestplus pkgs/main/osx-64::pytest-doctestplus-~ --> pkgs/main/noarch::pytest-doctestplus-0.5.0-py_0\r\n",
      "  pytest-openfiles   pkgs/main/osx-64::pytest-openfiles-0.~ --> pkgs/main/noarch::pytest-openfiles-0.4.0-py_0\r\n",
      "  pytest-remotedata                            0.2.1-py36_0 --> 0.3.2-py36_0\r\n",
      "  python                                   3.6.5-hc167b69_1 --> 3.6.10-h359304d_0\r\n",
      "  python-dateutil    pkgs/main/osx-64::python-dateutil-2.7~ --> pkgs/main/noarch::python-dateutil-2.8.1-py_0\r\n",
      "  python-libarchive~                            2.8-py36_11 --> 2.8-py36_13\r\n",
      "  python.app                                       2-py36_8 --> 2-py36_10\r\n",
      "  pytz                 pkgs/main/osx-64::pytz-2018.4-py36_0 --> pkgs/main/noarch::pytz-2019.3-py_0\r\n",
      "  pywavelets                           0.5.2-py36h2710a04_0 --> 1.1.1-py36h1de35cc_0\r\n",
      "  pyyaml                                3.12-py36h2ba1e63_1 --> 5.3-py36h1de35cc_0\r\n",
      "  pyzmq                               17.0.0-py36h1de35cc_1 --> 18.1.1-py36h0a44026_0\r\n",
      "  qt                                       5.9.5-h02808f3_0 --> 5.9.7-h468cd18_1\r\n",
      "  qtawesome          pkgs/main/osx-64::qtawesome-0.4.4-py3~ --> pkgs/main/noarch::qtawesome-0.6.1-py_0\r\n",
      "  qtconsole          pkgs/main/osx-64::qtconsole-4.3.1-py3~ --> pkgs/main/noarch::qtconsole-4.6.0-py_1\r\n",
      "  qtpy                  pkgs/main/osx-64::qtpy-1.4.1-py36_0 --> pkgs/main/noarch::qtpy-1.9.0-py_0\r\n",
      "  readline                                   7.0-hc1231fa_4 --> 7.0-h1de35cc_5\r\n",
      "  requests                            2.18.4-py36h4516966_1 --> 2.22.0-py36_1\r\n",
      "  rope               pkgs/main/osx-64::rope-0.10.7-py36h68~ --> pkgs/main/noarch::rope-0.16.0-py_0\r\n",
      "  ruamel_yaml                        0.15.35-py36h1de35cc_1 --> 0.15.87-py36h1de35cc_0\r\n",
      "  scikit-image                        0.13.1-py36h1de35cc_1 --> 0.16.2-py36h6c726b0_0\r\n",
      "  scikit-learn                        0.19.1-py36hffbff8c_0 --> 0.22.1-py36h27c97d8_0\r\n",
      "  scipy                                1.1.0-py36hcaad992_0 --> 1.4.1-py36h9fa6033_0\r\n",
      "  seaborn            pkgs/main/osx-64::seaborn-0.8.1-py36h~ --> pkgs/main/noarch::seaborn-0.10.0-py_0\r\n",
      "  setuptools                                  39.1.0-py36_0 --> 46.0.0-py36_0\r\n",
      "  six                                 1.11.0-py36h0e22d5e_1 --> 1.14.0-py36_0\r\n",
      "  snowballstemmer    pkgs/main/osx-64::snowballstemmer-1.2~ --> pkgs/main/noarch::snowballstemmer-2.0.0-py_0\r\n",
      "  sortedcollections                            0.6.1-py36_0 --> 1.1.2-py36_0\r\n",
      "  sortedcontainers                            1.5.10-py36_0 --> 2.1.0-py36_0\r\n",
      "  sphinx              pkgs/main/osx-64::sphinx-1.7.4-py36_0 --> pkgs/main/noarch::sphinx-2.4.0-py_0\r\n",
      "  sphinxcontrib-web~ pkgs/main/osx-64::sphinxcontrib-websu~ --> pkgs/main/noarch::sphinxcontrib-websupport-1.2.0-py_0\r\n",
      "  spyder                                       3.2.8-py36_0 --> 4.0.1-py36_0\r\n",
      "  sqlalchemy                           1.2.7-py36hb402a30_0 --> 1.3.13-py36h1de35cc_0\r\n",
      "  sqlite                                  3.23.1-hf1716c9_0 --> 3.31.1-ha441bb4_0\r\n",
      "  statsmodels                          0.9.0-py36h917ab60_0 --> 0.11.0-py36h1de35cc_0\r\n",
      "  sympy                                1.1.1-py36h7f3cf04_0 --> 1.5.1-py36_0\r\n",
      "  tblib              pkgs/main/osx-64::tblib-1.3.2-py36hda~ --> pkgs/main/noarch::tblib-1.6.0-py_0\r\n",
      "  terminado                                    0.8.1-py36_1 --> 0.8.3-py36_0\r\n",
      "  testpath           pkgs/main/osx-64::testpath-0.3.1-py36~ --> pkgs/main/noarch::testpath-0.4.4-py_0\r\n",
      "  tk                                       8.6.7-h35a86e2_3 --> 8.6.8-ha441bb4_0\r\n",
      "  toolz                pkgs/main/osx-64::toolz-0.9.0-py36_0 --> pkgs/main/noarch::toolz-0.10.0-py_0\r\n",
      "  tornado                                      5.0.2-py36_0 --> 6.0.3-py36h1de35cc_3\r\n",
      "  tqdm                                          4.32.1-py_0 --> 4.42.1-py_0\r\n",
      "  traitlets                            4.3.2-py36h65bd3ce_0 --> 4.3.3-py36_0\r\n",
      "  unixodbc                                 2.3.6-h3efe00b_0 --> 2.3.7-h1de35cc_0\r\n",
      "  urllib3                               1.22-py36h68b9469_0 --> 1.25.8-py36_0\r\n",
      "  virtualenv         pkgs/main/osx-64::virtualenv-16.0.0-p~ --> pkgs/main/noarch::virtualenv-16.7.5-py_0\r\n",
      "  wcwidth            pkgs/main/osx-64::wcwidth-0.1.7-py36h~ --> pkgs/main/noarch::wcwidth-0.1.8-py_0\r\n",
      "  werkzeug           pkgs/main/osx-64::werkzeug-0.14.1-py3~ --> pkgs/main/noarch::werkzeug-1.0.0-py_0\r\n",
      "  wheel                                       0.31.1-py36_0 --> 0.34.2-py36_0\r\n",
      "  widgetsnbextension                           3.2.1-py36_0 --> 3.5.1-py36_0\r\n",
      "  wrapt                              1.10.11-py36hc29e774_0 --> 1.11.2-py36h1de35cc_0\r\n",
      "  xlrd                                 1.1.0-py36h336f4a2_1 --> 1.2.0-py36_0\r\n",
      "  xlsxwriter         pkgs/main/osx-64::xlsxwriter-1.0.4-py~ --> pkgs/main/noarch::xlsxwriter-1.2.7-py_0\r\n",
      "  xlwings                                     0.11.8-py36_0 --> 0.17.1-py36_0\r\n",
      "  zeromq                                   4.2.5-h378b8a2_0 --> 4.3.1-h0a44026_3\r\n",
      "  zict               pkgs/main/osx-64::zict-0.1.3-py36h71d~ --> pkgs/main/noarch::zict-1.0.0-py_0\r\n",
      "  zlib                                    1.2.11-hf3cbc9b_2 --> 1.2.11-h1de35cc_3\r\n",
      "\r\n",
      "The following packages will be DOWNGRADED:\r\n",
      "\r\n",
      "  _ipyw_jlab_nb_ext~                   0.1.0-py36h2fc01ae_0 --> 0.1.0-py36_0\r\n",
      "  backports.shutil_~                   1.0.0-py36hd7a2ee4_2 --> 1.0.0-py36_2\r\n",
      "  bkcharts                               0.2-py36h073222e_0 --> 0.2-py36_0\r\n",
      "  gmpy2                                2.0.8-py36hf9c35bd_2 --> 2.0.8-py36h6ef4df4_2\r\n",
      "  html5lib                             1.0.1-py36h2f9c1c0_0 --> 1.0.1-py36_0\r\n",
      "  ipython_genutils                     0.2.0-py36h241746c_0 --> 0.2.0-py36_0\r\n",
      "  nose                                 1.3.7-py36h73fae2b_2 --> 1.3.7-py36_2\r\n",
      "  pandocfilters                        1.4.2-py36h3b0b094_1 --> 1.4.2-py36_1\r\n",
      "  pycosat                              0.6.3-py36hee92d8f_0 --> 0.6.3-py36h1de35cc_0\r\n",
      "  sphinxcontrib                          1.0-py36h9364dc8_1 --> 1.0-py36_1\r\n",
      "  webencodings                         0.5.1-py36h3b9701d_1 --> 0.5.1-py36_1\r\n",
      "\r\n",
      "\r\n",
      "\r\n",
      "Downloading and Extracting Packages\r\n"
     ]
    },
    {
     "name": "stdout",
     "output_type": "stream",
     "text": [
      "pywavelets-1.1.1     | 4.3 MB    | ##################################### | 100% \n",
      "bitarray-1.2.1       | 80 KB     | ##################################### | 100% \n",
      "appscript-1.1.0      | 271 KB    | ##################################### | 100% \n",
      "glob2-0.7            | 14 KB     | ##################################### | 100% \n",
      "sphinx-2.4.0         | 1.4 MB    | ##################################### | 100% \n",
      "numba-0.48.0         | 3.2 MB    | ##################################### | 100% \n",
      "heapdict-1.0.1       | 9 KB      | ##################################### | 100% \n",
      "libedit-3.1.20181209 | 159 KB    | ##################################### | 100% \n",
      "importlib_metadata-1 | 47 KB     | ##################################### | 100% \n",
      "mpc-1.1.0            | 90 KB     | ##################################### | 100% \n",
      "attrs-19.3.0         | 39 KB     | ##################################### | 100% \n",
      "curl-7.68.0          | 140 KB    | ##################################### | 100% \n",
      "scikit-image-0.16.2  | 24.2 MB   | ##################################### | 100% \n",
      "msgpack-python-0.6.1 | 86 KB     | ##################################### | 100% \n",
      "psutil-5.6.7         | 339 KB    | ##################################### | 100% \n",
      "ripgrep-11.0.2       | 1.2 MB    | ##################################### | 100% \n",
      "pytest-openfiles-0.4 | 10 KB     | ##################################### | 100% \n",
      "pyopenssl-19.1.0     | 87 KB     | ##################################### | 100% \n",
      "sqlite-3.31.1        | 2.4 MB    | ##################################### | 100% \n",
      "anaconda-project-0.8 | 215 KB    | ##################################### | 100% \n",
      "fsspec-0.6.2         | 50 KB     | ##################################### | 100% \n",
      "numpy-1.18.1         | 5 KB      | ##################################### | 100% \n",
      "py-1.8.1             | 69 KB     | ##################################### | 100% \n",
      "libtiff-4.1.0        | 535 KB    | ##################################### | 100% \n",
      "python-jsonrpc-serve | 13 KB     | ##################################### | 100% \n",
      "certifi-2019.11.28   | 156 KB    | ##################################### | 100% \n",
      "isort-4.3.21         | 68 KB     | ##################################### | 100% \n",
      "statsmodels-0.11.0   | 9.5 MB    | ##################################### | 100% \n",
      "seaborn-0.10.0       | 161 KB    | ##################################### | 100% \n",
      "itsdangerous-1.1.0   | 26 KB     | ##################################### | 100% \n",
      "jdcal-1.4.1          | 11 KB     | ##################################### | 100% \n",
      "pip-20.0.2           | 1.9 MB    | ##################################### | 100% \n",
      "sphinxcontrib-htmlhe | 28 KB     | ##################################### | 100% \n",
      "atomicwrites-1.3.0   | 13 KB     | ##################################### | 100% \n",
      "sqlalchemy-1.3.13    | 1.8 MB    | ##################################### | 100% \n",
      "ujson-1.35           | 25 KB     | ##################################### | 100% \n",
      "contextlib2-0.6.0.po | 16 KB     | ##################################### | 100% \n",
      "wurlitzer-2.0.0      | 14 KB     | ##################################### | 100% \n",
      "cytoolz-0.10.1       | 371 KB    | ##################################### | 100% \n",
      "ncurses-6.2          | 1024 KB   | ##################################### | 100% \n",
      "qdarkstyle-2.8       | 156 KB    | ##################################### | 100% \n",
      "numpy-base-1.18.1    | 5.0 MB    | ##################################### | 100% \n",
      "pytest-doctestplus-0 | 21 KB     | ##################################### | 100% \n",
      "testpath-0.4.4       | 88 KB     | ##################################### | 100% \n",
      "bokeh-1.4.0          | 13.5 MB   | ##################################### | 100% \n",
      "qtpy-1.9.0           | 39 KB     | ##################################### | 100% \n",
      "networkx-2.4         | 1.2 MB    | ##################################### | 100% \n",
      "pycrypto-2.6.1       | 452 KB    | ##################################### | 100% \n",
      "tbb-2020.0           | 167 KB    | ##################################### | 100% \n",
      "werkzeug-1.0.0       | 243 KB    | ##################################### | 100% \n",
      "imageio-2.6.1        | 3.3 MB    | ##################################### | 100% \n",
      "nose-1.3.7           | 214 KB    | ##################################### | 100% \n",
      "numexpr-2.7.1        | 131 KB    | ##################################### | 100% \n",
      "pysocks-1.7.1        | 30 KB     | ##################################### | 100% \n",
      "qt-5.9.7             | 76.8 MB   | ##################################### | 100% \n",
      "bkcharts-0.2         | 128 KB    | ##################################### | 100% \n",
      "jupyterlab-1.0.2     | 13.7 MB   | ##################################### | 100% \n",
      "path.py-12.4.0       | 7 KB      | ##################################### | 100% \n",
      "unixodbc-2.3.7       | 271 KB    | ##################################### | 100% \n",
      "applaunchservices-0. | 9 KB      | ##################################### | 100% \n",
      "sphinxcontrib-1.0    | 3 KB      | ##################################### | 100% \n",
      "hypothesis-5.5.4     | 218 KB    | ##################################### | 100% \n",
      "lazy-object-proxy-1. | 29 KB     | ##################################### | 100% \n",
      "filelock-3.0.12      | 12 KB     | ##################################### | 100% \n",
      "jupyter_client-5.3.4 | 135 KB    | ##################################### | 100% \n",
      "ipykernel-5.1.4      | 168 KB    | ##################################### | 100% \n",
      "prometheus_client-0. | 42 KB     | ##################################### | 100% \n",
      "mpfr-4.0.1           | 526 KB    | ##################################### | 100% \n",
      "sphinxcontrib-serial | 24 KB     | ##################################### | 100% \n",
      "parso-0.5.2          | 69 KB     | ##################################### | 100% \n",
      "pathtools-0.1.2      | 10 KB     | ##################################### | 100% \n",
      "zeromq-4.3.1         | 565 KB    | ##################################### | 100% \n",
      "backports.shutil_get | 8 KB      | ##################################### | 100% \n",
      "libpng-1.6.37        | 325 KB    | ##################################### | 100% \n",
      "backports-1.0        | 139 KB    | ##################################### | 100% \n",
      "webencodings-0.5.1   | 19 KB     | ##################################### | 100% \n",
      "libspatialindex-1.9. | 421 KB    | ##################################### | 100% \n",
      "ptyprocess-0.6.0     | 23 KB     | ##################################### | 100% \n",
      "mkl-service-2.3.0    | 188 KB    | ##################################### | 100% \n",
      "diff-match-patch-201 | 39 KB     | ##################################### | 100% \n",
      "llvm-openmp-4.0.1    | 454 KB    | ##################################### | 100% \n",
      "html5lib-1.0.1       | 184 KB    | ##################################### | 100% \n",
      "sphinxcontrib-websup | 35 KB     | ##################################### | 100% \n",
      "mkl_random-1.1.0     | 340 KB    | ##################################### | 100% \n",
      "flask-1.1.1          | 73 KB     | ##################################### | 100% \n",
      "pytables-3.6.1       | 1.4 MB    | ##################################### | 100% \n",
      "libssh2-1.9.0        | 277 KB    | ##################################### | 100% \n",
      "pytest-astropy-heade | 11 KB     | ##################################### | 100% \n",
      "packaging-20.1       | 34 KB     | ##################################### | 100% \n",
      "pandas-1.0.1         | 10.1 MB   | ##################################### | 100% \n",
      "nltk-3.4.5           | 2.1 MB    | ##################################### | 100% \n",
      "autopep8-1.4.4       | 41 KB     | ##################################### | 100% \n",
      "greenlet-0.4.15      | 18 KB     | ##################################### | 100% \n",
      "kiwisolver-1.1.0     | 60 KB     | ##################################### | 100% \n",
      "cython-0.29.15       | 2.1 MB    | ##################################### | 100% \n",
      "pathlib2-2.3.5       | 37 KB     | ##################################### | 100% \n",
      "pyyaml-5.3           | 172 KB    | ##################################### | 100% \n",
      "pycodestyle-2.5.0    | 60 KB     | ##################################### | 100% \n",
      "flake8-3.7.9         | 134 KB    | ##################################### | 100% \n",
      "libcurl-7.68.0       | 554 KB    | ##################################### | 100% \n",
      "joblib-0.14.1        | 202 KB    | ##################################### | 100% \n"
     ]
    },
    {
     "name": "stdout",
     "output_type": "stream",
     "text": [
      "wheel-0.34.2         | 49 KB     | ##################################### | 100% \n",
      "requests-2.22.0      | 90 KB     | ##################################### | 100% \n",
      "expat-2.2.6          | 129 KB    | ##################################### | 100% \n",
      "sortedcollections-1. | 18 KB     | ##################################### | 100% \n",
      "pcre-8.43            | 227 KB    | ##################################### | 100% \n",
      "six-1.14.0           | 27 KB     | ##################################### | 100% \n",
      "colorama-0.4.3       | 20 KB     | ##################################### | 100% \n",
      "jupyter-1.0.0        | 6 KB      | ##################################### | 100% \n",
      "hdf5-1.10.4          | 4.5 MB    | ##################################### | 100% \n",
      "ipython_genutils-0.2 | 40 KB     | ##################################### | 100% \n",
      "ca-certificates-2020 | 132 KB    | ##################################### | 100% \n",
      "astropy-4.0          | 7.3 MB    | ##################################### | 100% \n",
      "pycurl-7.43.0.5      | 74 KB     | ##################################### | 100% \n",
      "argh-0.26.2          | 36 KB     | ##################################### | 100% \n",
      "tqdm-4.42.1          | 56 KB     | ##################################### | 100% \n",
      "watchdog-0.10.2      | 98 KB     | ##################################### | 100% \n",
      "qtconsole-4.6.0      | 95 KB     | ##################################### | 100% \n",
      "blosc-1.16.3         | 64 KB     | ##################################### | 100% \n",
      "keyring-21.1.0       | 53 KB     | ##################################### | 100% \n",
      "idna-2.8             | 133 KB    | ##################################### | 100% \n",
      "partd-1.1.0          | 20 KB     | ##################################### | 100% \n",
      "dbus-1.13.12         | 516 KB    | ##################################### | 100% \n",
      "conda-package-handli | 1.4 MB    | ##################################### | 100% \n",
      "toolz-0.10.0         | 50 KB     | ##################################### | 100% \n",
      "lxml-4.5.0           | 1.4 MB    | ##################################### | 100% \n",
      "sphinxcontrib-appleh | 29 KB     | ##################################### | 100% \n",
      "sphinxcontrib-devhel | 23 KB     | ##################################### | 100% \n",
      "pickleshare-0.7.5    | 12 KB     | ##################################### | 100% \n",
      "astroid-2.3.3        | 289 KB    | ##################################### | 100% \n",
      "entrypoints-0.3      | 12 KB     | ##################################### | 100% \n",
      "mccabe-0.6.1         | 14 KB     | ##################################### | 100% \n",
      "sphinxcontrib-qthelp | 26 KB     | ##################################### | 100% \n",
      "click-7.0            | 118 KB    | ##################################### | 100% \n",
      "zlib-1.2.11          | 105 KB    | ##################################### | 100% \n",
      "pyodbc-4.0.30        | 66 KB     | ##################################### | 100% \n",
      "ruamel_yaml-0.15.87  | 247 KB    | ##################################### | 100% \n",
      "cryptography-2.8     | 590 KB    | ##################################### | 100% \n",
      "anaconda-navigator-1 | 6.3 MB    | ##################################### | 100% \n",
      "freetype-2.9.1       | 864 KB    | ##################################### | 100% \n",
      "pkginfo-1.5.0.1      | 43 KB     | ##################################### | 100% \n",
      "urllib3-1.25.8       | 165 KB    | ##################################### | 100% \n",
      "jupyterlab_server-1. | 26 KB     | ##################################### | 100% \n",
      "json5-0.9.1          | 26 KB     | ##################################### | 100% \n",
      "traitlets-4.3.3      | 137 KB    | ##################################### | 100% \n",
      "libxslt-1.1.33       | 500 KB    | ##################################### | 100% \n",
      "gmpy2-2.0.8          | 162 KB    | ##################################### | 100% \n",
      "pyqt-5.9.2           | 4.4 MB    | ##################################### | 100% \n",
      "qtawesome-0.6.1      | 770 KB    | ##################################### | 100% \n",
      "pycparser-2.19       | 173 KB    | ##################################### | 100% \n",
      "boto-2.49.0          | 1.5 MB    | ##################################### | 100% \n",
      "python-libarchive-c- | 23 KB     | ##################################### | 100% \n",
      "asn1crypto-1.3.0     | 162 KB    | ##################################### | 100% \n",
      "bleach-3.1.0         | 224 KB    | ##################################### | 100% \n",
      "zict-1.0.0           | 12 KB     | ##################################### | 100% \n",
      "dask-core-2.11.0     | 597 KB    | ##################################### | 100% \n",
      "openssl-1.1.1d       | 3.4 MB    | ##################################### | 100% \n",
      "future-0.18.2        | 714 KB    | ##################################### | 100% \n",
      "python.app-2         | 1.5 MB    | ##################################### | 100% \n",
      "pyzmq-18.1.1         | 441 KB    | ##################################### | 100% \n",
      "anaconda-client-1.7. | 141 KB    | ##################################### | 100% \n",
      "virtualenv-16.7.5    | 3.2 MB    | ##################################### | 100% \n",
      "markupsafe-1.1.1     | 28 KB     | ##################################### | 100% \n",
      "mock-4.0.1           | 30 KB     | ##################################### | 100% \n",
      "intervaltree-3.0.2   | 25 KB     | ##################################### | 100% \n",
      "pydocstyle-4.0.1     | 34 KB     | ##################################### | 100% \n",
      "pycosat-0.6.3        | 107 KB    | ##################################### | 100% \n",
      "readline-7.0         | 393 KB    | ##################################### | 100% \n",
      "pyflakes-2.1.1       | 105 KB    | ##################################### | 100% \n",
      "mpmath-1.1.0         | 968 KB    | ##################################### | 100% \n",
      "soupsieve-1.9.5      | 61 KB     | ##################################### | 100% \n",
      "babel-2.8.0          | 6.0 MB    | ##################################### | 100% \n",
      "conda-4.8.3          | 3.0 MB    | ##################################### | 100% \n",
      "jupyter_console-6.1. | 24 KB     | ##################################### | 100% \n",
      "bottleneck-1.3.2     | 120 KB    | ##################################### | 100% \n",
      "distributed-2.11.0   | 997 KB    | ##################################### | 100% \n",
      "jedi-0.14.1          | 698 KB    | ##################################### | 100% \n",
      "cloudpickle-1.3.0    | 29 KB     | ##################################### | 100% \n",
      "xlwings-0.17.1       | 490 KB    | ##################################### | 100% \n",
      "spyder-4.0.1         | 7.7 MB    | ##################################### | 100% \n",
      "wcwidth-0.1.8        | 22 KB     | ##################################### | 100% \n",
      "pexpect-4.8.0        | 84 KB     | ##################################### | 100% \n",
      "bzip2-1.0.8          | 104 KB    | ##################################### | 100% \n",
      "pylint-2.4.4         | 434 KB    | ##################################### | 100% \n",
      "python-3.6.10        | 20.6 MB   | ##################################### | 100% \n",
      "pytest-5.3.5         | 378 KB    | ##################################### | 100% \n",
      "widgetsnbextension-3 | 1.8 MB    | ##################################### | 100% \n",
      "matplotlib-3.1.3     | 20 KB     | ##################################### | 100% \n",
      "cffi-1.14.0          | 218 KB    | ##################################### | 100% \n",
      "rope-0.16.0          | 120 KB    | ##################################### | 100% \n",
      "pygments-2.5.2       | 672 KB    | ##################################### | 100% \n",
      "glib-2.63.1          | 3.2 MB    | ##################################### | 100% \n",
      "mistune-0.8.4        | 54 KB     | ##################################### | 100% \n",
      "yapf-0.28.0          | 120 KB    | ##################################### | 100% \n",
      "h5py-2.10.0          | 1003 KB   | ##################################### | 100% \n",
      "openpyxl-3.0.3       | 158 KB    | ##################################### | 100% \n",
      "snowballstemmer-2.0. | 58 KB     | ##################################### | 100% \n",
      "nbconvert-5.6.1      | 496 KB    | ##################################### | 100% \n",
      "conda-build-3.18.11  | 533 KB    | ##################################### | 100% \n",
      "dask-2.11.0          | 13 KB     | ##################################### | 100% \n",
      "sphinxcontrib-jsmath | 8 KB      | ##################################### | 100% \n",
      "docutils-0.16        | 742 KB    | ##################################### | 100% \n"
     ]
    },
    {
     "name": "stdout",
     "output_type": "stream",
     "text": [
      "jinja2-2.11.1        | 97 KB     | ##################################### | 100% \n",
      "jupyter_core-4.6.1   | 74 KB     | ##################################### | 100% \n",
      "xmltodict-0.12.0     | 14 KB     | ##################################### | 100% \n",
      "xlsxwriter-1.2.7     | 108 KB    | ##################################### | 100% \n",
      "python-dateutil-2.8. | 224 KB    | ##################################### | 100% \n",
      "krb5-1.17.1          | 1.2 MB    | ##################################### | 100% \n",
      "pytest-remotedata-0. | 14 KB     | ##################################### | 100% \n",
      "prompt_toolkit-3.0.3 | 236 KB    | ##################################### | 100% \n",
      "nbformat-5.0.4       | 102 KB    | ##################################### | 100% \n",
      "pytest-astropy-0.8.0 | 9 KB      | ##################################### | 100% \n",
      "pluggy-0.13.1        | 32 KB     | ##################################### | 100% \n",
      "ipywidgets-7.5.1     | 107 KB    | ##################################### | 100% \n",
      "sympy-1.5.1          | 10.3 MB   | ##################################### | 100% \n",
      "_ipyw_jlab_nb_ext_co | 4 KB      | ##################################### | 100% \n",
      "liblief-0.9.0        | 4.0 MB    | ##################################### | 100% \n",
      "terminado-0.8.3      | 25 KB     | ##################################### | 100% \n",
      "beautifulsoup4-4.8.2 | 161 KB    | ##################################### | 100% \n",
      "tk-8.6.8             | 3.2 MB    | ##################################### | 100% \n",
      "olefile-0.46         | 48 KB     | ##################################### | 100% \n",
      "path-13.1.0          | 35 KB     | ##################################### | 100% \n",
      "chardet-3.0.4        | 201 KB    | ##################################### | 100% \n",
      "more-itertools-8.2.0 | 39 KB     | ##################################### | 100% \n",
      "py-lief-0.9.0        | 1.5 MB    | ##################################### | 100% \n",
      "multipledispatch-0.6 | 21 KB     | ##################################### | 100% \n",
      "setuptools-46.0.0    | 645 KB    | ##################################### | 100% \n",
      "fastcache-1.1.0      | 29 KB     | ##################################### | 100% \n",
      "numpydoc-0.9.2       | 31 KB     | ##################################### | 100% \n",
      "gevent-1.4.0         | 2.4 MB    | ##################################### | 100% \n",
      "spyder-kernels-1.8.1 | 90 KB     | ##################################### | 100% \n",
      "defusedxml-0.6.0     | 23 KB     | ##################################### | 100% \n",
      "pandoc-2.2.3.2       | 13.8 MB   | ##################################### | 100% \n",
      "pillow-7.0.0         | 612 KB    | ##################################### | 100% \n",
      "libxml2-2.9.9        | 1.9 MB    | ##################################### | 100% \n",
      "libcxx-4.0.1         | 1.2 MB    | ##################################### | 100% \n",
      "notebook-6.0.3       | 6.3 MB    | ##################################### | 100% \n",
      "wrapt-1.11.2         | 44 KB     | ##################################### | 100% \n",
      "anaconda-2020.02     | 13 KB     | ##################################### | 100% \n",
      "rtree-0.9.3          | 46 KB     | ##################################### | 100% \n",
      "scikit-learn-0.22.1  | 6.3 MB    | ##################################### | 100% \n",
      "matplotlib-base-3.1. | 6.6 MB    | ##################################### | 100% \n",
      "pytest-arraydiff-0.3 | 15 KB     | ##################################### | 100% \n",
      "imagesize-1.2.0      | 10 KB     | ##################################### | 100% \n",
      "zipp-2.2.0           | 12 KB     | ##################################### | 100% \n",
      "pyrsistent-0.15.7    | 91 KB     | ##################################### | 100% \n",
      "pandocfilters-1.4.2  | 13 KB     | ##################################### | 100% \n",
      "tornado-6.0.3        | 643 KB    | ##################################### | 100% \n",
      "jsonschema-3.2.0     | 93 KB     | ##################################### | 100% \n",
      "intel-openmp-2019.4  | 1.1 MB    | ##################################### | 100% \n",
      "pytz-2019.3          | 231 KB    | ##################################### | 100% \n",
      "tblib-1.6.0          | 16 KB     | ##################################### | 100% \n",
      "alabaster-0.7.12     | 17 KB     | ##################################### | 100% \n",
      "typed-ast-1.4.1      | 198 KB    | ##################################### | 100% \n",
      "mkl_fft-1.0.15       | 160 KB    | ##################################### | 100% \n",
      "pyparsing-2.4.6      | 64 KB     | ##################################### | 100% \n",
      "llvmlite-0.31.0      | 13.7 MB   | ##################################### | 100% \n",
      "sortedcontainers-2.1 | 45 KB     | ##################################### | 100% \n",
      "ipython-7.12.0       | 1.1 MB    | ##################################### | 100% \n",
      "python-language-serv | 72 KB     | ##################################### | 100% \n",
      "patsy-0.5.1          | 376 KB    | ##################################### | 100% \n",
      "xlrd-1.2.0           | 188 KB    | ##################################### | 100% \n",
      "mkl-2019.4           | 155.2 MB  | ##################################### | 100% \n",
      "scipy-1.4.1          | 16.8 MB   | ##################################### | 100% \n",
      "clyent-1.2.2         | 19 KB     | ##################################### | 100% \n",
      "libcxxabi-4.0.1      | 458 KB    | ##################################### | 100% \n",
      "decorator-4.4.1      | 13 KB     | ##################################### | 100% \n",
      "Preparing transaction: done\n",
      "Verifying transaction: done\n",
      "Executing transaction: done\n"
     ]
    }
   ],
   "source": [
    "!conda update --all --y\n",
    "\n"
   ]
  },
  {
   "cell_type": "code",
   "execution_count": 35,
   "metadata": {},
   "outputs": [
    {
     "name": "stdout",
     "output_type": "stream",
     "text": [
      "Collecting tensorflow\n",
      "  Using cached tensorflow-2.1.0-cp36-cp36m-macosx_10_11_x86_64.whl (120.8 MB)\n",
      "Requirement already satisfied, skipping upgrade: google-pasta>=0.1.6 in /Users/Kunal/anaconda3/lib/python3.6/site-packages (from tensorflow) (0.2.0)\n",
      "Requirement already satisfied, skipping upgrade: keras-applications>=1.0.8 in /Users/Kunal/anaconda3/lib/python3.6/site-packages (from tensorflow) (1.0.8)\n",
      "Requirement already satisfied, skipping upgrade: keras-preprocessing>=1.1.0 in /Users/Kunal/anaconda3/lib/python3.6/site-packages (from tensorflow) (1.1.0)\n",
      "Requirement already satisfied, skipping upgrade: numpy<2.0,>=1.16.0 in /Users/Kunal/anaconda3/lib/python3.6/site-packages (from tensorflow) (1.18.1)\n",
      "Requirement already satisfied, skipping upgrade: astor>=0.6.0 in /Users/Kunal/anaconda3/lib/python3.6/site-packages (from tensorflow) (0.8.1)\n",
      "Requirement already satisfied, skipping upgrade: opt-einsum>=2.3.2 in /Users/Kunal/anaconda3/lib/python3.6/site-packages (from tensorflow) (3.2.1)\n",
      "Requirement already satisfied, skipping upgrade: termcolor>=1.1.0 in /Users/Kunal/anaconda3/lib/python3.6/site-packages (from tensorflow) (1.1.0)\n",
      "Requirement already satisfied, skipping upgrade: protobuf>=3.8.0 in /Users/Kunal/anaconda3/lib/python3.6/site-packages (from tensorflow) (3.11.3)\n",
      "Requirement already satisfied, skipping upgrade: grpcio>=1.8.6 in /Users/Kunal/anaconda3/lib/python3.6/site-packages (from tensorflow) (1.28.1)\n",
      "Requirement already satisfied, skipping upgrade: wheel>=0.26; python_version >= \"3\" in /Users/Kunal/anaconda3/lib/python3.6/site-packages (from tensorflow) (0.34.2)\n",
      "Requirement already satisfied, skipping upgrade: absl-py>=0.7.0 in /Users/Kunal/anaconda3/lib/python3.6/site-packages (from tensorflow) (0.9.0)\n",
      "Requirement already satisfied, skipping upgrade: scipy==1.4.1; python_version >= \"3\" in /Users/Kunal/anaconda3/lib/python3.6/site-packages (from tensorflow) (1.4.1)\n",
      "Requirement already satisfied, skipping upgrade: wrapt>=1.11.1 in /Users/Kunal/anaconda3/lib/python3.6/site-packages (from tensorflow) (1.11.2)\n",
      "Requirement already satisfied, skipping upgrade: gast==0.2.2 in /Users/Kunal/anaconda3/lib/python3.6/site-packages (from tensorflow) (0.2.2)\n",
      "Requirement already satisfied, skipping upgrade: tensorboard<2.2.0,>=2.1.0 in /Users/Kunal/anaconda3/lib/python3.6/site-packages (from tensorflow) (2.1.1)\n",
      "Requirement already satisfied, skipping upgrade: tensorflow-estimator<2.2.0,>=2.1.0rc0 in /Users/Kunal/anaconda3/lib/python3.6/site-packages (from tensorflow) (2.1.0)\n",
      "Requirement already satisfied, skipping upgrade: six>=1.12.0 in /Users/Kunal/anaconda3/lib/python3.6/site-packages (from tensorflow) (1.14.0)\n",
      "Requirement already satisfied, skipping upgrade: h5py in /Users/Kunal/anaconda3/lib/python3.6/site-packages (from keras-applications>=1.0.8->tensorflow) (2.10.0)\n",
      "Requirement already satisfied, skipping upgrade: setuptools in /Users/Kunal/anaconda3/lib/python3.6/site-packages (from protobuf>=3.8.0->tensorflow) (46.0.0.post20200309)\n",
      "Requirement already satisfied, skipping upgrade: requests<3,>=2.21.0 in /Users/Kunal/anaconda3/lib/python3.6/site-packages (from tensorboard<2.2.0,>=2.1.0->tensorflow) (2.23.0)\n",
      "Requirement already satisfied, skipping upgrade: google-auth-oauthlib<0.5,>=0.4.1 in /Users/Kunal/anaconda3/lib/python3.6/site-packages (from tensorboard<2.2.0,>=2.1.0->tensorflow) (0.4.1)\n",
      "Requirement already satisfied, skipping upgrade: markdown>=2.6.8 in /Users/Kunal/anaconda3/lib/python3.6/site-packages (from tensorboard<2.2.0,>=2.1.0->tensorflow) (3.2.1)\n",
      "Requirement already satisfied, skipping upgrade: werkzeug>=0.11.15 in /Users/Kunal/anaconda3/lib/python3.6/site-packages (from tensorboard<2.2.0,>=2.1.0->tensorflow) (1.0.0)\n",
      "Requirement already satisfied, skipping upgrade: google-auth<2,>=1.6.3 in /Users/Kunal/anaconda3/lib/python3.6/site-packages (from tensorboard<2.2.0,>=2.1.0->tensorflow) (1.14.0)\n",
      "Requirement already satisfied, skipping upgrade: certifi>=2017.4.17 in /Users/Kunal/anaconda3/lib/python3.6/site-packages (from requests<3,>=2.21.0->tensorboard<2.2.0,>=2.1.0->tensorflow) (2019.11.28)\n",
      "Requirement already satisfied, skipping upgrade: urllib3!=1.25.0,!=1.25.1,<1.26,>=1.21.1 in /Users/Kunal/anaconda3/lib/python3.6/site-packages (from requests<3,>=2.21.0->tensorboard<2.2.0,>=2.1.0->tensorflow) (1.25.8)\n",
      "Requirement already satisfied, skipping upgrade: idna<3,>=2.5 in /Users/Kunal/anaconda3/lib/python3.6/site-packages (from requests<3,>=2.21.0->tensorboard<2.2.0,>=2.1.0->tensorflow) (2.8)\n",
      "Requirement already satisfied, skipping upgrade: chardet<4,>=3.0.2 in /Users/Kunal/anaconda3/lib/python3.6/site-packages (from requests<3,>=2.21.0->tensorboard<2.2.0,>=2.1.0->tensorflow) (3.0.4)\n",
      "Requirement already satisfied, skipping upgrade: requests-oauthlib>=0.7.0 in /Users/Kunal/anaconda3/lib/python3.6/site-packages (from google-auth-oauthlib<0.5,>=0.4.1->tensorboard<2.2.0,>=2.1.0->tensorflow) (1.3.0)\n",
      "Requirement already satisfied, skipping upgrade: rsa<4.1,>=3.1.4 in /Users/Kunal/anaconda3/lib/python3.6/site-packages (from google-auth<2,>=1.6.3->tensorboard<2.2.0,>=2.1.0->tensorflow) (4.0)\n",
      "Requirement already satisfied, skipping upgrade: pyasn1-modules>=0.2.1 in /Users/Kunal/anaconda3/lib/python3.6/site-packages (from google-auth<2,>=1.6.3->tensorboard<2.2.0,>=2.1.0->tensorflow) (0.2.8)\n",
      "Requirement already satisfied, skipping upgrade: cachetools<5.0,>=2.0.0 in /Users/Kunal/anaconda3/lib/python3.6/site-packages (from google-auth<2,>=1.6.3->tensorboard<2.2.0,>=2.1.0->tensorflow) (4.1.0)\n",
      "Requirement already satisfied, skipping upgrade: oauthlib>=3.0.0 in /Users/Kunal/anaconda3/lib/python3.6/site-packages (from requests-oauthlib>=0.7.0->google-auth-oauthlib<0.5,>=0.4.1->tensorboard<2.2.0,>=2.1.0->tensorflow) (3.1.0)\n",
      "Requirement already satisfied, skipping upgrade: pyasn1>=0.1.3 in /Users/Kunal/anaconda3/lib/python3.6/site-packages (from rsa<4.1,>=3.1.4->google-auth<2,>=1.6.3->tensorboard<2.2.0,>=2.1.0->tensorflow) (0.4.8)\n",
      "Installing collected packages: tensorflow\n",
      "Successfully installed tensorflow-2.1.0\n"
     ]
    }
   ],
   "source": [
    "!pip3 install --upgrade tensorflow\n"
   ]
  },
  {
   "cell_type": "code",
   "execution_count": 36,
   "metadata": {},
   "outputs": [
    {
     "name": "stderr",
     "output_type": "stream",
     "text": [
      "/Users/Kunal/anaconda3/lib/python3.6/site-packages/tensorboard/compat/tensorflow_stub/dtypes.py:541: FutureWarning: Passing (type, 1) or '1type' as a synonym of type is deprecated; in a future version of numpy, it will be understood as (type, (1,)) / '(1,)type'.\n",
      "  _np_qint8 = np.dtype([(\"qint8\", np.int8, 1)])\n",
      "/Users/Kunal/anaconda3/lib/python3.6/site-packages/tensorboard/compat/tensorflow_stub/dtypes.py:542: FutureWarning: Passing (type, 1) or '1type' as a synonym of type is deprecated; in a future version of numpy, it will be understood as (type, (1,)) / '(1,)type'.\n",
      "  _np_quint8 = np.dtype([(\"quint8\", np.uint8, 1)])\n",
      "/Users/Kunal/anaconda3/lib/python3.6/site-packages/tensorboard/compat/tensorflow_stub/dtypes.py:543: FutureWarning: Passing (type, 1) or '1type' as a synonym of type is deprecated; in a future version of numpy, it will be understood as (type, (1,)) / '(1,)type'.\n",
      "  _np_qint16 = np.dtype([(\"qint16\", np.int16, 1)])\n",
      "/Users/Kunal/anaconda3/lib/python3.6/site-packages/tensorboard/compat/tensorflow_stub/dtypes.py:544: FutureWarning: Passing (type, 1) or '1type' as a synonym of type is deprecated; in a future version of numpy, it will be understood as (type, (1,)) / '(1,)type'.\n",
      "  _np_quint16 = np.dtype([(\"quint16\", np.uint16, 1)])\n",
      "/Users/Kunal/anaconda3/lib/python3.6/site-packages/tensorboard/compat/tensorflow_stub/dtypes.py:545: FutureWarning: Passing (type, 1) or '1type' as a synonym of type is deprecated; in a future version of numpy, it will be understood as (type, (1,)) / '(1,)type'.\n",
      "  _np_qint32 = np.dtype([(\"qint32\", np.int32, 1)])\n",
      "/Users/Kunal/anaconda3/lib/python3.6/site-packages/tensorboard/compat/tensorflow_stub/dtypes.py:550: FutureWarning: Passing (type, 1) or '1type' as a synonym of type is deprecated; in a future version of numpy, it will be understood as (type, (1,)) / '(1,)type'.\n",
      "  np_resource = np.dtype([(\"resource\", np.ubyte, 1)])\n"
     ]
    },
    {
     "name": "stdout",
     "output_type": "stream",
     "text": [
      "2.1.0\n"
     ]
    }
   ],
   "source": [
    "import tensorflow\n",
    "print(tensorflow.__version__)"
   ]
  },
  {
   "cell_type": "code",
   "execution_count": null,
   "metadata": {},
   "outputs": [],
   "source": []
  }
 ],
 "metadata": {
  "kernelspec": {
   "display_name": "Python 3",
   "language": "python",
   "name": "python3"
  },
  "language_info": {
   "codemirror_mode": {
    "name": "ipython",
    "version": 3
   },
   "file_extension": ".py",
   "mimetype": "text/x-python",
   "name": "python",
   "nbconvert_exporter": "python",
   "pygments_lexer": "ipython3",
   "version": "3.6.5"
  }
 },
 "nbformat": 4,
 "nbformat_minor": 2
}
