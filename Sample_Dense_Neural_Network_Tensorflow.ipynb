{
  "nbformat": 4,
  "nbformat_minor": 0,
  "metadata": {
    "colab": {
      "name": "Sample Dense Neural Network Tensorflow",
      "provenance": [],
      "collapsed_sections": [],
      "authorship_tag": "ABX9TyP5PgX7YBQ4hWQ+gxpx2puP",
      "include_colab_link": true
    },
    "kernelspec": {
      "name": "python3",
      "display_name": "Python 3"
    }
  },
  "cells": [
    {
      "cell_type": "markdown",
      "metadata": {
        "id": "view-in-github",
        "colab_type": "text"
      },
      "source": [
        "<a href=\"https://colab.research.google.com/github/imkunals726/ML/blob/master/Sample_Dense_Neural_Network_Tensorflow.ipynb\" target=\"_parent\"><img src=\"https://colab.research.google.com/assets/colab-badge.svg\" alt=\"Open In Colab\"/></a>"
      ]
    },
    {
      "cell_type": "code",
      "metadata": {
        "id": "2aGl3CAMYKkG",
        "colab_type": "code",
        "colab": {}
      },
      "source": [
        "import tensorflow as tf\n",
        "import tensorflow.compat.v1 as old_tf\n",
        "old_tf.disable_eager_execution()\n"
      ],
      "execution_count": 0,
      "outputs": []
    },
    {
      "cell_type": "code",
      "metadata": {
        "id": "RKivulEENosh",
        "colab_type": "code",
        "colab": {}
      },
      "source": [
        ""
      ],
      "execution_count": 0,
      "outputs": []
    },
    {
      "cell_type": "code",
      "metadata": {
        "id": "HjBZP0mlYVFi",
        "colab_type": "code",
        "colab": {}
      },
      "source": [
        "\n",
        "n_inputs = 28*28 # MNIST \n",
        "n_hidden1 = 300 \n",
        "n_hidden2 = 100 \n",
        "n_outputs = 10"
      ],
      "execution_count": 0,
      "outputs": []
    },
    {
      "cell_type": "code",
      "metadata": {
        "id": "BsxeZrkFYerw",
        "colab_type": "code",
        "colab": {}
      },
      "source": [
        "X = old_tf.placeholder(tf.float32, shape=(None, n_inputs), name=\"X\")\n",
        "y = old_tf.placeholder(tf.int64, shape=(None), name=\"y\")\n"
      ],
      "execution_count": 0,
      "outputs": []
    },
    {
      "cell_type": "code",
      "metadata": {
        "id": "0eYbfczIYnHI",
        "colab_type": "code",
        "colab": {}
      },
      "source": [
        "import numpy as np\n",
        "\n",
        "def neuron_layer(input_X, n_neurons, name, activation=None): \n",
        "  with tf.name_scope(name):\n",
        "    n_inputs = int(input_X.get_shape()[1])\n",
        "    stddev = 2 / np.sqrt(n_inputs)\n",
        "    init = old_tf.truncated_normal((n_inputs, n_neurons), stddev=stddev) \n",
        "    W = old_tf.Variable(init, name=\"weights\")\n",
        "    b = old_tf.Variable(tf.zeros([n_neurons]), name=\"biases\")\n",
        "    z = old_tf.matmul(input_X, W) + b\n",
        "    if activation==\"relu\":\n",
        "      return tf.nn.relu(z) \n",
        "    else:\n",
        "      return z"
      ],
      "execution_count": 0,
      "outputs": []
    },
    {
      "cell_type": "code",
      "metadata": {
        "id": "dhxGXiJ9Zcec",
        "colab_type": "code",
        "outputId": "f3def6db-9da2-40f3-b450-ccb7af4ed204",
        "colab": {
          "base_uri": "https://localhost:8080/",
          "height": 88
        }
      },
      "source": [
        "with old_tf.name_scope(\"dnn\"):\n",
        "  hidden1 = neuron_layer(X, n_hidden1, \"hidden1\", activation=\"relu\") \n",
        "  hidden2 = neuron_layer(hidden1, n_hidden2, \"hidden2\", activation=\"relu\") \n",
        "  logits = neuron_layer(hidden2, n_outputs, \"outputs\")"
      ],
      "execution_count": 5,
      "outputs": [
        {
          "output_type": "stream",
          "text": [
            "WARNING:tensorflow:From /usr/local/lib/python3.6/dist-packages/tensorflow/python/ops/resource_variable_ops.py:1666: calling BaseResourceVariable.__init__ (from tensorflow.python.ops.resource_variable_ops) with constraint is deprecated and will be removed in a future version.\n",
            "Instructions for updating:\n",
            "If using Keras pass *_constraint arguments to layers.\n"
          ],
          "name": "stdout"
        }
      ]
    },
    {
      "cell_type": "code",
      "metadata": {
        "id": "Jv4bPzGXZqLT",
        "colab_type": "code",
        "colab": {}
      },
      "source": [
        "with tf.name_scope(\"loss\"):\n",
        "  xentropy = old_tf.nn.sparse_softmax_cross_entropy_with_logits(\n",
        "                       labels=y, logits=logits)\n",
        "  loss = tf.reduce_mean(xentropy, name=\"loss\")"
      ],
      "execution_count": 0,
      "outputs": []
    },
    {
      "cell_type": "code",
      "metadata": {
        "id": "uV1UC8BzZ5LB",
        "colab_type": "code",
        "colab": {}
      },
      "source": [
        "learning_rate = 0.01\n",
        "with tf.name_scope(\"train\"):\n",
        "  optimizer = old_tf.train.GradientDescentOptimizer(learning_rate=learning_rate) \n",
        "  training_op = optimizer.minimize(loss)"
      ],
      "execution_count": 0,
      "outputs": []
    },
    {
      "cell_type": "code",
      "metadata": {
        "id": "YclxaopQZ-XJ",
        "colab_type": "code",
        "colab": {}
      },
      "source": [
        "with tf.name_scope(\"eval\"):\n",
        "  correct = old_tf.nn.in_top_k(logits, y, 1)\n",
        "  accuracy = old_tf.reduce_mean(tf.cast(correct, tf.float32))"
      ],
      "execution_count": 0,
      "outputs": []
    },
    {
      "cell_type": "code",
      "metadata": {
        "id": "jP4ICuukaF73",
        "colab_type": "code",
        "colab": {}
      },
      "source": [
        "init = old_tf.global_variables_initializer()\n",
        "saver = old_tf.train.Saver()"
      ],
      "execution_count": 0,
      "outputs": []
    },
    {
      "cell_type": "code",
      "metadata": {
        "id": "wcUA6yO9aH_E",
        "colab_type": "code",
        "colab": {}
      },
      "source": [
        "from sklearn.datasets import fetch_openml\n",
        "mnist = fetch_openml('mnist_784')"
      ],
      "execution_count": 0,
      "outputs": []
    },
    {
      "cell_type": "code",
      "metadata": {
        "id": "WgmZ6Z58aU1P",
        "colab_type": "code",
        "colab": {}
      },
      "source": [
        "from sklearn.model_selection import train_test_split\n",
        "X_train, X_test , y_train, y_test = train_test_split(mnist['data'] , mnist['target'])"
      ],
      "execution_count": 0,
      "outputs": []
    },
    {
      "cell_type": "code",
      "metadata": {
        "id": "YJhgdQjtUHfU",
        "colab_type": "code",
        "colab": {}
      },
      "source": [
        "import numpy as np\n",
        "X_train = X_train.astype(np.float32) / 255.0\n",
        "X_test = X_test.astype(np.float32) / 255.0\n",
        "\n",
        "y_train = y_train.astype(np.int32)\n",
        "y_test = y_test.astype(np.int32)"
      ],
      "execution_count": 0,
      "outputs": []
    },
    {
      "cell_type": "code",
      "metadata": {
        "id": "tAh4B1k4ae_g",
        "colab_type": "code",
        "colab": {}
      },
      "source": [
        "n_epochs = 50\n",
        "batch_size = 250"
      ],
      "execution_count": 0,
      "outputs": []
    },
    {
      "cell_type": "code",
      "metadata": {
        "id": "cWEDvP4HbFcb",
        "colab_type": "code",
        "colab": {}
      },
      "source": [
        "def random_batch(X_b, y_b, batch_size):\n",
        "  rnd_indices = np.random.randint(0,X_b.shape[0], batch_size)\n",
        "  X_batch = X_b[rnd_indices]\n",
        "  y_batch = y_b[rnd_indices]\n",
        "  return X_batch, y_batch"
      ],
      "execution_count": 0,
      "outputs": []
    },
    {
      "cell_type": "code",
      "metadata": {
        "id": "IvsVfYGObbod",
        "colab_type": "code",
        "colab": {}
      },
      "source": [
        ""
      ],
      "execution_count": 0,
      "outputs": []
    },
    {
      "cell_type": "code",
      "metadata": {
        "id": "DE0s8izmaoCi",
        "colab_type": "code",
        "outputId": "0581df55-a8bf-4d03-82bd-4181cad10491",
        "colab": {
          "base_uri": "https://localhost:8080/",
          "height": 867
        }
      },
      "source": [
        "with old_tf.Session() as sess: \n",
        "  init.run()\n",
        "  for epoch in range(n_epochs):\n",
        "    for iteration in range(len(X_train)// batch_size):\n",
        "      X_batch, y_batch = random_batch(X_train, y_train, batch_size)\n",
        "\n",
        "      sess.run(training_op, feed_dict={X: X_batch, y: y_batch})\n",
        "\n",
        "    acc_train = accuracy.eval(feed_dict={X: X_batch, y: y_batch})\n",
        "    acc_test = accuracy.eval(feed_dict={X: X_test,\n",
        "                                        y: y_test}) \n",
        "    \n",
        "    print(epoch, \"Train accuracy:\", acc_train, \"Test accuracy:\", acc_test)\n",
        "  save_path = saver.save(sess, \"./my_model_final.ckpt\")"
      ],
      "execution_count": 15,
      "outputs": [
        {
          "output_type": "stream",
          "text": [
            "0 Train accuracy: 0.868 Test accuracy: 0.8210286\n",
            "1 Train accuracy: 0.896 Test accuracy: 0.87034285\n",
            "2 Train accuracy: 0.868 Test accuracy: 0.88857144\n",
            "3 Train accuracy: 0.892 Test accuracy: 0.8985143\n",
            "4 Train accuracy: 0.896 Test accuracy: 0.90594286\n",
            "5 Train accuracy: 0.936 Test accuracy: 0.9109714\n",
            "6 Train accuracy: 0.9 Test accuracy: 0.9137143\n",
            "7 Train accuracy: 0.908 Test accuracy: 0.91742855\n",
            "8 Train accuracy: 0.944 Test accuracy: 0.9213714\n",
            "9 Train accuracy: 0.94 Test accuracy: 0.92377144\n",
            "10 Train accuracy: 0.94 Test accuracy: 0.9251429\n",
            "11 Train accuracy: 0.936 Test accuracy: 0.92742854\n",
            "12 Train accuracy: 0.948 Test accuracy: 0.9297714\n",
            "13 Train accuracy: 0.928 Test accuracy: 0.932\n",
            "14 Train accuracy: 0.944 Test accuracy: 0.93314284\n",
            "15 Train accuracy: 0.956 Test accuracy: 0.93434286\n",
            "16 Train accuracy: 0.94 Test accuracy: 0.9361143\n",
            "17 Train accuracy: 0.94 Test accuracy: 0.93685716\n",
            "18 Train accuracy: 0.964 Test accuracy: 0.93794286\n",
            "19 Train accuracy: 0.94 Test accuracy: 0.9396\n",
            "20 Train accuracy: 0.948 Test accuracy: 0.94182855\n",
            "21 Train accuracy: 0.972 Test accuracy: 0.9421143\n",
            "22 Train accuracy: 0.964 Test accuracy: 0.9424\n",
            "23 Train accuracy: 0.928 Test accuracy: 0.9442286\n",
            "24 Train accuracy: 0.968 Test accuracy: 0.94411427\n",
            "25 Train accuracy: 0.976 Test accuracy: 0.946\n",
            "26 Train accuracy: 0.936 Test accuracy: 0.9454857\n",
            "27 Train accuracy: 0.956 Test accuracy: 0.94725716\n",
            "28 Train accuracy: 0.968 Test accuracy: 0.94777143\n",
            "29 Train accuracy: 0.952 Test accuracy: 0.9488\n",
            "30 Train accuracy: 0.98 Test accuracy: 0.9484571\n",
            "31 Train accuracy: 0.976 Test accuracy: 0.9491429\n",
            "32 Train accuracy: 0.976 Test accuracy: 0.9506286\n",
            "33 Train accuracy: 0.956 Test accuracy: 0.9509714\n",
            "34 Train accuracy: 0.956 Test accuracy: 0.9516571\n",
            "35 Train accuracy: 0.988 Test accuracy: 0.95262855\n",
            "36 Train accuracy: 0.96 Test accuracy: 0.95234287\n",
            "37 Train accuracy: 0.952 Test accuracy: 0.9525143\n",
            "38 Train accuracy: 0.956 Test accuracy: 0.95342857\n",
            "39 Train accuracy: 0.988 Test accuracy: 0.9535428\n",
            "40 Train accuracy: 0.984 Test accuracy: 0.95451427\n",
            "41 Train accuracy: 0.968 Test accuracy: 0.9544\n",
            "42 Train accuracy: 0.96 Test accuracy: 0.9556\n",
            "43 Train accuracy: 0.976 Test accuracy: 0.9552571\n",
            "44 Train accuracy: 0.976 Test accuracy: 0.9557143\n",
            "45 Train accuracy: 0.984 Test accuracy: 0.9565714\n",
            "46 Train accuracy: 0.964 Test accuracy: 0.9573714\n",
            "47 Train accuracy: 0.976 Test accuracy: 0.95685714\n",
            "48 Train accuracy: 0.976 Test accuracy: 0.9569714\n",
            "49 Train accuracy: 0.94 Test accuracy: 0.9577714\n"
          ],
          "name": "stdout"
        }
      ]
    },
    {
      "cell_type": "code",
      "metadata": {
        "id": "MC5oMd4AQJyc",
        "colab_type": "code",
        "colab": {}
      },
      "source": [
        ""
      ],
      "execution_count": 0,
      "outputs": []
    },
    {
      "cell_type": "code",
      "metadata": {
        "id": "4DpuaFt3Rde3",
        "colab_type": "code",
        "colab": {}
      },
      "source": [
        ""
      ],
      "execution_count": 0,
      "outputs": []
    }
  ]
}