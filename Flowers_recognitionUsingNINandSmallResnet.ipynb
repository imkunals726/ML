{
  "nbformat": 4,
  "nbformat_minor": 0,
  "metadata": {
    "colab": {
      "name": "Flowers recognition.ipynb",
      "provenance": [],
      "collapsed_sections": [],
      "authorship_tag": "ABX9TyPOTCjAHX7xTn2okxd5b0os",
      "include_colab_link": true
    },
    "kernelspec": {
      "name": "python3",
      "display_name": "Python 3"
    },
    "accelerator": "GPU"
  },
  "cells": [
    {
      "cell_type": "markdown",
      "metadata": {
        "id": "view-in-github",
        "colab_type": "text"
      },
      "source": [
        "<a href=\"https://colab.research.google.com/github/imkunals726/ML/blob/master/Flowers_recognitionUsingNINandSmallResnet.ipynb\" target=\"_parent\"><img src=\"https://colab.research.google.com/assets/colab-badge.svg\" alt=\"Open In Colab\"/></a>"
      ]
    },
    {
      "cell_type": "code",
      "metadata": {
        "id": "u1-ABrC4LOyy",
        "colab_type": "code",
        "colab": {}
      },
      "source": [
        ""
      ],
      "execution_count": 0,
      "outputs": []
    },
    {
      "cell_type": "code",
      "metadata": {
        "id": "PXHUKMtNLjT7",
        "colab_type": "code",
        "outputId": "7f17cfd1-8e33-42d7-af4d-849c0af6e16b",
        "colab": {
          "base_uri": "https://localhost:8080/",
          "height": 200
        }
      },
      "source": [
        "!pip3 install kaggle"
      ],
      "execution_count": 1,
      "outputs": [
        {
          "output_type": "stream",
          "text": [
            "Requirement already satisfied: kaggle in /usr/local/lib/python3.6/dist-packages (1.5.6)\n",
            "Requirement already satisfied: certifi in /usr/local/lib/python3.6/dist-packages (from kaggle) (2020.4.5.1)\n",
            "Requirement already satisfied: tqdm in /usr/local/lib/python3.6/dist-packages (from kaggle) (4.41.1)\n",
            "Requirement already satisfied: urllib3<1.25,>=1.21.1 in /usr/local/lib/python3.6/dist-packages (from kaggle) (1.24.3)\n",
            "Requirement already satisfied: python-slugify in /usr/local/lib/python3.6/dist-packages (from kaggle) (4.0.0)\n",
            "Requirement already satisfied: python-dateutil in /usr/local/lib/python3.6/dist-packages (from kaggle) (2.8.1)\n",
            "Requirement already satisfied: six>=1.10 in /usr/local/lib/python3.6/dist-packages (from kaggle) (1.12.0)\n",
            "Requirement already satisfied: requests in /usr/local/lib/python3.6/dist-packages (from kaggle) (2.23.0)\n",
            "Requirement already satisfied: text-unidecode>=1.3 in /usr/local/lib/python3.6/dist-packages (from python-slugify->kaggle) (1.3)\n",
            "Requirement already satisfied: idna<3,>=2.5 in /usr/local/lib/python3.6/dist-packages (from requests->kaggle) (2.9)\n",
            "Requirement already satisfied: chardet<4,>=3.0.2 in /usr/local/lib/python3.6/dist-packages (from requests->kaggle) (3.0.4)\n"
          ],
          "name": "stdout"
        }
      ]
    },
    {
      "cell_type": "code",
      "metadata": {
        "id": "sPlsLqKAMINd",
        "colab_type": "code",
        "colab": {}
      },
      "source": [
        "from google.colab import files"
      ],
      "execution_count": 0,
      "outputs": []
    },
    {
      "cell_type": "code",
      "metadata": {
        "id": "FnZzu9FdMWSr",
        "colab_type": "code",
        "colab": {}
      },
      "source": [
        "# files.upload()"
      ],
      "execution_count": 0,
      "outputs": []
    },
    {
      "cell_type": "markdown",
      "metadata": {
        "id": "DGsNDJ3Jx9Ko",
        "colab_type": "text"
      },
      "source": [
        "\n",
        "\n",
        "```\n",
        "Please upload kaggle.json obtained from kaggle (Api Key)\n",
        "```\n",
        "\n"
      ]
    },
    {
      "cell_type": "code",
      "metadata": {
        "id": "-hJxnU19Mc_-",
        "colab_type": "code",
        "outputId": "beb4d7e8-14de-4df1-e4bb-8352d12b922e",
        "colab": {
          "base_uri": "https://localhost:8080/",
          "height": 33
        }
      },
      "source": [
        "!ls | grep kaggle"
      ],
      "execution_count": 4,
      "outputs": [
        {
          "output_type": "stream",
          "text": [
            "kaggle.json\n"
          ],
          "name": "stdout"
        }
      ]
    },
    {
      "cell_type": "code",
      "metadata": {
        "id": "7NAhokcNMjE1",
        "colab_type": "code",
        "colab": {}
      },
      "source": [
        "!mkdir ~/.kaggle"
      ],
      "execution_count": 0,
      "outputs": []
    },
    {
      "cell_type": "code",
      "metadata": {
        "id": "E3RBGAUEMxjt",
        "colab_type": "code",
        "colab": {}
      },
      "source": [
        "!cp kaggle.json ~/.kaggle/"
      ],
      "execution_count": 0,
      "outputs": []
    },
    {
      "cell_type": "code",
      "metadata": {
        "id": "6gu7G-ehM5Ph",
        "colab_type": "code",
        "colab": {}
      },
      "source": [
        "! chmod 600 ~/.kaggle/kaggle.json"
      ],
      "execution_count": 0,
      "outputs": []
    },
    {
      "cell_type": "code",
      "metadata": {
        "id": "R_P78G-PM92d",
        "colab_type": "code",
        "colab": {}
      },
      "source": [
        ""
      ],
      "execution_count": 0,
      "outputs": []
    },
    {
      "cell_type": "code",
      "metadata": {
        "id": "F0PJ8B_yNCEJ",
        "colab_type": "code",
        "colab": {}
      },
      "source": [
        "# !kaggle datasets list -s flowers"
      ],
      "execution_count": 0,
      "outputs": []
    },
    {
      "cell_type": "code",
      "metadata": {
        "id": "l7xfQE2SN3OL",
        "colab_type": "code",
        "outputId": "1c68e29f-7eb2-42e8-93c3-d41c69f08254",
        "colab": {
          "base_uri": "https://localhost:8080/",
          "height": 66
        }
      },
      "source": [
        "!kaggle datasets download -d alxmamaev/flowers-recognition"
      ],
      "execution_count": 9,
      "outputs": [
        {
          "output_type": "stream",
          "text": [
            "Downloading flowers-recognition.zip to /content\n",
            " 98% 441M/450M [00:07<00:00, 48.6MB/s]\n",
            "100% 450M/450M [00:07<00:00, 59.4MB/s]\n"
          ],
          "name": "stdout"
        }
      ]
    },
    {
      "cell_type": "code",
      "metadata": {
        "id": "qBqA4_dPOubq",
        "colab_type": "code",
        "outputId": "e06f9fc0-1e3a-4fda-8207-db1aec3a0810",
        "colab": {
          "base_uri": "https://localhost:8080/",
          "height": 33
        }
      },
      "source": [
        "!ls"
      ],
      "execution_count": 10,
      "outputs": [
        {
          "output_type": "stream",
          "text": [
            "flowers-recognition.zip  kaggle.json  sample_data\n"
          ],
          "name": "stdout"
        }
      ]
    },
    {
      "cell_type": "code",
      "metadata": {
        "id": "Sz1fPI2AOyCd",
        "colab_type": "code",
        "colab": {}
      },
      "source": [
        "# !unzip flowers-recognition.zip"
      ],
      "execution_count": 0,
      "outputs": []
    },
    {
      "cell_type": "code",
      "metadata": {
        "id": "P7fj-XpAZw4_",
        "colab_type": "code",
        "colab": {}
      },
      "source": [
        "!mv flowers/flowers validation_images"
      ],
      "execution_count": 0,
      "outputs": []
    },
    {
      "cell_type": "code",
      "metadata": {
        "id": "5qV0UMmCZw2C",
        "colab_type": "code",
        "colab": {}
      },
      "source": [
        "import tensorflow as tf"
      ],
      "execution_count": 0,
      "outputs": []
    },
    {
      "cell_type": "code",
      "metadata": {
        "id": "1vVjU9aFZwyM",
        "colab_type": "code",
        "colab": {}
      },
      "source": [
        "def create_mlp_conv_layer(X, filter_size, kernel_shape, strides = (1,1)):\n",
        "  X = tf.keras.layers.Conv2D(filter_size, kernel_shape, strides = strides)(X)\n",
        "  X = tf.keras.layers.Conv2D(filter_size,(1,1))(X)\n",
        "  X = tf.keras.layers.Conv2D(filter_size,(1,1))(X)\n",
        "  X = tf.keras.layers.ReLU()(X)\n",
        "  X = tf.keras.layers.MaxPool2D((3,3),strides=(2,2))(X)\n",
        "  X = tf.keras.layers.BatchNormalization()(X)\n",
        "  return X\n"
      ],
      "execution_count": 0,
      "outputs": []
    },
    {
      "cell_type": "code",
      "metadata": {
        "id": "6YlF6XA-Zwv3",
        "colab_type": "code",
        "colab": {}
      },
      "source": [
        "def create_model():\n",
        "  X_input = tf.keras.layers.Input((256,256,3))\n",
        "\n",
        "  X = create_mlp_conv_layer(X_input, 96, (11,11), strides = (4,4))\n",
        "\n",
        "  X_shortcut = X\n",
        "\n",
        "  X = create_mlp_conv_layer(X , 256, (5,5))\n",
        "\n",
        "  X = create_mlp_conv_layer(X,384, (3,3))\n",
        "\n",
        "  X = tf.keras.layers.Conv2D(384,(3,3), padding = 'SAME')(X)\n",
        "\n",
        "\n",
        "  X_shortcut = tf.keras.layers.Conv2D(384,(1,1) )(X_shortcut)\n",
        "\n",
        "  X_shortcut = tf.keras.layers.MaxPool2D((7,7),strides=(6,6))(X_shortcut)\n",
        "\n",
        "  X = tf.keras.layers.Add()([X,X_shortcut]) #small resnet\n",
        "\n",
        "  X = tf.keras.layers.ReLU()(X)\n",
        "\n",
        "  X = tf.keras.layers.GlobalAveragePooling2D()(X)\n",
        "\n",
        "  X = tf.keras.layers.Dense(512, activation = 'relu')(X)\n",
        "\n",
        "  preds = tf.keras.layers.Dense(5, activation = 'softmax')(X)\n",
        "\n",
        "  model = tf.keras.models.Model(inputs = X_input , outputs = preds)\n",
        "\n",
        "  model.compile( optimizer = 'adam' , loss = 'categorical_crossentropy', metrics = ['accuracy'])\n",
        "\n",
        "  return model"
      ],
      "execution_count": 0,
      "outputs": []
    },
    {
      "cell_type": "code",
      "metadata": {
        "id": "gRcczwvyZwtt",
        "colab_type": "code",
        "colab": {}
      },
      "source": [
        "model = create_model()"
      ],
      "execution_count": 0,
      "outputs": []
    },
    {
      "cell_type": "code",
      "metadata": {
        "id": "kXmv2Y2hZwqv",
        "colab_type": "code",
        "colab": {}
      },
      "source": [
        "datagen = tf.keras.preprocessing.image.ImageDataGenerator(rescale = 1/255., \n",
        "                                                          height_shift_range=0.2,\n",
        "                                                          shear_range = 0.2,\n",
        "                                                          zoom_range = 0.2,\n",
        "                                                          width_shift_range = 0.2,\n",
        "                                                          rotation_range = 60,\n",
        "                                                          horizontal_flip = True,\n",
        "                                                          validation_split = 0.2,\n",
        "                                                          fill_mode = 'nearest')"
      ],
      "execution_count": 0,
      "outputs": []
    },
    {
      "cell_type": "code",
      "metadata": {
        "id": "OWtOkkdCZwoX",
        "colab_type": "code",
        "colab": {
          "base_uri": "https://localhost:8080/",
          "height": 50
        },
        "outputId": "0ab73751-2dd1-43a1-d4f6-09874786616a"
      },
      "source": [
        "train_data = datagen.flow_from_directory('flowers/',target_size=(256,256),color_mode='rgb',\n",
        "                                class_mode='categorical',batch_size = 16 ,subset = 'training',\n",
        "                                    shuffle=True)\n",
        "val_data = datagen.flow_from_directory('flowers/',target_size=(256,256),color_mode='rgb',\n",
        "                                class_mode='categorical',batch_size = 16 ,subset = 'validation',\n",
        "                                    shuffle=True)"
      ],
      "execution_count": 6,
      "outputs": [
        {
          "output_type": "stream",
          "text": [
            "Found 3462 images belonging to 5 classes.\n",
            "Found 861 images belonging to 5 classes.\n"
          ],
          "name": "stdout"
        }
      ]
    },
    {
      "cell_type": "code",
      "metadata": {
        "id": "njD5ZeZphRVQ",
        "colab_type": "code",
        "colab": {
          "base_uri": "https://localhost:8080/",
          "height": 1000
        },
        "outputId": "8f44c8d4-4147-450c-d6fa-5cdd9274b6fa"
      },
      "source": [
        "model.summary()"
      ],
      "execution_count": 7,
      "outputs": [
        {
          "output_type": "stream",
          "text": [
            "Model: \"model\"\n",
            "__________________________________________________________________________________________________\n",
            "Layer (type)                    Output Shape         Param #     Connected to                     \n",
            "==================================================================================================\n",
            "input_1 (InputLayer)            [(None, 256, 256, 3) 0                                            \n",
            "__________________________________________________________________________________________________\n",
            "conv2d (Conv2D)                 (None, 62, 62, 96)   34944       input_1[0][0]                    \n",
            "__________________________________________________________________________________________________\n",
            "conv2d_1 (Conv2D)               (None, 62, 62, 96)   9312        conv2d[0][0]                     \n",
            "__________________________________________________________________________________________________\n",
            "conv2d_2 (Conv2D)               (None, 62, 62, 96)   9312        conv2d_1[0][0]                   \n",
            "__________________________________________________________________________________________________\n",
            "re_lu (ReLU)                    (None, 62, 62, 96)   0           conv2d_2[0][0]                   \n",
            "__________________________________________________________________________________________________\n",
            "max_pooling2d (MaxPooling2D)    (None, 30, 30, 96)   0           re_lu[0][0]                      \n",
            "__________________________________________________________________________________________________\n",
            "batch_normalization (BatchNorma (None, 30, 30, 96)   384         max_pooling2d[0][0]              \n",
            "__________________________________________________________________________________________________\n",
            "conv2d_3 (Conv2D)               (None, 26, 26, 256)  614656      batch_normalization[0][0]        \n",
            "__________________________________________________________________________________________________\n",
            "conv2d_4 (Conv2D)               (None, 26, 26, 256)  65792       conv2d_3[0][0]                   \n",
            "__________________________________________________________________________________________________\n",
            "conv2d_5 (Conv2D)               (None, 26, 26, 256)  65792       conv2d_4[0][0]                   \n",
            "__________________________________________________________________________________________________\n",
            "re_lu_1 (ReLU)                  (None, 26, 26, 256)  0           conv2d_5[0][0]                   \n",
            "__________________________________________________________________________________________________\n",
            "max_pooling2d_1 (MaxPooling2D)  (None, 12, 12, 256)  0           re_lu_1[0][0]                    \n",
            "__________________________________________________________________________________________________\n",
            "batch_normalization_1 (BatchNor (None, 12, 12, 256)  1024        max_pooling2d_1[0][0]            \n",
            "__________________________________________________________________________________________________\n",
            "conv2d_6 (Conv2D)               (None, 10, 10, 384)  885120      batch_normalization_1[0][0]      \n",
            "__________________________________________________________________________________________________\n",
            "conv2d_7 (Conv2D)               (None, 10, 10, 384)  147840      conv2d_6[0][0]                   \n",
            "__________________________________________________________________________________________________\n",
            "conv2d_8 (Conv2D)               (None, 10, 10, 384)  147840      conv2d_7[0][0]                   \n",
            "__________________________________________________________________________________________________\n",
            "re_lu_2 (ReLU)                  (None, 10, 10, 384)  0           conv2d_8[0][0]                   \n",
            "__________________________________________________________________________________________________\n",
            "max_pooling2d_2 (MaxPooling2D)  (None, 4, 4, 384)    0           re_lu_2[0][0]                    \n",
            "__________________________________________________________________________________________________\n",
            "batch_normalization_2 (BatchNor (None, 4, 4, 384)    1536        max_pooling2d_2[0][0]            \n",
            "__________________________________________________________________________________________________\n",
            "conv2d_10 (Conv2D)              (None, 30, 30, 384)  37248       batch_normalization[0][0]        \n",
            "__________________________________________________________________________________________________\n",
            "conv2d_9 (Conv2D)               (None, 4, 4, 384)    1327488     batch_normalization_2[0][0]      \n",
            "__________________________________________________________________________________________________\n",
            "max_pooling2d_3 (MaxPooling2D)  (None, 4, 4, 384)    0           conv2d_10[0][0]                  \n",
            "__________________________________________________________________________________________________\n",
            "add (Add)                       (None, 4, 4, 384)    0           conv2d_9[0][0]                   \n",
            "                                                                 max_pooling2d_3[0][0]            \n",
            "__________________________________________________________________________________________________\n",
            "re_lu_3 (ReLU)                  (None, 4, 4, 384)    0           add[0][0]                        \n",
            "__________________________________________________________________________________________________\n",
            "global_average_pooling2d (Globa (None, 384)          0           re_lu_3[0][0]                    \n",
            "__________________________________________________________________________________________________\n",
            "dense (Dense)                   (None, 512)          197120      global_average_pooling2d[0][0]   \n",
            "__________________________________________________________________________________________________\n",
            "dense_1 (Dense)                 (None, 5)            2565        dense[0][0]                      \n",
            "==================================================================================================\n",
            "Total params: 3,547,973\n",
            "Trainable params: 3,546,501\n",
            "Non-trainable params: 1,472\n",
            "__________________________________________________________________________________________________\n"
          ],
          "name": "stdout"
        }
      ]
    },
    {
      "cell_type": "code",
      "metadata": {
        "id": "GBf3lbrnZwjx",
        "colab_type": "code",
        "colab": {
          "base_uri": "https://localhost:8080/",
          "height": 833
        },
        "outputId": "aa0b0ae1-be56-42d7-d3e1-f5c8cb747336"
      },
      "source": [
        "model.fit(train_data , epochs=24 , validation_data=val_data)"
      ],
      "execution_count": 8,
      "outputs": [
        {
          "output_type": "stream",
          "text": [
            "Epoch 1/24\n",
            "217/217 [==============================] - 63s 289ms/step - loss: 1.5908 - accuracy: 0.3954 - val_loss: 1.6212 - val_accuracy: 0.4228\n",
            "Epoch 2/24\n",
            "217/217 [==============================] - 63s 288ms/step - loss: 1.2847 - accuracy: 0.4760 - val_loss: 2.6836 - val_accuracy: 0.2509\n",
            "Epoch 3/24\n",
            "217/217 [==============================] - 63s 288ms/step - loss: 1.1767 - accuracy: 0.5182 - val_loss: 1.2034 - val_accuracy: 0.5633\n",
            "Epoch 4/24\n",
            "217/217 [==============================] - 63s 290ms/step - loss: 1.0926 - accuracy: 0.5563 - val_loss: 1.3909 - val_accuracy: 0.4100\n",
            "Epoch 5/24\n",
            "217/217 [==============================] - 63s 290ms/step - loss: 1.0392 - accuracy: 0.5815 - val_loss: 1.1993 - val_accuracy: 0.5819\n",
            "Epoch 6/24\n",
            "217/217 [==============================] - 63s 290ms/step - loss: 1.0127 - accuracy: 0.5930 - val_loss: 1.2106 - val_accuracy: 0.5528\n",
            "Epoch 7/24\n",
            "217/217 [==============================] - 63s 290ms/step - loss: 1.0165 - accuracy: 0.5933 - val_loss: 1.0794 - val_accuracy: 0.5377\n",
            "Epoch 8/24\n",
            "217/217 [==============================] - 63s 291ms/step - loss: 0.9651 - accuracy: 0.6170 - val_loss: 0.9518 - val_accuracy: 0.6132\n",
            "Epoch 9/24\n",
            "217/217 [==============================] - 64s 293ms/step - loss: 0.9537 - accuracy: 0.6179 - val_loss: 0.9024 - val_accuracy: 0.6341\n",
            "Epoch 10/24\n",
            "217/217 [==============================] - 63s 292ms/step - loss: 0.9311 - accuracy: 0.6386 - val_loss: 1.2960 - val_accuracy: 0.5691\n",
            "Epoch 11/24\n",
            "217/217 [==============================] - 63s 292ms/step - loss: 0.9253 - accuracy: 0.6317 - val_loss: 0.9638 - val_accuracy: 0.6307\n",
            "Epoch 12/24\n",
            "217/217 [==============================] - 64s 293ms/step - loss: 0.8899 - accuracy: 0.6597 - val_loss: 0.8426 - val_accuracy: 0.6632\n",
            "Epoch 13/24\n",
            "217/217 [==============================] - 64s 294ms/step - loss: 0.8813 - accuracy: 0.6548 - val_loss: 0.9852 - val_accuracy: 0.6283\n",
            "Epoch 14/24\n",
            "217/217 [==============================] - 64s 295ms/step - loss: 0.8776 - accuracy: 0.6661 - val_loss: 1.0160 - val_accuracy: 0.6469\n",
            "Epoch 15/24\n",
            "217/217 [==============================] - 64s 295ms/step - loss: 0.8457 - accuracy: 0.6701 - val_loss: 0.9260 - val_accuracy: 0.6446\n",
            "Epoch 16/24\n",
            "217/217 [==============================] - 64s 296ms/step - loss: 0.8583 - accuracy: 0.6641 - val_loss: 1.1597 - val_accuracy: 0.6005\n",
            "Epoch 17/24\n",
            "217/217 [==============================] - 64s 294ms/step - loss: 0.8181 - accuracy: 0.6878 - val_loss: 0.9646 - val_accuracy: 0.6330\n",
            "Epoch 18/24\n",
            "217/217 [==============================] - 64s 296ms/step - loss: 0.8431 - accuracy: 0.6730 - val_loss: 0.8558 - val_accuracy: 0.6713\n",
            "Epoch 19/24\n",
            "217/217 [==============================] - 65s 299ms/step - loss: 0.8089 - accuracy: 0.6814 - val_loss: 0.8413 - val_accuracy: 0.6783\n",
            "Epoch 20/24\n",
            "217/217 [==============================] - 64s 296ms/step - loss: 0.8109 - accuracy: 0.6863 - val_loss: 0.8934 - val_accuracy: 0.6736\n",
            "Epoch 21/24\n",
            "217/217 [==============================] - 63s 292ms/step - loss: 0.8015 - accuracy: 0.6912 - val_loss: 0.8901 - val_accuracy: 0.6492\n",
            "Epoch 22/24\n",
            "217/217 [==============================] - 64s 294ms/step - loss: 0.7802 - accuracy: 0.7025 - val_loss: 0.8018 - val_accuracy: 0.6876\n",
            "Epoch 23/24\n",
            "217/217 [==============================] - 63s 292ms/step - loss: 0.7557 - accuracy: 0.7114 - val_loss: 0.8584 - val_accuracy: 0.6818\n",
            "Epoch 24/24\n",
            "217/217 [==============================] - 64s 293ms/step - loss: 0.7730 - accuracy: 0.7034 - val_loss: 0.8126 - val_accuracy: 0.6643\n"
          ],
          "name": "stdout"
        },
        {
          "output_type": "execute_result",
          "data": {
            "text/plain": [
              "<tensorflow.python.keras.callbacks.History at 0x7f03101d03c8>"
            ]
          },
          "metadata": {
            "tags": []
          },
          "execution_count": 8
        }
      ]
    },
    {
      "cell_type": "code",
      "metadata": {
        "id": "nGtCiyQsZwbl",
        "colab_type": "code",
        "colab": {
          "base_uri": "https://localhost:8080/",
          "height": 833
        },
        "outputId": "f28f8e9a-402b-4a56-9913-18f38b94492e"
      },
      "source": [
        "model.fit(train_data , epochs=24 , validation_data=val_data)"
      ],
      "execution_count": 9,
      "outputs": [
        {
          "output_type": "stream",
          "text": [
            "Epoch 1/24\n",
            "217/217 [==============================] - 64s 295ms/step - loss: 0.7457 - accuracy: 0.7106 - val_loss: 0.8571 - val_accuracy: 0.6655\n",
            "Epoch 2/24\n",
            "217/217 [==============================] - 64s 294ms/step - loss: 0.7420 - accuracy: 0.7233 - val_loss: 1.0538 - val_accuracy: 0.6562\n",
            "Epoch 3/24\n",
            "217/217 [==============================] - 64s 293ms/step - loss: 0.7267 - accuracy: 0.7109 - val_loss: 0.7824 - val_accuracy: 0.7062\n",
            "Epoch 4/24\n",
            "217/217 [==============================] - 64s 293ms/step - loss: 0.7277 - accuracy: 0.7166 - val_loss: 0.7777 - val_accuracy: 0.7120\n",
            "Epoch 5/24\n",
            "217/217 [==============================] - 64s 293ms/step - loss: 0.6884 - accuracy: 0.7389 - val_loss: 1.0213 - val_accuracy: 0.6376\n",
            "Epoch 6/24\n",
            "217/217 [==============================] - 64s 294ms/step - loss: 0.7083 - accuracy: 0.7267 - val_loss: 0.8423 - val_accuracy: 0.6922\n",
            "Epoch 7/24\n",
            "217/217 [==============================] - 64s 293ms/step - loss: 0.6985 - accuracy: 0.7311 - val_loss: 1.1146 - val_accuracy: 0.5749\n",
            "Epoch 8/24\n",
            "217/217 [==============================] - 63s 288ms/step - loss: 0.6883 - accuracy: 0.7357 - val_loss: 0.7269 - val_accuracy: 0.7271\n",
            "Epoch 9/24\n",
            "217/217 [==============================] - 63s 291ms/step - loss: 0.6836 - accuracy: 0.7397 - val_loss: 0.7436 - val_accuracy: 0.7224\n",
            "Epoch 10/24\n",
            "217/217 [==============================] - 63s 288ms/step - loss: 0.6841 - accuracy: 0.7363 - val_loss: 0.8037 - val_accuracy: 0.7050\n",
            "Epoch 11/24\n",
            "217/217 [==============================] - 63s 289ms/step - loss: 0.6731 - accuracy: 0.7348 - val_loss: 0.9219 - val_accuracy: 0.6562\n",
            "Epoch 12/24\n",
            "217/217 [==============================] - 63s 289ms/step - loss: 0.6547 - accuracy: 0.7496 - val_loss: 0.7709 - val_accuracy: 0.7131\n",
            "Epoch 13/24\n",
            "217/217 [==============================] - 63s 288ms/step - loss: 0.6592 - accuracy: 0.7499 - val_loss: 0.8019 - val_accuracy: 0.7003\n",
            "Epoch 14/24\n",
            "217/217 [==============================] - 64s 296ms/step - loss: 0.6313 - accuracy: 0.7585 - val_loss: 0.7864 - val_accuracy: 0.7015\n",
            "Epoch 15/24\n",
            "217/217 [==============================] - 63s 288ms/step - loss: 0.6253 - accuracy: 0.7553 - val_loss: 0.8033 - val_accuracy: 0.6969\n",
            "Epoch 16/24\n",
            "217/217 [==============================] - 63s 288ms/step - loss: 0.6386 - accuracy: 0.7484 - val_loss: 0.8319 - val_accuracy: 0.6922\n",
            "Epoch 17/24\n",
            "217/217 [==============================] - 63s 289ms/step - loss: 0.6214 - accuracy: 0.7660 - val_loss: 0.7118 - val_accuracy: 0.7213\n",
            "Epoch 18/24\n",
            "217/217 [==============================] - 62s 288ms/step - loss: 0.6046 - accuracy: 0.7660 - val_loss: 0.8524 - val_accuracy: 0.6794\n",
            "Epoch 19/24\n",
            "217/217 [==============================] - 63s 289ms/step - loss: 0.6138 - accuracy: 0.7753 - val_loss: 0.8424 - val_accuracy: 0.6876\n",
            "Epoch 20/24\n",
            "217/217 [==============================] - 63s 288ms/step - loss: 0.5940 - accuracy: 0.7704 - val_loss: 0.7642 - val_accuracy: 0.7282\n",
            "Epoch 21/24\n",
            "217/217 [==============================] - 62s 288ms/step - loss: 0.5916 - accuracy: 0.7730 - val_loss: 0.8127 - val_accuracy: 0.7259\n",
            "Epoch 22/24\n",
            "217/217 [==============================] - 62s 287ms/step - loss: 0.5886 - accuracy: 0.7704 - val_loss: 0.7748 - val_accuracy: 0.7062\n",
            "Epoch 23/24\n",
            "217/217 [==============================] - 62s 287ms/step - loss: 0.5932 - accuracy: 0.7701 - val_loss: 0.8706 - val_accuracy: 0.6992\n",
            "Epoch 24/24\n",
            "217/217 [==============================] - 63s 289ms/step - loss: 0.5718 - accuracy: 0.7894 - val_loss: 0.8695 - val_accuracy: 0.6771\n"
          ],
          "name": "stdout"
        },
        {
          "output_type": "execute_result",
          "data": {
            "text/plain": [
              "<tensorflow.python.keras.callbacks.History at 0x7f03627fef98>"
            ]
          },
          "metadata": {
            "tags": []
          },
          "execution_count": 9
        }
      ]
    },
    {
      "cell_type": "code",
      "metadata": {
        "id": "TW0zekJ88z8S",
        "colab_type": "code",
        "colab": {
          "base_uri": "https://localhost:8080/",
          "height": 816
        },
        "outputId": "1527b3ec-9305-4f2a-95ff-02ecafee56d8"
      },
      "source": [
        "last_history = model.fit(train_data , epochs=24 , validation_data=val_data)"
      ],
      "execution_count": 11,
      "outputs": [
        {
          "output_type": "stream",
          "text": [
            "Epoch 1/24\n",
            "217/217 [==============================] - 62s 287ms/step - loss: 0.5884 - accuracy: 0.7796 - val_loss: 0.7004 - val_accuracy: 0.7515\n",
            "Epoch 2/24\n",
            "217/217 [==============================] - 62s 287ms/step - loss: 0.5659 - accuracy: 0.7782 - val_loss: 0.7048 - val_accuracy: 0.7340\n",
            "Epoch 3/24\n",
            "217/217 [==============================] - 62s 286ms/step - loss: 0.5565 - accuracy: 0.7802 - val_loss: 0.7965 - val_accuracy: 0.7271\n",
            "Epoch 4/24\n",
            "217/217 [==============================] - 62s 287ms/step - loss: 0.5526 - accuracy: 0.7909 - val_loss: 0.8537 - val_accuracy: 0.7236\n",
            "Epoch 5/24\n",
            "217/217 [==============================] - 62s 286ms/step - loss: 0.5688 - accuracy: 0.7880 - val_loss: 0.7759 - val_accuracy: 0.7096\n",
            "Epoch 6/24\n",
            "217/217 [==============================] - 63s 291ms/step - loss: 0.5498 - accuracy: 0.7825 - val_loss: 0.7574 - val_accuracy: 0.7468\n",
            "Epoch 7/24\n",
            "217/217 [==============================] - 63s 289ms/step - loss: 0.5412 - accuracy: 0.7972 - val_loss: 0.7318 - val_accuracy: 0.7294\n",
            "Epoch 8/24\n",
            "217/217 [==============================] - 63s 289ms/step - loss: 0.5494 - accuracy: 0.7891 - val_loss: 0.7211 - val_accuracy: 0.7259\n",
            "Epoch 9/24\n",
            "217/217 [==============================] - 63s 288ms/step - loss: 0.5350 - accuracy: 0.8033 - val_loss: 0.7141 - val_accuracy: 0.7573\n",
            "Epoch 10/24\n",
            "217/217 [==============================] - 63s 288ms/step - loss: 0.5305 - accuracy: 0.7903 - val_loss: 0.7519 - val_accuracy: 0.7456\n",
            "Epoch 11/24\n",
            "217/217 [==============================] - 63s 289ms/step - loss: 0.5408 - accuracy: 0.7981 - val_loss: 0.9707 - val_accuracy: 0.6945\n",
            "Epoch 12/24\n",
            "217/217 [==============================] - 63s 288ms/step - loss: 0.5216 - accuracy: 0.8039 - val_loss: 0.6866 - val_accuracy: 0.7433\n",
            "Epoch 13/24\n",
            "217/217 [==============================] - 63s 289ms/step - loss: 0.5219 - accuracy: 0.8024 - val_loss: 0.8306 - val_accuracy: 0.6876\n",
            "Epoch 14/24\n",
            "217/217 [==============================] - 63s 289ms/step - loss: 0.5469 - accuracy: 0.7940 - val_loss: 0.6988 - val_accuracy: 0.7468\n",
            "Epoch 15/24\n",
            "217/217 [==============================] - 63s 288ms/step - loss: 0.5061 - accuracy: 0.8079 - val_loss: 0.7309 - val_accuracy: 0.7387\n",
            "Epoch 16/24\n",
            "217/217 [==============================] - 63s 289ms/step - loss: 0.5285 - accuracy: 0.8042 - val_loss: 0.7317 - val_accuracy: 0.7294\n",
            "Epoch 17/24\n",
            "217/217 [==============================] - 62s 287ms/step - loss: 0.4891 - accuracy: 0.8177 - val_loss: 0.7182 - val_accuracy: 0.7387\n",
            "Epoch 18/24\n",
            "217/217 [==============================] - 63s 289ms/step - loss: 0.4973 - accuracy: 0.8094 - val_loss: 0.8045 - val_accuracy: 0.7143\n",
            "Epoch 19/24\n",
            "217/217 [==============================] - 63s 290ms/step - loss: 0.5007 - accuracy: 0.8085 - val_loss: 0.7843 - val_accuracy: 0.7271\n",
            "Epoch 20/24\n",
            "217/217 [==============================] - 64s 295ms/step - loss: 0.4852 - accuracy: 0.8174 - val_loss: 0.7284 - val_accuracy: 0.7410\n",
            "Epoch 21/24\n",
            "217/217 [==============================] - 63s 289ms/step - loss: 0.4905 - accuracy: 0.8143 - val_loss: 0.7176 - val_accuracy: 0.7305\n",
            "Epoch 22/24\n",
            "217/217 [==============================] - 63s 290ms/step - loss: 0.4716 - accuracy: 0.8212 - val_loss: 0.6883 - val_accuracy: 0.7538\n",
            "Epoch 23/24\n",
            "217/217 [==============================] - 63s 292ms/step - loss: 0.4778 - accuracy: 0.8143 - val_loss: 0.6717 - val_accuracy: 0.7770\n",
            "Epoch 24/24\n",
            "217/217 [==============================] - 63s 290ms/step - loss: 0.4668 - accuracy: 0.8209 - val_loss: 0.7721 - val_accuracy: 0.7410\n"
          ],
          "name": "stdout"
        }
      ]
    },
    {
      "cell_type": "markdown",
      "metadata": {
        "id": "XUSY7WCcFrol",
        "colab_type": "text"
      },
      "source": [
        "`Tyring to improve the model because it's nowhere closer to human level performance`"
      ]
    },
    {
      "cell_type": "code",
      "metadata": {
        "id": "a9MziFsIFJax",
        "colab_type": "code",
        "colab": {
          "base_uri": "https://localhost:8080/",
          "height": 1000
        },
        "outputId": "1a175337-35b1-4a52-fc7c-d53a90e6eb87"
      },
      "source": [
        "history = model.fit(train_data , epochs=96 , validation_data=val_data)"
      ],
      "execution_count": 18,
      "outputs": [
        {
          "output_type": "stream",
          "text": [
            "Epoch 1/96\n",
            "217/217 [==============================] - 65s 301ms/step - loss: 0.4783 - accuracy: 0.8160 - val_loss: 0.7245 - val_accuracy: 0.7480\n",
            "Epoch 2/96\n",
            "217/217 [==============================] - 64s 297ms/step - loss: 0.4755 - accuracy: 0.8169 - val_loss: 0.6900 - val_accuracy: 0.7828\n",
            "Epoch 3/96\n",
            "217/217 [==============================] - 63s 293ms/step - loss: 0.4352 - accuracy: 0.8322 - val_loss: 0.7951 - val_accuracy: 0.7654\n",
            "Epoch 4/96\n",
            "217/217 [==============================] - 64s 294ms/step - loss: 0.4429 - accuracy: 0.8359 - val_loss: 0.7385 - val_accuracy: 0.7433\n",
            "Epoch 5/96\n",
            "217/217 [==============================] - 64s 294ms/step - loss: 0.4544 - accuracy: 0.8313 - val_loss: 0.7684 - val_accuracy: 0.7410\n",
            "Epoch 6/96\n",
            "217/217 [==============================] - 65s 299ms/step - loss: 0.4431 - accuracy: 0.8351 - val_loss: 0.7210 - val_accuracy: 0.7538\n",
            "Epoch 7/96\n",
            "217/217 [==============================] - 65s 300ms/step - loss: 0.4535 - accuracy: 0.8299 - val_loss: 0.8544 - val_accuracy: 0.7294\n",
            "Epoch 8/96\n",
            "217/217 [==============================] - 64s 295ms/step - loss: 0.4447 - accuracy: 0.8351 - val_loss: 0.7222 - val_accuracy: 0.7410\n",
            "Epoch 9/96\n",
            "217/217 [==============================] - 63s 291ms/step - loss: 0.4374 - accuracy: 0.8336 - val_loss: 0.6995 - val_accuracy: 0.7549\n",
            "Epoch 10/96\n",
            "217/217 [==============================] - 63s 289ms/step - loss: 0.4313 - accuracy: 0.8313 - val_loss: 0.7503 - val_accuracy: 0.7607\n",
            "Epoch 11/96\n",
            "217/217 [==============================] - 64s 293ms/step - loss: 0.4132 - accuracy: 0.8489 - val_loss: 0.7825 - val_accuracy: 0.7538\n",
            "Epoch 12/96\n",
            "217/217 [==============================] - 63s 292ms/step - loss: 0.4409 - accuracy: 0.8322 - val_loss: 0.7213 - val_accuracy: 0.7642\n",
            "Epoch 13/96\n",
            "217/217 [==============================] - 64s 294ms/step - loss: 0.4080 - accuracy: 0.8449 - val_loss: 0.7100 - val_accuracy: 0.7666\n",
            "Epoch 14/96\n",
            "217/217 [==============================] - 64s 295ms/step - loss: 0.4201 - accuracy: 0.8371 - val_loss: 0.7295 - val_accuracy: 0.7515\n",
            "Epoch 15/96\n",
            "217/217 [==============================] - 64s 294ms/step - loss: 0.3989 - accuracy: 0.8524 - val_loss: 0.7862 - val_accuracy: 0.7213\n",
            "Epoch 16/96\n",
            "217/217 [==============================] - 65s 298ms/step - loss: 0.4239 - accuracy: 0.8406 - val_loss: 0.7595 - val_accuracy: 0.7538\n",
            "Epoch 17/96\n",
            "217/217 [==============================] - 64s 297ms/step - loss: 0.4001 - accuracy: 0.8440 - val_loss: 0.7832 - val_accuracy: 0.7515\n",
            "Epoch 18/96\n",
            "217/217 [==============================] - 64s 297ms/step - loss: 0.4011 - accuracy: 0.8530 - val_loss: 0.7143 - val_accuracy: 0.7631\n",
            "Epoch 19/96\n",
            "217/217 [==============================] - 64s 293ms/step - loss: 0.4165 - accuracy: 0.8486 - val_loss: 0.6856 - val_accuracy: 0.7631\n",
            "Epoch 20/96\n",
            "217/217 [==============================] - 63s 291ms/step - loss: 0.4102 - accuracy: 0.8492 - val_loss: 0.7790 - val_accuracy: 0.7271\n",
            "Epoch 21/96\n",
            "217/217 [==============================] - 63s 291ms/step - loss: 0.4081 - accuracy: 0.8440 - val_loss: 0.7448 - val_accuracy: 0.7619\n",
            "Epoch 22/96\n",
            "217/217 [==============================] - 63s 290ms/step - loss: 0.4165 - accuracy: 0.8472 - val_loss: 0.8117 - val_accuracy: 0.7433\n",
            "Epoch 23/96\n",
            "217/217 [==============================] - 63s 289ms/step - loss: 0.3875 - accuracy: 0.8544 - val_loss: 0.7684 - val_accuracy: 0.7689\n",
            "Epoch 24/96\n",
            "217/217 [==============================] - 62s 287ms/step - loss: 0.3663 - accuracy: 0.8671 - val_loss: 0.7778 - val_accuracy: 0.7387\n",
            "Epoch 25/96\n",
            "217/217 [==============================] - 63s 288ms/step - loss: 0.3904 - accuracy: 0.8553 - val_loss: 0.7218 - val_accuracy: 0.7770\n",
            "Epoch 26/96\n",
            "217/217 [==============================] - 63s 289ms/step - loss: 0.3896 - accuracy: 0.8521 - val_loss: 0.9272 - val_accuracy: 0.7352\n",
            "Epoch 27/96\n",
            "217/217 [==============================] - 63s 288ms/step - loss: 0.3876 - accuracy: 0.8504 - val_loss: 0.7489 - val_accuracy: 0.7619\n",
            "Epoch 28/96\n",
            "217/217 [==============================] - 62s 288ms/step - loss: 0.3691 - accuracy: 0.8634 - val_loss: 0.7547 - val_accuracy: 0.7491\n",
            "Epoch 29/96\n",
            "217/217 [==============================] - 62s 287ms/step - loss: 0.3819 - accuracy: 0.8576 - val_loss: 0.8194 - val_accuracy: 0.7108\n",
            "Epoch 30/96\n",
            "217/217 [==============================] - 62s 288ms/step - loss: 0.3760 - accuracy: 0.8666 - val_loss: 0.7797 - val_accuracy: 0.7642\n",
            "Epoch 31/96\n",
            "217/217 [==============================] - 63s 289ms/step - loss: 0.3753 - accuracy: 0.8550 - val_loss: 0.8063 - val_accuracy: 0.7364\n",
            "Epoch 32/96\n",
            "217/217 [==============================] - 63s 288ms/step - loss: 0.3661 - accuracy: 0.8634 - val_loss: 0.7991 - val_accuracy: 0.7468\n",
            "Epoch 33/96\n",
            "217/217 [==============================] - 62s 287ms/step - loss: 0.3577 - accuracy: 0.8645 - val_loss: 0.8231 - val_accuracy: 0.7538\n",
            "Epoch 34/96\n",
            "217/217 [==============================] - 62s 287ms/step - loss: 0.3746 - accuracy: 0.8631 - val_loss: 0.7986 - val_accuracy: 0.7573\n",
            "Epoch 35/96\n",
            "217/217 [==============================] - 62s 288ms/step - loss: 0.3478 - accuracy: 0.8726 - val_loss: 0.7651 - val_accuracy: 0.7724\n",
            "Epoch 36/96\n",
            "217/217 [==============================] - 63s 289ms/step - loss: 0.3495 - accuracy: 0.8657 - val_loss: 0.7771 - val_accuracy: 0.7422\n",
            "Epoch 37/96\n",
            "217/217 [==============================] - 63s 288ms/step - loss: 0.3409 - accuracy: 0.8798 - val_loss: 0.8586 - val_accuracy: 0.7398\n",
            "Epoch 38/96\n",
            "217/217 [==============================] - 62s 287ms/step - loss: 0.3510 - accuracy: 0.8720 - val_loss: 0.7640 - val_accuracy: 0.7561\n",
            "Epoch 39/96\n",
            "217/217 [==============================] - 62s 288ms/step - loss: 0.3417 - accuracy: 0.8738 - val_loss: 0.8089 - val_accuracy: 0.7573\n",
            "Epoch 40/96\n",
            "217/217 [==============================] - 63s 288ms/step - loss: 0.3337 - accuracy: 0.8712 - val_loss: 0.7291 - val_accuracy: 0.7642\n",
            "Epoch 41/96\n",
            "217/217 [==============================] - 63s 290ms/step - loss: 0.3755 - accuracy: 0.8567 - val_loss: 0.7489 - val_accuracy: 0.7828\n",
            "Epoch 42/96\n",
            "217/217 [==============================] - 63s 288ms/step - loss: 0.3160 - accuracy: 0.8810 - val_loss: 0.7959 - val_accuracy: 0.7375\n",
            "Epoch 43/96\n",
            "217/217 [==============================] - 62s 288ms/step - loss: 0.3359 - accuracy: 0.8735 - val_loss: 0.9154 - val_accuracy: 0.7364\n",
            "Epoch 44/96\n",
            "217/217 [==============================] - 63s 288ms/step - loss: 0.3332 - accuracy: 0.8769 - val_loss: 0.8403 - val_accuracy: 0.7584\n",
            "Epoch 45/96\n",
            "217/217 [==============================] - 63s 288ms/step - loss: 0.3403 - accuracy: 0.8723 - val_loss: 0.7911 - val_accuracy: 0.7468\n",
            "Epoch 46/96\n",
            "217/217 [==============================] - 63s 289ms/step - loss: 0.3282 - accuracy: 0.8741 - val_loss: 0.7773 - val_accuracy: 0.7387\n",
            "Epoch 47/96\n",
            "217/217 [==============================] - 62s 288ms/step - loss: 0.3312 - accuracy: 0.8720 - val_loss: 0.8136 - val_accuracy: 0.7491\n",
            "Epoch 48/96\n",
            "217/217 [==============================] - 62s 288ms/step - loss: 0.3315 - accuracy: 0.8677 - val_loss: 0.9045 - val_accuracy: 0.7573\n",
            "Epoch 49/96\n",
            "217/217 [==============================] - 62s 288ms/step - loss: 0.3231 - accuracy: 0.8790 - val_loss: 0.7984 - val_accuracy: 0.7758\n",
            "Epoch 50/96\n",
            "217/217 [==============================] - 62s 288ms/step - loss: 0.3114 - accuracy: 0.8908 - val_loss: 0.9348 - val_accuracy: 0.7340\n",
            "Epoch 51/96\n",
            "217/217 [==============================] - 63s 289ms/step - loss: 0.3216 - accuracy: 0.8865 - val_loss: 0.7944 - val_accuracy: 0.7607\n",
            "Epoch 52/96\n",
            "217/217 [==============================] - 62s 288ms/step - loss: 0.3064 - accuracy: 0.8824 - val_loss: 0.9614 - val_accuracy: 0.7445\n",
            "Epoch 53/96\n",
            "217/217 [==============================] - 63s 288ms/step - loss: 0.3158 - accuracy: 0.8816 - val_loss: 0.7633 - val_accuracy: 0.7538\n",
            "Epoch 54/96\n",
            "217/217 [==============================] - 62s 287ms/step - loss: 0.3247 - accuracy: 0.8795 - val_loss: 0.7514 - val_accuracy: 0.7631\n",
            "Epoch 55/96\n",
            "217/217 [==============================] - 62s 288ms/step - loss: 0.2923 - accuracy: 0.8951 - val_loss: 0.7703 - val_accuracy: 0.7642\n",
            "Epoch 56/96\n",
            "217/217 [==============================] - 62s 288ms/step - loss: 0.2896 - accuracy: 0.8937 - val_loss: 0.8581 - val_accuracy: 0.7480\n",
            "Epoch 57/96\n",
            "217/217 [==============================] - 64s 295ms/step - loss: 0.2918 - accuracy: 0.8873 - val_loss: 0.8202 - val_accuracy: 0.7584\n",
            "Epoch 58/96\n",
            "217/217 [==============================] - 62s 287ms/step - loss: 0.2820 - accuracy: 0.8908 - val_loss: 0.9007 - val_accuracy: 0.7561\n",
            "Epoch 59/96\n",
            "217/217 [==============================] - 62s 287ms/step - loss: 0.3167 - accuracy: 0.8836 - val_loss: 0.8647 - val_accuracy: 0.7433\n",
            "Epoch 60/96\n",
            "217/217 [==============================] - 62s 287ms/step - loss: 0.2866 - accuracy: 0.8853 - val_loss: 0.8999 - val_accuracy: 0.7491\n",
            "Epoch 61/96\n",
            "217/217 [==============================] - 63s 288ms/step - loss: 0.3092 - accuracy: 0.8888 - val_loss: 0.8330 - val_accuracy: 0.7840\n",
            "Epoch 62/96\n",
            "217/217 [==============================] - 62s 287ms/step - loss: 0.3023 - accuracy: 0.8827 - val_loss: 0.8240 - val_accuracy: 0.7607\n",
            "Epoch 63/96\n",
            "217/217 [==============================] - 62s 288ms/step - loss: 0.2744 - accuracy: 0.8972 - val_loss: 0.8888 - val_accuracy: 0.7596\n",
            "Epoch 64/96\n",
            "217/217 [==============================] - 63s 289ms/step - loss: 0.2716 - accuracy: 0.8914 - val_loss: 0.8918 - val_accuracy: 0.7526\n",
            "Epoch 65/96\n",
            "217/217 [==============================] - 63s 288ms/step - loss: 0.2869 - accuracy: 0.8986 - val_loss: 0.9058 - val_accuracy: 0.7724\n",
            "Epoch 66/96\n",
            "217/217 [==============================] - 63s 289ms/step - loss: 0.2763 - accuracy: 0.9009 - val_loss: 0.8799 - val_accuracy: 0.7631\n",
            "Epoch 67/96\n",
            "217/217 [==============================] - 63s 289ms/step - loss: 0.2942 - accuracy: 0.8925 - val_loss: 0.8646 - val_accuracy: 0.7573\n",
            "Epoch 68/96\n",
            "217/217 [==============================] - 63s 289ms/step - loss: 0.2948 - accuracy: 0.8897 - val_loss: 0.8199 - val_accuracy: 0.7793\n",
            "Epoch 69/96\n",
            "217/217 [==============================] - 63s 288ms/step - loss: 0.2582 - accuracy: 0.9058 - val_loss: 0.8372 - val_accuracy: 0.7875\n",
            "Epoch 70/96\n",
            "217/217 [==============================] - 63s 289ms/step - loss: 0.2796 - accuracy: 0.8917 - val_loss: 0.8062 - val_accuracy: 0.7654\n",
            "Epoch 71/96\n",
            "217/217 [==============================] - 63s 290ms/step - loss: 0.2630 - accuracy: 0.9047 - val_loss: 0.8211 - val_accuracy: 0.7782\n",
            "Epoch 72/96\n",
            "217/217 [==============================] - 63s 289ms/step - loss: 0.2503 - accuracy: 0.9084 - val_loss: 0.8089 - val_accuracy: 0.7851\n",
            "Epoch 73/96\n",
            "217/217 [==============================] - 63s 289ms/step - loss: 0.2627 - accuracy: 0.9027 - val_loss: 0.9047 - val_accuracy: 0.7596\n",
            "Epoch 74/96\n",
            "217/217 [==============================] - 63s 289ms/step - loss: 0.2715 - accuracy: 0.9029 - val_loss: 0.9426 - val_accuracy: 0.7584\n",
            "Epoch 75/96\n",
            "217/217 [==============================] - 63s 290ms/step - loss: 0.2599 - accuracy: 0.9087 - val_loss: 0.8992 - val_accuracy: 0.7631\n",
            "Epoch 76/96\n",
            "217/217 [==============================] - 63s 290ms/step - loss: 0.2575 - accuracy: 0.9064 - val_loss: 0.8882 - val_accuracy: 0.7724\n",
            "Epoch 77/96\n",
            "217/217 [==============================] - 63s 289ms/step - loss: 0.2635 - accuracy: 0.8975 - val_loss: 0.8553 - val_accuracy: 0.7596\n",
            "Epoch 78/96\n",
            "217/217 [==============================] - 63s 289ms/step - loss: 0.2785 - accuracy: 0.9032 - val_loss: 0.8673 - val_accuracy: 0.7735\n",
            "Epoch 79/96\n",
            "217/217 [==============================] - 62s 288ms/step - loss: 0.2483 - accuracy: 0.9093 - val_loss: 0.8510 - val_accuracy: 0.7491\n",
            "Epoch 80/96\n",
            "217/217 [==============================] - 63s 290ms/step - loss: 0.2704 - accuracy: 0.8989 - val_loss: 0.8248 - val_accuracy: 0.7747\n",
            "Epoch 81/96\n",
            "217/217 [==============================] - 63s 289ms/step - loss: 0.2470 - accuracy: 0.9050 - val_loss: 0.8342 - val_accuracy: 0.7724\n",
            "Epoch 82/96\n",
            "217/217 [==============================] - 62s 288ms/step - loss: 0.2530 - accuracy: 0.9070 - val_loss: 0.8407 - val_accuracy: 0.7700\n",
            "Epoch 83/96\n",
            "217/217 [==============================] - 63s 288ms/step - loss: 0.2581 - accuracy: 0.9053 - val_loss: 0.8711 - val_accuracy: 0.7747\n",
            "Epoch 84/96\n",
            "217/217 [==============================] - 62s 288ms/step - loss: 0.2372 - accuracy: 0.9119 - val_loss: 0.9087 - val_accuracy: 0.7584\n",
            "Epoch 85/96\n",
            "217/217 [==============================] - 63s 289ms/step - loss: 0.2284 - accuracy: 0.9145 - val_loss: 0.9263 - val_accuracy: 0.7747\n",
            "Epoch 86/96\n",
            "217/217 [==============================] - 62s 287ms/step - loss: 0.2398 - accuracy: 0.9180 - val_loss: 0.8858 - val_accuracy: 0.7573\n",
            "Epoch 87/96\n",
            "217/217 [==============================] - 62s 287ms/step - loss: 0.2328 - accuracy: 0.9168 - val_loss: 0.9273 - val_accuracy: 0.7677\n",
            "Epoch 88/96\n",
            "217/217 [==============================] - 62s 286ms/step - loss: 0.2447 - accuracy: 0.9162 - val_loss: 0.9802 - val_accuracy: 0.7619\n",
            "Epoch 89/96\n",
            "217/217 [==============================] - 63s 289ms/step - loss: 0.2416 - accuracy: 0.9180 - val_loss: 0.8677 - val_accuracy: 0.7758\n",
            "Epoch 90/96\n",
            "217/217 [==============================] - 63s 291ms/step - loss: 0.2486 - accuracy: 0.9142 - val_loss: 0.9444 - val_accuracy: 0.7433\n",
            "Epoch 91/96\n",
            "217/217 [==============================] - 63s 288ms/step - loss: 0.2391 - accuracy: 0.9107 - val_loss: 1.1415 - val_accuracy: 0.7271\n",
            "Epoch 92/96\n",
            "217/217 [==============================] - 63s 288ms/step - loss: 0.2471 - accuracy: 0.9076 - val_loss: 0.9489 - val_accuracy: 0.7433\n",
            "Epoch 93/96\n",
            "217/217 [==============================] - 63s 289ms/step - loss: 0.2524 - accuracy: 0.9053 - val_loss: 0.9039 - val_accuracy: 0.7724\n",
            "Epoch 94/96\n",
            "217/217 [==============================] - 63s 289ms/step - loss: 0.2316 - accuracy: 0.9229 - val_loss: 0.8061 - val_accuracy: 0.7573\n",
            "Epoch 95/96\n",
            "217/217 [==============================] - 63s 291ms/step - loss: 0.2093 - accuracy: 0.9214 - val_loss: 0.9404 - val_accuracy: 0.7828\n",
            "Epoch 96/96\n",
            "217/217 [==============================] - 63s 289ms/step - loss: 0.2134 - accuracy: 0.9203 - val_loss: 1.0249 - val_accuracy: 0.7619\n"
          ],
          "name": "stdout"
        }
      ]
    },
    {
      "cell_type": "markdown",
      "metadata": {
        "id": "9xbtr_9-FKDb",
        "colab_type": "text"
      },
      "source": [
        "`Tried Downloading from google colab but no luck anyways follwing is the code to download from google colab if you have fast internet connection..`"
      ]
    },
    {
      "cell_type": "code",
      "metadata": {
        "id": "KknlIrlTC9X3",
        "colab_type": "code",
        "colab": {}
      },
      "source": [
        "  model.save_weights('./checkpoints1/NinWithResnetAfter168Epochs')"
      ],
      "execution_count": 0,
      "outputs": []
    },
    {
      "cell_type": "code",
      "metadata": {
        "id": "sM2xglXUmTlE",
        "colab_type": "code",
        "colab": {
          "base_uri": "https://localhost:8080/",
          "height": 83
        },
        "outputId": "ea93ae8a-25c1-48d8-c393-0e1ccbb3077d"
      },
      "source": [
        "# !pip3 install tf-nightly\n",
        "!ls ./checkpoints"
      ],
      "execution_count": 13,
      "outputs": [
        {
          "output_type": "stream",
          "text": [
            "checkpoint\n",
            "NinWithResnetAfter72Epochs.data-00000-of-00002\n",
            "NinWithResnetAfter72Epochs.data-00001-of-00002\n",
            "NinWithResnetAfter72Epochs.index\n"
          ],
          "name": "stdout"
        }
      ]
    },
    {
      "cell_type": "code",
      "metadata": {
        "id": "tniWbCRwEWQy",
        "colab_type": "code",
        "colab": {
          "base_uri": "https://localhost:8080/",
          "height": 100
        },
        "outputId": "b6dffd99-54ea-4d93-f1ee-08ae91f43e80"
      },
      "source": [
        "!zip -r ./chk_point1.zip checkpoints1/"
      ],
      "execution_count": 20,
      "outputs": [
        {
          "output_type": "stream",
          "text": [
            "  adding: checkpoints1/ (stored 0%)\n",
            "  adding: checkpoints1/NinWithResnetAfter168Epochs.data-00000-of-00002 (deflated 86%)\n",
            "  adding: checkpoints1/NinWithResnetAfter168Epochs.data-00001-of-00002 (deflated 8%)\n",
            "  adding: checkpoints1/NinWithResnetAfter168Epochs.index (deflated 75%)\n",
            "  adding: checkpoints1/checkpoint (deflated 41%)\n"
          ],
          "name": "stdout"
        }
      ]
    },
    {
      "cell_type": "code",
      "metadata": {
        "id": "MnVWzu_VEztN",
        "colab_type": "code",
        "colab": {}
      },
      "source": [
        "# from google.colab import files\n",
        "# files.download('chk_point.zip')"
      ],
      "execution_count": 0,
      "outputs": []
    },
    {
      "cell_type": "code",
      "metadata": {
        "id": "ZH3tCTVPeRpI",
        "colab_type": "code",
        "colab": {}
      },
      "source": [
        ""
      ],
      "execution_count": 0,
      "outputs": []
    },
    {
      "cell_type": "markdown",
      "metadata": {
        "id": "0aoJGyJZeTM6",
        "colab_type": "text"
      },
      "source": [
        "\n",
        "```\n",
        "With Pretrained Network\n",
        "```"
      ]
    },
    {
      "cell_type": "code",
      "metadata": {
        "id": "J2qWGlOGeS3Z",
        "colab_type": "code",
        "colab": {}
      },
      "source": [
        ""
      ],
      "execution_count": 0,
      "outputs": []
    },
    {
      "cell_type": "code",
      "metadata": {
        "id": "uYF-o4eOR4iY",
        "colab_type": "code",
        "colab": {}
      },
      "source": [
        "import tensorflow as tf"
      ],
      "execution_count": 0,
      "outputs": []
    },
    {
      "cell_type": "code",
      "metadata": {
        "id": "r_DhobR2FHHf",
        "colab_type": "code",
        "outputId": "065d2258-2c84-4466-dd1d-bfab061cd3a2",
        "colab": {
          "base_uri": "https://localhost:8080/",
          "height": 33
        }
      },
      "source": [
        "from keras.preprocessing.image import ImageDataGenerator\n",
        "\n",
        "datagen = ImageDataGenerator(rescale = 1/255.,\n",
        "                             shear_range = 0.2,\n",
        "                             zoom_range =0.2,\n",
        "                             rotation_range = 40,\n",
        "                             horizontal_flip = True,\n",
        "                             width_shift_range = 0.2,\n",
        "                             height_shift_range = 0.2,\n",
        "                             validation_split = 0.2,\n",
        "                             fill_mode= 'nearest'\n",
        "                             )\n"
      ],
      "execution_count": 0,
      "outputs": [
        {
          "output_type": "stream",
          "text": [
            "Using TensorFlow backend.\n"
          ],
          "name": "stderr"
        }
      ]
    },
    {
      "cell_type": "code",
      "metadata": {
        "id": "Mop2427G6lIx",
        "colab_type": "code",
        "colab": {}
      },
      "source": [
        "!mv flowers/flowers validation_images"
      ],
      "execution_count": 0,
      "outputs": []
    },
    {
      "cell_type": "code",
      "metadata": {
        "id": "Cd4aoH3A0vFQ",
        "colab_type": "code",
        "outputId": "77e879fc-c9a1-4036-9b8d-0b647ab0b196",
        "colab": {
          "base_uri": "https://localhost:8080/",
          "height": 33
        }
      },
      "source": [
        "train_data = datagen.flow_from_directory('flowers/',target_size=(256,256),color_mode='rgb',\n",
        "                                class_mode='categorical',batch_size = 16 ,subset = 'training',\n",
        "                                    shuffle=True)"
      ],
      "execution_count": 0,
      "outputs": [
        {
          "output_type": "stream",
          "text": [
            "Found 3462 images belonging to 5 classes.\n"
          ],
          "name": "stdout"
        }
      ]
    },
    {
      "cell_type": "code",
      "metadata": {
        "id": "hNho4X647EH7",
        "colab_type": "code",
        "outputId": "ebedcb02-d020-4033-d18d-b2c0c0e8ffe1",
        "colab": {
          "base_uri": "https://localhost:8080/",
          "height": 33
        }
      },
      "source": [
        "val_data = datagen.flow_from_directory('flowers/',target_size=(256,256),color_mode='rgb',\n",
        "                                class_mode='categorical',batch_size = 16 ,subset = 'validation',\n",
        "                                    shuffle=True)"
      ],
      "execution_count": 0,
      "outputs": [
        {
          "output_type": "stream",
          "text": [
            "Found 861 images belonging to 5 classes.\n"
          ],
          "name": "stdout"
        }
      ]
    },
    {
      "cell_type": "code",
      "metadata": {
        "id": "xjoKQ4VSbjTu",
        "colab_type": "code",
        "outputId": "b559f76c-e3d6-4309-d7e5-48660d306fa4",
        "colab": {
          "base_uri": "https://localhost:8080/",
          "height": 70
        }
      },
      "source": [
        "pretrained_model = tf.keras.applications.Xception( include_top=False, input_shape=(256,256,3))"
      ],
      "execution_count": 0,
      "outputs": [
        {
          "output_type": "stream",
          "text": [
            "Downloading data from https://storage.googleapis.com/tensorflow/keras-applications/xception/xception_weights_tf_dim_ordering_tf_kernels_notop.h5\n",
            "83689472/83683744 [==============================] - 1s 0us/step\n"
          ],
          "name": "stdout"
        }
      ]
    },
    {
      "cell_type": "code",
      "metadata": {
        "id": "VkPz8-SKKF8G",
        "colab_type": "code",
        "colab": {}
      },
      "source": [
        "pretrained_model.trainable = True"
      ],
      "execution_count": 0,
      "outputs": []
    },
    {
      "cell_type": "code",
      "metadata": {
        "id": "wd1TAnLtB463",
        "colab_type": "code",
        "outputId": "21353913-201f-4944-ea15-78959ff07a56",
        "colab": {
          "base_uri": "https://localhost:8080/",
          "height": 33
        }
      },
      "source": [
        ""
      ],
      "execution_count": 0,
      "outputs": [
        {
          "output_type": "execute_result",
          "data": {
            "text/plain": [
              "<function tensorflow.python.keras.engine.input_layer.Input>"
            ]
          },
          "metadata": {
            "tags": []
          },
          "execution_count": 3
        }
      ]
    },
    {
      "cell_type": "code",
      "metadata": {
        "id": "hoUqmHY-btwl",
        "colab_type": "code",
        "colab": {}
      },
      "source": [
        "\n",
        "\n",
        "model = tf.keras.Sequential([pretrained_model,\n",
        "                             tf.keras.layers.GlobalAveragePooling2D(),\n",
        "                             tf.keras.layers.Dense(5,activation='softmax')\n",
        "                             ])\n",
        "\n",
        "model.compile(optimizer = 'adam', loss = 'categorical_crossentropy',\n",
        "                 metrics = ['accuracy'])\n",
        "\n"
      ],
      "execution_count": 0,
      "outputs": []
    },
    {
      "cell_type": "code",
      "metadata": {
        "id": "_TN-mii9gD9C",
        "colab_type": "code",
        "outputId": "58b45ba6-d755-4dd7-bf35-38e9bf0dc9d5",
        "colab": {
          "base_uri": "https://localhost:8080/",
          "height": 470
        }
      },
      "source": [
        "model.fit(train_data, epochs = 12 , validation_data=val_data )"
      ],
      "execution_count": 0,
      "outputs": [
        {
          "output_type": "stream",
          "text": [
            "Epoch 1/12\n",
            "  2/217 [..............................] - ETA: 29s - loss: 1.4630 - accuracy: 0.4375WARNING:tensorflow:Callbacks method `on_train_batch_end` is slow compared to the batch time (batch time: 0.0742s vs `on_train_batch_end` time: 0.1983s). Check your callbacks.\n",
            "217/217 [==============================] - 88s 406ms/step - loss: 0.7005 - accuracy: 0.7672 - val_loss: 2.6921 - val_accuracy: 0.6376\n",
            "Epoch 2/12\n",
            "217/217 [==============================] - 87s 401ms/step - loss: 0.5005 - accuracy: 0.8293 - val_loss: 2.2743 - val_accuracy: 0.6388\n",
            "Epoch 3/12\n",
            "217/217 [==============================] - 89s 412ms/step - loss: 0.4120 - accuracy: 0.8596 - val_loss: 0.4693 - val_accuracy: 0.8502\n",
            "Epoch 4/12\n",
            "217/217 [==============================] - 88s 404ms/step - loss: 0.4109 - accuracy: 0.8527 - val_loss: 0.4984 - val_accuracy: 0.8316\n",
            "Epoch 5/12\n",
            "217/217 [==============================] - 87s 403ms/step - loss: 0.3324 - accuracy: 0.8873 - val_loss: 0.5890 - val_accuracy: 0.8269\n",
            "Epoch 6/12\n",
            "217/217 [==============================] - 86s 398ms/step - loss: 0.3224 - accuracy: 0.8873 - val_loss: 0.5534 - val_accuracy: 0.8304\n",
            "Epoch 7/12\n",
            "217/217 [==============================] - 86s 399ms/step - loss: 0.2840 - accuracy: 0.9067 - val_loss: 0.4014 - val_accuracy: 0.8606\n",
            "Epoch 8/12\n",
            "217/217 [==============================] - 86s 398ms/step - loss: 0.2606 - accuracy: 0.9079 - val_loss: 0.4990 - val_accuracy: 0.8537\n",
            "Epoch 9/12\n",
            "217/217 [==============================] - 87s 399ms/step - loss: 0.2471 - accuracy: 0.9090 - val_loss: 0.3848 - val_accuracy: 0.8699\n",
            "Epoch 10/12\n",
            "217/217 [==============================] - 87s 403ms/step - loss: 0.2408 - accuracy: 0.9165 - val_loss: 0.5755 - val_accuracy: 0.8397\n",
            "Epoch 11/12\n",
            "217/217 [==============================] - 88s 404ms/step - loss: 0.2354 - accuracy: 0.9188 - val_loss: 0.5506 - val_accuracy: 0.8316\n",
            "Epoch 12/12\n",
            "217/217 [==============================] - 88s 405ms/step - loss: 0.2131 - accuracy: 0.9275 - val_loss: 0.4688 - val_accuracy: 0.8630\n"
          ],
          "name": "stdout"
        },
        {
          "output_type": "execute_result",
          "data": {
            "text/plain": [
              "<tensorflow.python.keras.callbacks.History at 0x7f5215f11198>"
            ]
          },
          "metadata": {
            "tags": []
          },
          "execution_count": 23
        }
      ]
    },
    {
      "cell_type": "code",
      "metadata": {
        "id": "Js2Qd1BkuaZK",
        "colab_type": "code",
        "colab": {}
      },
      "source": [
        "  history = _"
      ],
      "execution_count": 0,
      "outputs": []
    },
    {
      "cell_type": "code",
      "metadata": {
        "id": "hXFfOu0Sud89",
        "colab_type": "code",
        "colab": {}
      },
      "source": [
        "import matplotlib.pyplot as plt\n",
        "%matplotlib inline"
      ],
      "execution_count": 0,
      "outputs": []
    },
    {
      "cell_type": "code",
      "metadata": {
        "id": "BRri3aDpuxQr",
        "colab_type": "code",
        "colab": {}
      },
      "source": [
        "\n",
        "stat_info = history.history"
      ],
      "execution_count": 0,
      "outputs": []
    },
    {
      "cell_type": "code",
      "metadata": {
        "id": "16ZkzM9_vJGJ",
        "colab_type": "code",
        "outputId": "51aa2832-9607-4755-9842-971c6ce9eb47",
        "colab": {
          "base_uri": "https://localhost:8080/",
          "height": 33
        }
      },
      "source": [
        "stat_info.keys()"
      ],
      "execution_count": 0,
      "outputs": [
        {
          "output_type": "execute_result",
          "data": {
            "text/plain": [
              "dict_keys(['loss', 'accuracy', 'val_loss', 'val_accuracy'])"
            ]
          },
          "metadata": {
            "tags": []
          },
          "execution_count": 27
        }
      ]
    },
    {
      "cell_type": "code",
      "metadata": {
        "id": "_5s6xJivu3Oa",
        "colab_type": "code",
        "colab": {}
      },
      "source": [
        "normal_loss = list(enumerate(stat_info['loss']))\n",
        "val_loss = list(enumerate(stat_info['val_loss']))"
      ],
      "execution_count": 0,
      "outputs": []
    },
    {
      "cell_type": "code",
      "metadata": {
        "id": "kP8FHPJivv_O",
        "colab_type": "code",
        "outputId": "6e922481-2903-4468-ba08-59a3b836285d",
        "colab": {
          "base_uri": "https://localhost:8080/",
          "height": 216
        }
      },
      "source": [
        "normal_loss"
      ],
      "execution_count": 0,
      "outputs": [
        {
          "output_type": "execute_result",
          "data": {
            "text/plain": [
              "[(0, 0.7005015015602112),\n",
              " (1, 0.5004741549491882),\n",
              " (2, 0.4119555950164795),\n",
              " (3, 0.41085848212242126),\n",
              " (4, 0.3323616087436676),\n",
              " (5, 0.3223959505558014),\n",
              " (6, 0.2839970886707306),\n",
              " (7, 0.26062101125717163),\n",
              " (8, 0.24714764952659607),\n",
              " (9, 0.24079826474189758),\n",
              " (10, 0.2354264259338379),\n",
              " (11, 0.21314871311187744)]"
            ]
          },
          "metadata": {
            "tags": []
          },
          "execution_count": 29
        }
      ]
    },
    {
      "cell_type": "code",
      "metadata": {
        "id": "XR7tJQSzvQxs",
        "colab_type": "code",
        "outputId": "3606fa9c-d29b-4897-cc6a-2aef61fe1b4c",
        "colab": {
          "base_uri": "https://localhost:8080/",
          "height": 281
        }
      },
      "source": [
        "plt.plot([ i[0] for i in normal_loss],[i[1] for i in normal_loss])\n",
        "plt.plot([ i[0] for i in val_loss],[i[1] for i in val_loss])"
      ],
      "execution_count": 0,
      "outputs": [
        {
          "output_type": "execute_result",
          "data": {
            "text/plain": [
              "[<matplotlib.lines.Line2D at 0x7f5214276278>]"
            ]
          },
          "metadata": {
            "tags": []
          },
          "execution_count": 30
        },
        {
          "output_type": "display_data",
          "data": {
            "image/png": "[encoded data removed]",
            "text/plain": [
              "<Figure size 432x288 with 1 Axes>"
            ]
          },
          "metadata": {
            "tags": [],
            "needs_background": "light"
          }
        }
      ]
    },
    {
      "cell_type": "code",
      "metadata": {
        "id": "-V_CFUrArX50",
        "colab_type": "code",
        "outputId": "b2da64c4-0a23-4d38-b851-5a789c96801d",
        "colab": {
          "base_uri": "https://localhost:8080/",
          "height": 50
        }
      },
      "source": [
        "model.evaluate(val_data)"
      ],
      "execution_count": 0,
      "outputs": [
        {
          "output_type": "stream",
          "text": [
            "54/54 [==============================] - 14s 259ms/step - loss: 0.4862 - accuracy: 0.8780\n"
          ],
          "name": "stdout"
        },
        {
          "output_type": "execute_result",
          "data": {
            "text/plain": [
              "[0.4862017035484314, 0.8780487775802612]"
            ]
          },
          "metadata": {
            "tags": []
          },
          "execution_count": 31
        }
      ]
    },
    {
      "cell_type": "code",
      "metadata": {
        "id": "9MppOovyt7hS",
        "colab_type": "code",
        "colab": {}
      },
      "source": [
        "loss, accuracy = _"
      ],
      "execution_count": 0,
      "outputs": []
    },
    {
      "cell_type": "code",
      "metadata": {
        "id": "9EU2T-DqqzwE",
        "colab_type": "code",
        "outputId": "1591d2a2-c42e-4e0a-81af-bc495d75f32b",
        "colab": {
          "base_uri": "https://localhost:8080/",
          "height": 33
        }
      },
      "source": [
        "dataset = tf.keras.preprocessing.image_dataset_from_directory(\n",
        "    'validation_images', labels='inferred', label_mode='categorical', class_names=None,\n",
        "    color_mode='rgb', batch_size=32, image_size=(256, 256), shuffle=True, seed=None,\n",
        "    validation_split=None, subset=None, interpolation='bilinear', follow_links=False\n",
        ")"
      ],
      "execution_count": 0,
      "outputs": [
        {
          "output_type": "stream",
          "text": [
            "Found 4323 files belonging to 5 classes.\n"
          ],
          "name": "stdout"
        }
      ]
    },
    {
      "cell_type": "code",
      "metadata": {
        "id": "wwgIy5i7q1QA",
        "colab_type": "code",
        "outputId": "49a7a4e3-9688-427a-d8ef-f91fb2785b85",
        "colab": {
          "base_uri": "https://localhost:8080/",
          "height": 50
        }
      },
      "source": [
        "model.evaluate(dataset)"
      ],
      "execution_count": 0,
      "outputs": [
        {
          "output_type": "stream",
          "text": [
            "136/136 [==============================] - 23s 166ms/step - loss: 160.2584 - accuracy: 0.3079\n"
          ],
          "name": "stdout"
        },
        {
          "output_type": "execute_result",
          "data": {
            "text/plain": [
              "[160.2583770751953, 0.3078880310058594]"
            ]
          },
          "metadata": {
            "tags": []
          },
          "execution_count": 39
        }
      ]
    },
    {
      "cell_type": "markdown",
      "metadata": {
        "id": "lUiQhvk6wxuA",
        "colab_type": "text"
      },
      "source": [
        "***`This happened because the Image was not rescaled we will rescale the Image and see`***"
      ]
    },
    {
      "cell_type": "code",
      "metadata": {
        "id": "MDKi8Vq8rpKq",
        "colab_type": "code",
        "colab": {}
      },
      "source": [
        ""
      ],
      "execution_count": 0,
      "outputs": []
    },
    {
      "cell_type": "code",
      "metadata": {
        "id": "noDF0Sh3tAz1",
        "colab_type": "code",
        "colab": {}
      },
      "source": [
        "def rescale(x,y):\n",
        "  x /= 255.\n",
        "  return x , y"
      ],
      "execution_count": 0,
      "outputs": []
    },
    {
      "cell_type": "code",
      "metadata": {
        "id": "XfbV3f3atKU8",
        "colab_type": "code",
        "colab": {}
      },
      "source": [
        "dataset = dataset.map(rescale)"
      ],
      "execution_count": 0,
      "outputs": []
    },
    {
      "cell_type": "code",
      "metadata": {
        "id": "99fyLNUNunOL",
        "colab_type": "code",
        "outputId": "4f0edfee-d870-4042-bfed-9ba0e044ee1c",
        "colab": {
          "base_uri": "https://localhost:8080/",
          "height": 33
        }
      },
      "source": [
        "loss, accuracy = model.evaluate(dataset)"
      ],
      "execution_count": 0,
      "outputs": [
        {
          "output_type": "stream",
          "text": [
            "136/136 [==============================] - 23s 166ms/step - loss: 0.2123 - accuracy: 0.9371\n"
          ],
          "name": "stdout"
        }
      ]
    },
    {
      "cell_type": "code",
      "metadata": {
        "id": "FYVz1sC3v7Qh",
        "colab_type": "code",
        "outputId": "4bd0ab82-3d94-4d0f-f5cd-52fbd8e7bce0",
        "colab": {
          "base_uri": "https://localhost:8080/",
          "height": 33
        }
      },
      "source": [
        "accuracy"
      ],
      "execution_count": 0,
      "outputs": [
        {
          "output_type": "execute_result",
          "data": {
            "text/plain": [
              "0.9370807409286499"
            ]
          },
          "metadata": {
            "tags": []
          },
          "execution_count": 65
        }
      ]
    },
    {
      "cell_type": "code",
      "metadata": {
        "id": "_U2hBlOBymwa",
        "colab_type": "code",
        "colab": {}
      },
      "source": [
        ""
      ],
      "execution_count": 0,
      "outputs": []
    },
    {
      "cell_type": "markdown",
      "metadata": {
        "id": "pK6nVWf-CQ3-",
        "colab_type": "text"
      },
      "source": [
        "\n",
        "\n",
        "```\n",
        "Let's Just try a model which is not using previous models\n",
        "```\n",
        "\n"
      ]
    },
    {
      "cell_type": "code",
      "metadata": {
        "id": "Uwzk5uebRvdn",
        "colab_type": "code",
        "colab": {}
      },
      "source": [
        "!mkdir validation_images\n",
        "!mv flowers/flowers/ validation_images"
      ],
      "execution_count": 0,
      "outputs": []
    },
    {
      "cell_type": "code",
      "metadata": {
        "id": "rl73F_OEQPbQ",
        "colab_type": "code",
        "outputId": "abbb73fd-829e-456c-835d-824ec712d8c8",
        "colab": {
          "base_uri": "https://localhost:8080/",
          "height": 720
        }
      },
      "source": [
        "\n",
        "import tensorflow as tf\n",
        "tpu = tf.distribute.cluster_resolver.TPUClusterResolver()  # TPU detection\n",
        "print('Running on TPU ', tpu.cluster_spec().as_dict()['worker'])\n",
        "\n",
        "tf.config.experimental_connect_to_cluster(tpu)\n",
        "tf.tpu.experimental.initialize_tpu_system(tpu)\n",
        "strategy = tf.distribute.experimental.TPUStrategy(tpu)"
      ],
      "execution_count": 0,
      "outputs": [
        {
          "output_type": "stream",
          "text": [
            "Running on TPU  ['10.73.222.242:8470']\n",
            "INFO:tensorflow:Initializing the TPU system: grpc://10.73.222.242:8470\n"
          ],
          "name": "stdout"
        },
        {
          "output_type": "stream",
          "text": [
            "INFO:tensorflow:Initializing the TPU system: grpc://10.73.222.242:8470\n"
          ],
          "name": "stderr"
        },
        {
          "output_type": "stream",
          "text": [
            "INFO:tensorflow:Clearing out eager caches\n"
          ],
          "name": "stdout"
        },
        {
          "output_type": "stream",
          "text": [
            "INFO:tensorflow:Clearing out eager caches\n"
          ],
          "name": "stderr"
        },
        {
          "output_type": "stream",
          "text": [
            "INFO:tensorflow:Finished initializing TPU system.\n"
          ],
          "name": "stdout"
        },
        {
          "output_type": "stream",
          "text": [
            "INFO:tensorflow:Finished initializing TPU system.\n"
          ],
          "name": "stderr"
        },
        {
          "output_type": "stream",
          "text": [
            "INFO:tensorflow:Found TPU system:\n"
          ],
          "name": "stdout"
        },
        {
          "output_type": "stream",
          "text": [
            "INFO:tensorflow:Found TPU system:\n"
          ],
          "name": "stderr"
        },
        {
          "output_type": "stream",
          "text": [
            "INFO:tensorflow:*** Num TPU Cores: 8\n"
          ],
          "name": "stdout"
        },
        {
          "output_type": "stream",
          "text": [
            "INFO:tensorflow:*** Num TPU Cores: 8\n"
          ],
          "name": "stderr"
        },
        {
          "output_type": "stream",
          "text": [
            "INFO:tensorflow:*** Num TPU Workers: 1\n"
          ],
          "name": "stdout"
        },
        {
          "output_type": "stream",
          "text": [
            "INFO:tensorflow:*** Num TPU Workers: 1\n"
          ],
          "name": "stderr"
        },
        {
          "output_type": "stream",
          "text": [
            "INFO:tensorflow:*** Num TPU Cores Per Worker: 8\n"
          ],
          "name": "stdout"
        },
        {
          "output_type": "stream",
          "text": [
            "INFO:tensorflow:*** Num TPU Cores Per Worker: 8\n"
          ],
          "name": "stderr"
        },
        {
          "output_type": "stream",
          "text": [
            "INFO:tensorflow:*** Available Device: _DeviceAttributes(/job:localhost/replica:0/task:0/device:CPU:0, CPU, 0, 0)\n"
          ],
          "name": "stdout"
        },
        {
          "output_type": "stream",
          "text": [
            "INFO:tensorflow:*** Available Device: _DeviceAttributes(/job:localhost/replica:0/task:0/device:CPU:0, CPU, 0, 0)\n"
          ],
          "name": "stderr"
        },
        {
          "output_type": "stream",
          "text": [
            "INFO:tensorflow:*** Available Device: _DeviceAttributes(/job:localhost/replica:0/task:0/device:XLA_CPU:0, XLA_CPU, 0, 0)\n"
          ],
          "name": "stdout"
        },
        {
          "output_type": "stream",
          "text": [
            "INFO:tensorflow:*** Available Device: _DeviceAttributes(/job:localhost/replica:0/task:0/device:XLA_CPU:0, XLA_CPU, 0, 0)\n"
          ],
          "name": "stderr"
        },
        {
          "output_type": "stream",
          "text": [
            "INFO:tensorflow:*** Available Device: _DeviceAttributes(/job:worker/replica:0/task:0/device:CPU:0, CPU, 0, 0)\n"
          ],
          "name": "stdout"
        },
        {
          "output_type": "stream",
          "text": [
            "INFO:tensorflow:*** Available Device: _DeviceAttributes(/job:worker/replica:0/task:0/device:CPU:0, CPU, 0, 0)\n"
          ],
          "name": "stderr"
        },
        {
          "output_type": "stream",
          "text": [
            "INFO:tensorflow:*** Available Device: _DeviceAttributes(/job:worker/replica:0/task:0/device:TPU:0, TPU, 0, 0)\n"
          ],
          "name": "stdout"
        },
        {
          "output_type": "stream",
          "text": [
            "INFO:tensorflow:*** Available Device: _DeviceAttributes(/job:worker/replica:0/task:0/device:TPU:0, TPU, 0, 0)\n"
          ],
          "name": "stderr"
        },
        {
          "output_type": "stream",
          "text": [
            "INFO:tensorflow:*** Available Device: _DeviceAttributes(/job:worker/replica:0/task:0/device:TPU:1, TPU, 0, 0)\n"
          ],
          "name": "stdout"
        },
        {
          "output_type": "stream",
          "text": [
            "INFO:tensorflow:*** Available Device: _DeviceAttributes(/job:worker/replica:0/task:0/device:TPU:1, TPU, 0, 0)\n"
          ],
          "name": "stderr"
        },
        {
          "output_type": "stream",
          "text": [
            "INFO:tensorflow:*** Available Device: _DeviceAttributes(/job:worker/replica:0/task:0/device:TPU:2, TPU, 0, 0)\n"
          ],
          "name": "stdout"
        },
        {
          "output_type": "stream",
          "text": [
            "INFO:tensorflow:*** Available Device: _DeviceAttributes(/job:worker/replica:0/task:0/device:TPU:2, TPU, 0, 0)\n"
          ],
          "name": "stderr"
        },
        {
          "output_type": "stream",
          "text": [
            "INFO:tensorflow:*** Available Device: _DeviceAttributes(/job:worker/replica:0/task:0/device:TPU:3, TPU, 0, 0)\n"
          ],
          "name": "stdout"
        },
        {
          "output_type": "stream",
          "text": [
            "INFO:tensorflow:*** Available Device: _DeviceAttributes(/job:worker/replica:0/task:0/device:TPU:3, TPU, 0, 0)\n"
          ],
          "name": "stderr"
        },
        {
          "output_type": "stream",
          "text": [
            "INFO:tensorflow:*** Available Device: _DeviceAttributes(/job:worker/replica:0/task:0/device:TPU:4, TPU, 0, 0)\n"
          ],
          "name": "stdout"
        },
        {
          "output_type": "stream",
          "text": [
            "INFO:tensorflow:*** Available Device: _DeviceAttributes(/job:worker/replica:0/task:0/device:TPU:4, TPU, 0, 0)\n"
          ],
          "name": "stderr"
        },
        {
          "output_type": "stream",
          "text": [
            "INFO:tensorflow:*** Available Device: _DeviceAttributes(/job:worker/replica:0/task:0/device:TPU:5, TPU, 0, 0)\n"
          ],
          "name": "stdout"
        },
        {
          "output_type": "stream",
          "text": [
            "INFO:tensorflow:*** Available Device: _DeviceAttributes(/job:worker/replica:0/task:0/device:TPU:5, TPU, 0, 0)\n"
          ],
          "name": "stderr"
        },
        {
          "output_type": "stream",
          "text": [
            "INFO:tensorflow:*** Available Device: _DeviceAttributes(/job:worker/replica:0/task:0/device:TPU:6, TPU, 0, 0)\n"
          ],
          "name": "stdout"
        },
        {
          "output_type": "stream",
          "text": [
            "INFO:tensorflow:*** Available Device: _DeviceAttributes(/job:worker/replica:0/task:0/device:TPU:6, TPU, 0, 0)\n"
          ],
          "name": "stderr"
        },
        {
          "output_type": "stream",
          "text": [
            "INFO:tensorflow:*** Available Device: _DeviceAttributes(/job:worker/replica:0/task:0/device:TPU:7, TPU, 0, 0)\n"
          ],
          "name": "stdout"
        },
        {
          "output_type": "stream",
          "text": [
            "INFO:tensorflow:*** Available Device: _DeviceAttributes(/job:worker/replica:0/task:0/device:TPU:7, TPU, 0, 0)\n"
          ],
          "name": "stderr"
        },
        {
          "output_type": "stream",
          "text": [
            "INFO:tensorflow:*** Available Device: _DeviceAttributes(/job:worker/replica:0/task:0/device:TPU_SYSTEM:0, TPU_SYSTEM, 0, 0)\n"
          ],
          "name": "stdout"
        },
        {
          "output_type": "stream",
          "text": [
            "INFO:tensorflow:*** Available Device: _DeviceAttributes(/job:worker/replica:0/task:0/device:TPU_SYSTEM:0, TPU_SYSTEM, 0, 0)\n"
          ],
          "name": "stderr"
        },
        {
          "output_type": "stream",
          "text": [
            "INFO:tensorflow:*** Available Device: _DeviceAttributes(/job:worker/replica:0/task:0/device:XLA_CPU:0, XLA_CPU, 0, 0)\n"
          ],
          "name": "stdout"
        },
        {
          "output_type": "stream",
          "text": [
            "INFO:tensorflow:*** Available Device: _DeviceAttributes(/job:worker/replica:0/task:0/device:XLA_CPU:0, XLA_CPU, 0, 0)\n"
          ],
          "name": "stderr"
        }
      ]
    },
    {
      "cell_type": "code",
      "metadata": {
        "id": "OeKMzYjvQYdf",
        "colab_type": "code",
        "outputId": "7752bbeb-854c-4076-f070-1912dff327e6",
        "colab": {
          "base_uri": "https://localhost:8080/",
          "height": 33
        }
      },
      "source": [
        "%tensorflow_version 2.x"
      ],
      "execution_count": 0,
      "outputs": [
        {
          "output_type": "stream",
          "text": [
            "TensorFlow is already loaded. Please restart the runtime to change versions.\n"
          ],
          "name": "stdout"
        }
      ]
    },
    {
      "cell_type": "code",
      "metadata": {
        "id": "Gl3w4WcvCWbz",
        "colab_type": "code",
        "colab": {}
      },
      "source": [
        "import tensorflow as tf\n"
      ],
      "execution_count": 0,
      "outputs": []
    },
    {
      "cell_type": "code",
      "metadata": {
        "id": "-vD_B4y-SPN6",
        "colab_type": "code",
        "outputId": "d7c93aa3-a483-43d0-901d-054dca0e2c9d",
        "colab": {
          "base_uri": "https://localhost:8080/",
          "height": 33
        }
      },
      "source": [
        "tf.__version__"
      ],
      "execution_count": 0,
      "outputs": [
        {
          "output_type": "execute_result",
          "data": {
            "text/plain": [
              "'2.2.0'"
            ]
          },
          "metadata": {
            "tags": []
          },
          "execution_count": 2
        }
      ]
    },
    {
      "cell_type": "code",
      "metadata": {
        "id": "_i9DJf9g1LS1",
        "colab_type": "code",
        "colab": {}
      },
      "source": [
        "# tf.compat.v1.disable_eager_execution()"
      ],
      "execution_count": 0,
      "outputs": []
    },
    {
      "cell_type": "code",
      "metadata": {
        "id": "UyiXJmsowOnZ",
        "colab_type": "code",
        "outputId": "5631fe7f-800a-46e8-ed30-59975e151440",
        "colab": {
          "base_uri": "https://localhost:8080/",
          "height": 116
        }
      },
      "source": [
        "import os\n",
        "os.listdir()"
      ],
      "execution_count": 0,
      "outputs": [
        {
          "output_type": "execute_result",
          "data": {
            "text/plain": [
              "['.config',\n",
              " 'validation_images',\n",
              " 'flowers',\n",
              " 'flowers-recognition.zip',\n",
              " 'kaggle.json',\n",
              " 'sample_data']"
            ]
          },
          "metadata": {
            "tags": []
          },
          "execution_count": 4
        }
      ]
    },
    {
      "cell_type": "code",
      "metadata": {
        "id": "zHkACuIQugq8",
        "colab_type": "code",
        "colab": {}
      },
      "source": [
        "# data_dir = 'flowers/'\n",
        "# list_ds = \n",
        "dataset = tf.data.Dataset.list_files('flowers/*/*.jpg')"
      ],
      "execution_count": 0,
      "outputs": []
    },
    {
      "cell_type": "code",
      "metadata": {
        "id": "4qSsUu4KxhVi",
        "colab_type": "code",
        "outputId": "35a6e7aa-7322-4907-f6b2-420f9bef0d13",
        "colab": {
          "base_uri": "https://localhost:8080/",
          "height": 33
        }
      },
      "source": [
        "for data in dataset:\n",
        "  print(data.numpy())\n",
        "  break"
      ],
      "execution_count": 0,
      "outputs": [
        {
          "output_type": "stream",
          "text": [
            "b'flowers/daisy/14219214466_3ca6104eae_m.jpg'\n"
          ],
          "name": "stdout"
        }
      ]
    },
    {
      "cell_type": "code",
      "metadata": {
        "id": "of66763vxp8S",
        "colab_type": "code",
        "colab": {}
      },
      "source": [
        "def get_label(file_path):\n",
        "  \n",
        "  parts = tf.strings.split(file_path, os.path.sep)\n",
        "  \n",
        "  return parts[-2] == CLASS_NAMES\n"
      ],
      "execution_count": 0,
      "outputs": []
    },
    {
      "cell_type": "code",
      "metadata": {
        "id": "lCLVWZQhx3fm",
        "colab_type": "code",
        "colab": {}
      },
      "source": [
        "def decode_img(img):\n",
        "  # convert the compressed string to a 3D uint8 tensor\n",
        "  img = tf.image.decode_jpeg(img, channels=3)\n",
        "  # Use `convert_image_dtype` to convert to floats in the [0,1] range.\n",
        "  img = tf.image.convert_image_dtype(img, tf.float32)\n",
        "  # resize the image to the desired size.\n",
        "  return tf.image.resize(img, [256, 256])"
      ],
      "execution_count": 0,
      "outputs": []
    },
    {
      "cell_type": "code",
      "metadata": {
        "id": "apKkYb91x7c6",
        "colab_type": "code",
        "colab": {}
      },
      "source": [
        "def process_path(file_path):\n",
        "  label = get_label(file_path)\n",
        "  # load the raw data from the file as a string\n",
        "  img = tf.io.read_file(file_path)\n",
        "  img = decode_img(img)\n",
        "  return img, label"
      ],
      "execution_count": 0,
      "outputs": []
    },
    {
      "cell_type": "code",
      "metadata": {
        "id": "OgXmlbrKyX5z",
        "colab_type": "code",
        "colab": {}
      },
      "source": [
        "CLASS_NAMES = ['daisy', 'dandelion', 'roses', 'sunflowers', 'tulips']\n"
      ],
      "execution_count": 0,
      "outputs": []
    },
    {
      "cell_type": "code",
      "metadata": {
        "id": "re_Asy3iyDZO",
        "colab_type": "code",
        "colab": {}
      },
      "source": [
        "AUTOTUNE = tf.data.experimental.AUTOTUNE\n",
        "labeled_ds = dataset.map(process_path, num_parallel_calls=AUTOTUNE)"
      ],
      "execution_count": 0,
      "outputs": []
    },
    {
      "cell_type": "code",
      "metadata": {
        "id": "xptB0pGgzbJt",
        "colab_type": "code",
        "colab": {}
      },
      "source": [
        "def prepare_for_training(ds, cache=True, shuffle_buffer_size=1000):\n",
        "  # This is a small dataset, only load it once, and keep it in memory.\n",
        "  # use `.cache(filename)` to cache preprocessing work for datasets that don't\n",
        "  # fit in memory.\n",
        "  if cache:\n",
        "    if isinstance(cache, str):\n",
        "      ds = ds.cache(cache)\n",
        "    else:\n",
        "      ds = ds.cache()\n",
        "\n",
        "  ds = ds.shuffle(buffer_size=shuffle_buffer_size)\n",
        "\n",
        "  # Repeat forever\n",
        "  ds = ds.repeat()\n",
        "\n",
        "  ds = ds.batch(32)\n",
        "\n",
        "  # `prefetch` lets the dataset fetch batches in the background while the model\n",
        "  # is training.\n",
        "  ds = ds.prefetch(buffer_size=AUTOTUNE)\n",
        "\n",
        "  return ds"
      ],
      "execution_count": 0,
      "outputs": []
    },
    {
      "cell_type": "code",
      "metadata": {
        "id": "J-rd13qhzrB8",
        "colab_type": "code",
        "colab": {}
      },
      "source": [
        "labeled_ds = prepare_for_training(labeled_ds)"
      ],
      "execution_count": 0,
      "outputs": []
    },
    {
      "cell_type": "code",
      "metadata": {
        "id": "uX07ivDTup9I",
        "colab_type": "code",
        "colab": {}
      },
      "source": [
        "def resnet_layer(X, filters, kernel_shapes, stage ):\n",
        "\n",
        "  X_shortcut = X\n",
        "  last_level = len(filters) - 1\n",
        "\n",
        "  for idx,(filter_size,kernel_shape) in enumerate(zip(filters,kernel_shapes)):\n",
        "\n",
        "    X = tf.keras.layers.Conv2D(filter_size,kernel_shape,padding='SAME',activation='relu')(X)\n",
        "    X = tf.keras.layers.BatchNormalization()(X)\n",
        "\n",
        "    if idx != last_level:\n",
        "      X = tf.keras.layers.MaxPool2D((2,2), name = f'max_pool{idx}_stage{stage}')(X)\n",
        "\n",
        "  X_shortcut = tf.keras.layers.Conv2D(filters[-1],(1,1))(X_shortcut)\n",
        "  X_shortcut = tf.keras.layers.BatchNormalization()(X_shortcut)\n",
        "  X_shortcut = tf.keras.layers.MaxPool2D((2*last_level, 2*last_level), name = f'resnet_pool_stage_{stage}')(X_shortcut)\n",
        "\n",
        "  X = tf.keras.layers.Add()([X,X_shortcut])\n",
        "\n",
        "  X = tf.keras.layers.ReLU()(X)\n",
        "\n",
        "  return X"
      ],
      "execution_count": 0,
      "outputs": []
    },
    {
      "cell_type": "code",
      "metadata": {
        "id": "Pm6Dfuo4Gb7K",
        "colab_type": "code",
        "colab": {}
      },
      "source": [
        "tpu = tf.distribute.cluster_resolver.TPUClusterResolver()"
      ],
      "execution_count": 0,
      "outputs": []
    },
    {
      "cell_type": "code",
      "metadata": {
        "id": "re5ymTyMHLVf",
        "colab_type": "code",
        "outputId": "8e117082-2241-44cf-e15c-ac54dd1abb5c",
        "colab": {
          "base_uri": "https://localhost:8080/",
          "height": 33
        }
      },
      "source": [
        "print(f'running on tpu = {tpu.master()}')"
      ],
      "execution_count": 0,
      "outputs": [
        {
          "output_type": "stream",
          "text": [
            "running on tpu = grpc://10.73.222.242:8470\n"
          ],
          "name": "stdout"
        }
      ]
    },
    {
      "cell_type": "code",
      "metadata": {
        "id": "kZ0h9a0GJMqq",
        "colab_type": "code",
        "colab": {}
      },
      "source": [
        "# !pip install tensorflow==2.2-rc1"
      ],
      "execution_count": 0,
      "outputs": []
    },
    {
      "cell_type": "code",
      "metadata": {
        "id": "2J8J_wVNHVTQ",
        "colab_type": "code",
        "outputId": "c58604e4-95fa-4bed-a5b2-92886eff5e87",
        "colab": {
          "base_uri": "https://localhost:8080/",
          "height": 153
        }
      },
      "source": [
        "resolver = tf.distribute.cluster_resolver.TPUClusterResolver(tpu = '')\n",
        "tf.config.experimental_connect_to_cluster(resolver)\n",
        "# This is the TPU initialization code that has to be at the beginning.\n",
        "tf.tpu.experimental.initialize_tpu_system(resolver)\n",
        "print(\"All devices: \", tf.config.list_logical_devices('TPU'))"
      ],
      "execution_count": 0,
      "outputs": [
        {
          "output_type": "stream",
          "text": [
            "INFO:tensorflow:Initializing the TPU system: grpc://10.73.222.242:8470\n"
          ],
          "name": "stdout"
        },
        {
          "output_type": "stream",
          "text": [
            "INFO:tensorflow:Initializing the TPU system: grpc://10.73.222.242:8470\n"
          ],
          "name": "stderr"
        },
        {
          "output_type": "stream",
          "text": [
            "INFO:tensorflow:Clearing out eager caches\n"
          ],
          "name": "stdout"
        },
        {
          "output_type": "stream",
          "text": [
            "INFO:tensorflow:Clearing out eager caches\n"
          ],
          "name": "stderr"
        },
        {
          "output_type": "stream",
          "text": [
            "INFO:tensorflow:Finished initializing TPU system.\n"
          ],
          "name": "stdout"
        },
        {
          "output_type": "stream",
          "text": [
            "INFO:tensorflow:Finished initializing TPU system.\n"
          ],
          "name": "stderr"
        },
        {
          "output_type": "stream",
          "text": [
            "All devices:  [LogicalDevice(name='/job:worker/replica:0/task:0/device:TPU:7', device_type='TPU'), LogicalDevice(name='/job:worker/replica:0/task:0/device:TPU:6', device_type='TPU'), LogicalDevice(name='/job:worker/replica:0/task:0/device:TPU:5', device_type='TPU'), LogicalDevice(name='/job:worker/replica:0/task:0/device:TPU:4', device_type='TPU'), LogicalDevice(name='/job:worker/replica:0/task:0/device:TPU:0', device_type='TPU'), LogicalDevice(name='/job:worker/replica:0/task:0/device:TPU:1', device_type='TPU'), LogicalDevice(name='/job:worker/replica:0/task:0/device:TPU:2', device_type='TPU'), LogicalDevice(name='/job:worker/replica:0/task:0/device:TPU:3', device_type='TPU')]\n"
          ],
          "name": "stdout"
        }
      ]
    },
    {
      "cell_type": "code",
      "metadata": {
        "id": "QY3aWurcKVdz",
        "colab_type": "code",
        "outputId": "874ca598-54c8-4a15-f33d-6a6360ee23e6",
        "colab": {
          "base_uri": "https://localhost:8080/",
          "height": 603
        }
      },
      "source": [
        "strategy = tf.distribute.experimental.TPUStrategy(resolver)"
      ],
      "execution_count": 0,
      "outputs": [
        {
          "output_type": "stream",
          "text": [
            "INFO:tensorflow:Found TPU system:\n"
          ],
          "name": "stdout"
        },
        {
          "output_type": "stream",
          "text": [
            "INFO:tensorflow:Found TPU system:\n"
          ],
          "name": "stderr"
        },
        {
          "output_type": "stream",
          "text": [
            "INFO:tensorflow:*** Num TPU Cores: 8\n"
          ],
          "name": "stdout"
        },
        {
          "output_type": "stream",
          "text": [
            "INFO:tensorflow:*** Num TPU Cores: 8\n"
          ],
          "name": "stderr"
        },
        {
          "output_type": "stream",
          "text": [
            "INFO:tensorflow:*** Num TPU Workers: 1\n"
          ],
          "name": "stdout"
        },
        {
          "output_type": "stream",
          "text": [
            "INFO:tensorflow:*** Num TPU Workers: 1\n"
          ],
          "name": "stderr"
        },
        {
          "output_type": "stream",
          "text": [
            "INFO:tensorflow:*** Num TPU Cores Per Worker: 8\n"
          ],
          "name": "stdout"
        },
        {
          "output_type": "stream",
          "text": [
            "INFO:tensorflow:*** Num TPU Cores Per Worker: 8\n"
          ],
          "name": "stderr"
        },
        {
          "output_type": "stream",
          "text": [
            "INFO:tensorflow:*** Available Device: _DeviceAttributes(/job:localhost/replica:0/task:0/device:CPU:0, CPU, 0, 0)\n"
          ],
          "name": "stdout"
        },
        {
          "output_type": "stream",
          "text": [
            "INFO:tensorflow:*** Available Device: _DeviceAttributes(/job:localhost/replica:0/task:0/device:CPU:0, CPU, 0, 0)\n"
          ],
          "name": "stderr"
        },
        {
          "output_type": "stream",
          "text": [
            "INFO:tensorflow:*** Available Device: _DeviceAttributes(/job:localhost/replica:0/task:0/device:XLA_CPU:0, XLA_CPU, 0, 0)\n"
          ],
          "name": "stdout"
        },
        {
          "output_type": "stream",
          "text": [
            "INFO:tensorflow:*** Available Device: _DeviceAttributes(/job:localhost/replica:0/task:0/device:XLA_CPU:0, XLA_CPU, 0, 0)\n"
          ],
          "name": "stderr"
        },
        {
          "output_type": "stream",
          "text": [
            "INFO:tensorflow:*** Available Device: _DeviceAttributes(/job:worker/replica:0/task:0/device:CPU:0, CPU, 0, 0)\n"
          ],
          "name": "stdout"
        },
        {
          "output_type": "stream",
          "text": [
            "INFO:tensorflow:*** Available Device: _DeviceAttributes(/job:worker/replica:0/task:0/device:CPU:0, CPU, 0, 0)\n"
          ],
          "name": "stderr"
        },
        {
          "output_type": "stream",
          "text": [
            "INFO:tensorflow:*** Available Device: _DeviceAttributes(/job:worker/replica:0/task:0/device:TPU:0, TPU, 0, 0)\n"
          ],
          "name": "stdout"
        },
        {
          "output_type": "stream",
          "text": [
            "INFO:tensorflow:*** Available Device: _DeviceAttributes(/job:worker/replica:0/task:0/device:TPU:0, TPU, 0, 0)\n"
          ],
          "name": "stderr"
        },
        {
          "output_type": "stream",
          "text": [
            "INFO:tensorflow:*** Available Device: _DeviceAttributes(/job:worker/replica:0/task:0/device:TPU:1, TPU, 0, 0)\n"
          ],
          "name": "stdout"
        },
        {
          "output_type": "stream",
          "text": [
            "INFO:tensorflow:*** Available Device: _DeviceAttributes(/job:worker/replica:0/task:0/device:TPU:1, TPU, 0, 0)\n"
          ],
          "name": "stderr"
        },
        {
          "output_type": "stream",
          "text": [
            "INFO:tensorflow:*** Available Device: _DeviceAttributes(/job:worker/replica:0/task:0/device:TPU:2, TPU, 0, 0)\n"
          ],
          "name": "stdout"
        },
        {
          "output_type": "stream",
          "text": [
            "INFO:tensorflow:*** Available Device: _DeviceAttributes(/job:worker/replica:0/task:0/device:TPU:2, TPU, 0, 0)\n"
          ],
          "name": "stderr"
        },
        {
          "output_type": "stream",
          "text": [
            "INFO:tensorflow:*** Available Device: _DeviceAttributes(/job:worker/replica:0/task:0/device:TPU:3, TPU, 0, 0)\n"
          ],
          "name": "stdout"
        },
        {
          "output_type": "stream",
          "text": [
            "INFO:tensorflow:*** Available Device: _DeviceAttributes(/job:worker/replica:0/task:0/device:TPU:3, TPU, 0, 0)\n"
          ],
          "name": "stderr"
        },
        {
          "output_type": "stream",
          "text": [
            "INFO:tensorflow:*** Available Device: _DeviceAttributes(/job:worker/replica:0/task:0/device:TPU:4, TPU, 0, 0)\n"
          ],
          "name": "stdout"
        },
        {
          "output_type": "stream",
          "text": [
            "INFO:tensorflow:*** Available Device: _DeviceAttributes(/job:worker/replica:0/task:0/device:TPU:4, TPU, 0, 0)\n"
          ],
          "name": "stderr"
        },
        {
          "output_type": "stream",
          "text": [
            "INFO:tensorflow:*** Available Device: _DeviceAttributes(/job:worker/replica:0/task:0/device:TPU:5, TPU, 0, 0)\n"
          ],
          "name": "stdout"
        },
        {
          "output_type": "stream",
          "text": [
            "INFO:tensorflow:*** Available Device: _DeviceAttributes(/job:worker/replica:0/task:0/device:TPU:5, TPU, 0, 0)\n"
          ],
          "name": "stderr"
        },
        {
          "output_type": "stream",
          "text": [
            "INFO:tensorflow:*** Available Device: _DeviceAttributes(/job:worker/replica:0/task:0/device:TPU:6, TPU, 0, 0)\n"
          ],
          "name": "stdout"
        },
        {
          "output_type": "stream",
          "text": [
            "INFO:tensorflow:*** Available Device: _DeviceAttributes(/job:worker/replica:0/task:0/device:TPU:6, TPU, 0, 0)\n"
          ],
          "name": "stderr"
        },
        {
          "output_type": "stream",
          "text": [
            "INFO:tensorflow:*** Available Device: _DeviceAttributes(/job:worker/replica:0/task:0/device:TPU:7, TPU, 0, 0)\n"
          ],
          "name": "stdout"
        },
        {
          "output_type": "stream",
          "text": [
            "INFO:tensorflow:*** Available Device: _DeviceAttributes(/job:worker/replica:0/task:0/device:TPU:7, TPU, 0, 0)\n"
          ],
          "name": "stderr"
        },
        {
          "output_type": "stream",
          "text": [
            "INFO:tensorflow:*** Available Device: _DeviceAttributes(/job:worker/replica:0/task:0/device:TPU_SYSTEM:0, TPU_SYSTEM, 0, 0)\n"
          ],
          "name": "stdout"
        },
        {
          "output_type": "stream",
          "text": [
            "INFO:tensorflow:*** Available Device: _DeviceAttributes(/job:worker/replica:0/task:0/device:TPU_SYSTEM:0, TPU_SYSTEM, 0, 0)\n"
          ],
          "name": "stderr"
        },
        {
          "output_type": "stream",
          "text": [
            "INFO:tensorflow:*** Available Device: _DeviceAttributes(/job:worker/replica:0/task:0/device:XLA_CPU:0, XLA_CPU, 0, 0)\n"
          ],
          "name": "stdout"
        },
        {
          "output_type": "stream",
          "text": [
            "INFO:tensorflow:*** Available Device: _DeviceAttributes(/job:worker/replica:0/task:0/device:XLA_CPU:0, XLA_CPU, 0, 0)\n"
          ],
          "name": "stderr"
        }
      ]
    },
    {
      "cell_type": "code",
      "metadata": {
        "id": "KeoyBALU2KUt",
        "colab_type": "code",
        "colab": {}
      },
      "source": [
        "tf.compat.v1.disable_eager_execution()"
      ],
      "execution_count": 0,
      "outputs": []
    },
    {
      "cell_type": "code",
      "metadata": {
        "id": "1jJshRR5xBud",
        "colab_type": "code",
        "outputId": "29bed238-1a52-4965-d782-ac28bfd0d698",
        "colab": {
          "base_uri": "https://localhost:8080/",
          "height": 136
        }
      },
      "source": [
        "\n",
        "with strategy.scope():\n",
        "  X_input = tf.keras.layers.Input((256,256,3))\n",
        "\n",
        "  X = tf.keras.layers.Conv2D(32, (3,3) , padding = 'SAME' , activation = 'relu' )(X_input)\n",
        "  X = resnet_layer(X , filters = [32 , 64 ,64] , kernel_shapes = [(3,3), (3,3), (3,3)] , stage = 1  )\n",
        "  X = tf.keras.layers.MaxPool2D((2,2), name = 'afterfisresnetlayer' )(X)\n",
        "\n",
        "\n",
        "  X = tf.keras.layers.Conv2D(128, (3,3) , padding = 'SAME' , activation = 'relu' )(X_input)\n",
        "  X = resnet_layer(X , filters = [128 , 128 , 128] , kernel_shapes = [(3,3), (3,3), (3,3)] , stage = 2  )\n",
        "  X = tf.keras.layers.MaxPool2D((2,2), name = 'aftersecondresnetlayer' )(X)\n",
        "\n",
        "  X = tf.keras.layers.Flatten()(X)\n",
        "\n",
        "  X = tf.keras.layers.Dense(256, activation = 'relu')(X)\n",
        "  # X = tf.keras.layers.Dense(512, activation = 'relu')(X)\n",
        "  preds = tf.keras.layers.Dense(5 , activation = 'softmax')(X)\n",
        "\n",
        "  model = tf.keras.models.Model(inputs = X_input , outputs = preds)\n",
        "\n",
        "  model.compile(optimizer='adam' , loss='categorical_crossentropy', metrics = ['accuracy'])\n",
        "\n"
      ],
      "execution_count": 0,
      "outputs": [
        {
          "output_type": "stream",
          "text": [
            "WARNING:tensorflow:From /usr/local/lib/python3.6/dist-packages/tensorflow/python/ops/resource_variable_ops.py:1666: calling BaseResourceVariable.__init__ (from tensorflow.python.ops.resource_variable_ops) with constraint is deprecated and will be removed in a future version.\n",
            "Instructions for updating:\n",
            "If using Keras pass *_constraint arguments to layers.\n"
          ],
          "name": "stdout"
        },
        {
          "output_type": "stream",
          "text": [
            "WARNING:tensorflow:From /usr/local/lib/python3.6/dist-packages/tensorflow/python/ops/resource_variable_ops.py:1666: calling BaseResourceVariable.__init__ (from tensorflow.python.ops.resource_variable_ops) with constraint is deprecated and will be removed in a future version.\n",
            "Instructions for updating:\n",
            "If using Keras pass *_constraint arguments to layers.\n"
          ],
          "name": "stderr"
        }
      ]
    },
    {
      "cell_type": "code",
      "metadata": {
        "id": "VwBjQN5CDKke",
        "colab_type": "code",
        "colab": {}
      },
      "source": [
        "# X_input = tf.keras.layers.Input((256,256,3))\n",
        "\n",
        "# X_shortcut = X_input\n",
        "\n",
        "# X = tf.keras.layers.Conv2D(32,(3,3),padding='SAME',activation='relu')(X_input)\n",
        "# X = tf.keras.layers.BatchNormalization()(X)\n",
        "# X = tf.keras.layers.MaxPool2D((2,2), name = 'max_pool1')(X)\n",
        "\n",
        "# X = tf.keras.layers.Conv2D(64,(3,3),padding='SAME',activation='relu')(X)\n",
        "# X = tf.keras.layers.BatchNormalization()(X)\n",
        "# X = tf.keras.layers.MaxPool2D((2,2), name = 'max_pool2')(X)\n",
        "\n",
        "# X = tf.keras.layers.Conv2D(128,(3,3), padding = 'SAME')(X)\n",
        "# X = tf.keras.layers.BatchNormalization()(X)\n",
        "\n",
        "# X_shortcut = tf.keras.layers.Conv2D(128,(1,1))(X_shortcut)\n",
        "# X_shortcut = tf.keras.layers.BatchNormalization()(X_shortcut)\n",
        "# X_shortcut = tf.keras.layers.MaxPool2D((4,4), name = 'resnet_pool')(X_shortcut)\n",
        "\n",
        "# X = tf.keras.layers.Add()([X,X_shortcut])\n",
        "\n",
        "# X = tf.keras.layers.ReLU()(X)\n",
        "\n",
        "\n",
        "# X = tf.keras.layers.MaxPool2D((2,2),name ='last_pool')(X)\n",
        "\n",
        "# X = tf.keras.layers.Flatten()(X)\n",
        "\n",
        "# X = tf.keras.layers.Dense(512,activation='relu')(X)\n",
        "\n",
        "# preds = tf.keras.layers.Dense(5, activation='softmax')(X)\n",
        "\n",
        "# # X = tf.keras.layers.Conv2D(128,(3,3),padding='SAME',activation='relu')(X_input)\n",
        "# # X = tf.keras.layers.MaxPool2D((2,2), name = 'max_pool2')(X)"
      ],
      "execution_count": 0,
      "outputs": []
    },
    {
      "cell_type": "code",
      "metadata": {
        "id": "nOy2qWvuQI8s",
        "colab_type": "code",
        "colab": {}
      },
      "source": [
        ""
      ],
      "execution_count": 0,
      "outputs": []
    },
    {
      "cell_type": "code",
      "metadata": {
        "id": "dTSSEi0-H10a",
        "colab_type": "code",
        "outputId": "1723832f-27c3-4bf3-e828-d310275131d6",
        "colab": {
          "base_uri": "https://localhost:8080/",
          "height": 33
        }
      },
      "source": [
        "from keras.preprocessing.image import ImageDataGenerator\n",
        "\n",
        "datagen = ImageDataGenerator(rescale = 1/255.,\n",
        "                             shear_range = 0.2,\n",
        "                             zoom_range =0.2,\n",
        "                             rotation_range = 40,\n",
        "                             horizontal_flip = True,\n",
        "                             width_shift_range = 0.2,\n",
        "                             height_shift_range = 0.2,\n",
        "                             validation_split = 0.2,\n",
        "                             fill_mode= 'nearest'\n",
        "                             )\n"
      ],
      "execution_count": 0,
      "outputs": [
        {
          "output_type": "stream",
          "text": [
            "Using TensorFlow backend.\n"
          ],
          "name": "stderr"
        }
      ]
    },
    {
      "cell_type": "code",
      "metadata": {
        "id": "eS6TkaelH2k-",
        "colab_type": "code",
        "outputId": "e29496f2-7648-4622-8ca8-013d5aa42042",
        "colab": {
          "base_uri": "https://localhost:8080/",
          "height": 33
        }
      },
      "source": [
        "train_data = datagen.flow_from_directory('flowers/',target_size=(256,256),color_mode='rgb',\n",
        "                                class_mode='categorical',batch_size = 16 ,subset = 'training',\n",
        "                                    shuffle=True)"
      ],
      "execution_count": 0,
      "outputs": [
        {
          "output_type": "stream",
          "text": [
            "Found 3462 images belonging to 5 classes.\n"
          ],
          "name": "stdout"
        }
      ]
    },
    {
      "cell_type": "code",
      "metadata": {
        "id": "CI4lYGGuH-o6",
        "colab_type": "code",
        "outputId": "f2d4a890-32d1-44a7-c99c-0d7710ede5d9",
        "colab": {
          "base_uri": "https://localhost:8080/",
          "height": 33
        }
      },
      "source": [
        "val_data = datagen.flow_from_directory('flowers/',target_size=(256,256),color_mode='rgb',\n",
        "                                class_mode='categorical',batch_size = 16 ,subset = 'validation',\n",
        "                                    shuffle=True)"
      ],
      "execution_count": 0,
      "outputs": [
        {
          "output_type": "stream",
          "text": [
            "Found 861 images belonging to 5 classes.\n"
          ],
          "name": "stdout"
        }
      ]
    },
    {
      "cell_type": "code",
      "metadata": {
        "id": "KobKl6qRIDMt",
        "colab_type": "code",
        "colab": {}
      },
      "source": [
        "# model = tf.keras.models.Model(inputs = X_input , outputs = preds)"
      ],
      "execution_count": 0,
      "outputs": []
    },
    {
      "cell_type": "code",
      "metadata": {
        "id": "3NFi-hc8Iga7",
        "colab_type": "code",
        "colab": {}
      },
      "source": [
        "# model.compile(optimizer='adam' , loss='categorical_crossentropy', metrics = ['accuracy'])"
      ],
      "execution_count": 0,
      "outputs": []
    },
    {
      "cell_type": "code",
      "metadata": {
        "id": "ddShCfcvNY0a",
        "colab_type": "code",
        "colab": {}
      },
      "source": [
        "BATCH_SIZE = 16 * strategy.num_replicas_in_sync # this is 8 on TPU v3-8, it is 1 on CPU and GPU\n",
        "LR_START = 0.00001\n",
        "LR_MAX = 0.00005 * strategy.num_replicas_in_sync\n",
        "LR_MIN = 0.00001\n",
        "LR_RAMPUP_EPOCHS = 5\n",
        "LR_SUSTAIN_EPOCHS = 0\n",
        "LR_EXP_DECAY = .8\n",
        "\n",
        "def lrfn(epoch):\n",
        "    if epoch < LR_RAMPUP_EPOCHS:\n",
        "        lr = (LR_MAX - LR_START) / LR_RAMPUP_EPOCHS * epoch + LR_START\n",
        "    elif epoch < LR_RAMPUP_EPOCHS + LR_SUSTAIN_EPOCHS:\n",
        "        lr = LR_MAX\n",
        "    else:\n",
        "        lr = (LR_MAX - LR_MIN) * LR_EXP_DECAY**(epoch - LR_RAMPUP_EPOCHS - LR_SUSTAIN_EPOCHS) + LR_MIN\n",
        "    return lr\n",
        "    \n",
        "lr_callback = tf.keras.callbacks.LearningRateScheduler(lrfn, verbose=True)"
      ],
      "execution_count": 0,
      "outputs": []
    },
    {
      "cell_type": "code",
      "metadata": {
        "id": "H153wdWxzSeR",
        "colab_type": "code",
        "colab": {}
      },
      "source": [
        "labeled_ds = labeled_ds.batch(32)"
      ],
      "execution_count": 0,
      "outputs": []
    },
    {
      "cell_type": "code",
      "metadata": {
        "id": "NbdQoDkWI4rA",
        "colab_type": "code",
        "outputId": "58c8c895-1bc5-4f05-c87c-ff611d582ff6",
        "colab": {
          "base_uri": "https://localhost:8080/",
          "height": 324
        }
      },
      "source": [
        "history = model.fit(labeled_ds , epochs = 12 , validation_data = labeled_ds )"
      ],
      "execution_count": 0,
      "outputs": [
        {
          "output_type": "error",
          "ename": "RuntimeError",
          "evalue": "ignored",
          "traceback": [
            "\u001b[0;31m---------------------------------------------------------------------------\u001b[0m",
            "\u001b[0;31mRuntimeError\u001b[0m                              Traceback (most recent call last)",
            "\u001b[0;32m<ipython-input-22-942e1d6d4b28>\u001b[0m in \u001b[0;36m<module>\u001b[0;34m()\u001b[0m\n\u001b[0;32m----> 1\u001b[0;31m \u001b[0mhistory\u001b[0m \u001b[0;34m=\u001b[0m \u001b[0mmodel\u001b[0m\u001b[0;34m.\u001b[0m\u001b[0mfit\u001b[0m\u001b[0;34m(\u001b[0m\u001b[0mlabeled_ds\u001b[0m \u001b[0;34m,\u001b[0m \u001b[0mepochs\u001b[0m \u001b[0;34m=\u001b[0m \u001b[0;36m12\u001b[0m \u001b[0;34m,\u001b[0m \u001b[0mvalidation_data\u001b[0m \u001b[0;34m=\u001b[0m \u001b[0mlabeled_ds\u001b[0m \u001b[0;34m)\u001b[0m\u001b[0;34m\u001b[0m\u001b[0;34m\u001b[0m\u001b[0m\n\u001b[0m",
            "\u001b[0;32m/usr/local/lib/python3.6/dist-packages/tensorflow/python/keras/engine/training_v1.py\u001b[0m in \u001b[0;36mfit\u001b[0;34m(self, x, y, batch_size, epochs, verbose, callbacks, validation_split, validation_data, shuffle, class_weight, sample_weight, initial_epoch, steps_per_epoch, validation_steps, validation_freq, max_queue_size, workers, use_multiprocessing, **kwargs)\u001b[0m\n\u001b[1;32m    783\u001b[0m         \u001b[0mmax_queue_size\u001b[0m\u001b[0;34m=\u001b[0m\u001b[0mmax_queue_size\u001b[0m\u001b[0;34m,\u001b[0m\u001b[0;34m\u001b[0m\u001b[0;34m\u001b[0m\u001b[0m\n\u001b[1;32m    784\u001b[0m         \u001b[0mworkers\u001b[0m\u001b[0;34m=\u001b[0m\u001b[0mworkers\u001b[0m\u001b[0;34m,\u001b[0m\u001b[0;34m\u001b[0m\u001b[0;34m\u001b[0m\u001b[0m\n\u001b[0;32m--> 785\u001b[0;31m         use_multiprocessing=use_multiprocessing)\n\u001b[0m\u001b[1;32m    786\u001b[0m \u001b[0;34m\u001b[0m\u001b[0m\n\u001b[1;32m    787\u001b[0m   def evaluate(self,\n",
            "\u001b[0;32m/usr/local/lib/python3.6/dist-packages/tensorflow/python/keras/engine/training_distributed.py\u001b[0m in \u001b[0;36mfit\u001b[0;34m(self, model, x, y, batch_size, epochs, verbose, callbacks, validation_split, validation_data, shuffle, class_weight, sample_weight, initial_epoch, steps_per_epoch, validation_steps, validation_freq, **kwargs)\u001b[0m\n\u001b[1;32m    651\u001b[0m     \u001b[0;32mif\u001b[0m \u001b[0mdist_utils\u001b[0m\u001b[0;34m.\u001b[0m\u001b[0mis_tpu_strategy\u001b[0m\u001b[0;34m(\u001b[0m\u001b[0mmodel\u001b[0m\u001b[0;34m.\u001b[0m\u001b[0m_distribution_strategy\u001b[0m\u001b[0;34m)\u001b[0m\u001b[0;34m:\u001b[0m\u001b[0;34m\u001b[0m\u001b[0;34m\u001b[0m\u001b[0m\n\u001b[1;32m    652\u001b[0m       steps_per_epoch = training_utils.infer_steps_for_dataset(\n\u001b[0;32m--> 653\u001b[0;31m           model, dataset, steps_per_epoch, epochs, steps_name='steps_per_epoch')\n\u001b[0m\u001b[1;32m    654\u001b[0m       \u001b[0;32mif\u001b[0m \u001b[0msteps_per_epoch\u001b[0m \u001b[0;32mis\u001b[0m \u001b[0;32mNone\u001b[0m\u001b[0;34m:\u001b[0m\u001b[0;34m\u001b[0m\u001b[0;34m\u001b[0m\u001b[0m\n\u001b[1;32m    655\u001b[0m         raise ValueError('Number of steps could not be inferred from the data, '\n",
            "\u001b[0;32m/usr/local/lib/python3.6/dist-packages/tensorflow/python/keras/engine/training_utils.py\u001b[0m in \u001b[0;36minfer_steps_for_dataset\u001b[0;34m(model, dataset, steps, epochs, steps_name)\u001b[0m\n\u001b[1;32m   1793\u001b[0m     \u001b[0;32mreturn\u001b[0m \u001b[0;32mNone\u001b[0m\u001b[0;34m\u001b[0m\u001b[0;34m\u001b[0m\u001b[0m\n\u001b[1;32m   1794\u001b[0m \u001b[0;34m\u001b[0m\u001b[0m\n\u001b[0;32m-> 1795\u001b[0;31m   \u001b[0msize\u001b[0m \u001b[0;34m=\u001b[0m \u001b[0mK\u001b[0m\u001b[0;34m.\u001b[0m\u001b[0mget_value\u001b[0m\u001b[0;34m(\u001b[0m\u001b[0mcardinality\u001b[0m\u001b[0;34m.\u001b[0m\u001b[0mcardinality\u001b[0m\u001b[0;34m(\u001b[0m\u001b[0mdataset\u001b[0m\u001b[0;34m)\u001b[0m\u001b[0;34m)\u001b[0m\u001b[0;34m\u001b[0m\u001b[0;34m\u001b[0m\u001b[0m\n\u001b[0m\u001b[1;32m   1796\u001b[0m   \u001b[0;32mif\u001b[0m \u001b[0msize\u001b[0m \u001b[0;34m==\u001b[0m \u001b[0mcardinality\u001b[0m\u001b[0;34m.\u001b[0m\u001b[0mINFINITE\u001b[0m \u001b[0;32mand\u001b[0m \u001b[0msteps\u001b[0m \u001b[0;32mis\u001b[0m \u001b[0;32mNone\u001b[0m\u001b[0;34m:\u001b[0m\u001b[0;34m\u001b[0m\u001b[0;34m\u001b[0m\u001b[0m\n\u001b[1;32m   1797\u001b[0m     raise ValueError('When passing an infinitely repeating dataset, you '\n",
            "\u001b[0;32m/usr/local/lib/python3.6/dist-packages/tensorflow/python/data/experimental/ops/cardinality.py\u001b[0m in \u001b[0;36mcardinality\u001b[0;34m(dataset)\u001b[0m\n\u001b[1;32m     64\u001b[0m   \"\"\"\n\u001b[1;32m     65\u001b[0m \u001b[0;34m\u001b[0m\u001b[0m\n\u001b[0;32m---> 66\u001b[0;31m   \u001b[0;32mreturn\u001b[0m \u001b[0mged_ops\u001b[0m\u001b[0;34m.\u001b[0m\u001b[0mdataset_cardinality\u001b[0m\u001b[0;34m(\u001b[0m\u001b[0mdataset\u001b[0m\u001b[0;34m.\u001b[0m\u001b[0m_variant_tensor\u001b[0m\u001b[0;34m)\u001b[0m  \u001b[0;31m# pylint: disable=protected-access\u001b[0m\u001b[0;34m\u001b[0m\u001b[0;34m\u001b[0m\u001b[0m\n\u001b[0m\u001b[1;32m     67\u001b[0m \u001b[0;34m\u001b[0m\u001b[0m\n\u001b[1;32m     68\u001b[0m \u001b[0;34m\u001b[0m\u001b[0m\n",
            "\u001b[0;32m/usr/local/lib/python3.6/dist-packages/tensorflow/python/ops/gen_experimental_dataset_ops.py\u001b[0m in \u001b[0;36mdataset_cardinality\u001b[0;34m(input_dataset, name)\u001b[0m\n\u001b[1;32m    751\u001b[0m   \u001b[0;31m# Add nodes to the TensorFlow graph.\u001b[0m\u001b[0;34m\u001b[0m\u001b[0;34m\u001b[0m\u001b[0;34m\u001b[0m\u001b[0m\n\u001b[1;32m    752\u001b[0m   _, _, _op, _outputs = _op_def_library._apply_op_helper(\n\u001b[0;32m--> 753\u001b[0;31m         \"DatasetCardinality\", input_dataset=input_dataset, name=name)\n\u001b[0m\u001b[1;32m    754\u001b[0m   \u001b[0m_result\u001b[0m \u001b[0;34m=\u001b[0m \u001b[0m_outputs\u001b[0m\u001b[0;34m[\u001b[0m\u001b[0;34m:\u001b[0m\u001b[0;34m]\u001b[0m\u001b[0;34m\u001b[0m\u001b[0;34m\u001b[0m\u001b[0m\n\u001b[1;32m    755\u001b[0m   \u001b[0;32mif\u001b[0m \u001b[0m_execute\u001b[0m\u001b[0;34m.\u001b[0m\u001b[0mmust_record_gradient\u001b[0m\u001b[0;34m(\u001b[0m\u001b[0;34m)\u001b[0m\u001b[0;34m:\u001b[0m\u001b[0;34m\u001b[0m\u001b[0;34m\u001b[0m\u001b[0m\n",
            "\u001b[0;32m/usr/local/lib/python3.6/dist-packages/tensorflow/python/framework/op_def_library.py\u001b[0m in \u001b[0;36m_apply_op_helper\u001b[0;34m(op_type_name, name, **keywords)\u001b[0m\n\u001b[1;32m    468\u001b[0m               \u001b[0mdtype\u001b[0m\u001b[0;34m=\u001b[0m\u001b[0mdtype\u001b[0m\u001b[0;34m,\u001b[0m\u001b[0;34m\u001b[0m\u001b[0;34m\u001b[0m\u001b[0m\n\u001b[1;32m    469\u001b[0m               \u001b[0mas_ref\u001b[0m\u001b[0;34m=\u001b[0m\u001b[0minput_arg\u001b[0m\u001b[0;34m.\u001b[0m\u001b[0mis_ref\u001b[0m\u001b[0;34m,\u001b[0m\u001b[0;34m\u001b[0m\u001b[0;34m\u001b[0m\u001b[0m\n\u001b[0;32m--> 470\u001b[0;31m               preferred_dtype=default_dtype)\n\u001b[0m\u001b[1;32m    471\u001b[0m         \u001b[0;32mexcept\u001b[0m \u001b[0mTypeError\u001b[0m \u001b[0;32mas\u001b[0m \u001b[0merr\u001b[0m\u001b[0;34m:\u001b[0m\u001b[0;34m\u001b[0m\u001b[0;34m\u001b[0m\u001b[0m\n\u001b[1;32m    472\u001b[0m           \u001b[0;32mif\u001b[0m \u001b[0mdtype\u001b[0m \u001b[0;32mis\u001b[0m \u001b[0;32mNone\u001b[0m\u001b[0;34m:\u001b[0m\u001b[0;34m\u001b[0m\u001b[0;34m\u001b[0m\u001b[0m\n",
            "\u001b[0;32m/usr/local/lib/python3.6/dist-packages/tensorflow/python/framework/ops.py\u001b[0m in \u001b[0;36mconvert_to_tensor\u001b[0;34m(value, dtype, name, as_ref, preferred_dtype, dtype_hint, ctx, accepted_result_types)\u001b[0m\n\u001b[1;32m   1305\u001b[0m       \u001b[0mgraph\u001b[0m \u001b[0;34m=\u001b[0m \u001b[0mget_default_graph\u001b[0m\u001b[0;34m(\u001b[0m\u001b[0;34m)\u001b[0m\u001b[0;34m\u001b[0m\u001b[0;34m\u001b[0m\u001b[0m\n\u001b[1;32m   1306\u001b[0m       \u001b[0;32mif\u001b[0m \u001b[0;32mnot\u001b[0m \u001b[0mgraph\u001b[0m\u001b[0;34m.\u001b[0m\u001b[0mbuilding_function\u001b[0m\u001b[0;34m:\u001b[0m\u001b[0;34m\u001b[0m\u001b[0;34m\u001b[0m\u001b[0m\n\u001b[0;32m-> 1307\u001b[0;31m         raise RuntimeError(\"Attempting to capture an EagerTensor without \"\n\u001b[0m\u001b[1;32m   1308\u001b[0m                            \"building a function.\")\n\u001b[1;32m   1309\u001b[0m       \u001b[0;32mreturn\u001b[0m \u001b[0mgraph\u001b[0m\u001b[0;34m.\u001b[0m\u001b[0mcapture\u001b[0m\u001b[0;34m(\u001b[0m\u001b[0mvalue\u001b[0m\u001b[0;34m,\u001b[0m \u001b[0mname\u001b[0m\u001b[0;34m=\u001b[0m\u001b[0mname\u001b[0m\u001b[0;34m)\u001b[0m\u001b[0;34m\u001b[0m\u001b[0;34m\u001b[0m\u001b[0m\n",
            "\u001b[0;31mRuntimeError\u001b[0m: Attempting to capture an EagerTensor without building a function."
          ]
        }
      ]
    },
    {
      "cell_type": "code",
      "metadata": {
        "id": "gTKyh4JEI-y7",
        "colab_type": "code",
        "outputId": "4ca1dcb5-509b-4418-b31b-45bf71b772dd",
        "colab": {
          "base_uri": "https://localhost:8080/",
          "height": 470
        }
      },
      "source": [
        "model.fit(train_data , epochs = 12 , validation_data=val_data)"
      ],
      "execution_count": 0,
      "outputs": [
        {
          "output_type": "stream",
          "text": [
            "Epoch 1/12\n",
            "  2/217 [..............................] - ETA: 1:57 - loss: 0.9706 - accuracy: 0.5938WARNING:tensorflow:Callbacks method `on_train_batch_end` is slow compared to the batch time (batch time: 0.1903s vs `on_train_batch_end` time: 0.4439s). Check your callbacks.\n",
            "217/217 [==============================] - 155s 716ms/step - loss: 1.0325 - accuracy: 0.5988 - val_loss: 1.2471 - val_accuracy: 0.4925\n",
            "Epoch 2/12\n",
            "217/217 [==============================] - 156s 717ms/step - loss: 1.0053 - accuracy: 0.5988 - val_loss: 0.9973 - val_accuracy: 0.6144\n",
            "Epoch 3/12\n",
            "217/217 [==============================] - 155s 715ms/step - loss: 0.9960 - accuracy: 0.6170 - val_loss: 0.9746 - val_accuracy: 0.6492\n",
            "Epoch 4/12\n",
            "217/217 [==============================] - 155s 716ms/step - loss: 0.9623 - accuracy: 0.6277 - val_loss: 1.2003 - val_accuracy: 0.5633\n",
            "Epoch 5/12\n",
            "217/217 [==============================] - 155s 716ms/step - loss: 0.9672 - accuracy: 0.6115 - val_loss: 0.9287 - val_accuracy: 0.6504\n",
            "Epoch 6/12\n",
            "217/217 [==============================] - 155s 715ms/step - loss: 0.9751 - accuracy: 0.6320 - val_loss: 1.0998 - val_accuracy: 0.5772\n",
            "Epoch 7/12\n",
            "217/217 [==============================] - 155s 715ms/step - loss: 0.9463 - accuracy: 0.6358 - val_loss: 1.4281 - val_accuracy: 0.4634\n",
            "Epoch 8/12\n",
            "217/217 [==============================] - 155s 715ms/step - loss: 0.9551 - accuracy: 0.6233 - val_loss: 1.0598 - val_accuracy: 0.5865\n",
            "Epoch 9/12\n",
            "217/217 [==============================] - 155s 715ms/step - loss: 0.9528 - accuracy: 0.6320 - val_loss: 1.2064 - val_accuracy: 0.5122\n",
            "Epoch 10/12\n",
            "217/217 [==============================] - 155s 714ms/step - loss: 0.9465 - accuracy: 0.6352 - val_loss: 0.9633 - val_accuracy: 0.6411\n",
            "Epoch 11/12\n",
            "217/217 [==============================] - 155s 714ms/step - loss: 0.9017 - accuracy: 0.6511 - val_loss: 1.1564 - val_accuracy: 0.5923\n",
            "Epoch 12/12\n",
            "217/217 [==============================] - 155s 713ms/step - loss: 0.9108 - accuracy: 0.6563 - val_loss: 0.9274 - val_accuracy: 0.6400\n"
          ],
          "name": "stdout"
        },
        {
          "output_type": "execute_result",
          "data": {
            "text/plain": [
              "<tensorflow.python.keras.callbacks.History at 0x7f60bc591828>"
            ]
          },
          "metadata": {
            "tags": []
          },
          "execution_count": 11
        }
      ]
    },
    {
      "cell_type": "code",
      "metadata": {
        "id": "MtCXRJBE-MpD",
        "colab_type": "code",
        "outputId": "b263173d-cb91-4afa-cce0-7bab261a3812",
        "colab": {
          "base_uri": "https://localhost:8080/",
          "height": 470
        }
      },
      "source": [
        "model.fit(train_data , epochs = 12 , validation_data=val_data)"
      ],
      "execution_count": 0,
      "outputs": [
        {
          "output_type": "stream",
          "text": [
            "Epoch 1/12\n",
            "  2/217 [..............................] - ETA: 1:57 - loss: 0.8102 - accuracy: 0.6562WARNING:tensorflow:Callbacks method `on_train_batch_end` is slow compared to the batch time (batch time: 0.1925s vs `on_train_batch_end` time: 0.4413s). Check your callbacks.\n",
            "217/217 [==============================] - 155s 714ms/step - loss: 0.7991 - accuracy: 0.7045 - val_loss: 0.9314 - val_accuracy: 0.6597\n",
            "Epoch 2/12\n",
            "217/217 [==============================] - 155s 714ms/step - loss: 0.7935 - accuracy: 0.7080 - val_loss: 0.8765 - val_accuracy: 0.6678\n",
            "Epoch 3/12\n",
            "217/217 [==============================] - 155s 714ms/step - loss: 0.7943 - accuracy: 0.7109 - val_loss: 0.8160 - val_accuracy: 0.7166\n",
            "Epoch 4/12\n",
            "217/217 [==============================] - 155s 714ms/step - loss: 0.7891 - accuracy: 0.6973 - val_loss: 0.9484 - val_accuracy: 0.6458\n",
            "Epoch 5/12\n",
            "217/217 [==============================] - 155s 714ms/step - loss: 0.7641 - accuracy: 0.7175 - val_loss: 0.8560 - val_accuracy: 0.6864\n",
            "Epoch 6/12\n",
            "217/217 [==============================] - 155s 714ms/step - loss: 0.7585 - accuracy: 0.7031 - val_loss: 0.8703 - val_accuracy: 0.6725\n",
            "Epoch 7/12\n",
            "217/217 [==============================] - 155s 714ms/step - loss: 0.7582 - accuracy: 0.7213 - val_loss: 0.9878 - val_accuracy: 0.6539\n",
            "Epoch 8/12\n",
            "217/217 [==============================] - 155s 714ms/step - loss: 0.7804 - accuracy: 0.7071 - val_loss: 0.9025 - val_accuracy: 0.6725\n",
            "Epoch 9/12\n",
            "217/217 [==============================] - 155s 715ms/step - loss: 0.7668 - accuracy: 0.7123 - val_loss: 0.9275 - val_accuracy: 0.6690\n",
            "Epoch 10/12\n",
            "217/217 [==============================] - 155s 715ms/step - loss: 0.7393 - accuracy: 0.7224 - val_loss: 0.8234 - val_accuracy: 0.6887\n",
            "Epoch 11/12\n",
            "217/217 [==============================] - 155s 714ms/step - loss: 0.7537 - accuracy: 0.7132 - val_loss: 0.8660 - val_accuracy: 0.6887\n",
            "Epoch 12/12\n",
            "217/217 [==============================] - 155s 714ms/step - loss: 0.7376 - accuracy: 0.7305 - val_loss: 0.7727 - val_accuracy: 0.7224\n"
          ],
          "name": "stdout"
        },
        {
          "output_type": "execute_result",
          "data": {
            "text/plain": [
              "<tensorflow.python.keras.callbacks.History at 0x7f60bc37f128>"
            ]
          },
          "metadata": {
            "tags": []
          },
          "execution_count": 13
        }
      ]
    },
    {
      "cell_type": "markdown",
      "metadata": {
        "id": "XOYej_e0Ur08",
        "colab_type": "text"
      },
      "source": [
        "`After training for 50  epochs it's got to 74 % accuracy ( New Network  not Pretrained ) if we train it more epochs we might have more accurate results ..`"
      ]
    },
    {
      "cell_type": "code",
      "metadata": {
        "id": "Lzw4TZGIFwRe",
        "colab_type": "code",
        "colab": {}
      },
      "source": [
        ""
      ],
      "execution_count": 0,
      "outputs": []
    }
  ]
}