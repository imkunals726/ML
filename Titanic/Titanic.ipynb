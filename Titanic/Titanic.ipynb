{
 "cells": [
  {
   "cell_type": "code",
   "execution_count": 2,
   "metadata": {},
   "outputs": [
    {
     "name": "stdout",
     "output_type": "stream",
     "text": [
      "titanic/\r\n",
      "titanic 2/\r\n",
      "titanic.zip\r\n"
     ]
    }
   ],
   "source": [
    "ls ~/Downloads | grep titanic"
   ]
  },
  {
   "cell_type": "code",
   "execution_count": 6,
   "metadata": {},
   "outputs": [
    {
     "name": "stdout",
     "output_type": "stream",
     "text": [
      "ls: ~/Downloads/titanic 2: No such file or directory\r\n"
     ]
    }
   ],
   "source": [
    "ls '~/Downloads/titanic 2'"
   ]
  },
  {
   "cell_type": "code",
   "execution_count": 9,
   "metadata": {},
   "outputs": [],
   "source": [
    "import pandas as pd \n",
    "train_df =pd.read_csv('~/Downloads/titanic 2/train.csv')"
   ]
  },
  {
   "cell_type": "code",
   "execution_count": 10,
   "metadata": {},
   "outputs": [
    {
     "data": {
      "text/html": [
       "<div>\n",
       "<style scoped>\n",
       "    .dataframe tbody tr th:only-of-type {\n",
       "        vertical-align: middle;\n",
       "    }\n",
       "\n",
       "    .dataframe tbody tr th {\n",
       "        vertical-align: top;\n",
       "    }\n",
       "\n",
       "    .dataframe thead th {\n",
       "        text-align: right;\n",
       "    }\n",
       "</style>\n",
       "<table border=\"1\" class=\"dataframe\">\n",
       "  <thead>\n",
       "    <tr style=\"text-align: right;\">\n",
       "      <th></th>\n",
       "      <th>PassengerId</th>\n",
       "      <th>Survived</th>\n",
       "      <th>Pclass</th>\n",
       "      <th>Name</th>\n",
       "      <th>Sex</th>\n",
       "      <th>Age</th>\n",
       "      <th>SibSp</th>\n",
       "      <th>Parch</th>\n",
       "      <th>Ticket</th>\n",
       "      <th>Fare</th>\n",
       "      <th>Cabin</th>\n",
       "      <th>Embarked</th>\n",
       "    </tr>\n",
       "  </thead>\n",
       "  <tbody>\n",
       "    <tr>\n",
       "      <th>0</th>\n",
       "      <td>1</td>\n",
       "      <td>0</td>\n",
       "      <td>3</td>\n",
       "      <td>Braund, Mr. Owen Harris</td>\n",
       "      <td>male</td>\n",
       "      <td>22.0</td>\n",
       "      <td>1</td>\n",
       "      <td>0</td>\n",
       "      <td>A/5 21171</td>\n",
       "      <td>7.2500</td>\n",
       "      <td>NaN</td>\n",
       "      <td>S</td>\n",
       "    </tr>\n",
       "    <tr>\n",
       "      <th>1</th>\n",
       "      <td>2</td>\n",
       "      <td>1</td>\n",
       "      <td>1</td>\n",
       "      <td>Cumings, Mrs. John Bradley (Florence Briggs Th...</td>\n",
       "      <td>female</td>\n",
       "      <td>38.0</td>\n",
       "      <td>1</td>\n",
       "      <td>0</td>\n",
       "      <td>PC 17599</td>\n",
       "      <td>71.2833</td>\n",
       "      <td>C85</td>\n",
       "      <td>C</td>\n",
       "    </tr>\n",
       "    <tr>\n",
       "      <th>2</th>\n",
       "      <td>3</td>\n",
       "      <td>1</td>\n",
       "      <td>3</td>\n",
       "      <td>Heikkinen, Miss. Laina</td>\n",
       "      <td>female</td>\n",
       "      <td>26.0</td>\n",
       "      <td>0</td>\n",
       "      <td>0</td>\n",
       "      <td>STON/O2. 3101282</td>\n",
       "      <td>7.9250</td>\n",
       "      <td>NaN</td>\n",
       "      <td>S</td>\n",
       "    </tr>\n",
       "    <tr>\n",
       "      <th>3</th>\n",
       "      <td>4</td>\n",
       "      <td>1</td>\n",
       "      <td>1</td>\n",
       "      <td>Futrelle, Mrs. Jacques Heath (Lily May Peel)</td>\n",
       "      <td>female</td>\n",
       "      <td>35.0</td>\n",
       "      <td>1</td>\n",
       "      <td>0</td>\n",
       "      <td>113803</td>\n",
       "      <td>53.1000</td>\n",
       "      <td>C123</td>\n",
       "      <td>S</td>\n",
       "    </tr>\n",
       "    <tr>\n",
       "      <th>4</th>\n",
       "      <td>5</td>\n",
       "      <td>0</td>\n",
       "      <td>3</td>\n",
       "      <td>Allen, Mr. William Henry</td>\n",
       "      <td>male</td>\n",
       "      <td>35.0</td>\n",
       "      <td>0</td>\n",
       "      <td>0</td>\n",
       "      <td>373450</td>\n",
       "      <td>8.0500</td>\n",
       "      <td>NaN</td>\n",
       "      <td>S</td>\n",
       "    </tr>\n",
       "  </tbody>\n",
       "</table>\n",
       "</div>"
      ],
      "text/plain": [
       "   PassengerId  Survived  Pclass  \\\n",
       "0            1         0       3   \n",
       "1            2         1       1   \n",
       "2            3         1       3   \n",
       "3            4         1       1   \n",
       "4            5         0       3   \n",
       "\n",
       "                                                Name     Sex   Age  SibSp  \\\n",
       "0                            Braund, Mr. Owen Harris    male  22.0      1   \n",
       "1  Cumings, Mrs. John Bradley (Florence Briggs Th...  female  38.0      1   \n",
       "2                             Heikkinen, Miss. Laina  female  26.0      0   \n",
       "3       Futrelle, Mrs. Jacques Heath (Lily May Peel)  female  35.0      1   \n",
       "4                           Allen, Mr. William Henry    male  35.0      0   \n",
       "\n",
       "   Parch            Ticket     Fare Cabin Embarked  \n",
       "0      0         A/5 21171   7.2500   NaN        S  \n",
       "1      0          PC 17599  71.2833   C85        C  \n",
       "2      0  STON/O2. 3101282   7.9250   NaN        S  \n",
       "3      0            113803  53.1000  C123        S  \n",
       "4      0            373450   8.0500   NaN        S  "
      ]
     },
     "execution_count": 10,
     "metadata": {},
     "output_type": "execute_result"
    }
   ],
   "source": [
    "train_df.head()"
   ]
  },
  {
   "cell_type": "code",
   "execution_count": 11,
   "metadata": {},
   "outputs": [
    {
     "data": {
      "text/plain": [
       "PassengerId   -0.005007\n",
       "Survived       1.000000\n",
       "Pclass        -0.338481\n",
       "Age           -0.077221\n",
       "SibSp         -0.035322\n",
       "Parch          0.081629\n",
       "Fare           0.257307\n",
       "Name: Survived, dtype: float64"
      ]
     },
     "execution_count": 11,
     "metadata": {},
     "output_type": "execute_result"
    }
   ],
   "source": [
    "train_df.corr()['Survived']"
   ]
  },
  {
   "cell_type": "code",
   "execution_count": 14,
   "metadata": {},
   "outputs": [
    {
     "data": {
      "text/plain": [
       "count         204\n",
       "unique        147\n",
       "top       B96 B98\n",
       "freq            4\n",
       "Name: Cabin, dtype: object"
      ]
     },
     "execution_count": 14,
     "metadata": {},
     "output_type": "execute_result"
    }
   ],
   "source": [
    "train_df['Cabin'].describe()"
   ]
  },
  {
   "cell_type": "code",
   "execution_count": 16,
   "metadata": {},
   "outputs": [
    {
     "data": {
      "text/plain": [
       "male      577\n",
       "female    314\n",
       "Name: Sex, dtype: int64"
      ]
     },
     "execution_count": 16,
     "metadata": {},
     "output_type": "execute_result"
    }
   ],
   "source": [
    "train_df['Sex'].value_counts()"
   ]
  },
  {
   "cell_type": "code",
   "execution_count": 17,
   "metadata": {},
   "outputs": [
    {
     "data": {
      "text/plain": [
       "0    549\n",
       "1    342\n",
       "Name: Survived, dtype: int64"
      ]
     },
     "execution_count": 17,
     "metadata": {},
     "output_type": "execute_result"
    }
   ],
   "source": [
    "train_df['Survived'].value_counts()"
   ]
  },
  {
   "cell_type": "code",
   "execution_count": 21,
   "metadata": {},
   "outputs": [],
   "source": [
    "from sklearn.base import BaseEstimator, TransformerMixin\n",
    "class NaivePredictor(BaseEstimator):\n",
    "    def fit(self, X, y=None):\n",
    "        self\n",
    "        \n",
    "    def predict(self, X, y=None):\n",
    "        return [0] * len(X)"
   ]
  },
  {
   "cell_type": "code",
   "execution_count": 26,
   "metadata": {},
   "outputs": [],
   "source": [
    "naive_predictor = NaivePredictor()\n",
    "naive_predictor.fit(train_df)\n",
    "naive_preds = naive_predictor.predict(train_df)"
   ]
  },
  {
   "cell_type": "code",
   "execution_count": 27,
   "metadata": {},
   "outputs": [
    {
     "data": {
      "text/plain": [
       "0.6161616161616161"
      ]
     },
     "execution_count": 27,
     "metadata": {},
     "output_type": "execute_result"
    }
   ],
   "source": [
    "from sklearn.metrics import accuracy_score\n",
    "accuracy_score( train_df['Survived'] , naive_preds)"
   ]
  },
  {
   "cell_type": "code",
   "execution_count": 28,
   "metadata": {},
   "outputs": [
    {
     "data": {
      "text/html": [
       "<div>\n",
       "<style scoped>\n",
       "    .dataframe tbody tr th:only-of-type {\n",
       "        vertical-align: middle;\n",
       "    }\n",
       "\n",
       "    .dataframe tbody tr th {\n",
       "        vertical-align: top;\n",
       "    }\n",
       "\n",
       "    .dataframe thead th {\n",
       "        text-align: right;\n",
       "    }\n",
       "</style>\n",
       "<table border=\"1\" class=\"dataframe\">\n",
       "  <thead>\n",
       "    <tr style=\"text-align: right;\">\n",
       "      <th></th>\n",
       "      <th>PassengerId</th>\n",
       "      <th>Survived</th>\n",
       "      <th>Pclass</th>\n",
       "      <th>Age</th>\n",
       "      <th>SibSp</th>\n",
       "      <th>Parch</th>\n",
       "      <th>Fare</th>\n",
       "    </tr>\n",
       "  </thead>\n",
       "  <tbody>\n",
       "    <tr>\n",
       "      <th>count</th>\n",
       "      <td>891.000000</td>\n",
       "      <td>891.000000</td>\n",
       "      <td>891.000000</td>\n",
       "      <td>714.000000</td>\n",
       "      <td>891.000000</td>\n",
       "      <td>891.000000</td>\n",
       "      <td>891.000000</td>\n",
       "    </tr>\n",
       "    <tr>\n",
       "      <th>mean</th>\n",
       "      <td>446.000000</td>\n",
       "      <td>0.383838</td>\n",
       "      <td>2.308642</td>\n",
       "      <td>29.699118</td>\n",
       "      <td>0.523008</td>\n",
       "      <td>0.381594</td>\n",
       "      <td>32.204208</td>\n",
       "    </tr>\n",
       "    <tr>\n",
       "      <th>std</th>\n",
       "      <td>257.353842</td>\n",
       "      <td>0.486592</td>\n",
       "      <td>0.836071</td>\n",
       "      <td>14.526497</td>\n",
       "      <td>1.102743</td>\n",
       "      <td>0.806057</td>\n",
       "      <td>49.693429</td>\n",
       "    </tr>\n",
       "    <tr>\n",
       "      <th>min</th>\n",
       "      <td>1.000000</td>\n",
       "      <td>0.000000</td>\n",
       "      <td>1.000000</td>\n",
       "      <td>0.420000</td>\n",
       "      <td>0.000000</td>\n",
       "      <td>0.000000</td>\n",
       "      <td>0.000000</td>\n",
       "    </tr>\n",
       "    <tr>\n",
       "      <th>25%</th>\n",
       "      <td>223.500000</td>\n",
       "      <td>0.000000</td>\n",
       "      <td>2.000000</td>\n",
       "      <td>20.125000</td>\n",
       "      <td>0.000000</td>\n",
       "      <td>0.000000</td>\n",
       "      <td>7.910400</td>\n",
       "    </tr>\n",
       "    <tr>\n",
       "      <th>50%</th>\n",
       "      <td>446.000000</td>\n",
       "      <td>0.000000</td>\n",
       "      <td>3.000000</td>\n",
       "      <td>28.000000</td>\n",
       "      <td>0.000000</td>\n",
       "      <td>0.000000</td>\n",
       "      <td>14.454200</td>\n",
       "    </tr>\n",
       "    <tr>\n",
       "      <th>75%</th>\n",
       "      <td>668.500000</td>\n",
       "      <td>1.000000</td>\n",
       "      <td>3.000000</td>\n",
       "      <td>38.000000</td>\n",
       "      <td>1.000000</td>\n",
       "      <td>0.000000</td>\n",
       "      <td>31.000000</td>\n",
       "    </tr>\n",
       "    <tr>\n",
       "      <th>max</th>\n",
       "      <td>891.000000</td>\n",
       "      <td>1.000000</td>\n",
       "      <td>3.000000</td>\n",
       "      <td>80.000000</td>\n",
       "      <td>8.000000</td>\n",
       "      <td>6.000000</td>\n",
       "      <td>512.329200</td>\n",
       "    </tr>\n",
       "  </tbody>\n",
       "</table>\n",
       "</div>"
      ],
      "text/plain": [
       "       PassengerId    Survived      Pclass         Age       SibSp  \\\n",
       "count   891.000000  891.000000  891.000000  714.000000  891.000000   \n",
       "mean    446.000000    0.383838    2.308642   29.699118    0.523008   \n",
       "std     257.353842    0.486592    0.836071   14.526497    1.102743   \n",
       "min       1.000000    0.000000    1.000000    0.420000    0.000000   \n",
       "25%     223.500000    0.000000    2.000000   20.125000    0.000000   \n",
       "50%     446.000000    0.000000    3.000000   28.000000    0.000000   \n",
       "75%     668.500000    1.000000    3.000000   38.000000    1.000000   \n",
       "max     891.000000    1.000000    3.000000   80.000000    8.000000   \n",
       "\n",
       "            Parch        Fare  \n",
       "count  891.000000  891.000000  \n",
       "mean     0.381594   32.204208  \n",
       "std      0.806057   49.693429  \n",
       "min      0.000000    0.000000  \n",
       "25%      0.000000    7.910400  \n",
       "50%      0.000000   14.454200  \n",
       "75%      0.000000   31.000000  \n",
       "max      6.000000  512.329200  "
      ]
     },
     "execution_count": 28,
     "metadata": {},
     "output_type": "execute_result"
    }
   ],
   "source": [
    "train_df.describe()"
   ]
  },
  {
   "cell_type": "code",
   "execution_count": 33,
   "metadata": {},
   "outputs": [
    {
     "data": {
      "text/plain": [
       "array([[<matplotlib.axes._subplots.AxesSubplot object at 0x1a1faf45f8>,\n",
       "        <matplotlib.axes._subplots.AxesSubplot object at 0x1a1fb1ac50>,\n",
       "        <matplotlib.axes._subplots.AxesSubplot object at 0x11924f320>],\n",
       "       [<matplotlib.axes._subplots.AxesSubplot object at 0x1192759b0>,\n",
       "        <matplotlib.axes._subplots.AxesSubplot object at 0x1192a6080>,\n",
       "        <matplotlib.axes._subplots.AxesSubplot object at 0x1192a60b8>],\n",
       "       [<matplotlib.axes._subplots.AxesSubplot object at 0x1192f6da0>,\n",
       "        <matplotlib.axes._subplots.AxesSubplot object at 0x1a1fb65470>,\n",
       "        <matplotlib.axes._subplots.AxesSubplot object at 0x1a1fb8db00>]],\n",
       "      dtype=object)"
      ]
     },
     "execution_count": 33,
     "metadata": {},
     "output_type": "execute_result"
    },
    {
     "data": {
      "image/png": "[encoded data removed]",
      "text/plain": [
       "<Figure size 1440x1080 with 9 Axes>"
      ]
     },
     "metadata": {},
     "output_type": "display_data"
    }
   ],
   "source": [
    "import matplotlib\n",
    "import matplotlib.pyplot as plt\n",
    "%matplotlib inline\n",
    "train_df.hist(bins=50, figsize=(20,15))"
   ]
  },
  {
   "cell_type": "code",
   "execution_count": null,
   "metadata": {},
   "outputs": [],
   "source": []
  },
  {
   "cell_type": "code",
   "execution_count": 35,
   "metadata": {},
   "outputs": [],
   "source": [
    "\n",
    "# train_df.plot(kind='scatter', x='Sex', y='Survived')"
   ]
  },
  {
   "cell_type": "code",
   "execution_count": 36,
   "metadata": {},
   "outputs": [
    {
     "data": {
      "text/plain": [
       "Index(['PassengerId', 'Survived', 'Pclass', 'Name', 'Sex', 'Age', 'SibSp',\n",
       "       'Parch', 'Ticket', 'Fare', 'Cabin', 'Embarked'],\n",
       "      dtype='object')"
      ]
     },
     "execution_count": 36,
     "metadata": {},
     "output_type": "execute_result"
    }
   ],
   "source": [
    "train_df.columns\n"
   ]
  },
  {
   "cell_type": "code",
   "execution_count": 39,
   "metadata": {},
   "outputs": [],
   "source": [
    "\n",
    "class AttribPicker(BaseEstimator, TransformerMixin):\n",
    "    def __init__(self, required_cols):\n",
    "        self.required_cols=required_cols\n",
    "        \n",
    "    def fit(self, X, y=None):\n",
    "        return self\n",
    "    \n",
    "    def transform(self, X, y=None):\n",
    "        return X[self.required_cols]"
   ]
  },
  {
   "cell_type": "code",
   "execution_count": 40,
   "metadata": {},
   "outputs": [
    {
     "data": {
      "text/plain": [
       "3    491\n",
       "1    216\n",
       "2    184\n",
       "Name: Pclass, dtype: int64"
      ]
     },
     "execution_count": 40,
     "metadata": {},
     "output_type": "execute_result"
    }
   ],
   "source": [
    "train_df['Pclass'].value_counts()"
   ]
  },
  {
   "cell_type": "code",
   "execution_count": 41,
   "metadata": {},
   "outputs": [
    {
     "data": {
      "text/plain": [
       "S    644\n",
       "C    168\n",
       "Q     77\n",
       "Name: Embarked, dtype: int64"
      ]
     },
     "execution_count": 41,
     "metadata": {},
     "output_type": "execute_result"
    }
   ],
   "source": [
    "train_df['Embarked'].value_counts()"
   ]
  },
  {
   "cell_type": "code",
   "execution_count": 42,
   "metadata": {},
   "outputs": [],
   "source": [
    "num_attribute=['Age','SibSp', 'Parch','Fare']\n",
    "cat_attribute=['Pclass','Sex','Embarked']"
   ]
  },
  {
   "cell_type": "code",
   "execution_count": 46,
   "metadata": {},
   "outputs": [],
   "source": [
    "from sklearn.pipeline import Pipeline\n",
    "from sklearn.preprocessing import Imputer"
   ]
  },
  {
   "cell_type": "code",
   "execution_count": 47,
   "metadata": {},
   "outputs": [],
   "source": [
    "num_pipeline = Pipeline([\n",
    "    ('selector',AttribPicker(num_attribute)),\n",
    "    ('imputer', Imputer(strategy='median'))\n",
    "])"
   ]
  },
  {
   "cell_type": "code",
   "execution_count": 124,
   "metadata": {},
   "outputs": [],
   "source": [
    "from sklearn.preprocessing import LabelEncoder,OneHotEncoder\n",
    "\n",
    "class PdOneHotEncoder(BaseEstimator,TransformerMixin):\n",
    "    \n",
    "    def __init__(self):\n",
    "        self.label_encoder = LabelEncoder()\n",
    "        self.one_hot_encoder = OneHotEncoder()\n",
    "        \n",
    "    def fit(self, X, y=None ):\n",
    "        return self\n",
    "    \n",
    "    def transform(self,X, y=None):\n",
    "        for col in X.columns:\n",
    "            X[col] = X[col].astype('category')\n",
    "            \n",
    "        encoded_X=pd.get_dummies(X)\n",
    "        self.classes_=encoded_X.columns.tolist()\n",
    "        return encoded_X.values"
   ]
  },
  {
   "cell_type": "code",
   "execution_count": 125,
   "metadata": {},
   "outputs": [],
   "source": [
    "class MostFrequentImputer(BaseEstimator, TransformerMixin):\n",
    "    def __init__(self):\n",
    "        self.column_imputer={}\n",
    "        \n",
    "    def fit(self, X, y=None):\n",
    "        for col in X.columns:\n",
    "            self.column_imputer[col] =X[col].value_counts().sort_values().index[-1]\n",
    "        return self\n",
    "            \n",
    "    def transform(self, X, y=None):\n",
    "        for col in self.column_imputer.keys():\n",
    "            if col in X.columns:X[col].fillna(self.column_imputer[col], inplace=True)\n",
    "        return X\n",
    "                \n",
    "    \n",
    "        "
   ]
  },
  {
   "cell_type": "code",
   "execution_count": 126,
   "metadata": {},
   "outputs": [],
   "source": [
    "cat_pipeline = Pipeline([\n",
    "    ('selector', AttribPicker(cat_attribute)),\n",
    "    ('most_freq_imputer', MostFrequentImputer()),\n",
    "    ('one_hot_encoder' , PdOneHotEncoder())\n",
    "])"
   ]
  },
  {
   "cell_type": "code",
   "execution_count": 127,
   "metadata": {},
   "outputs": [],
   "source": [
    "from sklearn.pipeline import FeatureUnion\n"
   ]
  },
  {
   "cell_type": "code",
   "execution_count": 128,
   "metadata": {},
   "outputs": [],
   "source": [
    "full_pipeline = FeatureUnion(transformer_list=[\n",
    "    ('num', num_pipeline),\n",
    "    ('cat', cat_pipeline)\n",
    "])"
   ]
  },
  {
   "cell_type": "code",
   "execution_count": 129,
   "metadata": {},
   "outputs": [
    {
     "data": {
      "text/plain": [
       "array([[22.    ,  1.    ,  0.    ,  7.25  ],\n",
       "       [38.    ,  1.    ,  0.    , 71.2833],\n",
       "       [26.    ,  0.    ,  0.    ,  7.925 ],\n",
       "       ...,\n",
       "       [28.    ,  1.    ,  2.    , 23.45  ],\n",
       "       [26.    ,  0.    ,  0.    , 30.    ],\n",
       "       [32.    ,  0.    ,  0.    ,  7.75  ]])"
      ]
     },
     "execution_count": 129,
     "metadata": {},
     "output_type": "execute_result"
    }
   ],
   "source": [
    "num_pipeline.fit_transform(train_df)"
   ]
  },
  {
   "cell_type": "code",
   "execution_count": 130,
   "metadata": {},
   "outputs": [
    {
     "name": "stderr",
     "output_type": "stream",
     "text": [
      "/Users/Kunal/anaconda3/lib/python3.6/site-packages/pandas/core/generic.py:5430: SettingWithCopyWarning: \n",
      "A value is trying to be set on a copy of a slice from a DataFrame\n",
      "\n",
      "See the caveats in the documentation: http://pandas.pydata.org/pandas-docs/stable/indexing.html#indexing-view-versus-copy\n",
      "  self._update_inplace(new_data)\n",
      "/Users/Kunal/anaconda3/lib/python3.6/site-packages/ipykernel_launcher.py:14: SettingWithCopyWarning: \n",
      "A value is trying to be set on a copy of a slice from a DataFrame.\n",
      "Try using .loc[row_indexer,col_indexer] = value instead\n",
      "\n",
      "See the caveats in the documentation: http://pandas.pydata.org/pandas-docs/stable/indexing.html#indexing-view-versus-copy\n",
      "  \n"
     ]
    },
    {
     "data": {
      "text/plain": [
       "array([[0, 0, 1, ..., 0, 0, 1],\n",
       "       [1, 0, 0, ..., 1, 0, 0],\n",
       "       [0, 0, 1, ..., 0, 0, 1],\n",
       "       ...,\n",
       "       [0, 0, 1, ..., 0, 0, 1],\n",
       "       [1, 0, 0, ..., 1, 0, 0],\n",
       "       [0, 0, 1, ..., 0, 1, 0]], dtype=uint8)"
      ]
     },
     "execution_count": 130,
     "metadata": {},
     "output_type": "execute_result"
    }
   ],
   "source": [
    "cat_pipeline.fit_transform(train_df)"
   ]
  },
  {
   "cell_type": "code",
   "execution_count": 131,
   "metadata": {},
   "outputs": [
    {
     "data": {
      "text/plain": [
       "['Pclass_1',\n",
       " 'Pclass_2',\n",
       " 'Pclass_3',\n",
       " 'Sex_female',\n",
       " 'Sex_male',\n",
       " 'Embarked_C',\n",
       " 'Embarked_Q',\n",
       " 'Embarked_S']"
      ]
     },
     "execution_count": 131,
     "metadata": {},
     "output_type": "execute_result"
    }
   ],
   "source": [
    "cat_pipeline.classes_"
   ]
  },
  {
   "cell_type": "code",
   "execution_count": 133,
   "metadata": {},
   "outputs": [
    {
     "name": "stderr",
     "output_type": "stream",
     "text": [
      "/Users/Kunal/anaconda3/lib/python3.6/site-packages/pandas/core/generic.py:5430: SettingWithCopyWarning: \n",
      "A value is trying to be set on a copy of a slice from a DataFrame\n",
      "\n",
      "See the caveats in the documentation: http://pandas.pydata.org/pandas-docs/stable/indexing.html#indexing-view-versus-copy\n",
      "  self._update_inplace(new_data)\n",
      "/Users/Kunal/anaconda3/lib/python3.6/site-packages/ipykernel_launcher.py:14: SettingWithCopyWarning: \n",
      "A value is trying to be set on a copy of a slice from a DataFrame.\n",
      "Try using .loc[row_indexer,col_indexer] = value instead\n",
      "\n",
      "See the caveats in the documentation: http://pandas.pydata.org/pandas-docs/stable/indexing.html#indexing-view-versus-copy\n",
      "  \n"
     ]
    }
   ],
   "source": [
    "train_df_prepared = full_pipeline.fit_transform(train_df)"
   ]
  },
  {
   "cell_type": "code",
   "execution_count": 139,
   "metadata": {},
   "outputs": [],
   "source": [
    "from sklearn.model_selection import cross_val_score\n",
    "from sklearn.ensemble import RandomForestClassifier\n",
    "from sklearn.linear_model import LogisticRegression"
   ]
  },
  {
   "cell_type": "code",
   "execution_count": 142,
   "metadata": {},
   "outputs": [],
   "source": [
    "y_train=train_df['Survived']"
   ]
  },
  {
   "cell_type": "code",
   "execution_count": 159,
   "metadata": {},
   "outputs": [],
   "source": [
    "\n",
    "lr_clf=LogisticRegression()\n",
    "lr_scores = cross_val_score(lr_clf,train_df_prepared, y_train,cv=10)\n"
   ]
  },
  {
   "cell_type": "code",
   "execution_count": 160,
   "metadata": {},
   "outputs": [
    {
     "data": {
      "text/plain": [
       "0.7991973101804561"
      ]
     },
     "execution_count": 160,
     "metadata": {},
     "output_type": "execute_result"
    }
   ],
   "source": [
    "lr_scores.mean()"
   ]
  },
  {
   "cell_type": "code",
   "execution_count": 161,
   "metadata": {},
   "outputs": [],
   "source": [
    "forest_clf = RandomForestClassifier()\n",
    "forest_scores = cross_val_score(forest_clf,train_df_prepared, y_train,cv=10)"
   ]
  },
  {
   "cell_type": "code",
   "execution_count": 162,
   "metadata": {},
   "outputs": [
    {
     "data": {
      "text/plain": [
       "0.8070621949835433"
      ]
     },
     "execution_count": 162,
     "metadata": {},
     "output_type": "execute_result"
    }
   ],
   "source": [
    "forest_scores.mean()"
   ]
  },
  {
   "cell_type": "code",
   "execution_count": 164,
   "metadata": {},
   "outputs": [
    {
     "data": {
      "image/png": "[encoded data removed]",
      "text/plain": [
       "<Figure size 576x288 with 1 Axes>"
      ]
     },
     "metadata": {},
     "output_type": "display_data"
    }
   ],
   "source": [
    "plt.figure(figsize=(8, 4))\n",
    "plt.plot([1]*10, lr_scores, \".\")\n",
    "plt.plot([2]*10, forest_scores, \".\")\n",
    "plt.boxplot([lr_scores, forest_scores], labels=(\"Logistic Regression\",\"Random Forest\"))\n",
    "plt.ylabel(\"Accuracy\", fontsize=14)\n",
    "plt.show()"
   ]
  },
  {
   "cell_type": "code",
   "execution_count": 165,
   "metadata": {},
   "outputs": [
    {
     "data": {
      "text/plain": [
       "(891, 12)"
      ]
     },
     "execution_count": 165,
     "metadata": {},
     "output_type": "execute_result"
    }
   ],
   "source": [
    "train_df_prepared.shape"
   ]
  },
  {
   "cell_type": "code",
   "execution_count": 171,
   "metadata": {},
   "outputs": [
    {
     "data": {
      "text/plain": [
       "[100,\n",
       " 125,\n",
       " 150,\n",
       " 175,\n",
       " 200,\n",
       " 225,\n",
       " 250,\n",
       " 275,\n",
       " 300,\n",
       " 325,\n",
       " 350,\n",
       " 375,\n",
       " 400,\n",
       " 425,\n",
       " 450,\n",
       " 475,\n",
       " 500,\n",
       " 525,\n",
       " 550,\n",
       " 575,\n",
       " 600,\n",
       " 625,\n",
       " 650,\n",
       " 675,\n",
       " 700,\n",
       " 725,\n",
       " 750,\n",
       " 775,\n",
       " 800,\n",
       " 825,\n",
       " 850,\n",
       " 875,\n",
       " 900,\n",
       " 925,\n",
       " 950,\n",
       " 975,\n",
       " 1000]"
      ]
     },
     "execution_count": 171,
     "metadata": {},
     "output_type": "execute_result"
    }
   ],
   "source": [
    "[i for i in range(100,1001,25)]"
   ]
  },
  {
   "cell_type": "code",
   "execution_count": 177,
   "metadata": {},
   "outputs": [],
   "source": [
    "from sklearn.model_selection import GridSearchCV\n",
    "params = [{\n",
    "    'max_features' : [ i for i in range(4, 10)], 'n_estimators' : [i for i in range(100,1001,25)]\n",
    "}]\n",
    "grid_search=GridSearchCV(forest_clf,params, cv=3, n_jobs=-1, verbose=2)"
   ]
  },
  {
   "cell_type": "code",
   "execution_count": 178,
   "metadata": {},
   "outputs": [
    {
     "name": "stdout",
     "output_type": "stream",
     "text": [
      "Fitting 3 folds for each of 222 candidates, totalling 666 fits\n",
      "[CV] max_features=4, n_estimators=100 ................................\n",
      "[CV] max_features=4, n_estimators=100 ................................\n",
      "[CV] max_features=4, n_estimators=100 ................................\n",
      "[CV] max_features=4, n_estimators=125 ................................\n",
      "[CV] ................. max_features=4, n_estimators=100, total=   0.4s\n",
      "[CV] ................. max_features=4, n_estimators=100, total=   0.5s\n",
      "[CV] max_features=4, n_estimators=125 ................................\n",
      "[CV] max_features=4, n_estimators=125 ................................\n",
      "[CV] ................. max_features=4, n_estimators=100, total=   0.4s\n",
      "[CV] max_features=4, n_estimators=150 ................................\n",
      "[CV] ................. max_features=4, n_estimators=125, total=   0.6s\n",
      "[CV] max_features=4, n_estimators=150 ................................\n",
      "[CV] ................. max_features=4, n_estimators=125, total=   0.7s\n",
      "[CV] max_features=4, n_estimators=150 ................................\n",
      "[CV] ................. max_features=4, n_estimators=125, total=   0.7s\n",
      "[CV] max_features=4, n_estimators=175 ................................\n",
      "[CV] ................. max_features=4, n_estimators=150, total=   0.8s\n",
      "[CV] max_features=4, n_estimators=175 ................................\n",
      "[CV] ................. max_features=4, n_estimators=150, total=   0.8s\n",
      "[CV] max_features=4, n_estimators=175 ................................\n",
      "[CV] ................. max_features=4, n_estimators=150, total=   0.9s\n",
      "[CV] max_features=4, n_estimators=200 ................................\n",
      "[CV] ................. max_features=4, n_estimators=175, total=   1.0s\n",
      "[CV] max_features=4, n_estimators=200 ................................\n",
      "[CV] ................. max_features=4, n_estimators=175, total=   1.0s\n",
      "[CV] max_features=4, n_estimators=200 ................................\n",
      "[CV] ................. max_features=4, n_estimators=175, total=   1.0s\n",
      "[CV] max_features=4, n_estimators=225 ................................\n",
      "[CV] ................. max_features=4, n_estimators=200, total=   1.0s\n",
      "[CV] max_features=4, n_estimators=225 ................................\n",
      "[CV] ................. max_features=4, n_estimators=200, total=   1.0s\n",
      "[CV] max_features=4, n_estimators=225 ................................\n",
      "[CV] ................. max_features=4, n_estimators=200, total=   1.0s\n",
      "[CV] max_features=4, n_estimators=250 ................................\n",
      "[CV] ................. max_features=4, n_estimators=225, total=   1.1s\n",
      "[CV] max_features=4, n_estimators=250 ................................\n",
      "[CV] ................. max_features=4, n_estimators=225, total=   1.1s\n",
      "[CV] max_features=4, n_estimators=250 ................................\n",
      "[CV] ................. max_features=4, n_estimators=225, total=   1.1s\n",
      "[CV] max_features=4, n_estimators=275 ................................\n",
      "[CV] ................. max_features=4, n_estimators=250, total=   1.3s\n",
      "[CV] max_features=4, n_estimators=275 ................................\n",
      "[CV] ................. max_features=4, n_estimators=250, total=   1.7s\n",
      "[CV] max_features=4, n_estimators=275 ................................\n",
      "[CV] ................. max_features=4, n_estimators=250, total=   1.9s\n",
      "[CV] max_features=4, n_estimators=300 ................................\n",
      "[CV] ................. max_features=4, n_estimators=275, total=   2.2s\n",
      "[CV] max_features=4, n_estimators=300 ................................\n",
      "[CV] ................. max_features=4, n_estimators=275, total=   2.2s\n",
      "[CV] max_features=4, n_estimators=300 ................................\n",
      "[CV] ................. max_features=4, n_estimators=275, total=   1.9s\n",
      "[CV] max_features=4, n_estimators=325 ................................\n",
      "[CV] ................. max_features=4, n_estimators=300, total=   1.7s\n",
      "[CV] max_features=4, n_estimators=325 ................................\n",
      "[CV] ................. max_features=4, n_estimators=300, total=   1.6s\n",
      "[CV] max_features=4, n_estimators=325 ................................\n",
      "[CV] ................. max_features=4, n_estimators=300, total=   1.6s\n",
      "[CV] max_features=4, n_estimators=350 ................................\n",
      "[CV] ................. max_features=4, n_estimators=325, total=   1.7s\n",
      "[CV] max_features=4, n_estimators=350 ................................\n",
      "[CV] ................. max_features=4, n_estimators=325, total=   1.6s\n",
      "[CV] max_features=4, n_estimators=350 ................................\n",
      "[CV] ................. max_features=4, n_estimators=325, total=   1.5s\n",
      "[CV] max_features=4, n_estimators=375 ................................\n",
      "[CV] ................. max_features=4, n_estimators=350, total=   1.7s\n",
      "[CV] max_features=4, n_estimators=375 ................................\n",
      "[CV] ................. max_features=4, n_estimators=350, total=   1.6s\n",
      "[CV] max_features=4, n_estimators=375 ................................\n",
      "[CV] ................. max_features=4, n_estimators=350, total=   1.8s\n",
      "[CV] max_features=4, n_estimators=400 ................................\n"
     ]
    },
    {
     "name": "stderr",
     "output_type": "stream",
     "text": [
      "[Parallel(n_jobs=-1)]: Done  33 tasks      | elapsed:   12.0s\n"
     ]
    },
    {
     "name": "stdout",
     "output_type": "stream",
     "text": [
      "[CV] ................. max_features=4, n_estimators=375, total=   2.0s\n",
      "[CV] max_features=4, n_estimators=400 ................................\n",
      "[CV] ................. max_features=4, n_estimators=375, total=   2.0s\n",
      "[CV] max_features=4, n_estimators=400 ................................\n",
      "[CV] ................. max_features=4, n_estimators=375, total=   1.8s\n",
      "[CV] max_features=4, n_estimators=425 ................................\n",
      "[CV] ................. max_features=4, n_estimators=400, total=   1.8s\n",
      "[CV] max_features=4, n_estimators=425 ................................\n",
      "[CV] ................. max_features=4, n_estimators=400, total=   1.7s\n",
      "[CV] max_features=4, n_estimators=425 ................................\n",
      "[CV] ................. max_features=4, n_estimators=400, total=   1.7s\n",
      "[CV] max_features=4, n_estimators=450 ................................\n",
      "[CV] ................. max_features=4, n_estimators=425, total=   1.8s\n",
      "[CV] max_features=4, n_estimators=450 ................................\n",
      "[CV] ................. max_features=4, n_estimators=425, total=   2.0s\n",
      "[CV] max_features=4, n_estimators=450 ................................\n",
      "[CV] ................. max_features=4, n_estimators=425, total=   2.1s\n",
      "[CV] max_features=4, n_estimators=475 ................................\n",
      "[CV] ................. max_features=4, n_estimators=450, total=   2.3s\n",
      "[CV] max_features=4, n_estimators=475 ................................\n",
      "[CV] ................. max_features=4, n_estimators=450, total=   2.5s\n",
      "[CV] max_features=4, n_estimators=475 ................................\n",
      "[CV] ................. max_features=4, n_estimators=450, total=   2.2s\n",
      "[CV] max_features=4, n_estimators=500 ................................\n",
      "[CV] ................. max_features=4, n_estimators=475, total=   2.2s\n",
      "[CV] max_features=4, n_estimators=500 ................................\n",
      "[CV] ................. max_features=4, n_estimators=475, total=   2.3s\n",
      "[CV] max_features=4, n_estimators=500 ................................\n",
      "[CV] ................. max_features=4, n_estimators=475, total=   2.3s\n",
      "[CV] max_features=4, n_estimators=525 ................................\n",
      "[CV] ................. max_features=4, n_estimators=500, total=   2.5s\n",
      "[CV] max_features=4, n_estimators=525 ................................\n",
      "[CV] ................. max_features=4, n_estimators=500, total=   2.7s\n",
      "[CV] max_features=4, n_estimators=525 ................................\n",
      "[CV] ................. max_features=4, n_estimators=500, total=   2.8s\n",
      "[CV] max_features=4, n_estimators=550 ................................\n",
      "[CV] ................. max_features=4, n_estimators=525, total=   3.0s\n",
      "[CV] max_features=4, n_estimators=550 ................................\n",
      "[CV] ................. max_features=4, n_estimators=525, total=   2.8s\n",
      "[CV] max_features=4, n_estimators=550 ................................\n",
      "[CV] ................. max_features=4, n_estimators=525, total=   2.7s\n",
      "[CV] max_features=4, n_estimators=575 ................................\n",
      "[CV] ................. max_features=4, n_estimators=550, total=   2.6s\n",
      "[CV] max_features=4, n_estimators=575 ................................\n",
      "[CV] ................. max_features=4, n_estimators=550, total=   2.5s\n",
      "[CV] max_features=4, n_estimators=575 ................................\n",
      "[CV] ................. max_features=4, n_estimators=550, total=   2.6s\n",
      "[CV] max_features=4, n_estimators=600 ................................\n",
      "[CV] ................. max_features=4, n_estimators=575, total=   2.8s\n",
      "[CV] max_features=4, n_estimators=600 ................................\n",
      "[CV] ................. max_features=4, n_estimators=575, total=   2.9s\n",
      "[CV] max_features=4, n_estimators=600 ................................\n",
      "[CV] ................. max_features=4, n_estimators=575, total=   2.6s\n",
      "[CV] max_features=4, n_estimators=625 ................................\n",
      "[CV] ................. max_features=4, n_estimators=600, total=   2.7s\n",
      "[CV] max_features=4, n_estimators=625 ................................\n",
      "[CV] ................. max_features=4, n_estimators=600, total=   2.8s\n",
      "[CV] max_features=4, n_estimators=625 ................................\n",
      "[CV] ................. max_features=4, n_estimators=600, total=   2.8s\n",
      "[CV] max_features=4, n_estimators=650 ................................\n",
      "[CV] ................. max_features=4, n_estimators=625, total=   2.9s\n",
      "[CV] max_features=4, n_estimators=650 ................................\n",
      "[CV] ................. max_features=4, n_estimators=625, total=   3.0s\n",
      "[CV] max_features=4, n_estimators=650 ................................\n",
      "[CV] ................. max_features=4, n_estimators=625, total=   3.0s\n",
      "[CV] max_features=4, n_estimators=675 ................................\n",
      "[CV] ................. max_features=4, n_estimators=650, total=   3.3s\n",
      "[CV] max_features=4, n_estimators=675 ................................\n",
      "[CV] ................. max_features=4, n_estimators=650, total=   3.4s\n",
      "[CV] max_features=4, n_estimators=675 ................................\n",
      "[CV] ................. max_features=4, n_estimators=650, total=   3.3s\n",
      "[CV] max_features=4, n_estimators=700 ................................\n",
      "[CV] ................. max_features=4, n_estimators=675, total=   3.3s\n",
      "[CV] max_features=4, n_estimators=700 ................................\n",
      "[CV] ................. max_features=4, n_estimators=675, total=   3.5s\n",
      "[CV] max_features=4, n_estimators=700 ................................\n",
      "[CV] ................. max_features=4, n_estimators=675, total=   3.7s\n",
      "[CV] max_features=4, n_estimators=725 ................................\n",
      "[CV] ................. max_features=4, n_estimators=700, total=   3.8s\n",
      "[CV] max_features=4, n_estimators=725 ................................\n",
      "[CV] ................. max_features=4, n_estimators=700, total=   3.8s\n",
      "[CV] max_features=4, n_estimators=725 ................................\n",
      "[CV] ................. max_features=4, n_estimators=700, total=   3.9s\n",
      "[CV] max_features=4, n_estimators=750 ................................\n",
      "[CV] ................. max_features=4, n_estimators=725, total=   4.1s\n",
      "[CV] max_features=4, n_estimators=750 ................................\n",
      "[CV] ................. max_features=4, n_estimators=725, total=   4.7s\n",
      "[CV] max_features=4, n_estimators=750 ................................\n",
      "[CV] ................. max_features=4, n_estimators=725, total=   4.8s\n",
      "[CV] max_features=4, n_estimators=775 ................................\n",
      "[CV] ................. max_features=4, n_estimators=750, total=   4.8s\n",
      "[CV] max_features=4, n_estimators=775 ................................\n",
      "[CV] ................. max_features=4, n_estimators=750, total=   4.2s\n",
      "[CV] max_features=4, n_estimators=775 ................................\n",
      "[CV] ................. max_features=4, n_estimators=750, total=   3.5s\n",
      "[CV] max_features=4, n_estimators=800 ................................\n",
      "[CV] ................. max_features=4, n_estimators=775, total=   3.5s\n",
      "[CV] max_features=4, n_estimators=800 ................................\n",
      "[CV] ................. max_features=4, n_estimators=775, total=   3.6s\n",
      "[CV] max_features=4, n_estimators=800 ................................\n",
      "[CV] ................. max_features=4, n_estimators=775, total=   3.8s\n",
      "[CV] max_features=4, n_estimators=825 ................................\n",
      "[CV] ................. max_features=4, n_estimators=800, total=   3.8s\n",
      "[CV] max_features=4, n_estimators=825 ................................\n",
      "[CV] ................. max_features=4, n_estimators=800, total=   3.7s\n",
      "[CV] max_features=4, n_estimators=825 ................................\n",
      "[CV] ................. max_features=4, n_estimators=800, total=   3.6s\n",
      "[CV] max_features=4, n_estimators=850 ................................\n",
      "[CV] ................. max_features=4, n_estimators=825, total=   4.0s\n",
      "[CV] max_features=4, n_estimators=850 ................................\n",
      "[CV] ................. max_features=4, n_estimators=825, total=   4.0s\n",
      "[CV] max_features=4, n_estimators=850 ................................\n",
      "[CV] ................. max_features=4, n_estimators=825, total=   4.2s\n",
      "[CV] max_features=4, n_estimators=875 ................................\n",
      "[CV] ................. max_features=4, n_estimators=850, total=   4.5s\n",
      "[CV] max_features=4, n_estimators=875 ................................\n"
     ]
    },
    {
     "name": "stdout",
     "output_type": "stream",
     "text": [
      "[CV] ................. max_features=4, n_estimators=850, total=   4.5s\n",
      "[CV] max_features=4, n_estimators=875 ................................\n",
      "[CV] ................. max_features=4, n_estimators=850, total=   4.6s\n",
      "[CV] max_features=4, n_estimators=900 ................................\n",
      "[CV] ................. max_features=4, n_estimators=875, total=   4.9s\n",
      "[CV] max_features=4, n_estimators=900 ................................\n",
      "[CV] ................. max_features=4, n_estimators=875, total=   4.7s\n",
      "[CV] max_features=4, n_estimators=900 ................................\n",
      "[CV] ................. max_features=4, n_estimators=875, total=   4.7s\n",
      "[CV] max_features=4, n_estimators=925 ................................\n",
      "[CV] ................. max_features=4, n_estimators=900, total=   4.8s\n",
      "[CV] max_features=4, n_estimators=925 ................................\n",
      "[CV] ................. max_features=4, n_estimators=900, total=   4.7s\n",
      "[CV] max_features=4, n_estimators=925 ................................\n",
      "[CV] ................. max_features=4, n_estimators=900, total=   4.8s\n",
      "[CV] max_features=4, n_estimators=950 ................................\n",
      "[CV] ................. max_features=4, n_estimators=925, total=   4.8s\n",
      "[CV] max_features=4, n_estimators=950 ................................\n",
      "[CV] ................. max_features=4, n_estimators=925, total=   4.5s\n",
      "[CV] max_features=4, n_estimators=950 ................................\n",
      "[CV] ................. max_features=4, n_estimators=925, total=   4.6s\n",
      "[CV] max_features=4, n_estimators=975 ................................\n",
      "[CV] ................. max_features=4, n_estimators=950, total=   4.7s\n",
      "[CV] max_features=4, n_estimators=975 ................................\n",
      "[CV] ................. max_features=4, n_estimators=950, total=   4.7s\n",
      "[CV] max_features=4, n_estimators=975 ................................\n",
      "[CV] ................. max_features=4, n_estimators=950, total=   4.6s\n",
      "[CV] max_features=4, n_estimators=1000 ...............................\n",
      "[CV] ................. max_features=4, n_estimators=975, total=   4.9s\n",
      "[CV] max_features=4, n_estimators=1000 ...............................\n",
      "[CV] ................. max_features=4, n_estimators=975, total=   4.9s\n",
      "[CV] max_features=4, n_estimators=1000 ...............................\n",
      "[CV] ................. max_features=4, n_estimators=975, total=   5.0s\n",
      "[CV] max_features=5, n_estimators=100 ................................\n",
      "[CV] ................. max_features=5, n_estimators=100, total=   0.4s\n",
      "[CV] max_features=5, n_estimators=100 ................................\n",
      "[CV] ................ max_features=4, n_estimators=1000, total=   5.1s\n",
      "[CV] max_features=5, n_estimators=100 ................................\n",
      "[CV] ................. max_features=5, n_estimators=100, total=   0.5s\n",
      "[CV] max_features=5, n_estimators=125 ................................\n",
      "[CV] ................. max_features=5, n_estimators=100, total=   0.5s\n",
      "[CV] max_features=5, n_estimators=125 ................................\n",
      "[CV] ................. max_features=5, n_estimators=125, total=   0.7s\n",
      "[CV] max_features=5, n_estimators=125 ................................\n",
      "[CV] ................. max_features=5, n_estimators=125, total=   0.7s\n",
      "[CV] max_features=5, n_estimators=150 ................................\n",
      "[CV] ................ max_features=4, n_estimators=1000, total=   5.2s\n",
      "[CV] max_features=5, n_estimators=150 ................................\n",
      "[CV] ................. max_features=5, n_estimators=125, total=   0.7s\n",
      "[CV] max_features=5, n_estimators=150 ................................\n",
      "[CV] ................. max_features=5, n_estimators=150, total=   0.8s\n",
      "[CV] max_features=5, n_estimators=175 ................................\n",
      "[CV] ................. max_features=5, n_estimators=150, total=   0.9s\n",
      "[CV] max_features=5, n_estimators=175 ................................\n",
      "[CV] ................. max_features=5, n_estimators=150, total=   0.8s\n",
      "[CV] max_features=5, n_estimators=175 ................................\n",
      "[CV] ................ max_features=4, n_estimators=1000, total=   5.3s\n",
      "[CV] max_features=5, n_estimators=200 ................................\n",
      "[CV] ................. max_features=5, n_estimators=175, total=   1.0s\n",
      "[CV] max_features=5, n_estimators=200 ................................\n",
      "[CV] ................. max_features=5, n_estimators=175, total=   0.9s\n",
      "[CV] max_features=5, n_estimators=200 ................................\n",
      "[CV] ................. max_features=5, n_estimators=175, total=   1.0s\n",
      "[CV] max_features=5, n_estimators=225 ................................\n",
      "[CV] ................. max_features=5, n_estimators=200, total=   1.2s\n",
      "[CV] max_features=5, n_estimators=225 ................................\n",
      "[CV] ................. max_features=5, n_estimators=200, total=   1.2s\n",
      "[CV] max_features=5, n_estimators=225 ................................\n",
      "[CV] ................. max_features=5, n_estimators=200, total=   1.2s\n",
      "[CV] max_features=5, n_estimators=250 ................................\n",
      "[CV] ................. max_features=5, n_estimators=225, total=   1.3s\n",
      "[CV] max_features=5, n_estimators=250 ................................\n",
      "[CV] ................. max_features=5, n_estimators=225, total=   1.2s\n",
      "[CV] max_features=5, n_estimators=250 ................................\n",
      "[CV] ................. max_features=5, n_estimators=225, total=   1.2s\n",
      "[CV] max_features=5, n_estimators=275 ................................\n",
      "[CV] ................. max_features=5, n_estimators=250, total=   1.4s\n",
      "[CV] max_features=5, n_estimators=275 ................................\n",
      "[CV] ................. max_features=5, n_estimators=250, total=   1.4s\n",
      "[CV] max_features=5, n_estimators=275 ................................\n",
      "[CV] ................. max_features=5, n_estimators=250, total=   1.4s\n",
      "[CV] max_features=5, n_estimators=300 ................................\n",
      "[CV] ................. max_features=5, n_estimators=275, total=   1.5s\n",
      "[CV] max_features=5, n_estimators=300 ................................\n",
      "[CV] ................. max_features=5, n_estimators=275, total=   1.5s\n",
      "[CV] max_features=5, n_estimators=300 ................................\n",
      "[CV] ................. max_features=5, n_estimators=275, total=   1.6s\n",
      "[CV] max_features=5, n_estimators=325 ................................\n",
      "[CV] ................. max_features=5, n_estimators=300, total=   1.7s\n",
      "[CV] max_features=5, n_estimators=325 ................................\n",
      "[CV] ................. max_features=5, n_estimators=300, total=   1.7s\n",
      "[CV] max_features=5, n_estimators=325 ................................\n",
      "[CV] ................. max_features=5, n_estimators=300, total=   1.8s\n",
      "[CV] max_features=5, n_estimators=350 ................................\n",
      "[CV] ................. max_features=5, n_estimators=325, total=   1.9s\n",
      "[CV] max_features=5, n_estimators=350 ................................\n",
      "[CV] ................. max_features=5, n_estimators=325, total=   1.9s\n",
      "[CV] max_features=5, n_estimators=350 ................................\n",
      "[CV] ................. max_features=5, n_estimators=325, total=   1.8s\n",
      "[CV] max_features=5, n_estimators=375 ................................\n",
      "[CV] ................. max_features=5, n_estimators=350, total=   1.9s\n",
      "[CV] max_features=5, n_estimators=375 ................................\n",
      "[CV] ................. max_features=5, n_estimators=350, total=   1.9s\n",
      "[CV] max_features=5, n_estimators=375 ................................\n",
      "[CV] ................. max_features=5, n_estimators=350, total=   1.8s\n",
      "[CV] max_features=5, n_estimators=400 ................................\n",
      "[CV] ................. max_features=5, n_estimators=375, total=   2.0s\n",
      "[CV] max_features=5, n_estimators=400 ................................\n",
      "[CV] ................. max_features=5, n_estimators=375, total=   2.0s\n",
      "[CV] max_features=5, n_estimators=400 ................................\n",
      "[CV] ................. max_features=5, n_estimators=375, total=   2.0s\n",
      "[CV] max_features=5, n_estimators=425 ................................\n",
      "[CV] ................. max_features=5, n_estimators=400, total=   2.4s\n",
      "[CV] max_features=5, n_estimators=425 ................................\n",
      "[CV] ................. max_features=5, n_estimators=400, total=   2.4s\n",
      "[CV] max_features=5, n_estimators=425 ................................\n"
     ]
    },
    {
     "name": "stdout",
     "output_type": "stream",
     "text": [
      "[CV] ................. max_features=5, n_estimators=400, total=   2.4s\n",
      "[CV] max_features=5, n_estimators=450 ................................\n",
      "[CV] ................. max_features=5, n_estimators=425, total=   2.5s\n",
      "[CV] max_features=5, n_estimators=450 ................................\n",
      "[CV] ................. max_features=5, n_estimators=425, total=   2.4s\n",
      "[CV] max_features=5, n_estimators=450 ................................\n",
      "[CV] ................. max_features=5, n_estimators=425, total=   2.3s\n",
      "[CV] max_features=5, n_estimators=475 ................................\n",
      "[CV] ................. max_features=5, n_estimators=450, total=   2.5s\n",
      "[CV] max_features=5, n_estimators=475 ................................\n"
     ]
    },
    {
     "name": "stderr",
     "output_type": "stream",
     "text": [
      "[Parallel(n_jobs=-1)]: Done 154 tasks      | elapsed:  1.7min\n"
     ]
    },
    {
     "name": "stdout",
     "output_type": "stream",
     "text": [
      "[CV] ................. max_features=5, n_estimators=450, total=   2.5s\n",
      "[CV] max_features=5, n_estimators=475 ................................\n",
      "[CV] ................. max_features=5, n_estimators=450, total=   2.6s\n",
      "[CV] max_features=5, n_estimators=500 ................................\n",
      "[CV] ................. max_features=5, n_estimators=475, total=   2.7s\n",
      "[CV] max_features=5, n_estimators=500 ................................\n",
      "[CV] ................. max_features=5, n_estimators=475, total=   2.5s\n",
      "[CV] max_features=5, n_estimators=500 ................................\n",
      "[CV] ................. max_features=5, n_estimators=475, total=   2.3s\n",
      "[CV] max_features=5, n_estimators=525 ................................\n",
      "[CV] ................. max_features=5, n_estimators=500, total=   2.3s\n",
      "[CV] max_features=5, n_estimators=525 ................................\n",
      "[CV] ................. max_features=5, n_estimators=500, total=   2.4s\n",
      "[CV] max_features=5, n_estimators=525 ................................\n",
      "[CV] ................. max_features=5, n_estimators=500, total=   2.5s\n",
      "[CV] max_features=5, n_estimators=550 ................................\n",
      "[CV] ................. max_features=5, n_estimators=525, total=   2.6s\n",
      "[CV] max_features=5, n_estimators=550 ................................\n",
      "[CV] ................. max_features=5, n_estimators=525, total=   2.6s\n",
      "[CV] max_features=5, n_estimators=550 ................................\n",
      "[CV] ................. max_features=5, n_estimators=525, total=   2.6s\n",
      "[CV] max_features=5, n_estimators=575 ................................\n",
      "[CV] ................. max_features=5, n_estimators=550, total=   2.8s\n",
      "[CV] max_features=5, n_estimators=575 ................................\n",
      "[CV] ................. max_features=5, n_estimators=550, total=   2.9s\n",
      "[CV] max_features=5, n_estimators=575 ................................\n",
      "[CV] ................. max_features=5, n_estimators=550, total=   2.9s\n",
      "[CV] max_features=5, n_estimators=600 ................................\n",
      "[CV] ................. max_features=5, n_estimators=575, total=   3.2s\n",
      "[CV] max_features=5, n_estimators=600 ................................\n",
      "[CV] ................. max_features=5, n_estimators=575, total=   2.9s\n",
      "[CV] max_features=5, n_estimators=600 ................................\n",
      "[CV] ................. max_features=5, n_estimators=575, total=   2.8s\n",
      "[CV] max_features=5, n_estimators=625 ................................\n",
      "[CV] ................. max_features=5, n_estimators=600, total=   2.9s\n",
      "[CV] max_features=5, n_estimators=625 ................................\n",
      "[CV] ................. max_features=5, n_estimators=600, total=   2.9s\n",
      "[CV] max_features=5, n_estimators=625 ................................\n",
      "[CV] ................. max_features=5, n_estimators=600, total=   2.9s\n",
      "[CV] max_features=5, n_estimators=650 ................................\n",
      "[CV] ................. max_features=5, n_estimators=625, total=   2.8s\n",
      "[CV] max_features=5, n_estimators=650 ................................\n",
      "[CV] ................. max_features=5, n_estimators=625, total=   2.9s\n",
      "[CV] max_features=5, n_estimators=650 ................................\n",
      "[CV] ................. max_features=5, n_estimators=625, total=   3.0s\n",
      "[CV] max_features=5, n_estimators=675 ................................\n",
      "[CV] ................. max_features=5, n_estimators=650, total=   3.3s\n",
      "[CV] max_features=5, n_estimators=675 ................................\n",
      "[CV] ................. max_features=5, n_estimators=650, total=   3.4s\n",
      "[CV] max_features=5, n_estimators=675 ................................\n",
      "[CV] ................. max_features=5, n_estimators=650, total=   3.4s\n",
      "[CV] max_features=5, n_estimators=700 ................................\n",
      "[CV] ................. max_features=5, n_estimators=675, total=   3.6s\n",
      "[CV] max_features=5, n_estimators=700 ................................\n",
      "[CV] ................. max_features=5, n_estimators=675, total=   3.7s\n",
      "[CV] max_features=5, n_estimators=700 ................................\n",
      "[CV] ................. max_features=5, n_estimators=675, total=   4.1s\n",
      "[CV] max_features=5, n_estimators=725 ................................\n",
      "[CV] ................. max_features=5, n_estimators=700, total=   4.2s\n",
      "[CV] max_features=5, n_estimators=725 ................................\n",
      "[CV] ................. max_features=5, n_estimators=700, total=   4.0s\n",
      "[CV] max_features=5, n_estimators=725 ................................\n",
      "[CV] ................. max_features=5, n_estimators=700, total=   3.9s\n",
      "[CV] max_features=5, n_estimators=750 ................................\n",
      "[CV] ................. max_features=5, n_estimators=725, total=   3.9s\n",
      "[CV] max_features=5, n_estimators=750 ................................\n",
      "[CV] ................. max_features=5, n_estimators=725, total=   3.7s\n",
      "[CV] max_features=5, n_estimators=750 ................................\n",
      "[CV] ................. max_features=5, n_estimators=725, total=   3.6s\n",
      "[CV] max_features=5, n_estimators=775 ................................\n",
      "[CV] ................. max_features=5, n_estimators=750, total=   4.0s\n",
      "[CV] max_features=5, n_estimators=775 ................................\n",
      "[CV] ................. max_features=5, n_estimators=750, total=   4.0s\n",
      "[CV] max_features=5, n_estimators=775 ................................\n",
      "[CV] ................. max_features=5, n_estimators=750, total=   4.2s\n",
      "[CV] max_features=5, n_estimators=800 ................................\n",
      "[CV] ................. max_features=5, n_estimators=775, total=   4.3s\n",
      "[CV] max_features=5, n_estimators=800 ................................\n",
      "[CV] ................. max_features=5, n_estimators=775, total=   4.3s\n",
      "[CV] max_features=5, n_estimators=800 ................................\n",
      "[CV] ................. max_features=5, n_estimators=775, total=   4.3s\n",
      "[CV] max_features=5, n_estimators=825 ................................\n",
      "[CV] ................. max_features=5, n_estimators=800, total=   4.3s\n",
      "[CV] max_features=5, n_estimators=825 ................................\n",
      "[CV] ................. max_features=5, n_estimators=800, total=   4.4s\n",
      "[CV] max_features=5, n_estimators=825 ................................\n",
      "[CV] ................. max_features=5, n_estimators=800, total=   4.5s\n",
      "[CV] max_features=5, n_estimators=850 ................................\n",
      "[CV] ................. max_features=5, n_estimators=825, total=   4.5s\n",
      "[CV] max_features=5, n_estimators=850 ................................\n",
      "[CV] ................. max_features=5, n_estimators=825, total=   4.4s\n",
      "[CV] max_features=5, n_estimators=850 ................................\n",
      "[CV] ................. max_features=5, n_estimators=825, total=   4.1s\n",
      "[CV] max_features=5, n_estimators=875 ................................\n",
      "[CV] ................. max_features=5, n_estimators=850, total=   4.1s\n",
      "[CV] max_features=5, n_estimators=875 ................................\n",
      "[CV] ................. max_features=5, n_estimators=850, total=   3.9s\n",
      "[CV] max_features=5, n_estimators=875 ................................\n",
      "[CV] ................. max_features=5, n_estimators=850, total=   3.9s\n",
      "[CV] max_features=5, n_estimators=900 ................................\n",
      "[CV] ................. max_features=5, n_estimators=875, total=   4.0s\n",
      "[CV] max_features=5, n_estimators=900 ................................\n",
      "[CV] ................. max_features=5, n_estimators=875, total=   4.0s\n",
      "[CV] max_features=5, n_estimators=900 ................................\n",
      "[CV] ................. max_features=5, n_estimators=875, total=   4.0s\n",
      "[CV] max_features=5, n_estimators=925 ................................\n",
      "[CV] ................. max_features=5, n_estimators=900, total=   4.6s\n",
      "[CV] max_features=5, n_estimators=925 ................................\n",
      "[CV] ................. max_features=5, n_estimators=900, total=   4.7s\n",
      "[CV] max_features=5, n_estimators=925 ................................\n",
      "[CV] ................. max_features=5, n_estimators=900, total=   5.4s\n",
      "[CV] max_features=5, n_estimators=950 ................................\n",
      "[CV] ................. max_features=5, n_estimators=925, total=   5.6s\n",
      "[CV] max_features=5, n_estimators=950 ................................\n",
      "[CV] ................. max_features=5, n_estimators=925, total=   5.6s\n",
      "[CV] max_features=5, n_estimators=950 ................................\n"
     ]
    },
    {
     "name": "stdout",
     "output_type": "stream",
     "text": [
      "[CV] ................. max_features=5, n_estimators=925, total=   5.5s\n",
      "[CV] max_features=5, n_estimators=975 ................................\n",
      "[CV] ................. max_features=5, n_estimators=950, total=   5.5s\n",
      "[CV] max_features=5, n_estimators=975 ................................\n",
      "[CV] ................. max_features=5, n_estimators=950, total=   5.3s\n",
      "[CV] max_features=5, n_estimators=975 ................................\n",
      "[CV] ................. max_features=5, n_estimators=950, total=   5.5s\n",
      "[CV] max_features=5, n_estimators=1000 ...............................\n",
      "[CV] ................. max_features=5, n_estimators=975, total=   5.5s\n",
      "[CV] max_features=5, n_estimators=1000 ...............................\n",
      "[CV] ................. max_features=5, n_estimators=975, total=   5.9s\n",
      "[CV] max_features=5, n_estimators=1000 ...............................\n",
      "[CV] ................. max_features=5, n_estimators=975, total=   5.8s\n",
      "[CV] max_features=6, n_estimators=100 ................................\n",
      "[CV] ................. max_features=6, n_estimators=100, total=   0.5s\n",
      "[CV] max_features=6, n_estimators=100 ................................\n",
      "[CV] ................. max_features=6, n_estimators=100, total=   0.8s\n",
      "[CV] max_features=6, n_estimators=100 ................................\n",
      "[CV] ................ max_features=5, n_estimators=1000, total=   5.8s\n",
      "[CV] max_features=6, n_estimators=125 ................................\n",
      "[CV] ................. max_features=6, n_estimators=100, total=   0.7s\n",
      "[CV] max_features=6, n_estimators=125 ................................\n",
      "[CV] ................. max_features=6, n_estimators=125, total=   0.8s\n",
      "[CV] max_features=6, n_estimators=125 ................................\n",
      "[CV] ................. max_features=6, n_estimators=125, total=   0.8s\n",
      "[CV] max_features=6, n_estimators=150 ................................\n",
      "[CV] ................ max_features=5, n_estimators=1000, total=   6.1s\n",
      "[CV] max_features=6, n_estimators=150 ................................\n",
      "[CV] ................. max_features=6, n_estimators=125, total=   0.8s\n",
      "[CV] max_features=6, n_estimators=150 ................................\n",
      "[CV] ................. max_features=6, n_estimators=150, total=   0.9s\n",
      "[CV] max_features=6, n_estimators=175 ................................\n",
      "[CV] ................. max_features=6, n_estimators=150, total=   0.9s\n",
      "[CV] max_features=6, n_estimators=175 ................................\n",
      "[CV] ................. max_features=6, n_estimators=150, total=   0.9s\n",
      "[CV] max_features=6, n_estimators=175 ................................\n",
      "[CV] ................. max_features=6, n_estimators=175, total=   1.0s\n",
      "[CV] max_features=6, n_estimators=200 ................................\n",
      "[CV] ................. max_features=6, n_estimators=175, total=   1.0s\n",
      "[CV] max_features=6, n_estimators=200 ................................\n",
      "[CV] ................ max_features=5, n_estimators=1000, total=   6.1s\n",
      "[CV] max_features=6, n_estimators=200 ................................\n",
      "[CV] ................. max_features=6, n_estimators=175, total=   1.1s\n",
      "[CV] max_features=6, n_estimators=225 ................................\n",
      "[CV] ................. max_features=6, n_estimators=200, total=   1.4s\n",
      "[CV] max_features=6, n_estimators=225 ................................\n",
      "[CV] ................. max_features=6, n_estimators=200, total=   1.4s\n",
      "[CV] max_features=6, n_estimators=225 ................................\n",
      "[CV] ................. max_features=6, n_estimators=200, total=   1.3s\n",
      "[CV] max_features=6, n_estimators=250 ................................\n",
      "[CV] ................. max_features=6, n_estimators=225, total=   1.4s\n",
      "[CV] max_features=6, n_estimators=250 ................................\n",
      "[CV] ................. max_features=6, n_estimators=225, total=   1.3s\n",
      "[CV] max_features=6, n_estimators=250 ................................\n",
      "[CV] ................. max_features=6, n_estimators=225, total=   1.4s\n",
      "[CV] max_features=6, n_estimators=275 ................................\n",
      "[CV] ................. max_features=6, n_estimators=250, total=   1.5s\n",
      "[CV] max_features=6, n_estimators=275 ................................\n",
      "[CV] ................. max_features=6, n_estimators=250, total=   1.5s\n",
      "[CV] max_features=6, n_estimators=275 ................................\n",
      "[CV] ................. max_features=6, n_estimators=250, total=   1.5s\n",
      "[CV] max_features=6, n_estimators=300 ................................\n",
      "[CV] ................. max_features=6, n_estimators=275, total=   1.7s\n",
      "[CV] max_features=6, n_estimators=300 ................................\n",
      "[CV] ................. max_features=6, n_estimators=275, total=   1.7s\n",
      "[CV] max_features=6, n_estimators=300 ................................\n",
      "[CV] ................. max_features=6, n_estimators=275, total=   1.8s\n",
      "[CV] max_features=6, n_estimators=325 ................................\n",
      "[CV] ................. max_features=6, n_estimators=300, total=   2.1s\n",
      "[CV] max_features=6, n_estimators=325 ................................\n",
      "[CV] ................. max_features=6, n_estimators=300, total=   2.2s\n",
      "[CV] max_features=6, n_estimators=325 ................................\n",
      "[CV] ................. max_features=6, n_estimators=300, total=   2.2s\n",
      "[CV] max_features=6, n_estimators=350 ................................\n",
      "[CV] ................. max_features=6, n_estimators=325, total=   2.1s\n",
      "[CV] max_features=6, n_estimators=350 ................................\n",
      "[CV] ................. max_features=6, n_estimators=325, total=   2.0s\n",
      "[CV] max_features=6, n_estimators=350 ................................\n",
      "[CV] ................. max_features=6, n_estimators=325, total=   2.1s\n",
      "[CV] max_features=6, n_estimators=375 ................................\n",
      "[CV] ................. max_features=6, n_estimators=350, total=   2.3s\n",
      "[CV] max_features=6, n_estimators=375 ................................\n",
      "[CV] ................. max_features=6, n_estimators=350, total=   2.6s\n",
      "[CV] max_features=6, n_estimators=375 ................................\n",
      "[CV] ................. max_features=6, n_estimators=350, total=   2.4s\n",
      "[CV] max_features=6, n_estimators=400 ................................\n",
      "[CV] ................. max_features=6, n_estimators=375, total=   2.7s\n",
      "[CV] max_features=6, n_estimators=400 ................................\n",
      "[CV] ................. max_features=6, n_estimators=375, total=   2.7s\n",
      "[CV] max_features=6, n_estimators=400 ................................\n",
      "[CV] ................. max_features=6, n_estimators=375, total=   2.8s\n",
      "[CV] max_features=6, n_estimators=425 ................................\n",
      "[CV] ................. max_features=6, n_estimators=400, total=   2.6s\n",
      "[CV] max_features=6, n_estimators=425 ................................\n",
      "[CV] ................. max_features=6, n_estimators=400, total=   2.4s\n",
      "[CV] max_features=6, n_estimators=425 ................................\n",
      "[CV] ................. max_features=6, n_estimators=400, total=   2.4s\n",
      "[CV] max_features=6, n_estimators=450 ................................\n",
      "[CV] ................. max_features=6, n_estimators=425, total=   2.4s\n",
      "[CV] max_features=6, n_estimators=450 ................................\n",
      "[CV] ................. max_features=6, n_estimators=425, total=   2.4s\n",
      "[CV] max_features=6, n_estimators=450 ................................\n",
      "[CV] ................. max_features=6, n_estimators=425, total=   2.5s\n",
      "[CV] max_features=6, n_estimators=475 ................................\n",
      "[CV] ................. max_features=6, n_estimators=450, total=   2.6s\n",
      "[CV] max_features=6, n_estimators=475 ................................\n",
      "[CV] ................. max_features=6, n_estimators=450, total=   2.7s\n",
      "[CV] max_features=6, n_estimators=475 ................................\n",
      "[CV] ................. max_features=6, n_estimators=450, total=   2.7s\n",
      "[CV] max_features=6, n_estimators=500 ................................\n",
      "[CV] ................. max_features=6, n_estimators=475, total=   2.7s\n",
      "[CV] max_features=6, n_estimators=500 ................................\n",
      "[CV] ................. max_features=6, n_estimators=475, total=   2.6s\n",
      "[CV] max_features=6, n_estimators=500 ................................\n",
      "[CV] ................. max_features=6, n_estimators=475, total=   2.6s\n",
      "[CV] max_features=6, n_estimators=525 ................................\n"
     ]
    },
    {
     "name": "stdout",
     "output_type": "stream",
     "text": [
      "[CV] ................. max_features=6, n_estimators=500, total=   2.7s\n",
      "[CV] max_features=6, n_estimators=525 ................................\n",
      "[CV] ................. max_features=6, n_estimators=500, total=   2.8s\n",
      "[CV] max_features=6, n_estimators=525 ................................\n",
      "[CV] ................. max_features=6, n_estimators=500, total=   2.8s\n",
      "[CV] max_features=6, n_estimators=550 ................................\n",
      "[CV] ................. max_features=6, n_estimators=525, total=   3.0s\n",
      "[CV] max_features=6, n_estimators=550 ................................\n",
      "[CV] ................. max_features=6, n_estimators=525, total=   3.0s\n",
      "[CV] max_features=6, n_estimators=550 ................................\n",
      "[CV] ................. max_features=6, n_estimators=525, total=   3.0s\n",
      "[CV] max_features=6, n_estimators=575 ................................\n",
      "[CV] ................. max_features=6, n_estimators=550, total=   3.1s\n",
      "[CV] max_features=6, n_estimators=575 ................................\n",
      "[CV] ................. max_features=6, n_estimators=550, total=   3.3s\n",
      "[CV] max_features=6, n_estimators=575 ................................\n",
      "[CV] ................. max_features=6, n_estimators=550, total=   3.2s\n",
      "[CV] max_features=6, n_estimators=600 ................................\n",
      "[CV] ................. max_features=6, n_estimators=575, total=   3.2s\n",
      "[CV] max_features=6, n_estimators=600 ................................\n",
      "[CV] ................. max_features=6, n_estimators=575, total=   3.3s\n",
      "[CV] max_features=6, n_estimators=600 ................................\n",
      "[CV] ................. max_features=6, n_estimators=575, total=   3.2s\n",
      "[CV] max_features=6, n_estimators=625 ................................\n",
      "[CV] ................. max_features=6, n_estimators=600, total=   3.5s\n",
      "[CV] max_features=6, n_estimators=625 ................................\n",
      "[CV] ................. max_features=6, n_estimators=600, total=   3.6s\n",
      "[CV] max_features=6, n_estimators=625 ................................\n",
      "[CV] ................. max_features=6, n_estimators=600, total=   3.8s\n",
      "[CV] max_features=6, n_estimators=650 ................................\n",
      "[CV] ................. max_features=6, n_estimators=625, total=   4.9s\n",
      "[CV] max_features=6, n_estimators=650 ................................\n",
      "[CV] ................. max_features=6, n_estimators=625, total=   5.3s\n",
      "[CV] max_features=6, n_estimators=650 ................................\n",
      "[CV] ................. max_features=6, n_estimators=625, total=   5.4s\n",
      "[CV] max_features=6, n_estimators=675 ................................\n",
      "[CV] ................. max_features=6, n_estimators=650, total=   5.5s\n",
      "[CV] max_features=6, n_estimators=675 ................................\n",
      "[CV] ................. max_features=6, n_estimators=650, total=   4.8s\n",
      "[CV] max_features=6, n_estimators=675 ................................\n",
      "[CV] ................. max_features=6, n_estimators=650, total=   4.6s\n",
      "[CV] max_features=6, n_estimators=700 ................................\n",
      "[CV] ................. max_features=6, n_estimators=675, total=   4.7s\n",
      "[CV] max_features=6, n_estimators=700 ................................\n",
      "[CV] ................. max_features=6, n_estimators=675, total=   4.6s\n",
      "[CV] max_features=6, n_estimators=700 ................................\n",
      "[CV] ................. max_features=6, n_estimators=675, total=   4.7s\n",
      "[CV] max_features=6, n_estimators=725 ................................\n",
      "[CV] ................. max_features=6, n_estimators=700, total=   4.3s\n",
      "[CV] max_features=6, n_estimators=725 ................................\n",
      "[CV] ................. max_features=6, n_estimators=700, total=   4.3s\n",
      "[CV] max_features=6, n_estimators=725 ................................\n",
      "[CV] ................. max_features=6, n_estimators=700, total=   4.1s\n",
      "[CV] max_features=6, n_estimators=750 ................................\n",
      "[CV] ................. max_features=6, n_estimators=725, total=   4.2s\n",
      "[CV] max_features=6, n_estimators=750 ................................\n",
      "[CV] ................. max_features=6, n_estimators=725, total=   4.2s\n",
      "[CV] max_features=6, n_estimators=750 ................................\n",
      "[CV] ................. max_features=6, n_estimators=725, total=   4.3s\n",
      "[CV] max_features=6, n_estimators=775 ................................\n",
      "[CV] ................. max_features=6, n_estimators=750, total=   4.7s\n",
      "[CV] max_features=6, n_estimators=775 ................................\n",
      "[CV] ................. max_features=6, n_estimators=750, total=   4.9s\n",
      "[CV] max_features=6, n_estimators=775 ................................\n",
      "[CV] ................. max_features=6, n_estimators=750, total=   4.7s\n",
      "[CV] max_features=6, n_estimators=800 ................................\n",
      "[CV] ................. max_features=6, n_estimators=775, total=   4.7s\n",
      "[CV] max_features=6, n_estimators=800 ................................\n",
      "[CV] ................. max_features=6, n_estimators=775, total=   4.9s\n",
      "[CV] max_features=6, n_estimators=800 ................................\n",
      "[CV] ................. max_features=6, n_estimators=775, total=   4.9s\n",
      "[CV] max_features=6, n_estimators=825 ................................\n",
      "[CV] ................. max_features=6, n_estimators=800, total=   5.4s\n",
      "[CV] max_features=6, n_estimators=825 ................................\n",
      "[CV] ................. max_features=6, n_estimators=800, total=   5.4s\n",
      "[CV] max_features=6, n_estimators=825 ................................\n",
      "[CV] ................. max_features=6, n_estimators=800, total=   5.4s\n",
      "[CV] max_features=6, n_estimators=850 ................................\n",
      "[CV] ................. max_features=6, n_estimators=825, total=   5.1s\n",
      "[CV] max_features=6, n_estimators=850 ................................\n",
      "[CV] ................. max_features=6, n_estimators=825, total=   4.8s\n",
      "[CV] max_features=6, n_estimators=850 ................................\n",
      "[CV] ................. max_features=6, n_estimators=825, total=   4.7s\n",
      "[CV] max_features=6, n_estimators=875 ................................\n",
      "[CV] ................. max_features=6, n_estimators=850, total=   5.4s\n",
      "[CV] max_features=6, n_estimators=875 ................................\n",
      "[CV] ................. max_features=6, n_estimators=850, total=   5.3s\n",
      "[CV] max_features=6, n_estimators=875 ................................\n",
      "[CV] ................. max_features=6, n_estimators=850, total=   5.4s\n",
      "[CV] max_features=6, n_estimators=900 ................................\n",
      "[CV] ................. max_features=6, n_estimators=875, total=   5.3s\n",
      "[CV] max_features=6, n_estimators=900 ................................\n",
      "[CV] ................. max_features=6, n_estimators=875, total=   4.9s\n",
      "[CV] max_features=6, n_estimators=900 ................................\n",
      "[CV] ................. max_features=6, n_estimators=875, total=   4.9s\n",
      "[CV] max_features=6, n_estimators=925 ................................\n",
      "[CV] ................. max_features=6, n_estimators=900, total=   5.0s\n",
      "[CV] max_features=6, n_estimators=925 ................................\n",
      "[CV] ................. max_features=6, n_estimators=900, total=   5.1s\n",
      "[CV] max_features=6, n_estimators=925 ................................\n",
      "[CV] ................. max_features=6, n_estimators=900, total=   5.2s\n",
      "[CV] max_features=6, n_estimators=950 ................................\n",
      "[CV] ................. max_features=6, n_estimators=925, total=   5.3s\n",
      "[CV] max_features=6, n_estimators=950 ................................\n",
      "[CV] ................. max_features=6, n_estimators=925, total=   5.5s\n",
      "[CV] max_features=6, n_estimators=950 ................................\n",
      "[CV] ................. max_features=6, n_estimators=925, total=   5.5s\n",
      "[CV] max_features=6, n_estimators=975 ................................\n",
      "[CV] ................. max_features=6, n_estimators=950, total=   6.4s\n",
      "[CV] max_features=6, n_estimators=975 ................................\n",
      "[CV] ................. max_features=6, n_estimators=950, total=   7.5s\n",
      "[CV] max_features=6, n_estimators=975 ................................\n",
      "[CV] ................. max_features=6, n_estimators=950, total=   7.6s\n",
      "[CV] max_features=6, n_estimators=1000 ...............................\n",
      "[CV] ................. max_features=6, n_estimators=975, total=   7.6s\n",
      "[CV] max_features=6, n_estimators=1000 ...............................\n"
     ]
    },
    {
     "name": "stdout",
     "output_type": "stream",
     "text": [
      "[CV] ................. max_features=6, n_estimators=975, total=   6.8s\n",
      "[CV] max_features=6, n_estimators=1000 ...............................\n",
      "[CV] ................. max_features=6, n_estimators=975, total=   5.5s\n",
      "[CV] max_features=7, n_estimators=100 ................................\n",
      "[CV] ................. max_features=7, n_estimators=100, total=   0.5s\n",
      "[CV] max_features=7, n_estimators=100 ................................\n",
      "[CV] ................. max_features=7, n_estimators=100, total=   0.6s\n",
      "[CV] max_features=7, n_estimators=100 ................................\n",
      "[CV] ................ max_features=6, n_estimators=1000, total=   5.3s\n",
      "[CV] max_features=7, n_estimators=125 ................................\n",
      "[CV] ................. max_features=7, n_estimators=100, total=   0.6s\n",
      "[CV] max_features=7, n_estimators=125 ................................\n",
      "[CV] ................. max_features=7, n_estimators=125, total=   0.8s\n",
      "[CV] max_features=7, n_estimators=125 ................................\n",
      "[CV] ................ max_features=6, n_estimators=1000, total=   5.4s\n",
      "[CV] max_features=7, n_estimators=150 ................................\n",
      "[CV] ................. max_features=7, n_estimators=125, total=   0.8s\n",
      "[CV] max_features=7, n_estimators=150 ................................\n",
      "[CV] ................. max_features=7, n_estimators=125, total=   0.7s\n",
      "[CV] max_features=7, n_estimators=150 ................................\n",
      "[CV] ................. max_features=7, n_estimators=150, total=   0.9s\n",
      "[CV] max_features=7, n_estimators=175 ................................\n",
      "[CV] ................. max_features=7, n_estimators=150, total=   0.8s\n",
      "[CV] max_features=7, n_estimators=175 ................................\n",
      "[CV] ................. max_features=7, n_estimators=150, total=   0.9s\n",
      "[CV] max_features=7, n_estimators=175 ................................\n",
      "[CV] ................ max_features=6, n_estimators=1000, total=   5.5s\n",
      "[CV] max_features=7, n_estimators=200 ................................\n",
      "[CV] ................. max_features=7, n_estimators=175, total=   1.1s\n",
      "[CV] max_features=7, n_estimators=200 ................................\n",
      "[CV] ................. max_features=7, n_estimators=175, total=   1.1s\n",
      "[CV] max_features=7, n_estimators=200 ................................\n",
      "[CV] ................. max_features=7, n_estimators=175, total=   1.1s\n",
      "[CV] max_features=7, n_estimators=225 ................................\n",
      "[CV] ................. max_features=7, n_estimators=200, total=   1.2s\n",
      "[CV] max_features=7, n_estimators=225 ................................\n",
      "[CV] ................. max_features=7, n_estimators=200, total=   1.2s\n",
      "[CV] max_features=7, n_estimators=225 ................................\n",
      "[CV] ................. max_features=7, n_estimators=200, total=   1.2s\n",
      "[CV] max_features=7, n_estimators=250 ................................\n",
      "[CV] ................. max_features=7, n_estimators=225, total=   1.4s\n",
      "[CV] max_features=7, n_estimators=250 ................................\n",
      "[CV] ................. max_features=7, n_estimators=225, total=   1.5s\n",
      "[CV] max_features=7, n_estimators=250 ................................\n",
      "[CV] ................. max_features=7, n_estimators=225, total=   1.4s\n",
      "[CV] max_features=7, n_estimators=275 ................................\n",
      "[CV] ................. max_features=7, n_estimators=250, total=   1.5s\n",
      "[CV] max_features=7, n_estimators=275 ................................\n",
      "[CV] ................. max_features=7, n_estimators=250, total=   1.4s\n",
      "[CV] max_features=7, n_estimators=275 ................................\n",
      "[CV] ................. max_features=7, n_estimators=250, total=   1.4s\n",
      "[CV] max_features=7, n_estimators=300 ................................\n",
      "[CV] ................. max_features=7, n_estimators=275, total=   1.6s\n",
      "[CV] max_features=7, n_estimators=300 ................................\n",
      "[CV] ................. max_features=7, n_estimators=275, total=   1.6s\n",
      "[CV] max_features=7, n_estimators=300 ................................\n",
      "[CV] ................. max_features=7, n_estimators=275, total=   1.7s\n",
      "[CV] max_features=7, n_estimators=325 ................................\n"
     ]
    },
    {
     "name": "stderr",
     "output_type": "stream",
     "text": [
      "[Parallel(n_jobs=-1)]: Done 357 tasks      | elapsed:  4.7min\n"
     ]
    },
    {
     "name": "stdout",
     "output_type": "stream",
     "text": [
      "[CV] ................. max_features=7, n_estimators=300, total=   1.7s\n",
      "[CV] max_features=7, n_estimators=325 ................................\n",
      "[CV] ................. max_features=7, n_estimators=300, total=   1.7s\n",
      "[CV] max_features=7, n_estimators=325 ................................\n",
      "[CV] ................. max_features=7, n_estimators=300, total=   1.7s\n",
      "[CV] max_features=7, n_estimators=350 ................................\n",
      "[CV] ................. max_features=7, n_estimators=325, total=   1.8s\n",
      "[CV] max_features=7, n_estimators=350 ................................\n",
      "[CV] ................. max_features=7, n_estimators=325, total=   1.9s\n",
      "[CV] max_features=7, n_estimators=350 ................................\n",
      "[CV] ................. max_features=7, n_estimators=325, total=   1.9s\n",
      "[CV] max_features=7, n_estimators=375 ................................\n",
      "[CV] ................. max_features=7, n_estimators=350, total=   2.0s\n",
      "[CV] max_features=7, n_estimators=375 ................................\n",
      "[CV] ................. max_features=7, n_estimators=350, total=   2.0s\n",
      "[CV] max_features=7, n_estimators=375 ................................\n",
      "[CV] ................. max_features=7, n_estimators=350, total=   1.9s\n",
      "[CV] max_features=7, n_estimators=400 ................................\n",
      "[CV] ................. max_features=7, n_estimators=375, total=   2.1s\n",
      "[CV] max_features=7, n_estimators=400 ................................\n",
      "[CV] ................. max_features=7, n_estimators=375, total=   2.1s\n",
      "[CV] max_features=7, n_estimators=400 ................................\n",
      "[CV] ................. max_features=7, n_estimators=375, total=   2.2s\n",
      "[CV] max_features=7, n_estimators=425 ................................\n",
      "[CV] ................. max_features=7, n_estimators=400, total=   2.3s\n",
      "[CV] max_features=7, n_estimators=425 ................................\n",
      "[CV] ................. max_features=7, n_estimators=400, total=   2.3s\n",
      "[CV] max_features=7, n_estimators=425 ................................\n",
      "[CV] ................. max_features=7, n_estimators=400, total=   2.3s\n",
      "[CV] max_features=7, n_estimators=450 ................................\n",
      "[CV] ................. max_features=7, n_estimators=425, total=   2.7s\n",
      "[CV] max_features=7, n_estimators=450 ................................\n",
      "[CV] ................. max_features=7, n_estimators=425, total=   2.6s\n",
      "[CV] max_features=7, n_estimators=450 ................................\n",
      "[CV] ................. max_features=7, n_estimators=425, total=   2.5s\n",
      "[CV] max_features=7, n_estimators=475 ................................\n",
      "[CV] ................. max_features=7, n_estimators=450, total=   2.7s\n",
      "[CV] max_features=7, n_estimators=475 ................................\n",
      "[CV] ................. max_features=7, n_estimators=450, total=   2.6s\n",
      "[CV] max_features=7, n_estimators=475 ................................\n",
      "[CV] ................. max_features=7, n_estimators=450, total=   2.7s\n",
      "[CV] max_features=7, n_estimators=500 ................................\n",
      "[CV] ................. max_features=7, n_estimators=475, total=   2.8s\n",
      "[CV] max_features=7, n_estimators=500 ................................\n",
      "[CV] ................. max_features=7, n_estimators=475, total=   2.9s\n",
      "[CV] max_features=7, n_estimators=500 ................................\n",
      "[CV] ................. max_features=7, n_estimators=475, total=   2.8s\n",
      "[CV] max_features=7, n_estimators=525 ................................\n",
      "[CV] ................. max_features=7, n_estimators=500, total=   2.8s\n",
      "[CV] max_features=7, n_estimators=525 ................................\n",
      "[CV] ................. max_features=7, n_estimators=500, total=   2.7s\n",
      "[CV] max_features=7, n_estimators=525 ................................\n",
      "[CV] ................. max_features=7, n_estimators=500, total=   2.8s\n",
      "[CV] max_features=7, n_estimators=550 ................................\n",
      "[CV] ................. max_features=7, n_estimators=525, total=   2.8s\n",
      "[CV] max_features=7, n_estimators=550 ................................\n",
      "[CV] ................. max_features=7, n_estimators=525, total=   2.8s\n",
      "[CV] max_features=7, n_estimators=550 ................................\n",
      "[CV] ................. max_features=7, n_estimators=525, total=   2.8s\n",
      "[CV] max_features=7, n_estimators=575 ................................\n",
      "[CV] ................. max_features=7, n_estimators=550, total=   2.8s\n",
      "[CV] max_features=7, n_estimators=575 ................................\n",
      "[CV] ................. max_features=7, n_estimators=550, total=   2.9s\n",
      "[CV] max_features=7, n_estimators=575 ................................\n",
      "[CV] ................. max_features=7, n_estimators=550, total=   2.9s\n",
      "[CV] max_features=7, n_estimators=600 ................................\n",
      "[CV] ................. max_features=7, n_estimators=575, total=   3.0s\n",
      "[CV] max_features=7, n_estimators=600 ................................\n",
      "[CV] ................. max_features=7, n_estimators=575, total=   3.0s\n",
      "[CV] max_features=7, n_estimators=600 ................................\n",
      "[CV] ................. max_features=7, n_estimators=575, total=   3.1s\n",
      "[CV] max_features=7, n_estimators=625 ................................\n",
      "[CV] ................. max_features=7, n_estimators=600, total=   3.2s\n",
      "[CV] max_features=7, n_estimators=625 ................................\n",
      "[CV] ................. max_features=7, n_estimators=600, total=   3.2s\n",
      "[CV] max_features=7, n_estimators=625 ................................\n",
      "[CV] ................. max_features=7, n_estimators=600, total=   3.2s\n",
      "[CV] max_features=7, n_estimators=650 ................................\n",
      "[CV] ................. max_features=7, n_estimators=625, total=   3.3s\n",
      "[CV] max_features=7, n_estimators=650 ................................\n",
      "[CV] ................. max_features=7, n_estimators=625, total=   3.4s\n",
      "[CV] max_features=7, n_estimators=650 ................................\n",
      "[CV] ................. max_features=7, n_estimators=625, total=   3.5s\n",
      "[CV] max_features=7, n_estimators=675 ................................\n",
      "[CV] ................. max_features=7, n_estimators=650, total=   3.6s\n",
      "[CV] max_features=7, n_estimators=675 ................................\n",
      "[CV] ................. max_features=7, n_estimators=650, total=   3.6s\n",
      "[CV] max_features=7, n_estimators=675 ................................\n",
      "[CV] ................. max_features=7, n_estimators=650, total=   3.3s\n",
      "[CV] max_features=7, n_estimators=700 ................................\n",
      "[CV] ................. max_features=7, n_estimators=675, total=   3.3s\n",
      "[CV] max_features=7, n_estimators=700 ................................\n",
      "[CV] ................. max_features=7, n_estimators=675, total=   3.5s\n",
      "[CV] max_features=7, n_estimators=700 ................................\n",
      "[CV] ................. max_features=7, n_estimators=675, total=   3.6s\n",
      "[CV] max_features=7, n_estimators=725 ................................\n",
      "[CV] ................. max_features=7, n_estimators=700, total=   3.6s\n",
      "[CV] max_features=7, n_estimators=725 ................................\n",
      "[CV] ................. max_features=7, n_estimators=700, total=   3.7s\n",
      "[CV] max_features=7, n_estimators=725 ................................\n",
      "[CV] ................. max_features=7, n_estimators=700, total=   3.7s\n",
      "[CV] max_features=7, n_estimators=750 ................................\n",
      "[CV] ................. max_features=7, n_estimators=725, total=   3.8s\n",
      "[CV] max_features=7, n_estimators=750 ................................\n",
      "[CV] ................. max_features=7, n_estimators=725, total=   3.9s\n",
      "[CV] max_features=7, n_estimators=750 ................................\n",
      "[CV] ................. max_features=7, n_estimators=725, total=   3.9s\n",
      "[CV] max_features=7, n_estimators=775 ................................\n",
      "[CV] ................. max_features=7, n_estimators=750, total=   3.9s\n",
      "[CV] max_features=7, n_estimators=775 ................................\n",
      "[CV] ................. max_features=7, n_estimators=750, total=   3.9s\n",
      "[CV] max_features=7, n_estimators=775 ................................\n",
      "[CV] ................. max_features=7, n_estimators=750, total=   3.9s\n",
      "[CV] max_features=7, n_estimators=800 ................................\n",
      "[CV] ................. max_features=7, n_estimators=775, total=   4.0s\n",
      "[CV] max_features=7, n_estimators=800 ................................\n"
     ]
    },
    {
     "name": "stdout",
     "output_type": "stream",
     "text": [
      "[CV] ................. max_features=7, n_estimators=775, total=   4.0s\n",
      "[CV] max_features=7, n_estimators=800 ................................\n",
      "[CV] ................. max_features=7, n_estimators=775, total=   3.9s\n",
      "[CV] max_features=7, n_estimators=825 ................................\n",
      "[CV] ................. max_features=7, n_estimators=800, total=   3.9s\n",
      "[CV] max_features=7, n_estimators=825 ................................\n",
      "[CV] ................. max_features=7, n_estimators=800, total=   4.5s\n",
      "[CV] max_features=7, n_estimators=825 ................................\n",
      "[CV] ................. max_features=7, n_estimators=800, total=   4.8s\n",
      "[CV] max_features=7, n_estimators=850 ................................\n",
      "[CV] ................. max_features=7, n_estimators=825, total=   5.0s\n",
      "[CV] max_features=7, n_estimators=850 ................................\n",
      "[CV] ................. max_features=7, n_estimators=825, total=   4.7s\n",
      "[CV] max_features=7, n_estimators=850 ................................\n",
      "[CV] ................. max_features=7, n_estimators=825, total=   4.3s\n",
      "[CV] max_features=7, n_estimators=875 ................................\n",
      "[CV] ................. max_features=7, n_estimators=850, total=   4.2s\n",
      "[CV] max_features=7, n_estimators=875 ................................\n",
      "[CV] ................. max_features=7, n_estimators=850, total=   4.3s\n",
      "[CV] max_features=7, n_estimators=875 ................................\n",
      "[CV] ................. max_features=7, n_estimators=850, total=   4.7s\n",
      "[CV] max_features=7, n_estimators=900 ................................\n",
      "[CV] ................. max_features=7, n_estimators=875, total=   5.6s\n",
      "[CV] max_features=7, n_estimators=900 ................................\n",
      "[CV] ................. max_features=7, n_estimators=875, total=   6.4s\n",
      "[CV] max_features=7, n_estimators=900 ................................\n",
      "[CV] ................. max_features=7, n_estimators=875, total=   6.4s\n",
      "[CV] max_features=7, n_estimators=925 ................................\n",
      "[CV] ................. max_features=7, n_estimators=900, total=   5.8s\n",
      "[CV] max_features=7, n_estimators=925 ................................\n",
      "[CV] ................. max_features=7, n_estimators=900, total=   5.6s\n",
      "[CV] max_features=7, n_estimators=925 ................................\n",
      "[CV] ................. max_features=7, n_estimators=900, total=   5.3s\n",
      "[CV] max_features=7, n_estimators=950 ................................\n",
      "[CV] ................. max_features=7, n_estimators=925, total=   5.2s\n",
      "[CV] max_features=7, n_estimators=950 ................................\n",
      "[CV] ................. max_features=7, n_estimators=925, total=   5.2s\n",
      "[CV] max_features=7, n_estimators=950 ................................\n",
      "[CV] ................. max_features=7, n_estimators=925, total=   5.0s\n",
      "[CV] max_features=7, n_estimators=975 ................................\n",
      "[CV] ................. max_features=7, n_estimators=950, total=   4.9s\n",
      "[CV] max_features=7, n_estimators=975 ................................\n",
      "[CV] ................. max_features=7, n_estimators=950, total=   4.8s\n",
      "[CV] max_features=7, n_estimators=975 ................................\n",
      "[CV] ................. max_features=7, n_estimators=950, total=   4.6s\n",
      "[CV] max_features=7, n_estimators=1000 ...............................\n",
      "[CV] ................. max_features=7, n_estimators=975, total=   4.5s\n",
      "[CV] max_features=7, n_estimators=1000 ...............................\n",
      "[CV] ................. max_features=7, n_estimators=975, total=   4.6s\n",
      "[CV] max_features=7, n_estimators=1000 ...............................\n",
      "[CV] ................. max_features=7, n_estimators=975, total=   4.9s\n",
      "[CV] max_features=8, n_estimators=100 ................................\n",
      "[CV] ................. max_features=8, n_estimators=100, total=   0.5s\n",
      "[CV] max_features=8, n_estimators=100 ................................\n",
      "[CV] ................ max_features=7, n_estimators=1000, total=   5.1s\n",
      "[CV] max_features=8, n_estimators=100 ................................\n",
      "[CV] ................. max_features=8, n_estimators=100, total=   0.6s\n",
      "[CV] max_features=8, n_estimators=125 ................................\n",
      "[CV] ................. max_features=8, n_estimators=100, total=   0.7s\n",
      "[CV] max_features=8, n_estimators=125 ................................\n",
      "[CV] ................. max_features=8, n_estimators=125, total=   0.9s\n",
      "[CV] max_features=8, n_estimators=125 ................................\n",
      "[CV] ................ max_features=7, n_estimators=1000, total=   5.8s\n",
      "[CV] max_features=8, n_estimators=150 ................................\n",
      "[CV] ................. max_features=8, n_estimators=125, total=   1.1s\n",
      "[CV] max_features=8, n_estimators=150 ................................\n",
      "[CV] ................. max_features=8, n_estimators=125, total=   1.0s\n",
      "[CV] max_features=8, n_estimators=150 ................................\n",
      "[CV] ................. max_features=8, n_estimators=150, total=   1.1s\n",
      "[CV] max_features=8, n_estimators=175 ................................\n",
      "[CV] ................. max_features=8, n_estimators=150, total=   1.1s\n",
      "[CV] max_features=8, n_estimators=175 ................................\n",
      "[CV] ................. max_features=8, n_estimators=150, total=   1.1s\n",
      "[CV] max_features=8, n_estimators=175 ................................\n",
      "[CV] ................ max_features=7, n_estimators=1000, total=   6.4s\n",
      "[CV] max_features=8, n_estimators=200 ................................\n",
      "[CV] ................. max_features=8, n_estimators=175, total=   1.0s\n",
      "[CV] max_features=8, n_estimators=200 ................................\n",
      "[CV] ................. max_features=8, n_estimators=175, total=   1.1s\n",
      "[CV] max_features=8, n_estimators=200 ................................\n",
      "[CV] ................. max_features=8, n_estimators=175, total=   1.1s\n",
      "[CV] max_features=8, n_estimators=225 ................................\n",
      "[CV] ................. max_features=8, n_estimators=200, total=   1.3s\n",
      "[CV] max_features=8, n_estimators=225 ................................\n",
      "[CV] ................. max_features=8, n_estimators=200, total=   1.2s\n",
      "[CV] max_features=8, n_estimators=225 ................................\n",
      "[CV] ................. max_features=8, n_estimators=200, total=   1.1s\n",
      "[CV] max_features=8, n_estimators=250 ................................\n",
      "[CV] ................. max_features=8, n_estimators=225, total=   1.4s\n",
      "[CV] max_features=8, n_estimators=250 ................................\n",
      "[CV] ................. max_features=8, n_estimators=225, total=   1.4s\n",
      "[CV] max_features=8, n_estimators=250 ................................\n",
      "[CV] ................. max_features=8, n_estimators=225, total=   1.4s\n",
      "[CV] max_features=8, n_estimators=275 ................................\n",
      "[CV] ................. max_features=8, n_estimators=250, total=   1.6s\n",
      "[CV] max_features=8, n_estimators=275 ................................\n",
      "[CV] ................. max_features=8, n_estimators=250, total=   1.6s\n",
      "[CV] max_features=8, n_estimators=275 ................................\n",
      "[CV] ................. max_features=8, n_estimators=250, total=   1.5s\n",
      "[CV] max_features=8, n_estimators=300 ................................\n",
      "[CV] ................. max_features=8, n_estimators=275, total=   1.6s\n",
      "[CV] max_features=8, n_estimators=300 ................................\n",
      "[CV] ................. max_features=8, n_estimators=275, total=   1.6s\n",
      "[CV] max_features=8, n_estimators=300 ................................\n",
      "[CV] ................. max_features=8, n_estimators=275, total=   1.7s\n",
      "[CV] max_features=8, n_estimators=325 ................................\n",
      "[CV] ................. max_features=8, n_estimators=300, total=   1.7s\n",
      "[CV] max_features=8, n_estimators=325 ................................\n",
      "[CV] ................. max_features=8, n_estimators=300, total=   1.8s\n",
      "[CV] max_features=8, n_estimators=325 ................................\n",
      "[CV] ................. max_features=8, n_estimators=300, total=   1.8s\n",
      "[CV] max_features=8, n_estimators=350 ................................\n",
      "[CV] ................. max_features=8, n_estimators=325, total=   1.8s\n",
      "[CV] max_features=8, n_estimators=350 ................................\n",
      "[CV] ................. max_features=8, n_estimators=325, total=   2.0s\n",
      "[CV] max_features=8, n_estimators=350 ................................\n"
     ]
    },
    {
     "name": "stdout",
     "output_type": "stream",
     "text": [
      "[CV] ................. max_features=8, n_estimators=325, total=   1.9s\n",
      "[CV] max_features=8, n_estimators=375 ................................\n",
      "[CV] ................. max_features=8, n_estimators=350, total=   2.0s\n",
      "[CV] max_features=8, n_estimators=375 ................................\n",
      "[CV] ................. max_features=8, n_estimators=350, total=   2.1s\n",
      "[CV] max_features=8, n_estimators=375 ................................\n",
      "[CV] ................. max_features=8, n_estimators=350, total=   1.9s\n",
      "[CV] max_features=8, n_estimators=400 ................................\n",
      "[CV] ................. max_features=8, n_estimators=375, total=   2.2s\n",
      "[CV] max_features=8, n_estimators=400 ................................\n",
      "[CV] ................. max_features=8, n_estimators=375, total=   2.2s\n",
      "[CV] max_features=8, n_estimators=400 ................................\n",
      "[CV] ................. max_features=8, n_estimators=375, total=   2.2s\n",
      "[CV] max_features=8, n_estimators=425 ................................\n",
      "[CV] ................. max_features=8, n_estimators=400, total=   2.4s\n",
      "[CV] max_features=8, n_estimators=425 ................................\n",
      "[CV] ................. max_features=8, n_estimators=400, total=   2.3s\n",
      "[CV] max_features=8, n_estimators=425 ................................\n",
      "[CV] ................. max_features=8, n_estimators=400, total=   2.5s\n",
      "[CV] max_features=8, n_estimators=450 ................................\n",
      "[CV] ................. max_features=8, n_estimators=425, total=   2.5s\n",
      "[CV] max_features=8, n_estimators=450 ................................\n",
      "[CV] ................. max_features=8, n_estimators=425, total=   2.5s\n",
      "[CV] max_features=8, n_estimators=450 ................................\n",
      "[CV] ................. max_features=8, n_estimators=425, total=   2.5s\n",
      "[CV] max_features=8, n_estimators=475 ................................\n",
      "[CV] ................. max_features=8, n_estimators=450, total=   2.6s\n",
      "[CV] max_features=8, n_estimators=475 ................................\n",
      "[CV] ................. max_features=8, n_estimators=450, total=   2.8s\n",
      "[CV] max_features=8, n_estimators=475 ................................\n",
      "[CV] ................. max_features=8, n_estimators=450, total=   2.8s\n",
      "[CV] max_features=8, n_estimators=500 ................................\n",
      "[CV] ................. max_features=8, n_estimators=475, total=   3.1s\n",
      "[CV] max_features=8, n_estimators=500 ................................\n",
      "[CV] ................. max_features=8, n_estimators=475, total=   3.0s\n",
      "[CV] max_features=8, n_estimators=500 ................................\n",
      "[CV] ................. max_features=8, n_estimators=475, total=   3.1s\n",
      "[CV] max_features=8, n_estimators=525 ................................\n",
      "[CV] ................. max_features=8, n_estimators=500, total=   3.1s\n",
      "[CV] max_features=8, n_estimators=525 ................................\n",
      "[CV] ................. max_features=8, n_estimators=500, total=   3.2s\n",
      "[CV] max_features=8, n_estimators=525 ................................\n",
      "[CV] ................. max_features=8, n_estimators=500, total=   3.0s\n",
      "[CV] max_features=8, n_estimators=550 ................................\n",
      "[CV] ................. max_features=8, n_estimators=525, total=   3.1s\n",
      "[CV] max_features=8, n_estimators=550 ................................\n",
      "[CV] ................. max_features=8, n_estimators=525, total=   3.2s\n",
      "[CV] max_features=8, n_estimators=550 ................................\n",
      "[CV] ................. max_features=8, n_estimators=525, total=   3.2s\n",
      "[CV] max_features=8, n_estimators=575 ................................\n",
      "[CV] ................. max_features=8, n_estimators=550, total=   3.3s\n",
      "[CV] max_features=8, n_estimators=575 ................................\n",
      "[CV] ................. max_features=8, n_estimators=550, total=   3.3s\n",
      "[CV] max_features=8, n_estimators=575 ................................\n",
      "[CV] ................. max_features=8, n_estimators=550, total=   3.0s\n",
      "[CV] max_features=8, n_estimators=600 ................................\n",
      "[CV] ................. max_features=8, n_estimators=575, total=   3.1s\n",
      "[CV] max_features=8, n_estimators=600 ................................\n",
      "[CV] ................. max_features=8, n_estimators=575, total=   3.2s\n",
      "[CV] max_features=8, n_estimators=600 ................................\n",
      "[CV] ................. max_features=8, n_estimators=575, total=   3.3s\n",
      "[CV] max_features=8, n_estimators=625 ................................\n",
      "[CV] ................. max_features=8, n_estimators=600, total=   3.6s\n",
      "[CV] max_features=8, n_estimators=625 ................................\n",
      "[CV] ................. max_features=8, n_estimators=600, total=   3.7s\n",
      "[CV] max_features=8, n_estimators=625 ................................\n",
      "[CV] ................. max_features=8, n_estimators=600, total=   3.7s\n",
      "[CV] max_features=8, n_estimators=650 ................................\n",
      "[CV] ................. max_features=8, n_estimators=625, total=   3.7s\n",
      "[CV] max_features=8, n_estimators=650 ................................\n",
      "[CV] ................. max_features=8, n_estimators=625, total=   3.9s\n",
      "[CV] max_features=8, n_estimators=650 ................................\n",
      "[CV] ................. max_features=8, n_estimators=625, total=   4.1s\n",
      "[CV] max_features=8, n_estimators=675 ................................\n",
      "[CV] ................. max_features=8, n_estimators=650, total=   4.3s\n",
      "[CV] max_features=8, n_estimators=675 ................................\n",
      "[CV] ................. max_features=8, n_estimators=650, total=   4.4s\n",
      "[CV] max_features=8, n_estimators=675 ................................\n",
      "[CV] ................. max_features=8, n_estimators=650, total=   4.4s\n",
      "[CV] max_features=8, n_estimators=700 ................................\n",
      "[CV] ................. max_features=8, n_estimators=675, total=   4.5s\n",
      "[CV] max_features=8, n_estimators=700 ................................\n",
      "[CV] ................. max_features=8, n_estimators=675, total=   4.3s\n",
      "[CV] max_features=8, n_estimators=700 ................................\n",
      "[CV] ................. max_features=8, n_estimators=675, total=   4.7s\n",
      "[CV] max_features=8, n_estimators=725 ................................\n",
      "[CV] ................. max_features=8, n_estimators=700, total=   4.6s\n",
      "[CV] max_features=8, n_estimators=725 ................................\n",
      "[CV] ................. max_features=8, n_estimators=700, total=   4.5s\n",
      "[CV] max_features=8, n_estimators=725 ................................\n",
      "[CV] ................. max_features=8, n_estimators=700, total=   4.7s\n",
      "[CV] max_features=8, n_estimators=750 ................................\n",
      "[CV] ................. max_features=8, n_estimators=725, total=   4.3s\n",
      "[CV] max_features=8, n_estimators=750 ................................\n",
      "[CV] ................. max_features=8, n_estimators=725, total=   4.3s\n",
      "[CV] max_features=8, n_estimators=750 ................................\n",
      "[CV] ................. max_features=8, n_estimators=725, total=   4.3s\n",
      "[CV] max_features=8, n_estimators=775 ................................\n",
      "[CV] ................. max_features=8, n_estimators=750, total=   4.3s\n",
      "[CV] max_features=8, n_estimators=775 ................................\n",
      "[CV] ................. max_features=8, n_estimators=750, total=   4.7s\n",
      "[CV] max_features=8, n_estimators=775 ................................\n",
      "[CV] ................. max_features=8, n_estimators=750, total=   5.0s\n",
      "[CV] max_features=8, n_estimators=800 ................................\n",
      "[CV] ................. max_features=8, n_estimators=775, total=   5.5s\n",
      "[CV] max_features=8, n_estimators=800 ................................\n",
      "[CV] ................. max_features=8, n_estimators=775, total=   5.8s\n",
      "[CV] max_features=8, n_estimators=800 ................................\n",
      "[CV] ................. max_features=8, n_estimators=775, total=   5.7s\n",
      "[CV] max_features=8, n_estimators=825 ................................\n",
      "[CV] ................. max_features=8, n_estimators=800, total=   5.5s\n",
      "[CV] max_features=8, n_estimators=825 ................................\n",
      "[CV] ................. max_features=8, n_estimators=800, total=   5.2s\n",
      "[CV] max_features=8, n_estimators=825 ................................\n",
      "[CV] ................. max_features=8, n_estimators=800, total=   5.3s\n",
      "[CV] max_features=8, n_estimators=850 ................................\n"
     ]
    },
    {
     "name": "stdout",
     "output_type": "stream",
     "text": [
      "[CV] ................. max_features=8, n_estimators=825, total=   5.6s\n",
      "[CV] max_features=8, n_estimators=850 ................................\n",
      "[CV] ................. max_features=8, n_estimators=825, total=   5.5s\n",
      "[CV] max_features=8, n_estimators=850 ................................\n",
      "[CV] ................. max_features=8, n_estimators=825, total=   5.9s\n",
      "[CV] max_features=8, n_estimators=875 ................................\n",
      "[CV] ................. max_features=8, n_estimators=850, total=   5.8s\n",
      "[CV] max_features=8, n_estimators=875 ................................\n",
      "[CV] ................. max_features=8, n_estimators=850, total=   6.2s\n",
      "[CV] max_features=8, n_estimators=875 ................................\n",
      "[CV] ................. max_features=8, n_estimators=850, total=   5.9s\n",
      "[CV] max_features=8, n_estimators=900 ................................\n",
      "[CV] ................. max_features=8, n_estimators=875, total=   6.3s\n",
      "[CV] max_features=8, n_estimators=900 ................................\n",
      "[CV] ................. max_features=8, n_estimators=875, total=   6.1s\n",
      "[CV] max_features=8, n_estimators=900 ................................\n",
      "[CV] ................. max_features=8, n_estimators=875, total=   5.7s\n",
      "[CV] max_features=8, n_estimators=925 ................................\n",
      "[CV] ................. max_features=8, n_estimators=900, total=   5.4s\n",
      "[CV] max_features=8, n_estimators=925 ................................\n",
      "[CV] ................. max_features=8, n_estimators=900, total=   5.0s\n",
      "[CV] max_features=8, n_estimators=925 ................................\n",
      "[CV] ................. max_features=8, n_estimators=900, total=   5.0s\n",
      "[CV] max_features=8, n_estimators=950 ................................\n",
      "[CV] ................. max_features=8, n_estimators=925, total=   5.1s\n",
      "[CV] max_features=8, n_estimators=950 ................................\n",
      "[CV] ................. max_features=8, n_estimators=925, total=   5.5s\n",
      "[CV] max_features=8, n_estimators=950 ................................\n",
      "[CV] ................. max_features=8, n_estimators=925, total=   6.2s\n",
      "[CV] max_features=8, n_estimators=975 ................................\n",
      "[CV] ................. max_features=8, n_estimators=950, total=   6.1s\n",
      "[CV] max_features=8, n_estimators=975 ................................\n",
      "[CV] ................. max_features=8, n_estimators=950, total=   6.8s\n",
      "[CV] max_features=8, n_estimators=975 ................................\n",
      "[CV] ................. max_features=8, n_estimators=950, total=   6.3s\n",
      "[CV] max_features=8, n_estimators=1000 ...............................\n",
      "[CV] ................. max_features=8, n_estimators=975, total=   6.4s\n",
      "[CV] max_features=8, n_estimators=1000 ...............................\n",
      "[CV] ................. max_features=8, n_estimators=975, total=   6.4s\n",
      "[CV] max_features=8, n_estimators=1000 ...............................\n",
      "[CV] ................. max_features=8, n_estimators=975, total=   6.1s\n",
      "[CV] max_features=9, n_estimators=100 ................................\n",
      "[CV] ................. max_features=9, n_estimators=100, total=   0.6s\n",
      "[CV] max_features=9, n_estimators=100 ................................\n",
      "[CV] ................ max_features=8, n_estimators=1000, total=   6.2s\n",
      "[CV] max_features=9, n_estimators=100 ................................\n",
      "[CV] ................. max_features=9, n_estimators=100, total=   0.8s\n",
      "[CV] max_features=9, n_estimators=125 ................................\n",
      "[CV] ................. max_features=9, n_estimators=100, total=   0.8s\n",
      "[CV] max_features=9, n_estimators=125 ................................\n",
      "[CV] ................. max_features=9, n_estimators=125, total=   0.9s\n",
      "[CV] max_features=9, n_estimators=125 ................................\n",
      "[CV] ................. max_features=9, n_estimators=125, total=   0.9s\n",
      "[CV] max_features=9, n_estimators=150 ................................\n",
      "[CV] ................ max_features=8, n_estimators=1000, total=   6.4s\n",
      "[CV] max_features=9, n_estimators=150 ................................\n",
      "[CV] ................. max_features=9, n_estimators=125, total=   0.9s\n",
      "[CV] max_features=9, n_estimators=150 ................................\n",
      "[CV] ................. max_features=9, n_estimators=150, total=   1.2s\n",
      "[CV] max_features=9, n_estimators=175 ................................\n",
      "[CV] ................. max_features=9, n_estimators=150, total=   1.2s\n",
      "[CV] max_features=9, n_estimators=175 ................................\n",
      "[CV] ................. max_features=9, n_estimators=150, total=   1.1s\n",
      "[CV] max_features=9, n_estimators=175 ................................\n",
      "[CV] ................ max_features=8, n_estimators=1000, total=   6.8s\n",
      "[CV] max_features=9, n_estimators=200 ................................\n",
      "[CV] ................. max_features=9, n_estimators=175, total=   1.2s\n",
      "[CV] max_features=9, n_estimators=200 ................................\n",
      "[CV] ................. max_features=9, n_estimators=175, total=   1.2s\n",
      "[CV] max_features=9, n_estimators=200 ................................\n",
      "[CV] ................. max_features=9, n_estimators=175, total=   1.2s\n",
      "[CV] max_features=9, n_estimators=225 ................................\n",
      "[CV] ................. max_features=9, n_estimators=200, total=   1.3s\n",
      "[CV] max_features=9, n_estimators=225 ................................\n",
      "[CV] ................. max_features=9, n_estimators=200, total=   1.3s\n",
      "[CV] max_features=9, n_estimators=225 ................................\n",
      "[CV] ................. max_features=9, n_estimators=200, total=   1.3s\n",
      "[CV] max_features=9, n_estimators=250 ................................\n",
      "[CV] ................. max_features=9, n_estimators=225, total=   1.4s\n",
      "[CV] max_features=9, n_estimators=250 ................................\n",
      "[CV] ................. max_features=9, n_estimators=225, total=   1.4s\n",
      "[CV] max_features=9, n_estimators=250 ................................\n",
      "[CV] ................. max_features=9, n_estimators=225, total=   1.4s\n",
      "[CV] max_features=9, n_estimators=275 ................................\n",
      "[CV] ................. max_features=9, n_estimators=250, total=   1.6s\n",
      "[CV] max_features=9, n_estimators=275 ................................\n",
      "[CV] ................. max_features=9, n_estimators=250, total=   1.6s\n",
      "[CV] max_features=9, n_estimators=275 ................................\n",
      "[CV] ................. max_features=9, n_estimators=250, total=   1.6s\n",
      "[CV] max_features=9, n_estimators=300 ................................\n",
      "[CV] ................. max_features=9, n_estimators=275, total=   1.7s\n",
      "[CV] max_features=9, n_estimators=300 ................................\n",
      "[CV] ................. max_features=9, n_estimators=275, total=   1.6s\n",
      "[CV] max_features=9, n_estimators=300 ................................\n",
      "[CV] ................. max_features=9, n_estimators=275, total=   1.5s\n",
      "[CV] max_features=9, n_estimators=325 ................................\n",
      "[CV] ................. max_features=9, n_estimators=300, total=   1.8s\n",
      "[CV] max_features=9, n_estimators=325 ................................\n",
      "[CV] ................. max_features=9, n_estimators=300, total=   1.8s\n",
      "[CV] max_features=9, n_estimators=325 ................................\n",
      "[CV] ................. max_features=9, n_estimators=300, total=   1.8s\n",
      "[CV] max_features=9, n_estimators=350 ................................\n",
      "[CV] ................. max_features=9, n_estimators=325, total=   2.0s\n",
      "[CV] max_features=9, n_estimators=350 ................................\n",
      "[CV] ................. max_features=9, n_estimators=325, total=   2.1s\n",
      "[CV] max_features=9, n_estimators=350 ................................\n",
      "[CV] ................. max_features=9, n_estimators=325, total=   2.3s\n",
      "[CV] max_features=9, n_estimators=375 ................................\n",
      "[CV] ................. max_features=9, n_estimators=350, total=   2.6s\n",
      "[CV] max_features=9, n_estimators=375 ................................\n",
      "[CV] ................. max_features=9, n_estimators=350, total=   2.6s\n",
      "[CV] max_features=9, n_estimators=375 ................................\n",
      "[CV] ................. max_features=9, n_estimators=350, total=   2.8s\n",
      "[CV] max_features=9, n_estimators=400 ................................\n",
      "[CV] ................. max_features=9, n_estimators=375, total=   2.8s\n",
      "[CV] max_features=9, n_estimators=400 ................................\n"
     ]
    },
    {
     "name": "stdout",
     "output_type": "stream",
     "text": [
      "[CV] ................. max_features=9, n_estimators=375, total=   2.7s\n",
      "[CV] max_features=9, n_estimators=400 ................................\n",
      "[CV] ................. max_features=9, n_estimators=375, total=   2.7s\n",
      "[CV] max_features=9, n_estimators=425 ................................\n",
      "[CV] ................. max_features=9, n_estimators=400, total=   2.4s\n",
      "[CV] max_features=9, n_estimators=425 ................................\n",
      "[CV] ................. max_features=9, n_estimators=400, total=   2.3s\n",
      "[CV] max_features=9, n_estimators=425 ................................\n",
      "[CV] ................. max_features=9, n_estimators=400, total=   2.2s\n",
      "[CV] max_features=9, n_estimators=450 ................................\n",
      "[CV] ................. max_features=9, n_estimators=425, total=   2.3s\n",
      "[CV] max_features=9, n_estimators=450 ................................\n",
      "[CV] ................. max_features=9, n_estimators=425, total=   2.7s\n",
      "[CV] max_features=9, n_estimators=450 ................................\n",
      "[CV] ................. max_features=9, n_estimators=425, total=   2.7s\n",
      "[CV] max_features=9, n_estimators=475 ................................\n",
      "[CV] ................. max_features=9, n_estimators=450, total=   2.9s\n",
      "[CV] max_features=9, n_estimators=475 ................................\n",
      "[CV] ................. max_features=9, n_estimators=450, total=   2.9s\n",
      "[CV] max_features=9, n_estimators=475 ................................\n",
      "[CV] ................. max_features=9, n_estimators=450, total=   2.6s\n",
      "[CV] max_features=9, n_estimators=500 ................................\n",
      "[CV] ................. max_features=9, n_estimators=475, total=   2.8s\n",
      "[CV] max_features=9, n_estimators=500 ................................\n",
      "[CV] ................. max_features=9, n_estimators=475, total=   2.9s\n",
      "[CV] max_features=9, n_estimators=500 ................................\n",
      "[CV] ................. max_features=9, n_estimators=475, total=   3.3s\n",
      "[CV] max_features=9, n_estimators=525 ................................\n",
      "[CV] ................. max_features=9, n_estimators=500, total=   3.4s\n",
      "[CV] max_features=9, n_estimators=525 ................................\n",
      "[CV] ................. max_features=9, n_estimators=500, total=   3.3s\n",
      "[CV] max_features=9, n_estimators=525 ................................\n",
      "[CV] ................. max_features=9, n_estimators=500, total=   3.2s\n",
      "[CV] max_features=9, n_estimators=550 ................................\n",
      "[CV] ................. max_features=9, n_estimators=525, total=   3.2s\n",
      "[CV] max_features=9, n_estimators=550 ................................\n",
      "[CV] ................. max_features=9, n_estimators=525, total=   3.1s\n",
      "[CV] max_features=9, n_estimators=550 ................................\n",
      "[CV] ................. max_features=9, n_estimators=525, total=   3.4s\n",
      "[CV] max_features=9, n_estimators=575 ................................\n",
      "[CV] ................. max_features=9, n_estimators=550, total=   3.7s\n",
      "[CV] max_features=9, n_estimators=575 ................................\n",
      "[CV] ................. max_features=9, n_estimators=550, total=   4.0s\n",
      "[CV] max_features=9, n_estimators=575 ................................\n",
      "[CV] ................. max_features=9, n_estimators=550, total=   3.9s\n",
      "[CV] max_features=9, n_estimators=600 ................................\n",
      "[CV] ................. max_features=9, n_estimators=575, total=   4.3s\n",
      "[CV] max_features=9, n_estimators=600 ................................\n",
      "[CV] ................. max_features=9, n_estimators=575, total=   4.4s\n",
      "[CV] max_features=9, n_estimators=600 ................................\n",
      "[CV] ................. max_features=9, n_estimators=575, total=   4.2s\n",
      "[CV] max_features=9, n_estimators=625 ................................\n",
      "[CV] ................. max_features=9, n_estimators=600, total=   4.4s\n",
      "[CV] max_features=9, n_estimators=625 ................................\n",
      "[CV] ................. max_features=9, n_estimators=600, total=   4.3s\n",
      "[CV] max_features=9, n_estimators=625 ................................\n",
      "[CV] ................. max_features=9, n_estimators=600, total=   4.2s\n",
      "[CV] max_features=9, n_estimators=650 ................................\n",
      "[CV] ................. max_features=9, n_estimators=625, total=   4.1s\n",
      "[CV] max_features=9, n_estimators=650 ................................\n",
      "[CV] ................. max_features=9, n_estimators=625, total=   3.9s\n",
      "[CV] max_features=9, n_estimators=650 ................................\n",
      "[CV] ................. max_features=9, n_estimators=625, total=   3.7s\n",
      "[CV] max_features=9, n_estimators=675 ................................\n",
      "[CV] ................. max_features=9, n_estimators=650, total=   3.9s\n",
      "[CV] max_features=9, n_estimators=675 ................................\n",
      "[CV] ................. max_features=9, n_estimators=650, total=   4.2s\n",
      "[CV] max_features=9, n_estimators=675 ................................\n",
      "[CV] ................. max_features=9, n_estimators=650, total=   4.4s\n",
      "[CV] max_features=9, n_estimators=700 ................................\n",
      "[CV] ................. max_features=9, n_estimators=675, total=   5.1s\n",
      "[CV] max_features=9, n_estimators=700 ................................\n",
      "[CV] ................. max_features=9, n_estimators=675, total=   5.1s\n",
      "[CV] max_features=9, n_estimators=700 ................................\n",
      "[CV] ................. max_features=9, n_estimators=675, total=   4.7s\n",
      "[CV] max_features=9, n_estimators=725 ................................\n",
      "[CV] ................. max_features=9, n_estimators=700, total=   4.7s\n",
      "[CV] max_features=9, n_estimators=725 ................................\n",
      "[CV] ................. max_features=9, n_estimators=700, total=   4.5s\n",
      "[CV] max_features=9, n_estimators=725 ................................\n",
      "[CV] ................. max_features=9, n_estimators=700, total=   4.4s\n",
      "[CV] max_features=9, n_estimators=750 ................................\n",
      "[CV] ................. max_features=9, n_estimators=725, total=   4.7s\n",
      "[CV] max_features=9, n_estimators=750 ................................\n",
      "[CV] ................. max_features=9, n_estimators=725, total=   4.9s\n",
      "[CV] max_features=9, n_estimators=750 ................................\n",
      "[CV] ................. max_features=9, n_estimators=725, total=   4.8s\n",
      "[CV] max_features=9, n_estimators=775 ................................\n",
      "[CV] ................. max_features=9, n_estimators=750, total=   5.3s\n",
      "[CV] max_features=9, n_estimators=775 ................................\n",
      "[CV] ................. max_features=9, n_estimators=750, total=   5.1s\n",
      "[CV] max_features=9, n_estimators=775 ................................\n",
      "[CV] ................. max_features=9, n_estimators=750, total=   5.4s\n",
      "[CV] max_features=9, n_estimators=800 ................................\n",
      "[CV] ................. max_features=9, n_estimators=775, total=   5.8s\n",
      "[CV] max_features=9, n_estimators=800 ................................\n",
      "[CV] ................. max_features=9, n_estimators=775, total=   5.4s\n",
      "[CV] max_features=9, n_estimators=800 ................................\n",
      "[CV] ................. max_features=9, n_estimators=775, total=   5.3s\n",
      "[CV] max_features=9, n_estimators=825 ................................\n",
      "[CV] ................. max_features=9, n_estimators=800, total=   5.4s\n",
      "[CV] max_features=9, n_estimators=825 ................................\n"
     ]
    },
    {
     "name": "stderr",
     "output_type": "stream",
     "text": [
      "[Parallel(n_jobs=-1)]: Done 640 tasks      | elapsed:  8.9min\n"
     ]
    },
    {
     "name": "stdout",
     "output_type": "stream",
     "text": [
      "[CV] ................. max_features=9, n_estimators=800, total=   5.3s\n",
      "[CV] max_features=9, n_estimators=825 ................................\n",
      "[CV] ................. max_features=9, n_estimators=800, total=   5.8s\n",
      "[CV] max_features=9, n_estimators=850 ................................\n",
      "[CV] ................. max_features=9, n_estimators=825, total=   5.8s\n",
      "[CV] max_features=9, n_estimators=850 ................................\n",
      "[CV] ................. max_features=9, n_estimators=825, total=   5.9s\n",
      "[CV] max_features=9, n_estimators=850 ................................\n",
      "[CV] ................. max_features=9, n_estimators=825, total=   6.0s\n",
      "[CV] max_features=9, n_estimators=875 ................................\n",
      "[CV] ................. max_features=9, n_estimators=850, total=   6.0s\n",
      "[CV] max_features=9, n_estimators=875 ................................\n",
      "[CV] ................. max_features=9, n_estimators=850, total=   6.3s\n",
      "[CV] max_features=9, n_estimators=875 ................................\n",
      "[CV] ................. max_features=9, n_estimators=850, total=   6.0s\n",
      "[CV] max_features=9, n_estimators=900 ................................\n",
      "[CV] ................. max_features=9, n_estimators=875, total=   6.1s\n",
      "[CV] max_features=9, n_estimators=900 ................................\n",
      "[CV] ................. max_features=9, n_estimators=875, total=   5.5s\n",
      "[CV] max_features=9, n_estimators=900 ................................\n",
      "[CV] ................. max_features=9, n_estimators=875, total=   5.4s\n",
      "[CV] max_features=9, n_estimators=925 ................................\n",
      "[CV] ................. max_features=9, n_estimators=900, total=   5.7s\n",
      "[CV] max_features=9, n_estimators=925 ................................\n",
      "[CV] ................. max_features=9, n_estimators=900, total=   6.0s\n",
      "[CV] max_features=9, n_estimators=925 ................................\n",
      "[CV] ................. max_features=9, n_estimators=900, total=   6.4s\n",
      "[CV] max_features=9, n_estimators=950 ................................\n",
      "[CV] ................. max_features=9, n_estimators=925, total=   6.4s\n",
      "[CV] max_features=9, n_estimators=950 ................................\n",
      "[CV] ................. max_features=9, n_estimators=925, total=   6.5s\n",
      "[CV] max_features=9, n_estimators=950 ................................\n",
      "[CV] ................. max_features=9, n_estimators=925, total=   6.5s\n",
      "[CV] max_features=9, n_estimators=975 ................................\n",
      "[CV] ................. max_features=9, n_estimators=950, total=   6.4s\n",
      "[CV] max_features=9, n_estimators=975 ................................\n",
      "[CV] ................. max_features=9, n_estimators=950, total=   6.2s\n",
      "[CV] max_features=9, n_estimators=975 ................................\n",
      "[CV] ................. max_features=9, n_estimators=950, total=   6.0s\n",
      "[CV] max_features=9, n_estimators=1000 ...............................\n",
      "[CV] ................. max_features=9, n_estimators=975, total=   5.9s\n",
      "[CV] max_features=9, n_estimators=1000 ...............................\n",
      "[CV] ................. max_features=9, n_estimators=975, total=   5.8s\n",
      "[CV] max_features=9, n_estimators=1000 ...............................\n",
      "[CV] ................. max_features=9, n_estimators=975, total=   5.6s\n",
      "[CV] ................ max_features=9, n_estimators=1000, total=   5.4s\n",
      "[CV] ................ max_features=9, n_estimators=1000, total=   4.8s\n",
      "[CV] ................ max_features=9, n_estimators=1000, total=   4.2s\n"
     ]
    },
    {
     "name": "stderr",
     "output_type": "stream",
     "text": [
      "[Parallel(n_jobs=-1)]: Done 666 out of 666 | elapsed:  9.6min finished\n"
     ]
    },
    {
     "data": {
      "text/plain": [
       "GridSearchCV(cv=3, error_score='raise',\n",
       "       estimator=RandomForestClassifier(bootstrap=True, class_weight=None, criterion='gini',\n",
       "            max_depth=None, max_features='auto', max_leaf_nodes=None,\n",
       "            min_impurity_decrease=0.0, min_impurity_split=None,\n",
       "            min_samples_leaf=1, min_samples_split=2,\n",
       "            min_weight_fraction_leaf=0.0, n_estimators=10, n_jobs=1,\n",
       "            oob_score=False, random_state=None, verbose=0,\n",
       "            warm_start=False),\n",
       "       fit_params=None, iid=True, n_jobs=-1,\n",
       "       param_grid=[{'max_features': [4, 5, 6, 7, 8, 9], 'n_estimators': [100, 125, 150, 175, 200, 225, 250, 275, 300, 325, 350, 375, 400, 425, 450, 475, 500, 525, 550, 575, 600, 625, 650, 675, 700, 725, 750, 775, 800, 825, 850, 875, 900, 925, 950, 975, 1000]}],\n",
       "       pre_dispatch='2*n_jobs', refit=True, return_train_score='warn',\n",
       "       scoring=None, verbose=2)"
      ]
     },
     "execution_count": 178,
     "metadata": {},
     "output_type": "execute_result"
    }
   ],
   "source": [
    "grid_search.fit(train_df_prepared, y_train)"
   ]
  },
  {
   "cell_type": "code",
   "execution_count": 179,
   "metadata": {},
   "outputs": [
    {
     "data": {
      "text/plain": [
       "{'max_features': 7, 'n_estimators': 325}"
      ]
     },
     "execution_count": 179,
     "metadata": {},
     "output_type": "execute_result"
    }
   ],
   "source": [
    "grid_search.best_params_"
   ]
  },
  {
   "cell_type": "code",
   "execution_count": 182,
   "metadata": {},
   "outputs": [
    {
     "data": {
      "text/plain": [
       "0.8114478114478114"
      ]
     },
     "execution_count": 182,
     "metadata": {},
     "output_type": "execute_result"
    }
   ],
   "source": [
    "grid_search.best_score_"
   ]
  },
  {
   "cell_type": "code",
   "execution_count": 183,
   "metadata": {},
   "outputs": [],
   "source": [
    "predictor = Pipeline([\n",
    "    ('prepartory_pipeline', full_pipeline),\n",
    "    ('predictor', RandomForestClassifier( **grid_search.best_params_ ) )\n",
    "])"
   ]
  },
  {
   "cell_type": "code",
   "execution_count": 184,
   "metadata": {},
   "outputs": [
    {
     "name": "stderr",
     "output_type": "stream",
     "text": [
      "/Users/Kunal/anaconda3/lib/python3.6/site-packages/pandas/core/generic.py:5430: SettingWithCopyWarning: \n",
      "A value is trying to be set on a copy of a slice from a DataFrame\n",
      "\n",
      "See the caveats in the documentation: http://pandas.pydata.org/pandas-docs/stable/indexing.html#indexing-view-versus-copy\n",
      "  self._update_inplace(new_data)\n",
      "/Users/Kunal/anaconda3/lib/python3.6/site-packages/ipykernel_launcher.py:14: SettingWithCopyWarning: \n",
      "A value is trying to be set on a copy of a slice from a DataFrame.\n",
      "Try using .loc[row_indexer,col_indexer] = value instead\n",
      "\n",
      "See the caveats in the documentation: http://pandas.pydata.org/pandas-docs/stable/indexing.html#indexing-view-versus-copy\n",
      "  \n"
     ]
    },
    {
     "data": {
      "text/plain": [
       "Pipeline(memory=None,\n",
       "     steps=[('prepartory_pipeline', FeatureUnion(n_jobs=1,\n",
       "       transformer_list=[('num', Pipeline(memory=None,\n",
       "     steps=[('selector', AttribPicker(required_cols=['Age', 'SibSp', 'Parch', 'Fare'])), ('imputer', Imputer(axis=0, copy=True, missing_values='NaN', strategy='median', verbose=0))])), ('cat'...n_jobs=1,\n",
       "            oob_score=False, random_state=None, verbose=0,\n",
       "            warm_start=False))])"
      ]
     },
     "execution_count": 184,
     "metadata": {},
     "output_type": "execute_result"
    }
   ],
   "source": [
    "predictor.fit(train_df , y_train)"
   ]
  },
  {
   "cell_type": "code",
   "execution_count": 185,
   "metadata": {},
   "outputs": [
    {
     "name": "stderr",
     "output_type": "stream",
     "text": [
      "/Users/Kunal/anaconda3/lib/python3.6/site-packages/pandas/core/generic.py:5430: SettingWithCopyWarning: \n",
      "A value is trying to be set on a copy of a slice from a DataFrame\n",
      "\n",
      "See the caveats in the documentation: http://pandas.pydata.org/pandas-docs/stable/indexing.html#indexing-view-versus-copy\n",
      "  self._update_inplace(new_data)\n",
      "/Users/Kunal/anaconda3/lib/python3.6/site-packages/ipykernel_launcher.py:14: SettingWithCopyWarning: \n",
      "A value is trying to be set on a copy of a slice from a DataFrame.\n",
      "Try using .loc[row_indexer,col_indexer] = value instead\n",
      "\n",
      "See the caveats in the documentation: http://pandas.pydata.org/pandas-docs/stable/indexing.html#indexing-view-versus-copy\n",
      "  \n"
     ]
    }
   ],
   "source": [
    "y_forest_preds = predictor.predict(train_df)"
   ]
  },
  {
   "cell_type": "code",
   "execution_count": 189,
   "metadata": {},
   "outputs": [
    {
     "data": {
      "text/plain": [
       "0.9797979797979798"
      ]
     },
     "execution_count": 189,
     "metadata": {},
     "output_type": "execute_result"
    }
   ],
   "source": [
    "accuracy_score(y_train, y_forest_preds)"
   ]
  },
  {
   "cell_type": "code",
   "execution_count": 190,
   "metadata": {},
   "outputs": [],
   "source": [
    "test_df= pd.read_csv('~/Downloads/titanic 2/test.csv')"
   ]
  },
  {
   "cell_type": "code",
   "execution_count": 192,
   "metadata": {},
   "outputs": [
    {
     "data": {
      "text/html": [
       "<div>\n",
       "<style scoped>\n",
       "    .dataframe tbody tr th:only-of-type {\n",
       "        vertical-align: middle;\n",
       "    }\n",
       "\n",
       "    .dataframe tbody tr th {\n",
       "        vertical-align: top;\n",
       "    }\n",
       "\n",
       "    .dataframe thead th {\n",
       "        text-align: right;\n",
       "    }\n",
       "</style>\n",
       "<table border=\"1\" class=\"dataframe\">\n",
       "  <thead>\n",
       "    <tr style=\"text-align: right;\">\n",
       "      <th></th>\n",
       "      <th>PassengerId</th>\n",
       "      <th>Pclass</th>\n",
       "      <th>Name</th>\n",
       "      <th>Sex</th>\n",
       "      <th>Age</th>\n",
       "      <th>SibSp</th>\n",
       "      <th>Parch</th>\n",
       "      <th>Ticket</th>\n",
       "      <th>Fare</th>\n",
       "      <th>Cabin</th>\n",
       "      <th>Embarked</th>\n",
       "    </tr>\n",
       "  </thead>\n",
       "  <tbody>\n",
       "    <tr>\n",
       "      <th>0</th>\n",
       "      <td>892</td>\n",
       "      <td>3</td>\n",
       "      <td>Kelly, Mr. James</td>\n",
       "      <td>male</td>\n",
       "      <td>34.5</td>\n",
       "      <td>0</td>\n",
       "      <td>0</td>\n",
       "      <td>330911</td>\n",
       "      <td>7.8292</td>\n",
       "      <td>NaN</td>\n",
       "      <td>Q</td>\n",
       "    </tr>\n",
       "    <tr>\n",
       "      <th>1</th>\n",
       "      <td>893</td>\n",
       "      <td>3</td>\n",
       "      <td>Wilkes, Mrs. James (Ellen Needs)</td>\n",
       "      <td>female</td>\n",
       "      <td>47.0</td>\n",
       "      <td>1</td>\n",
       "      <td>0</td>\n",
       "      <td>363272</td>\n",
       "      <td>7.0000</td>\n",
       "      <td>NaN</td>\n",
       "      <td>S</td>\n",
       "    </tr>\n",
       "    <tr>\n",
       "      <th>2</th>\n",
       "      <td>894</td>\n",
       "      <td>2</td>\n",
       "      <td>Myles, Mr. Thomas Francis</td>\n",
       "      <td>male</td>\n",
       "      <td>62.0</td>\n",
       "      <td>0</td>\n",
       "      <td>0</td>\n",
       "      <td>240276</td>\n",
       "      <td>9.6875</td>\n",
       "      <td>NaN</td>\n",
       "      <td>Q</td>\n",
       "    </tr>\n",
       "    <tr>\n",
       "      <th>3</th>\n",
       "      <td>895</td>\n",
       "      <td>3</td>\n",
       "      <td>Wirz, Mr. Albert</td>\n",
       "      <td>male</td>\n",
       "      <td>27.0</td>\n",
       "      <td>0</td>\n",
       "      <td>0</td>\n",
       "      <td>315154</td>\n",
       "      <td>8.6625</td>\n",
       "      <td>NaN</td>\n",
       "      <td>S</td>\n",
       "    </tr>\n",
       "    <tr>\n",
       "      <th>4</th>\n",
       "      <td>896</td>\n",
       "      <td>3</td>\n",
       "      <td>Hirvonen, Mrs. Alexander (Helga E Lindqvist)</td>\n",
       "      <td>female</td>\n",
       "      <td>22.0</td>\n",
       "      <td>1</td>\n",
       "      <td>1</td>\n",
       "      <td>3101298</td>\n",
       "      <td>12.2875</td>\n",
       "      <td>NaN</td>\n",
       "      <td>S</td>\n",
       "    </tr>\n",
       "  </tbody>\n",
       "</table>\n",
       "</div>"
      ],
      "text/plain": [
       "   PassengerId  Pclass                                          Name     Sex  \\\n",
       "0          892       3                              Kelly, Mr. James    male   \n",
       "1          893       3              Wilkes, Mrs. James (Ellen Needs)  female   \n",
       "2          894       2                     Myles, Mr. Thomas Francis    male   \n",
       "3          895       3                              Wirz, Mr. Albert    male   \n",
       "4          896       3  Hirvonen, Mrs. Alexander (Helga E Lindqvist)  female   \n",
       "\n",
       "    Age  SibSp  Parch   Ticket     Fare Cabin Embarked  \n",
       "0  34.5      0      0   330911   7.8292   NaN        Q  \n",
       "1  47.0      1      0   363272   7.0000   NaN        S  \n",
       "2  62.0      0      0   240276   9.6875   NaN        Q  \n",
       "3  27.0      0      0   315154   8.6625   NaN        S  \n",
       "4  22.0      1      1  3101298  12.2875   NaN        S  "
      ]
     },
     "execution_count": 192,
     "metadata": {},
     "output_type": "execute_result"
    }
   ],
   "source": [
    "test_df.head()"
   ]
  },
  {
   "cell_type": "code",
   "execution_count": 193,
   "metadata": {},
   "outputs": [
    {
     "name": "stderr",
     "output_type": "stream",
     "text": [
      "/Users/Kunal/anaconda3/lib/python3.6/site-packages/pandas/core/generic.py:5430: SettingWithCopyWarning: \n",
      "A value is trying to be set on a copy of a slice from a DataFrame\n",
      "\n",
      "See the caveats in the documentation: http://pandas.pydata.org/pandas-docs/stable/indexing.html#indexing-view-versus-copy\n",
      "  self._update_inplace(new_data)\n",
      "/Users/Kunal/anaconda3/lib/python3.6/site-packages/ipykernel_launcher.py:14: SettingWithCopyWarning: \n",
      "A value is trying to be set on a copy of a slice from a DataFrame.\n",
      "Try using .loc[row_indexer,col_indexer] = value instead\n",
      "\n",
      "See the caveats in the documentation: http://pandas.pydata.org/pandas-docs/stable/indexing.html#indexing-view-versus-copy\n",
      "  \n"
     ]
    }
   ],
   "source": [
    "test_preds = predictor.predict(test_df)"
   ]
  },
  {
   "cell_type": "code",
   "execution_count": 194,
   "metadata": {},
   "outputs": [
    {
     "data": {
      "text/plain": [
       "array([0, 0, 0, 1, 1, 0, 0, 0, 1, 0, 0, 0, 1, 0, 1, 1, 0, 1, 1, 0, 1, 1,\n",
       "       1, 1, 1, 0, 1, 1, 1, 0, 0, 0, 1, 0, 1, 0, 0, 0, 0, 0, 0, 1, 0, 1,\n",
       "       1, 0, 0, 0, 1, 1, 1, 0, 1, 1, 0, 0, 0, 0, 0, 1, 0, 0, 0, 1, 1, 1,\n",
       "       1, 0, 0, 1, 1, 0, 0, 0, 1, 0, 0, 1, 0, 1, 1, 0, 0, 0, 0, 0, 1, 0,\n",
       "       1, 1, 0, 0, 1, 0, 0, 0, 1, 0, 0, 0, 1, 0, 0, 0, 1, 0, 0, 0, 0, 0,\n",
       "       0, 1, 1, 1, 1, 0, 0, 1, 0, 1, 1, 0, 1, 0, 0, 1, 0, 1, 0, 0, 1, 0,\n",
       "       0, 0, 0, 0, 0, 0, 0, 0, 0, 1, 0, 0, 1, 0, 0, 0, 1, 0, 1, 0, 0, 1,\n",
       "       0, 0, 1, 0, 1, 1, 1, 1, 1, 0, 0, 0, 0, 0, 1, 0, 0, 0, 0, 0, 0, 1,\n",
       "       1, 1, 1, 1, 0, 0, 1, 0, 1, 0, 1, 0, 0, 0, 0, 0, 1, 0, 1, 0, 1, 0,\n",
       "       0, 0, 1, 1, 0, 1, 0, 0, 0, 0, 1, 0, 0, 0, 0, 0, 0, 0, 1, 0, 1, 0,\n",
       "       1, 0, 1, 1, 1, 0, 0, 1, 0, 0, 0, 1, 0, 0, 1, 0, 0, 1, 1, 1, 1, 1,\n",
       "       0, 0, 0, 0, 1, 0, 1, 0, 1, 0, 0, 0, 0, 0, 0, 0, 1, 0, 0, 0, 1, 1,\n",
       "       0, 0, 0, 0, 0, 0, 0, 0, 1, 1, 0, 1, 0, 0, 0, 0, 0, 1, 1, 0, 1, 0,\n",
       "       0, 0, 0, 0, 0, 0, 0, 0, 0, 0, 1, 0, 0, 0, 0, 0, 0, 0, 1, 1, 0, 1,\n",
       "       0, 0, 0, 1, 0, 0, 1, 1, 0, 0, 0, 0, 0, 0, 0, 1, 1, 0, 1, 0, 0, 0,\n",
       "       1, 1, 0, 1, 0, 0, 1, 0, 0, 0, 0, 0, 0, 1, 0, 1, 0, 0, 0, 1, 1, 0,\n",
       "       0, 0, 1, 0, 1, 0, 0, 1, 0, 1, 1, 1, 1, 0, 0, 0, 1, 1, 0, 1, 0, 0,\n",
       "       1, 1, 0, 0, 0, 0, 0, 0, 0, 0, 0, 1, 0, 0, 0, 0, 0, 1, 0, 0, 0, 1,\n",
       "       0, 1, 0, 0, 1, 0, 1, 0, 0, 1, 0, 0, 1, 1, 1, 1, 0, 0, 1, 0, 0, 1])"
      ]
     },
     "execution_count": 194,
     "metadata": {},
     "output_type": "execute_result"
    }
   ],
   "source": [
    "test_preds"
   ]
  },
  {
   "cell_type": "code",
   "execution_count": 195,
   "metadata": {},
   "outputs": [],
   "source": [
    "submission = test_df[['PassengerId']]"
   ]
  },
  {
   "cell_type": "code",
   "execution_count": 197,
   "metadata": {},
   "outputs": [
    {
     "name": "stderr",
     "output_type": "stream",
     "text": [
      "/Users/Kunal/anaconda3/lib/python3.6/site-packages/ipykernel_launcher.py:1: SettingWithCopyWarning: \n",
      "A value is trying to be set on a copy of a slice from a DataFrame.\n",
      "Try using .loc[row_indexer,col_indexer] = value instead\n",
      "\n",
      "See the caveats in the documentation: http://pandas.pydata.org/pandas-docs/stable/indexing.html#indexing-view-versus-copy\n",
      "  \"\"\"Entry point for launching an IPython kernel.\n"
     ]
    }
   ],
   "source": [
    "submission['Survived'] = test_preds"
   ]
  },
  {
   "cell_type": "code",
   "execution_count": 199,
   "metadata": {},
   "outputs": [],
   "source": [
    "submission.to_csv('submission.csv', index=False)"
   ]
  },
  {
   "cell_type": "code",
   "execution_count": 200,
   "metadata": {},
   "outputs": [
    {
     "data": {
      "text/plain": [
       "(418, 2)"
      ]
     },
     "execution_count": 200,
     "metadata": {},
     "output_type": "execute_result"
    }
   ],
   "source": [
    "submission.shape"
   ]
  },
  {
   "cell_type": "code",
   "execution_count": 201,
   "metadata": {},
   "outputs": [
    {
     "data": {
      "text/html": [
       "<div>\n",
       "<style scoped>\n",
       "    .dataframe tbody tr th:only-of-type {\n",
       "        vertical-align: middle;\n",
       "    }\n",
       "\n",
       "    .dataframe tbody tr th {\n",
       "        vertical-align: top;\n",
       "    }\n",
       "\n",
       "    .dataframe thead th {\n",
       "        text-align: right;\n",
       "    }\n",
       "</style>\n",
       "<table border=\"1\" class=\"dataframe\">\n",
       "  <thead>\n",
       "    <tr style=\"text-align: right;\">\n",
       "      <th></th>\n",
       "      <th>PassengerId</th>\n",
       "      <th>Pclass</th>\n",
       "      <th>Name</th>\n",
       "      <th>Sex</th>\n",
       "      <th>Age</th>\n",
       "      <th>SibSp</th>\n",
       "      <th>Parch</th>\n",
       "      <th>Ticket</th>\n",
       "      <th>Fare</th>\n",
       "      <th>Cabin</th>\n",
       "      <th>Embarked</th>\n",
       "    </tr>\n",
       "  </thead>\n",
       "  <tbody>\n",
       "    <tr>\n",
       "      <th>0</th>\n",
       "      <td>892</td>\n",
       "      <td>3</td>\n",
       "      <td>Kelly, Mr. James</td>\n",
       "      <td>male</td>\n",
       "      <td>34.5</td>\n",
       "      <td>0</td>\n",
       "      <td>0</td>\n",
       "      <td>330911</td>\n",
       "      <td>7.8292</td>\n",
       "      <td>NaN</td>\n",
       "      <td>Q</td>\n",
       "    </tr>\n",
       "    <tr>\n",
       "      <th>1</th>\n",
       "      <td>893</td>\n",
       "      <td>3</td>\n",
       "      <td>Wilkes, Mrs. James (Ellen Needs)</td>\n",
       "      <td>female</td>\n",
       "      <td>47.0</td>\n",
       "      <td>1</td>\n",
       "      <td>0</td>\n",
       "      <td>363272</td>\n",
       "      <td>7.0000</td>\n",
       "      <td>NaN</td>\n",
       "      <td>S</td>\n",
       "    </tr>\n",
       "    <tr>\n",
       "      <th>2</th>\n",
       "      <td>894</td>\n",
       "      <td>2</td>\n",
       "      <td>Myles, Mr. Thomas Francis</td>\n",
       "      <td>male</td>\n",
       "      <td>62.0</td>\n",
       "      <td>0</td>\n",
       "      <td>0</td>\n",
       "      <td>240276</td>\n",
       "      <td>9.6875</td>\n",
       "      <td>NaN</td>\n",
       "      <td>Q</td>\n",
       "    </tr>\n",
       "    <tr>\n",
       "      <th>3</th>\n",
       "      <td>895</td>\n",
       "      <td>3</td>\n",
       "      <td>Wirz, Mr. Albert</td>\n",
       "      <td>male</td>\n",
       "      <td>27.0</td>\n",
       "      <td>0</td>\n",
       "      <td>0</td>\n",
       "      <td>315154</td>\n",
       "      <td>8.6625</td>\n",
       "      <td>NaN</td>\n",
       "      <td>S</td>\n",
       "    </tr>\n",
       "    <tr>\n",
       "      <th>4</th>\n",
       "      <td>896</td>\n",
       "      <td>3</td>\n",
       "      <td>Hirvonen, Mrs. Alexander (Helga E Lindqvist)</td>\n",
       "      <td>female</td>\n",
       "      <td>22.0</td>\n",
       "      <td>1</td>\n",
       "      <td>1</td>\n",
       "      <td>3101298</td>\n",
       "      <td>12.2875</td>\n",
       "      <td>NaN</td>\n",
       "      <td>S</td>\n",
       "    </tr>\n",
       "  </tbody>\n",
       "</table>\n",
       "</div>"
      ],
      "text/plain": [
       "   PassengerId  Pclass                                          Name     Sex  \\\n",
       "0          892       3                              Kelly, Mr. James    male   \n",
       "1          893       3              Wilkes, Mrs. James (Ellen Needs)  female   \n",
       "2          894       2                     Myles, Mr. Thomas Francis    male   \n",
       "3          895       3                              Wirz, Mr. Albert    male   \n",
       "4          896       3  Hirvonen, Mrs. Alexander (Helga E Lindqvist)  female   \n",
       "\n",
       "    Age  SibSp  Parch   Ticket     Fare Cabin Embarked  \n",
       "0  34.5      0      0   330911   7.8292   NaN        Q  \n",
       "1  47.0      1      0   363272   7.0000   NaN        S  \n",
       "2  62.0      0      0   240276   9.6875   NaN        Q  \n",
       "3  27.0      0      0   315154   8.6625   NaN        S  \n",
       "4  22.0      1      1  3101298  12.2875   NaN        S  "
      ]
     },
     "execution_count": 201,
     "metadata": {},
     "output_type": "execute_result"
    }
   ],
   "source": [
    "test_df.head()"
   ]
  },
  {
   "cell_type": "code",
   "execution_count": 207,
   "metadata": {},
   "outputs": [],
   "source": [
    "from sklearn.preprocessing import StandardScaler"
   ]
  },
  {
   "cell_type": "code",
   "execution_count": 208,
   "metadata": {},
   "outputs": [
    {
     "data": {
      "text/plain": [
       "count    332.000000\n",
       "mean      30.272590\n",
       "std       14.181209\n",
       "min        0.170000\n",
       "25%       21.000000\n",
       "50%       27.000000\n",
       "75%       39.000000\n",
       "max       76.000000\n",
       "Name: Age, dtype: float64"
      ]
     },
     "execution_count": 208,
     "metadata": {},
     "output_type": "execute_result"
    }
   ],
   "source": [
    "test_df['Age'].describe()"
   ]
  },
  {
   "cell_type": "code",
   "execution_count": 214,
   "metadata": {},
   "outputs": [
    {
     "name": "stderr",
     "output_type": "stream",
     "text": [
      "/Users/Kunal/anaconda3/lib/python3.6/site-packages/pandas/core/generic.py:5430: SettingWithCopyWarning: \n",
      "A value is trying to be set on a copy of a slice from a DataFrame\n",
      "\n",
      "See the caveats in the documentation: http://pandas.pydata.org/pandas-docs/stable/indexing.html#indexing-view-versus-copy\n",
      "  self._update_inplace(new_data)\n",
      "/Users/Kunal/anaconda3/lib/python3.6/site-packages/ipykernel_launcher.py:14: SettingWithCopyWarning: \n",
      "A value is trying to be set on a copy of a slice from a DataFrame.\n",
      "Try using .loc[row_indexer,col_indexer] = value instead\n",
      "\n",
      "See the caveats in the documentation: http://pandas.pydata.org/pandas-docs/stable/indexing.html#indexing-view-versus-copy\n",
      "  \n"
     ]
    }
   ],
   "source": [
    "X_transformed = full_pipeline.fit_transform(train_df)"
   ]
  },
  {
   "cell_type": "code",
   "execution_count": 215,
   "metadata": {},
   "outputs": [],
   "source": [
    "scaled = StandardScaler().fit_transform(X_transformed)"
   ]
  },
  {
   "cell_type": "code",
   "execution_count": 216,
   "metadata": {},
   "outputs": [
    {
     "data": {
      "text/plain": [
       "array([[-0.56573646,  0.43279337, -0.47367361, ..., -0.48204268,\n",
       "        -0.30756234,  0.61583843],\n",
       "       [ 0.66386103,  0.43279337, -0.47367361, ...,  2.0745051 ,\n",
       "        -0.30756234, -1.62380254],\n",
       "       [-0.25833709, -0.4745452 , -0.47367361, ..., -0.48204268,\n",
       "        -0.30756234,  0.61583843],\n",
       "       ...,\n",
       "       [-0.1046374 ,  0.43279337,  2.00893337, ..., -0.48204268,\n",
       "        -0.30756234,  0.61583843],\n",
       "       [-0.25833709, -0.4745452 , -0.47367361, ...,  2.0745051 ,\n",
       "        -0.30756234, -1.62380254],\n",
       "       [ 0.20276197, -0.4745452 , -0.47367361, ..., -0.48204268,\n",
       "         3.25137334, -1.62380254]])"
      ]
     },
     "execution_count": 216,
     "metadata": {},
     "output_type": "execute_result"
    }
   ],
   "source": [
    "scaled"
   ]
  },
  {
   "cell_type": "code",
   "execution_count": 217,
   "metadata": {},
   "outputs": [],
   "source": [
    "pipeline_with_scaling= Pipeline([\n",
    "    ('preparator' , full_pipeline),\n",
    "    ('scaler' , StandardScaler())\n",
    "])"
   ]
  },
  {
   "cell_type": "code",
   "execution_count": 219,
   "metadata": {},
   "outputs": [
    {
     "name": "stderr",
     "output_type": "stream",
     "text": [
      "/Users/Kunal/anaconda3/lib/python3.6/site-packages/pandas/core/generic.py:5430: SettingWithCopyWarning: \n",
      "A value is trying to be set on a copy of a slice from a DataFrame\n",
      "\n",
      "See the caveats in the documentation: http://pandas.pydata.org/pandas-docs/stable/indexing.html#indexing-view-versus-copy\n",
      "  self._update_inplace(new_data)\n",
      "/Users/Kunal/anaconda3/lib/python3.6/site-packages/ipykernel_launcher.py:14: SettingWithCopyWarning: \n",
      "A value is trying to be set on a copy of a slice from a DataFrame.\n",
      "Try using .loc[row_indexer,col_indexer] = value instead\n",
      "\n",
      "See the caveats in the documentation: http://pandas.pydata.org/pandas-docs/stable/indexing.html#indexing-view-versus-copy\n",
      "  \n"
     ]
    }
   ],
   "source": [
    "X_scaled = pipeline_with_scaling.fit_transform(train_df)"
   ]
  },
  {
   "cell_type": "code",
   "execution_count": 224,
   "metadata": {},
   "outputs": [],
   "source": [
    "lr_clf = LogisticRegression()\n",
    "lr_scores = cross_val_score(lr_clf, X_scaled, y_train, cv=10)"
   ]
  },
  {
   "cell_type": "code",
   "execution_count": 225,
   "metadata": {},
   "outputs": [
    {
     "data": {
      "text/plain": [
       "array([0.77777778, 0.78888889, 0.7752809 , 0.80898876, 0.79775281,\n",
       "       0.7752809 , 0.78651685, 0.78651685, 0.83146067, 0.85227273])"
      ]
     },
     "execution_count": 225,
     "metadata": {},
     "output_type": "execute_result"
    }
   ],
   "source": [
    "lr_scores"
   ]
  },
  {
   "cell_type": "code",
   "execution_count": 226,
   "metadata": {},
   "outputs": [
    {
     "data": {
      "text/plain": [
       "0.7980737146748382"
      ]
     },
     "execution_count": 226,
     "metadata": {},
     "output_type": "execute_result"
    }
   ],
   "source": [
    "lr_scores.mean()"
   ]
  },
  {
   "cell_type": "code",
   "execution_count": null,
   "metadata": {},
   "outputs": [],
   "source": []
  }
 ],
 "metadata": {
  "kernelspec": {
   "display_name": "Python 3",
   "language": "python",
   "name": "python3"
  },
  "language_info": {
   "codemirror_mode": {
    "name": "ipython",
    "version": 3
   },
   "file_extension": ".py",
   "mimetype": "text/x-python",
   "name": "python",
   "nbconvert_exporter": "python",
   "pygments_lexer": "ipython3",
   "version": "3.6.5"
  }
 },
 "nbformat": 4,
 "nbformat_minor": 2
}
